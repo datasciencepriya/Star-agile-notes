#!/usr/bin/env python
# coding: utf-8

# In[3]:


import numpy as np


# In[21]:


# Create a function that takes actual labels and predicted probabilities and returns log loss
def log_loss(actual_labels, pred_prob):
    if len(actual_labels) != len(pred_prob):
        print('The number of actual labels and number of predicted labels should be same')
    else:
        cor_prob = []
        n = len(actual_labels)
        for i in range(n):
            if actual_labels[i] == 1:
                cor_prob.append(pred_prob[i])
            else:
                cor_prob.append(1 - pred_prob[i])
            
        loss = -sum(list(map(np.log,cor_prob)))/n
        return loss


# In[26]:


log_loss([1,1,1,1,1,0,0,0,0,0], [0.99,0.90,0.96,0.1,0.3, 0.05,0.01,0.06,0.9,0.7])


# In[4]:


# Create a function which takes actual labels and predicted labels and prints the accuracy score
def accuracy(actual_labels, pred_labels):
    if len(actual_labels) != len(pred_labels):
        print('The number of actual labels and number of predicted labels should be same')
    else:
        correct_preds = 0
        total_preds = len(pred_labels)
        for i in range(total_preds):
            if actual_labels[i] == pred_labels[i]:
                correct_preds += 1
        return correct_preds/total_preds


# In[8]:


accuracy([1,1,1,1,1,1,0,0,0,0], [1,1,1,1,1,0,0,0,1,0])


# In[11]:


# Create a function which takes actual labels and predicted labels and prints the number of true positives and true negatives
def tp_tn(actual_labels, pred_labels):
    if len(actual_labels) != len(pred_labels):
        print('The number of actual labels and number of predicted labels should be same')
    else:
        tp = 0
        tn = 0
        for i in range(len(actual_labels)):
            if actual_labels[i] == pred_labels[i]:
                if actual_labels[i] == 1:
                    tp += 1
                else:
                    tn += 1
        print('Number of True Positives : ', tp)
        print('Number of True Negatives : ', tn)


# In[12]:


tp_tn([1,1,1,1,1,1,0,0,0,0], [1,1,1,1,1,0,0,0,1,0])


# In[13]:


# Create a function that takes actual labels and predicted labels and returns tp,tn,fp,fn as a dictionary
def evaluate(actual_labels, pred_labels):
    if len(actual_labels) != len(pred_labels):
        print('The number of actual labels and number of predicted labels should be same')
    else:
        tp = 0
        tn = 0
        fn = 0
        fp = 0
        for i in range(len(actual_labels)):
            if actual_labels[i] == pred_labels[i]:
                if actual_labels[i] == 1:
                    tp += 1
                else:
                    tn += 1          
            else:
                if pred_labels[i] == 0:
                    fn += 1
                else:
                    fp += 1
    return {'TP' : tp, 'TN' : tn, 'FP' : fp, 'FN' : fn}


# In[14]:


evaluate([1,1,1,1,1,1,0,0,0,0], [1,1,1,1,1,0,0,0,1,0])


# In[15]:


# Create a function that takes actual labels and predicted labels as input and prints accuracy_score, precision_score, recall_score and f1_score
def report(actual_labels, pred_labels):
    data = evaluate(actual_labels, pred_labels)
    tp,tn,fp,fn = data['TP'], data['TN'], data['FP'], data['FN']
    accuracy = (tp+tn)/ (tp+tn+fp+fn)
    precision = tp/(tp + fp)
    recall = tp/ (tp+fn)
    f1_score = 2*precision*recall / (precision + recall)
    
    print('Accuracy  Score : ', accuracy)
    print('Precision Score : ', precision)
    print('Recall Score    : ', recall)
    print('F1 Score        : ', f1_score)


# In[16]:


report([1,1,1,1,1,1,0,0,0,0], [1,1,1,1,1,0,0,0,1,0])


# In[17]:


5 / 6


# In[18]:


5/6


# # ========================================================

# In[1]:


# Create a function which takes actual values and predicted values and returns the mean absolute error
def mean_absolute_error(actual_values, pred_values):
    if len(actual_values) != len(pred_values):
        print('The number of actual values and number of predicted values should be same')
    else:
        error = 0
        n = len(actual_values)
        for i in range(n):
            error = error + abs(actual_values[i] - pred_values[i])
        return error / n


# In[3]:


mean_absolute_error([1000,1100,1200,1300,1400,1500], [1050,1200,1360,1420,1580, 1630])


# In[5]:


# Create a function which takes actual values and predicted values and returns the mean squared error
def mean_squared_error(actual_values, pred_values):
    if len(actual_values) != len(pred_values):
        print('The number of actual values and number of predicted values should be same')
    else:
        error = 0
        n = len(actual_values)
        for i in range(n):
            error = error + (actual_values[i] - pred_values[i])**2
        return error / n    


# In[6]:


mean_squared_error([1000,1100,1200,1300,1400,1500], [1050,1200,1360,1420,1580, 1630])


# In[11]:


# Create a function that takes actual values and predicted values and return the r2 score
def r2_score(actual_values, pred_values):
    if len(actual_values) != len(pred_values):
        print('The number of actual values and the number of predicted values should be same')
    else:
        n = len(actual_values)
        avg = sum(actual_values) / n
        rss = 0
        sst = 0
        for i in range(n):
            rss = rss + (actual_values[i] - pred_values[i])**2
            sst = sst + (actual_values[i] - avg)**2
        
        score = 1 - (rss/sst)
        return score


# In[16]:


r2_score([1000,1100,1200,1300,1400,1500], [1010,1120,1205,1310,1405, 1510])


# # ====================================================

# In[1]:


# Create A function that takes a list of numbers and returns the median
def median(nums):
    nums.sort()
    n = len(nums)
    if n%2 == 0:
        return (nums[n//2 - 1] + nums[n//2])/2
    else:
        return nums[n//2]


# In[3]:


median([3,5,6,2,8,4,9,7])


# In[11]:


# Create a function that takes a list of numbers and returns the variance
def variance(nums):
    mean = sum(nums) / len(nums)
    var = sum([(i - mean)**2 for i in nums])/len(nums)
    return var


# In[12]:


variance([1,2,3,4,5,6,7,8,9])


# In[14]:


# Create a function that takes a list as input and returns the z scores
def z_score(nums):
    mean = sum(nums)/len(nums)
    std = variance(nums) ** 0.5
    z = [(i - mean)/std for i in nums]
    return z


# In[15]:


z_score([1,2,3,4,5,6,7,8,9])


# # ================================================

# In[4]:


def calc_entropy2(c1, c2):
    p1 = c1/(c1 + c2)
    p2 = c2/(c1 + c2)
    
    entropy = -(p1*np.log2(p1) + p2*np.log2(p2))
    return entropy


# In[17]:


calc_entropy2(100, 900)


# In[15]:


def calc_entropy3(c1,c2,c3):
    


# In[18]:


def calc_entropy3(c1,c2,c3):
    total = c1+c2+c3
    p1 = c1 / total
    p2 = c2 / total
    p3 = c3 / total
    
    entropy = -(p1*np.log2(p1) + p2*np.log2(p2) + p3*np.log2(p3))
    return entropy


# In[19]:


calc_entropy3(200,200,200)


# In[21]:


calc_entropy3(10,10,590)


# In[22]:


# create function that takes number of cases belonging to two classes and calculates gini index
def calc_gini2(c1, c2):
    p1 = c1/(c1 + c2)
    p2 = c2/(c1 + c2)
    
    gini = 1 - (p1**2 + p2**2)
    return gini


# In[25]:


calc_gini2(100, 900)


# In[26]:


calc_gini2(500, 500)


# In[27]:


def calc_entropy2(c1, c2):
    p1 = c1/(c1 + c2)
    p2 = c2/(c1 + c2)
    
    entropy = -(p1*np.log2(p1) + p2*np.log2(p2))
    return entropy


# In[28]:


# Create a function that takes the information about the split and returns the informatiion gain (entropy)
def info_gain(before, left, right):
    entropy_b = calc_entropy2(before[0], before[1])
    entropy_l = calc_entropy2(left[0], left[1])
    entropy_r = calc_entropy2(right[0], right[1])
    
    entropy_a = (entropy_l * sum(left) + entropy_r * sum(right)) / sum(before)
    gain = entropy_b - entropy_a
    return gain


# In[30]:


info_gain([500,500], [400,100], [100,400])


# In[32]:


info_gain([500,500], [490,10], [10,490])


# In[ ]:




