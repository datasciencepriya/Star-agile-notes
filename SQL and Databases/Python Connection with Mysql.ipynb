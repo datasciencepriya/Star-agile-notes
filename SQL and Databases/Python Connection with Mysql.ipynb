{
 "cells": [
  {
   "cell_type": "code",
   "execution_count": 1,
   "id": "7baa078e",
   "metadata": {},
   "outputs": [
    {
     "name": "stdout",
     "output_type": "stream",
     "text": [
      "Collecting mysql-connector-python\n",
      "  Downloading mysql_connector_python-8.2.0-cp39-cp39-win_amd64.whl (14.2 MB)\n",
      "Collecting protobuf<=4.21.12,>=4.21.1\n",
      "  Downloading protobuf-4.21.12-cp39-cp39-win_amd64.whl (527 kB)\n",
      "Installing collected packages: protobuf, mysql-connector-python\n",
      "  Attempting uninstall: protobuf\n",
      "    Found existing installation: protobuf 3.20.3\n",
      "    Uninstalling protobuf-3.20.3:\n",
      "      Successfully uninstalled protobuf-3.20.3\n",
      "Successfully installed mysql-connector-python-8.2.0 protobuf-4.21.12\n"
     ]
    },
    {
     "name": "stderr",
     "output_type": "stream",
     "text": [
      "WARNING: Ignoring invalid distribution -rotobuf (c:\\users\\user\\anaconda3\\lib\\site-packages)\n",
      "WARNING: Ignoring invalid distribution -rotobuf (c:\\users\\user\\anaconda3\\lib\\site-packages)\n",
      "WARNING: Ignoring invalid distribution -rotobuf (c:\\users\\user\\anaconda3\\lib\\site-packages)\n",
      "    WARNING: Ignoring invalid distribution -rotobuf (c:\\users\\user\\anaconda3\\lib\\site-packages)\n",
      "WARNING: Ignoring invalid distribution -rotobuf (c:\\users\\user\\anaconda3\\lib\\site-packages)\n",
      "WARNING: Ignoring invalid distribution -rotobuf (c:\\users\\user\\anaconda3\\lib\\site-packages)\n",
      "WARNING: Ignoring invalid distribution -rotobuf (c:\\users\\user\\anaconda3\\lib\\site-packages)\n",
      "WARNING: Ignoring invalid distribution -rotobuf (c:\\users\\user\\anaconda3\\lib\\site-packages)\n",
      "WARNING: Ignoring invalid distribution -rotobuf (c:\\users\\user\\anaconda3\\lib\\site-packages)\n"
     ]
    }
   ],
   "source": [
    "!pip install mysql-connector-python"
   ]
  },
  {
   "cell_type": "markdown",
   "id": "fdadedbc",
   "metadata": {},
   "source": [
    "## Steps required:\n",
    "1. Make a connection\n",
    "2. Create a cursor\n",
    "3. Run the queries using exceute"
   ]
  },
  {
   "cell_type": "code",
   "execution_count": 2,
   "id": "ba428b0f",
   "metadata": {},
   "outputs": [],
   "source": [
    "import mysql.connector"
   ]
  },
  {
   "cell_type": "code",
   "execution_count": 4,
   "id": "713ce03e",
   "metadata": {},
   "outputs": [],
   "source": [
    "# Make a connection\n",
    "mydb = mysql.connector.connect(host = 'localhost',\n",
    "                               user = 'root',\n",
    "                               password = '1234')"
   ]
  },
  {
   "cell_type": "code",
   "execution_count": 5,
   "id": "88a183b7",
   "metadata": {},
   "outputs": [
    {
     "data": {
      "text/plain": [
       "mysql.connector.connection_cext.CMySQLConnection"
      ]
     },
     "execution_count": 5,
     "metadata": {},
     "output_type": "execute_result"
    }
   ],
   "source": [
    "type(mydb)"
   ]
  },
  {
   "cell_type": "code",
   "execution_count": 6,
   "id": "781c8fbd",
   "metadata": {},
   "outputs": [],
   "source": [
    "# Create a cursor object\n",
    "mycursor = mydb.cursor()"
   ]
  },
  {
   "cell_type": "code",
   "execution_count": 7,
   "id": "6050860a",
   "metadata": {},
   "outputs": [
    {
     "data": {
      "text/plain": [
       "mysql.connector.cursor_cext.CMySQLCursor"
      ]
     },
     "execution_count": 7,
     "metadata": {},
     "output_type": "execute_result"
    }
   ],
   "source": [
    "type(mycursor)"
   ]
  },
  {
   "cell_type": "markdown",
   "id": "54c817f6",
   "metadata": {},
   "source": [
    "--------------"
   ]
  },
  {
   "cell_type": "code",
   "execution_count": 8,
   "id": "8d67742e",
   "metadata": {},
   "outputs": [],
   "source": [
    "# Run commands using the execute function\n",
    "mycursor.execute('SHOW DATABASES')"
   ]
  },
  {
   "cell_type": "code",
   "execution_count": 9,
   "id": "ce6d6f3f",
   "metadata": {},
   "outputs": [
    {
     "data": {
      "text/plain": [
       "[('demo',),\n",
       " ('demo1',),\n",
       " ('information_schema',),\n",
       " ('mysql',),\n",
       " ('performance_schema',),\n",
       " ('sakila',),\n",
       " ('sys',),\n",
       " ('world',)]"
      ]
     },
     "execution_count": 9,
     "metadata": {},
     "output_type": "execute_result"
    }
   ],
   "source": [
    "list(mycursor)"
   ]
  },
  {
   "cell_type": "code",
   "execution_count": 10,
   "id": "986b537d",
   "metadata": {},
   "outputs": [
    {
     "name": "stdout",
     "output_type": "stream",
     "text": [
      "('demo',)\n",
      "('demo1',)\n",
      "('information_schema',)\n",
      "('mysql',)\n",
      "('performance_schema',)\n",
      "('sakila',)\n",
      "('sys',)\n",
      "('world',)\n"
     ]
    }
   ],
   "source": [
    "mycursor.execute('SHOW DATABASES')\n",
    "for db in mycursor:\n",
    "    print(db)"
   ]
  },
  {
   "cell_type": "code",
   "execution_count": 11,
   "id": "d1ec6118",
   "metadata": {},
   "outputs": [],
   "source": [
    "# creating a database\n",
    "mycursor.execute('CREATE DATABASE demo2')"
   ]
  },
  {
   "cell_type": "code",
   "execution_count": 12,
   "id": "54294aaa",
   "metadata": {},
   "outputs": [
    {
     "name": "stdout",
     "output_type": "stream",
     "text": [
      "('demo',)\n",
      "('demo1',)\n",
      "('demo2',)\n",
      "('information_schema',)\n",
      "('mysql',)\n",
      "('performance_schema',)\n",
      "('sakila',)\n",
      "('sys',)\n",
      "('world',)\n"
     ]
    }
   ],
   "source": [
    "mycursor.execute('SHOW DATABASES')\n",
    "for db in mycursor:\n",
    "    print(db)"
   ]
  },
  {
   "cell_type": "code",
   "execution_count": 13,
   "id": "c7ecaf4d",
   "metadata": {},
   "outputs": [],
   "source": [
    "# deleting a database\n",
    "mycursor.execute('DROP DATABASE demo2')"
   ]
  },
  {
   "cell_type": "code",
   "execution_count": 14,
   "id": "e1edba3d",
   "metadata": {},
   "outputs": [
    {
     "name": "stdout",
     "output_type": "stream",
     "text": [
      "('demo',)\n",
      "('demo1',)\n",
      "('information_schema',)\n",
      "('mysql',)\n",
      "('performance_schema',)\n",
      "('sakila',)\n",
      "('sys',)\n",
      "('world',)\n"
     ]
    }
   ],
   "source": [
    "mycursor.execute('SHOW DATABASES')\n",
    "for db in mycursor:\n",
    "    print(db)"
   ]
  },
  {
   "cell_type": "code",
   "execution_count": 15,
   "id": "076802a6",
   "metadata": {},
   "outputs": [],
   "source": [
    "mydb.commit()\n",
    "mydb.close()"
   ]
  },
  {
   "cell_type": "markdown",
   "id": "c8a76f2f",
   "metadata": {},
   "source": [
    "----\n",
    "## Connecting with a database"
   ]
  },
  {
   "cell_type": "code",
   "execution_count": 16,
   "id": "b77c8c06",
   "metadata": {},
   "outputs": [],
   "source": [
    "mydb = mysql.connector.connect(host = 'localhost',\n",
    "                               user = 'root',\n",
    "                               password = '1234',\n",
    "                               database = 'demo')\n",
    "mycursor = mydb.cursor()"
   ]
  },
  {
   "cell_type": "code",
   "execution_count": 17,
   "id": "7ab3f697",
   "metadata": {},
   "outputs": [
    {
     "name": "stdout",
     "output_type": "stream",
     "text": [
      "('employee',)\n"
     ]
    }
   ],
   "source": [
    "mycursor.execute('SHOW TABLES')\n",
    "for table in mycursor:\n",
    "    print(table)"
   ]
  },
  {
   "cell_type": "code",
   "execution_count": 18,
   "id": "bde25925",
   "metadata": {},
   "outputs": [],
   "source": [
    "mycursor.execute('DROP TABLE employee')"
   ]
  },
  {
   "cell_type": "code",
   "execution_count": 19,
   "id": "300a4afc",
   "metadata": {},
   "outputs": [],
   "source": [
    "mycursor.execute('SHOW TABLES')\n",
    "for table in mycursor:\n",
    "    print(table)"
   ]
  },
  {
   "cell_type": "code",
   "execution_count": 20,
   "id": "a6304427",
   "metadata": {},
   "outputs": [],
   "source": [
    "query = '''CREATE TABLE employee(empid INT PRIMARY KEY, \n",
    "                                 name VARCHAR(100), \n",
    "                                 age INT, \n",
    "                                 city VARCHAR(100))'''\n",
    "mycursor.execute(query)"
   ]
  },
  {
   "cell_type": "code",
   "execution_count": 21,
   "id": "09e3b1bd",
   "metadata": {},
   "outputs": [
    {
     "name": "stdout",
     "output_type": "stream",
     "text": [
      "('employee',)\n"
     ]
    }
   ],
   "source": [
    "mycursor.execute('SHOW TABLES')\n",
    "for table in mycursor:\n",
    "    print(table)"
   ]
  },
  {
   "cell_type": "code",
   "execution_count": 23,
   "id": "3c08e699",
   "metadata": {},
   "outputs": [],
   "source": [
    "query = '''INSERT INTO employee(empid, name, age, city)\n",
    "           VALUES (%s, %s, %s, %s)'''\n",
    "val = (101, 'Abhay', 35, 'Delhi')\n",
    "mycursor.execute(query, val)"
   ]
  },
  {
   "cell_type": "code",
   "execution_count": 24,
   "id": "22a9689b",
   "metadata": {},
   "outputs": [
    {
     "name": "stdout",
     "output_type": "stream",
     "text": [
      "(101, 'Abhay', 35, 'Delhi')\n"
     ]
    }
   ],
   "source": [
    "mycursor.execute('SELECT * FROM employee')\n",
    "for row in mycursor:\n",
    "    print(row)"
   ]
  },
  {
   "cell_type": "code",
   "execution_count": 25,
   "id": "eb3b8344",
   "metadata": {},
   "outputs": [
    {
     "name": "stdout",
     "output_type": "stream",
     "text": [
      "Enter employee id : 102\n",
      "Enter the name : Akash\n",
      "Enter the age : 38\n",
      "Enter the city : Hyderabad\n"
     ]
    }
   ],
   "source": [
    "empid = int(input('Enter employee id : '))\n",
    "name = input('Enter the name : ')\n",
    "age = int(input('Enter the age : '))\n",
    "city = input('Enter the city : ')\n",
    "\n",
    "val = (empid, name, age, city)\n",
    "mycursor.execute(query, val)"
   ]
  },
  {
   "cell_type": "code",
   "execution_count": 26,
   "id": "731f376d",
   "metadata": {},
   "outputs": [
    {
     "name": "stdout",
     "output_type": "stream",
     "text": [
      "(101, 'Abhay', 35, 'Delhi')\n",
      "(102, 'Akash', 38, 'Hyderabad')\n"
     ]
    }
   ],
   "source": [
    "mycursor.execute('SELECT * FROM employee')\n",
    "for row in mycursor:\n",
    "    print(row)"
   ]
  },
  {
   "cell_type": "code",
   "execution_count": 28,
   "id": "e09edd26",
   "metadata": {},
   "outputs": [],
   "source": [
    "query = '''INSERT INTO employee(empid, name, age, city)\n",
    "           VALUES (%s, %s, %s, %s)'''\n",
    "\n",
    "val = [(103, 'Akshay', 32, 'Chennai'),\n",
    "       (104, 'Amit', 39, 'Jodhpur'),\n",
    "       (105, 'Kamal', 42, 'Nagpur'),\n",
    "       (106, 'Bhutnath', 55, 'Mumbai'),\n",
    "       (107, 'Gabbar', 38, 'Jalore'),\n",
    "       (108, 'Samba', 48, 'Dungarpur')]\n",
    "\n",
    "mycursor.executemany(query, val)"
   ]
  },
  {
   "cell_type": "code",
   "execution_count": 29,
   "id": "5fd7137f",
   "metadata": {},
   "outputs": [
    {
     "name": "stdout",
     "output_type": "stream",
     "text": [
      "(101, 'Abhay', 35, 'Delhi')\n",
      "(102, 'Akash', 38, 'Hyderabad')\n",
      "(103, 'Akshay', 32, 'Chennai')\n",
      "(104, 'Amit', 39, 'Jodhpur')\n",
      "(105, 'Kamal', 42, 'Nagpur')\n",
      "(106, 'Bhutnath', 55, 'Mumbai')\n",
      "(107, 'Gabbar', 38, 'Jalore')\n",
      "(108, 'Samba', 48, 'Dungarpur')\n"
     ]
    }
   ],
   "source": [
    "mycursor.execute('SELECT * FROM employee')\n",
    "for row in mycursor:\n",
    "    print(row)"
   ]
  },
  {
   "cell_type": "code",
   "execution_count": 30,
   "id": "a828487c",
   "metadata": {},
   "outputs": [
    {
     "name": "stdout",
     "output_type": "stream",
     "text": [
      "(105, 'Kamal', 42, 'Nagpur')\n",
      "(106, 'Bhutnath', 55, 'Mumbai')\n",
      "(108, 'Samba', 48, 'Dungarpur')\n"
     ]
    }
   ],
   "source": [
    "mycursor.execute('SELECT * FROM employee WHERE age > 40')\n",
    "for row in mycursor:\n",
    "    print(row)"
   ]
  },
  {
   "cell_type": "code",
   "execution_count": 33,
   "id": "f22da4c0",
   "metadata": {},
   "outputs": [
    {
     "name": "stdout",
     "output_type": "stream",
     "text": [
      "(101, 'Abhay', 35, 'Delhi')\n",
      "(106, 'Bhutnath', 55, 'Mumbai')\n"
     ]
    }
   ],
   "source": [
    "mycursor.execute(\"SELECT * FROM employee WHERE city in ('Jaipur', 'Delhi', 'Mumbai')\")\n",
    "for row in mycursor:\n",
    "    print(row)"
   ]
  },
  {
   "cell_type": "code",
   "execution_count": 34,
   "id": "b3fcb4ed",
   "metadata": {},
   "outputs": [],
   "source": [
    "mydb.commit()\n",
    "mydb.close()"
   ]
  },
  {
   "cell_type": "markdown",
   "id": "b9df5422",
   "metadata": {},
   "source": [
    "-----\n",
    "-----"
   ]
  },
  {
   "cell_type": "code",
   "execution_count": 35,
   "id": "077b03ba",
   "metadata": {},
   "outputs": [],
   "source": [
    "mydb = mysql.connector.connect(host = 'localhost',\n",
    "                               user = 'root',\n",
    "                               password = '1234',\n",
    "                               database = 'demo1')\n",
    "mycursor = mydb.cursor()"
   ]
  },
  {
   "cell_type": "code",
   "execution_count": 36,
   "id": "4dc49165",
   "metadata": {},
   "outputs": [
    {
     "name": "stdout",
     "output_type": "stream",
     "text": [
      "('department',)\n",
      "('employee',)\n",
      "('employee2',)\n"
     ]
    }
   ],
   "source": [
    "mycursor.execute('SHOW TABLES')\n",
    "for table in mycursor:\n",
    "    print(table)"
   ]
  },
  {
   "cell_type": "code",
   "execution_count": 37,
   "id": "bbf143ee",
   "metadata": {},
   "outputs": [
    {
     "name": "stdout",
     "output_type": "stream",
     "text": [
      "(101, 'Akshita', 'BC', 'F', 'Delhi', 60000, 'Marketing')\n",
      "(102, 'Ankit', 'Das', 'M', 'Kolkata', 80000, 'Finance')\n",
      "(103, 'Ankita', 'Gangurde', 'F', 'Pune', 75000, 'Engineering')\n",
      "(104, 'Ankur', 'Varshney', 'M', 'Gaziabad', 90000, 'Research')\n",
      "(105, 'Utkarsh', 'Sharma', 'M', 'Jaipur', 400000, 'Research')\n",
      "(106, 'Madhu', 'Bagri', 'F', 'Mumbai', 82000, 'Engineering')\n",
      "(107, 'Mahtab', 'Alam', 'M', 'Hyderabad', 85000, 'Marketing')\n",
      "(108, 'Tanya', 'Bajaj', 'F', 'Panipat', 80000, 'HR')\n",
      "(109, 'Tarun', 'Shah', 'M', 'Jaipur', 75000, 'Finance')\n",
      "(110, 'Rishabh', 'Sharma', 'M', 'Indore', 60000, 'HR')\n",
      "(111, 'Rupa', 'Datta', 'F', 'Pune', 750000, 'Marketing')\n",
      "(112, 'Uma', 'Dev', 'F', 'Hyderabad', 50000, 'Finance')\n",
      "(113, 'Kumar', 'Sharma', 'M', 'Mumbai', 60000, 'Marketing')\n",
      "(114, 'Naresh', 'Avasthi', 'M', 'Pune', 750000, 'Finance')\n",
      "(115, 'Paul', 'Dave', 'M', 'Pune', 750000, 'Engineering')\n",
      "(116, 'Kim', 'Yan', 'F', 'Mumbai', 30770, 'Marketing')\n",
      "(117, 'Sam', 'Das', 'M', 'Jaipur', 22000, 'Management')\n",
      "(118, 'Omy', 'Shah', 'F', 'Delhi', 45000, 'Finance')\n",
      "(119, 'Tom', 'Fox', 'M', 'Kanpur', 150000, 'Finance')\n",
      "(120, 'Jon', 'Cox', 'M', 'Mumbai', 24250, 'HR')\n",
      "(121, 'Madhu', 'BG', 'F', 'Bangalore', 60000, 'R&D')\n",
      "(122, 'Kirti', 'Binani', 'F', 'Kolkata', 55000, 'Finance')\n",
      "(123, 'Govind', 'Chandak', 'M', 'Balasore', 80000, 'Engineering')\n",
      "(124, 'Suman', 'Ch', 'F', 'Kolkata', 45000, 'Accounting')\n",
      "(125, 'Bharat', 'Bag', 'M', 'Bangalore', 100000, 'Sales')\n",
      "(126, 'Abhishek', 'Kumar', 'M', 'Hyderabad', 60000, 'Marketing')\n",
      "(127, 'Mayank', 'Sharma', 'M', 'Delhi', 75000, 'Accounting')\n",
      "(128, 'Shivangi', 'Shreya', 'F', 'Ranchi', 80000, 'Engineering')\n",
      "(129, 'Rahul', 'Bhalotiya', 'M', 'Jamshedpur', 50000, 'Engineering')\n",
      "(130, 'Dayanidhi', 'Dahima', 'M', 'Delhi', 90000, 'Sales')\n",
      "(131, 'Avadhut', 'Madane', 'M', 'Pune', 20000, 'Finance')\n",
      "(132, 'Rahul', 'Kokare', 'M', 'Baramati', 30000, 'Accounting')\n",
      "(133, 'Suhas', 'Zunjar', 'M', 'Indapur', 35000, 'Marketing')\n",
      "(134, 'Sanjay', 'Tangade', 'M', 'Solapur', 25000, 'HR')\n",
      "(135, 'Vijay', 'Kokare', 'M', 'Sangali', 45000, 'R&D')\n",
      "(136, 'Pallavi', 'Masetty', 'F', 'Hyderabad', 75000, 'Finance')\n",
      "(137, 'Prasun', 'Kumar', 'M', 'Bangalore', 57000, 'Engineering')\n",
      "(138, 'Kiran', 'Kumar', 'M', 'Hyderabad', 50000, 'Engineering')\n",
      "(139, 'Arunava', 'Palai', 'M', 'Pune', 50000, 'HR')\n",
      "(140, 'Ajay', 'Kudiya', 'M', 'Thane', 50000, 'IT')\n",
      "(141, 'Priya', 'Dayalan', 'F', 'Kanchipuram', 25000, 'Finance')\n",
      "(142, 'Pournima', 'Bhandare', 'F', 'Pune', 120000, 'Finance')\n",
      "(143, 'Ashwanth', 'Kumar', 'M', 'Chennai', 48000, 'IT')\n",
      "(144, 'Raghu', 'Nayak', 'M', 'Chennai', 80000, 'Accounting')\n",
      "(145, 'Abhijeet', 'Kondpalle', 'M', 'Pune', 90000, 'Marketing')\n",
      "(146, 'Sam', 'Pitroda', 'M', 'Hyderabad', 75000, 'Finance')\n",
      "(147, 'Anitha', 'Krishnamaraju', 'F', 'Hyderabad', 100000, 'IT')\n",
      "(148, 'Jyoti', 'Singh', 'F', 'Varanasi', 55000, 'IT')\n",
      "(149, 'Abhay', 'Naik', 'M', 'Mumbai', 70000, 'HR')\n",
      "(150, 'Mounika', 'Illa', 'F', 'Hyderabad', 60000, 'IT')\n"
     ]
    }
   ],
   "source": [
    "mycursor.execute('SELECT * FROM employee')\n",
    "for row in mycursor:\n",
    "    print(row)"
   ]
  },
  {
   "cell_type": "code",
   "execution_count": 38,
   "id": "31d3a8df",
   "metadata": {},
   "outputs": [
    {
     "name": "stdout",
     "output_type": "stream",
     "text": [
      "(102, 'Ankit', 'Das', 'M', 'Kolkata', 80000, 'Finance')\n",
      "(104, 'Ankur', 'Varshney', 'M', 'Gaziabad', 90000, 'Research')\n",
      "(106, 'Madhu', 'Bagri', 'F', 'Mumbai', 82000, 'Engineering')\n",
      "(107, 'Mahtab', 'Alam', 'M', 'Hyderabad', 85000, 'Marketing')\n",
      "(108, 'Tanya', 'Bajaj', 'F', 'Panipat', 80000, 'HR')\n",
      "(119, 'Tom', 'Fox', 'M', 'Kanpur', 150000, 'Finance')\n",
      "(123, 'Govind', 'Chandak', 'M', 'Balasore', 80000, 'Engineering')\n",
      "(125, 'Bharat', 'Bag', 'M', 'Bangalore', 100000, 'Sales')\n",
      "(128, 'Shivangi', 'Shreya', 'F', 'Ranchi', 80000, 'Engineering')\n",
      "(130, 'Dayanidhi', 'Dahima', 'M', 'Delhi', 90000, 'Sales')\n",
      "(142, 'Pournima', 'Bhandare', 'F', 'Pune', 120000, 'Finance')\n",
      "(144, 'Raghu', 'Nayak', 'M', 'Chennai', 80000, 'Accounting')\n",
      "(145, 'Abhijeet', 'Kondpalle', 'M', 'Pune', 90000, 'Marketing')\n",
      "(147, 'Anitha', 'Krishnamaraju', 'F', 'Hyderabad', 100000, 'IT')\n"
     ]
    }
   ],
   "source": [
    "query = '''SELECT * FROM employee\n",
    "           WHERE salary BETWEEN 80000 and 150000'''\n",
    "mycursor.execute(query)\n",
    "for row in mycursor:\n",
    "    print(row)"
   ]
  },
  {
   "cell_type": "code",
   "execution_count": 39,
   "id": "63787c94",
   "metadata": {},
   "outputs": [
    {
     "name": "stdout",
     "output_type": "stream",
     "text": [
      "(119, 'Tom', 'Fox', 'M', 'Kanpur', 150000, 'Finance')\n",
      "(142, 'Pournima', 'Bhandare', 'F', 'Pune', 120000, 'Finance')\n",
      "(125, 'Bharat', 'Bag', 'M', 'Bangalore', 100000, 'Sales')\n",
      "(147, 'Anitha', 'Krishnamaraju', 'F', 'Hyderabad', 100000, 'IT')\n",
      "(104, 'Ankur', 'Varshney', 'M', 'Gaziabad', 90000, 'Research')\n",
      "(130, 'Dayanidhi', 'Dahima', 'M', 'Delhi', 90000, 'Sales')\n",
      "(145, 'Abhijeet', 'Kondpalle', 'M', 'Pune', 90000, 'Marketing')\n",
      "(107, 'Mahtab', 'Alam', 'M', 'Hyderabad', 85000, 'Marketing')\n",
      "(106, 'Madhu', 'Bagri', 'F', 'Mumbai', 82000, 'Engineering')\n",
      "(102, 'Ankit', 'Das', 'M', 'Kolkata', 80000, 'Finance')\n",
      "(108, 'Tanya', 'Bajaj', 'F', 'Panipat', 80000, 'HR')\n",
      "(123, 'Govind', 'Chandak', 'M', 'Balasore', 80000, 'Engineering')\n",
      "(128, 'Shivangi', 'Shreya', 'F', 'Ranchi', 80000, 'Engineering')\n",
      "(144, 'Raghu', 'Nayak', 'M', 'Chennai', 80000, 'Accounting')\n"
     ]
    }
   ],
   "source": [
    "query = '''SELECT * FROM employee\n",
    "           WHERE salary BETWEEN 80000 and 150000\n",
    "           ORDER BY salary DESC'''\n",
    "mycursor.execute(query)\n",
    "for row in mycursor:\n",
    "    print(row)"
   ]
  },
  {
   "cell_type": "code",
   "execution_count": 40,
   "id": "dfd67903",
   "metadata": {},
   "outputs": [
    {
     "name": "stdout",
     "output_type": "stream",
     "text": [
      "('Research', Decimal('245000.0000'))\n",
      "('Engineering', Decimal('153000.0000'))\n",
      "('Marketing', Decimal('146346.2500'))\n",
      "('Finance', Decimal('126666.6667'))\n",
      "('Sales', Decimal('95000.0000'))\n",
      "('IT', Decimal('62600.0000'))\n",
      "('Accounting', Decimal('57500.0000'))\n",
      "('R&D', Decimal('52500.0000'))\n",
      "('HR', Decimal('51541.6667'))\n",
      "('Management', Decimal('22000.0000'))\n"
     ]
    }
   ],
   "source": [
    "query = '''SELECT department, AVG(salary) as avg_salary FROM employee\n",
    "           GROUP BY department\n",
    "           ORDER BY avg_salary DESC'''\n",
    "mycursor.execute(query)\n",
    "for row in mycursor:\n",
    "    print(row)"
   ]
  },
  {
   "cell_type": "code",
   "execution_count": 41,
   "id": "3b0ee3d8",
   "metadata": {},
   "outputs": [
    {
     "name": "stdout",
     "output_type": "stream",
     "text": [
      "(105, 'Utkarsh', 'Sharma', 'M', 'Jaipur', 400000, 'Research')\n",
      "(111, 'Rupa', 'Datta', 'F', 'Pune', 750000, 'Marketing')\n",
      "(114, 'Naresh', 'Avasthi', 'M', 'Pune', 750000, 'Finance')\n",
      "(115, 'Paul', 'Dave', 'M', 'Pune', 750000, 'Engineering')\n",
      "(119, 'Tom', 'Fox', 'M', 'Kanpur', 150000, 'Finance')\n",
      "(142, 'Pournima', 'Bhandare', 'F', 'Pune', 120000, 'Finance')\n"
     ]
    }
   ],
   "source": [
    "query = '''SELECT * FROM employee\n",
    "           WHERE salary > (SELECT AVG(salary) FROM employee)'''\n",
    "mycursor.execute(query)\n",
    "for row in mycursor:\n",
    "    print(row)"
   ]
  },
  {
   "cell_type": "code",
   "execution_count": 42,
   "id": "194bbb07",
   "metadata": {},
   "outputs": [
    {
     "name": "stdout",
     "output_type": "stream",
     "text": [
      "(1, 'Aman', 101, 'Marketing', 'Abhijeet')\n",
      "(2, 'Anand', 104, 'Engineering', 'Muttuswamy')\n",
      "(3, 'Vishal', 103, 'Research', 'Srinivas')\n",
      "(4, 'Bhuvan', 101, 'Marketing', 'Abhijeet')\n",
      "(5, 'Geetha', 103, 'Research', 'Srinivas')\n",
      "(6, 'Shalini', 104, 'Engineering', 'Muttuswamy')\n"
     ]
    }
   ],
   "source": [
    "query = '''SELECT employee2.empid, employee2.empname, employee2.deptid, department.deptname, department.HOD\n",
    "           FROM employee2 INNER JOIN department\n",
    "           ON employee2.deptid = department.deptid'''\n",
    "mycursor.execute(query)\n",
    "for row in mycursor:\n",
    "    print(row)"
   ]
  },
  {
   "cell_type": "code",
   "execution_count": null,
   "id": "fc0b6863",
   "metadata": {},
   "outputs": [],
   "source": []
  }
 ],
 "metadata": {
  "kernelspec": {
   "display_name": "Python 3 (ipykernel)",
   "language": "python",
   "name": "python3"
  },
  "language_info": {
   "codemirror_mode": {
    "name": "ipython",
    "version": 3
   },
   "file_extension": ".py",
   "mimetype": "text/x-python",
   "name": "python",
   "nbconvert_exporter": "python",
   "pygments_lexer": "ipython3",
   "version": "3.9.7"
  }
 },
 "nbformat": 4,
 "nbformat_minor": 5
}
