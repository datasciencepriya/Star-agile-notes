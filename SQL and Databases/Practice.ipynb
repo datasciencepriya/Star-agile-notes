{
 "cells": [
  {
   "cell_type": "code",
   "execution_count": 45,
   "id": "fabd0da8",
   "metadata": {},
   "outputs": [],
   "source": [
    "import mysql.connector"
   ]
  },
  {
   "cell_type": "code",
   "execution_count": 46,
   "id": "f75cdac5",
   "metadata": {},
   "outputs": [],
   "source": [
    "def start():\n",
    "    print('\\n', '='*100)\n",
    "    print('Select an opertion : ')\n",
    "    print('1 for Insert')\n",
    "    print('2 for Delete')\n",
    "    print('3 for Show')\n",
    "    print('4 for update')\n",
    "    print('5 to query the database')\n",
    "    op = int(input('Enter the number: '))\n",
    "    \n",
    "    if op == 1:\n",
    "        print('Enter the details(empid,empname,empage,deptid,salary) :')\n",
    "        details = input().split(',')\n",
    "        empid, empname, empage,deptid,salary = int(details[0]), details[1], int(details[2]), int(details[3]), int(details[4])\n",
    "        insert(empid, empname, empage, deptid, salary)\n",
    "    elif op == 2:\n",
    "        empid = int(input('Enter the employee id : '))\n",
    "        delete(empid)\n",
    "    elif op == 3:\n",
    "        print('The details are : ')\n",
    "        show()\n",
    "    elif op == 4:\n",
    "        print('Enter column, new_data, empid : ')\n",
    "        data = input().split(',')\n",
    "        column,new_data,empid = data[0], data[1], int(data[2])\n",
    "        update(column,new_data,empid)\n",
    "    elif op == 5:\n",
    "        print('Enter the select query')\n",
    "        select_query = input()\n",
    "        query(select_query)\n",
    "    else:\n",
    "        print('Invalid input')"
   ]
  },
  {
   "cell_type": "code",
   "execution_count": 47,
   "id": "5691d8f4",
   "metadata": {},
   "outputs": [],
   "source": [
    "def insert(empid, empname, empage,deptid,salary):\n",
    "    mydb = mysql.connector.connect(host = 'localhost',\n",
    "                               user = 'root',\n",
    "                               password = '1234',\n",
    "                               database = 'practice')\n",
    "    mycursor = mydb.cursor()\n",
    "    \n",
    "    query = '''INSERT INTO employee2(empid,empname, empage,deptid,salary)\n",
    "           VALUES (%s, %s, %s, %s, %s)'''\n",
    "    val = (empid, empname, empage,deptid,salary)\n",
    "    mycursor.execute(query, val)\n",
    "    \n",
    "    mydb.commit()\n",
    "    mydb.close()\n",
    "    print('Insert operation successful')"
   ]
  },
  {
   "cell_type": "code",
   "execution_count": 48,
   "id": "6b42c7d9",
   "metadata": {},
   "outputs": [],
   "source": [
    "def delete(empid):\n",
    "    mydb = mysql.connector.connect(host = 'localhost',\n",
    "                               user = 'root',\n",
    "                               password = '1234',\n",
    "                               database = 'practice')\n",
    "    mycursor = mydb.cursor()\n",
    "    query = 'DELETE FROM employee2 WHERE empid = {}'.format(empid)\n",
    "    mycursor.execute(query)\n",
    "    \n",
    "    mydb.commit()\n",
    "    mydb.close()\n",
    "    print('Delete operation successful')"
   ]
  },
  {
   "cell_type": "code",
   "execution_count": 49,
   "id": "ecb65252",
   "metadata": {},
   "outputs": [],
   "source": [
    "def show():\n",
    "    mydb = mysql.connector.connect(host = 'localhost',\n",
    "                               user = 'root',\n",
    "                               password = '1234',\n",
    "                               database = 'practice')\n",
    "    mycursor = mydb.cursor()\n",
    "    query = 'SELECT * FROM employee2'\n",
    "    mycursor.execute(query)\n",
    "    for row in mycursor:\n",
    "        print(row)\n",
    "    \n",
    "    mydb.commit()\n",
    "    mydb.close()   "
   ]
  },
  {
   "cell_type": "code",
   "execution_count": 53,
   "id": "550fccc0",
   "metadata": {},
   "outputs": [],
   "source": [
    "def update(column,new_data,empid):\n",
    "    mydb = mysql.connector.connect(host = 'localhost',\n",
    "                               user = 'root',\n",
    "                               password = '1234',\n",
    "                               database = 'practice')\n",
    "    mycursor = mydb.cursor()\n",
    "    \n",
    "    if column != 'empname':\n",
    "        new_data = int(new_data)\n",
    "        \n",
    "    query = 'UPDATE employee2 SET {} = {} WHERE empid = {}'.format(column, new_data, empid)\n",
    "    mycursor.execute(query)\n",
    "    \n",
    "    mydb.commit()\n",
    "    mydb.close()\n",
    "    print('Update operation Successful')"
   ]
  },
  {
   "cell_type": "code",
   "execution_count": 51,
   "id": "134750d6",
   "metadata": {},
   "outputs": [],
   "source": [
    "def query(select_query):\n",
    "    mydb = mysql.connector.connect(host = 'localhost',\n",
    "                               user = 'root',\n",
    "                               password = '1234',\n",
    "                               database = 'practice')\n",
    "    mycursor = mydb.cursor()\n",
    "    mycursor.execute(select_query)\n",
    "    for row in mycursor:\n",
    "        print(row)\n",
    "    \n",
    "    mydb.commit()\n",
    "    mydb.close()   "
   ]
  },
  {
   "cell_type": "code",
   "execution_count": 54,
   "id": "bab6330b",
   "metadata": {},
   "outputs": [
    {
     "name": "stdout",
     "output_type": "stream",
     "text": [
      "\n",
      " ====================================================================================================\n",
      "Select an opertion : \n",
      "1 for Insert\n",
      "2 for Delete\n",
      "3 for Show\n",
      "4 for update\n",
      "5 to query the database\n",
      "Enter the number: 4\n",
      "Enter column, new_data, empid : \n",
      "salary,150000,1\n",
      "Update operation Successful\n",
      "Enter exit to exit : f\n",
      "\n",
      " ====================================================================================================\n",
      "Select an opertion : \n",
      "1 for Insert\n",
      "2 for Delete\n",
      "3 for Show\n",
      "4 for update\n",
      "5 to query the database\n",
      "Enter the number: 3\n",
      "The details are : \n",
      "(1, 'Aman', 30, 101, 150000)\n",
      "(2, 'Anand', 35, 104, 110000)\n",
      "(3, 'Vishal', 28, 103, 90000)\n",
      "(4, 'Bhuvan', 40, 101, 120000)\n",
      "(5, 'Geetha', 26, 103, 130000)\n",
      "(6, 'Shalini', 31, 104, 80000)\n",
      "(7, 'Shyam', 37, 106, 80000)\n",
      "(8, 'Shubham', 31, 107, 60000)\n",
      "(9, 'Vidyut', 38, 104, 90000)\n",
      "Enter exit to exit : exit\n"
     ]
    }
   ],
   "source": [
    "check = True\n",
    "while(check):\n",
    "    start()\n",
    "    temp = input('Enter exit to exit : ')\n",
    "    if temp == 'exit':\n",
    "        check = False"
   ]
  },
  {
   "cell_type": "code",
   "execution_count": null,
   "id": "3d34d43d",
   "metadata": {},
   "outputs": [],
   "source": []
  }
 ],
 "metadata": {
  "kernelspec": {
   "display_name": "Python 3 (ipykernel)",
   "language": "python",
   "name": "python3"
  },
  "language_info": {
   "codemirror_mode": {
    "name": "ipython",
    "version": 3
   },
   "file_extension": ".py",
   "mimetype": "text/x-python",
   "name": "python",
   "nbconvert_exporter": "python",
   "pygments_lexer": "ipython3",
   "version": "3.9.7"
  }
 },
 "nbformat": 4,
 "nbformat_minor": 5
}
