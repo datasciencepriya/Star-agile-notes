{
 "cells": [
  {
   "cell_type": "code",
   "execution_count": 2,
   "id": "c43a2a1f",
   "metadata": {},
   "outputs": [],
   "source": [
    "from scipy.stats import norm"
   ]
  },
  {
   "cell_type": "markdown",
   "id": "a6e81146",
   "metadata": {},
   "source": [
    "- norm.cdf(x, loc, scale)\n",
    "    - x : normal random variable\n",
    "    - loc : mean\n",
    "    - scale : Standard Deviation"
   ]
  },
  {
   "cell_type": "code",
   "execution_count": 3,
   "id": "f4bf2cc9",
   "metadata": {},
   "outputs": [
    {
     "data": {
      "text/plain": [
       "0.40474987825703185"
      ]
     },
     "execution_count": 3,
     "metadata": {},
     "output_type": "execute_result"
    }
   ],
   "source": [
    "norm.cdf(500, 527, 112)"
   ]
  },
  {
   "cell_type": "code",
   "execution_count": 4,
   "id": "fa8bb928",
   "metadata": {},
   "outputs": [
    {
     "data": {
      "text/plain": [
       "0.24588385038026145"
      ]
     },
     "execution_count": 4,
     "metadata": {},
     "output_type": "execute_result"
    }
   ],
   "source": [
    "norm.cdf(450, 527, 112)"
   ]
  },
  {
   "cell_type": "code",
   "execution_count": 5,
   "id": "6f392cb0",
   "metadata": {},
   "outputs": [
    {
     "data": {
      "text/plain": [
       "0.13605546480924724"
      ]
     },
     "execution_count": 5,
     "metadata": {},
     "output_type": "execute_result"
    }
   ],
   "source": [
    "1 - norm.cdf(650, 527, 112)"
   ]
  },
  {
   "cell_type": "code",
   "execution_count": 6,
   "id": "614e5147",
   "metadata": {},
   "outputs": [
    {
     "data": {
      "text/plain": [
       "0.6143180350700006"
      ]
     },
     "execution_count": 6,
     "metadata": {},
     "output_type": "execute_result"
    }
   ],
   "source": [
    "norm.cdf(600, 527, 112) - norm.cdf(400, 527, 112) "
   ]
  },
  {
   "cell_type": "markdown",
   "id": "82bed9d5",
   "metadata": {},
   "source": [
    "### Standard Normal Variable"
   ]
  },
  {
   "cell_type": "code",
   "execution_count": null,
   "id": "6e23469f",
   "metadata": {},
   "outputs": [],
   "source": []
  }
 ],
 "metadata": {
  "kernelspec": {
   "display_name": "Python 3 (ipykernel)",
   "language": "python",
   "name": "python3"
  },
  "language_info": {
   "codemirror_mode": {
    "name": "ipython",
    "version": 3
   },
   "file_extension": ".py",
   "mimetype": "text/x-python",
   "name": "python",
   "nbconvert_exporter": "python",
   "pygments_lexer": "ipython3",
   "version": "3.9.7"
  }
 },
 "nbformat": 4,
 "nbformat_minor": 5
}
