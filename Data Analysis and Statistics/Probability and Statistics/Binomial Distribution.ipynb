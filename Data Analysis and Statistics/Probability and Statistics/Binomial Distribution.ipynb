{
 "cells": [
  {
   "cell_type": "code",
   "execution_count": 1,
   "id": "c1481a37",
   "metadata": {},
   "outputs": [
    {
     "name": "stderr",
     "output_type": "stream",
     "text": [
      "C:\\Users\\user\\anaconda3\\lib\\site-packages\\scipy\\__init__.py:146: UserWarning: A NumPy version >=1.16.5 and <1.23.0 is required for this version of SciPy (detected version 1.26.1\n",
      "  warnings.warn(f\"A NumPy version >={np_minversion} and <{np_maxversion}\"\n"
     ]
    }
   ],
   "source": [
    "from scipy.stats import binom"
   ]
  },
  {
   "cell_type": "markdown",
   "id": "2d426fbd",
   "metadata": {},
   "source": [
    "- **binom.pmf(x,n,p)** : P(X = x)\n",
    "- **binom.cdf(x,n,p)** : P(X <= x)\n",
    "- n : number of trials\n",
    "- x : number of successes\n",
    "- p : probability of success"
   ]
  },
  {
   "cell_type": "markdown",
   "id": "c2f8f7ba",
   "metadata": {},
   "source": [
    "---\n",
    "- Tossing a coin 4 times\n",
    "- Success = Getting a head\n",
    "- Probability of success : p = 1/2\n",
    "- Probability of failure : q = 1/2\n",
    "\n",
    "\n",
    "1. Probability of getting 2 successes : P(X = 2)\n",
    "2. Probability of getting at most 2 successes : P(X <= 2)\n",
    "3. Probability of getting more than 2 successes : P(X > 2)\n",
    "4. Probability of getting at least 2 successes : P(X >= 2)\n",
    "5. Probability of getting less than 2 successes : P(X < 2)"
   ]
  },
  {
   "cell_type": "code",
   "execution_count": 3,
   "id": "b0b83712",
   "metadata": {},
   "outputs": [],
   "source": [
    "n = 4    # number of trials\n",
    "p = 0.5  # probability of success : p"
   ]
  },
  {
   "cell_type": "code",
   "execution_count": 4,
   "id": "56d4e003",
   "metadata": {},
   "outputs": [
    {
     "data": {
      "text/plain": [
       "0.375"
      ]
     },
     "execution_count": 4,
     "metadata": {},
     "output_type": "execute_result"
    }
   ],
   "source": [
    "# 1.Probability of getting 2 successes : P(X = 2)\n",
    "binom.pmf(2,n,p)"
   ]
  },
  {
   "cell_type": "code",
   "execution_count": 6,
   "id": "c6166ea2",
   "metadata": {},
   "outputs": [
    {
     "data": {
      "text/plain": [
       "0.6875"
      ]
     },
     "execution_count": 6,
     "metadata": {},
     "output_type": "execute_result"
    }
   ],
   "source": [
    "# 2. Probability of getting at most 2 successes : P(X <= 2)\n",
    "binom.cdf(2,n,p)"
   ]
  },
  {
   "cell_type": "code",
   "execution_count": 7,
   "id": "f618bd73",
   "metadata": {},
   "outputs": [
    {
     "data": {
      "text/plain": [
       "0.3125"
      ]
     },
     "execution_count": 7,
     "metadata": {},
     "output_type": "execute_result"
    }
   ],
   "source": [
    "# 3. Probability of getting more than 2 successes : P(X > 2)\n",
    "# P(X > 2) = 1 - P(X <= 2)\n",
    "1 - binom.cdf(2,n,p)"
   ]
  },
  {
   "cell_type": "code",
   "execution_count": 8,
   "id": "6eb2d6c5",
   "metadata": {},
   "outputs": [
    {
     "data": {
      "text/plain": [
       "0.6875"
      ]
     },
     "execution_count": 8,
     "metadata": {},
     "output_type": "execute_result"
    }
   ],
   "source": [
    "# 4. Probability of getting at least 2 successes : P(X >= 2)\n",
    "# 1st method : P(X >= 2) = 1 - P(X <= 1)\n",
    "# 2nd method : P(X >= 2) = P(X > 2) + P(X = 2) = 1 - P(X <= 2) + P(X = 2)\n",
    "1 - binom.cdf(1,n,p) # by 1st method"
   ]
  },
  {
   "cell_type": "code",
   "execution_count": 9,
   "id": "e2ad6321",
   "metadata": {},
   "outputs": [
    {
     "data": {
      "text/plain": [
       "0.3125"
      ]
     },
     "execution_count": 9,
     "metadata": {},
     "output_type": "execute_result"
    }
   ],
   "source": [
    "# 5. Probability of getting less than 2 successes : P(X < 2)\n",
    "# 1st way : P(X < 2) = P(X <= 1)\n",
    "# 2nd way : P(X < 2) = P(X <= 2) - P(X = 2)\n",
    "binom.cdf(1,n,p)"
   ]
  },
  {
   "cell_type": "markdown",
   "id": "9a2123ab",
   "metadata": {},
   "source": [
    "- **If an insurance company knows the probability of a claim being fraudulent (or not), binomial distribution can help determine the probability that there would be more than ‘k’ fraudulent claims in the next 'n' claims**\n",
    "    - Claim being fraudulent : Success\n",
    "    - Probability of a claim being fraudulent : 0.01"
   ]
  },
  {
   "cell_type": "code",
   "execution_count": 10,
   "id": "2472af31",
   "metadata": {},
   "outputs": [],
   "source": [
    "n = 10000\n",
    "p = 0.01"
   ]
  },
  {
   "cell_type": "code",
   "execution_count": 11,
   "id": "42fada82",
   "metadata": {},
   "outputs": [
    {
     "data": {
      "text/plain": [
       "0.9999999788776007"
      ]
     },
     "execution_count": 11,
     "metadata": {},
     "output_type": "execute_result"
    }
   ],
   "source": [
    "# Probability that more than 50 claims will be fraudulent\n",
    "1 - binom.cdf(50,n,p)"
   ]
  },
  {
   "cell_type": "code",
   "execution_count": 12,
   "id": "efd205b9",
   "metadata": {},
   "outputs": [
    {
     "data": {
      "text/plain": [
       "0.4734374659418341"
      ]
     },
     "execution_count": 12,
     "metadata": {},
     "output_type": "execute_result"
    }
   ],
   "source": [
    "# Probability that more than 100 claims will be fraudulent\n",
    "1 - binom.cdf(100,n,p)"
   ]
  },
  {
   "cell_type": "code",
   "execution_count": 15,
   "id": "fb120ceb",
   "metadata": {},
   "outputs": [
    {
     "data": {
      "text/plain": [
       "0.5265625340581659"
      ]
     },
     "execution_count": 15,
     "metadata": {},
     "output_type": "execute_result"
    }
   ],
   "source": [
    "# Probability that <= 100 claims will be fraudulent\n",
    "binom.cdf(100,n,p)"
   ]
  },
  {
   "cell_type": "markdown",
   "id": "69b32ea8",
   "metadata": {},
   "source": [
    "- **If an advertising company knows the probability of a customer buying a certain product, if he/she receives an advertisement on their Facebook account, binomial distribution can help them determine whether at least ‘k’ purchases would be made from a total of n ads sent. Effectively, they can determine how many advertisements to send, if they want achieve a particular sales target**\n",
    "     - Purchase : Success\n",
    "     - Probabiity of success : 0.001"
   ]
  },
  {
   "cell_type": "code",
   "execution_count": 20,
   "id": "ebe5579a",
   "metadata": {},
   "outputs": [
    {
     "data": {
      "text/plain": [
       "0.5042115551669912"
      ]
     },
     "execution_count": 20,
     "metadata": {},
     "output_type": "execute_result"
    }
   ],
   "source": [
    "# Probability of at least 1000 sales for 1000000 ad reach\n",
    "p = 0.001\n",
    "n = 1000000\n",
    "x = 1000\n",
    "1 - binom.cdf(x-1, n,p)"
   ]
  },
  {
   "cell_type": "code",
   "execution_count": 43,
   "id": "26a1e2d1",
   "metadata": {},
   "outputs": [
    {
     "data": {
      "text/plain": [
       "0.9927734922570768"
      ]
     },
     "execution_count": 43,
     "metadata": {},
     "output_type": "execute_result"
    }
   ],
   "source": [
    "# How many ads should be there for at least 1000 sales\n",
    "x = 1000\n",
    "p = 0.001\n",
    "# n = ?\n",
    "1 - binom.cdf(x,1080000,p)"
   ]
  },
  {
   "cell_type": "code",
   "execution_count": null,
   "id": "70dc8bed",
   "metadata": {},
   "outputs": [],
   "source": []
  }
 ],
 "metadata": {
  "kernelspec": {
   "display_name": "Python 3 (ipykernel)",
   "language": "python",
   "name": "python3"
  },
  "language_info": {
   "codemirror_mode": {
    "name": "ipython",
    "version": 3
   },
   "file_extension": ".py",
   "mimetype": "text/x-python",
   "name": "python",
   "nbconvert_exporter": "python",
   "pygments_lexer": "ipython3",
   "version": "3.9.7"
  }
 },
 "nbformat": 4,
 "nbformat_minor": 5
}
