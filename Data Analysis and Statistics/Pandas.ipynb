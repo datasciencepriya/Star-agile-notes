{
 "cells": [
  {
   "cell_type": "markdown",
   "id": "d9f07614",
   "metadata": {},
   "source": [
    "# Pandas\n",
    "- **Pandas** is a fast, powerful and easy to use open source data analysis and manipulation library.\n",
    "1. Series\n",
    "2. DataFrame"
   ]
  },
  {
   "cell_type": "code",
   "execution_count": 1,
   "id": "4fd986fb",
   "metadata": {},
   "outputs": [],
   "source": [
    "import numpy as np\n",
    "import pandas as pd\n",
    "\n",
    "import warnings\n",
    "warnings.filterwarnings('ignore')       # To avoid warnings"
   ]
  },
  {
   "cell_type": "markdown",
   "id": "3c08d053",
   "metadata": {},
   "source": [
    "# 1. Series"
   ]
  },
  {
   "cell_type": "code",
   "execution_count": 2,
   "id": "0c4b7815",
   "metadata": {},
   "outputs": [
    {
     "data": {
      "text/plain": [
       "0    10\n",
       "1    20\n",
       "2    30\n",
       "3    40\n",
       "4    50\n",
       "dtype: int64"
      ]
     },
     "execution_count": 2,
     "metadata": {},
     "output_type": "execute_result"
    }
   ],
   "source": [
    "data = [10,20,30,40,50]\n",
    "s1 = pd.Series(data)\n",
    "s1"
   ]
  },
  {
   "cell_type": "code",
   "execution_count": 3,
   "id": "53501709",
   "metadata": {},
   "outputs": [
    {
     "data": {
      "text/plain": [
       "pandas.core.series.Series"
      ]
     },
     "execution_count": 3,
     "metadata": {},
     "output_type": "execute_result"
    }
   ],
   "source": [
    "type(s1)"
   ]
  },
  {
   "cell_type": "code",
   "execution_count": 4,
   "id": "c0d8f986",
   "metadata": {},
   "outputs": [
    {
     "data": {
      "text/plain": [
       "array([10, 20, 30, 40, 50], dtype=int64)"
      ]
     },
     "execution_count": 4,
     "metadata": {},
     "output_type": "execute_result"
    }
   ],
   "source": [
    "s1.values             # returns the data in the form of an ndarray"
   ]
  },
  {
   "cell_type": "code",
   "execution_count": 5,
   "id": "094445e7",
   "metadata": {},
   "outputs": [
    {
     "data": {
      "text/plain": [
       "RangeIndex(start=0, stop=5, step=1)"
      ]
     },
     "execution_count": 5,
     "metadata": {},
     "output_type": "execute_result"
    }
   ],
   "source": [
    "s1.index"
   ]
  },
  {
   "cell_type": "code",
   "execution_count": 6,
   "id": "753713a4",
   "metadata": {},
   "outputs": [
    {
     "data": {
      "text/plain": [
       "dtype('int64')"
      ]
     },
     "execution_count": 6,
     "metadata": {},
     "output_type": "execute_result"
    }
   ],
   "source": [
    "s1.dtype"
   ]
  },
  {
   "cell_type": "code",
   "execution_count": 7,
   "id": "fcdd2e01",
   "metadata": {},
   "outputs": [
    {
     "data": {
      "text/plain": [
       "[0, 1, 2, 3, 4]"
      ]
     },
     "execution_count": 7,
     "metadata": {},
     "output_type": "execute_result"
    }
   ],
   "source": [
    "list(s1.index)"
   ]
  },
  {
   "cell_type": "code",
   "execution_count": 8,
   "id": "2d38ff7e",
   "metadata": {},
   "outputs": [
    {
     "data": {
      "text/plain": [
       "101    10\n",
       "102    20\n",
       "103    30\n",
       "104    40\n",
       "105    50\n",
       "dtype: int64"
      ]
     },
     "execution_count": 8,
     "metadata": {},
     "output_type": "execute_result"
    }
   ],
   "source": [
    "s1.index = [101,102,103,104,105]\n",
    "s1"
   ]
  },
  {
   "cell_type": "code",
   "execution_count": 9,
   "id": "48567d74",
   "metadata": {},
   "outputs": [
    {
     "data": {
      "text/plain": [
       "A    10\n",
       "B    20\n",
       "C    30\n",
       "D    40\n",
       "E    50\n",
       "dtype: int64"
      ]
     },
     "execution_count": 9,
     "metadata": {},
     "output_type": "execute_result"
    }
   ],
   "source": [
    "s1.index = ['A', 'B', 'C', 'D', 'E']\n",
    "s1"
   ]
  },
  {
   "cell_type": "code",
   "execution_count": 10,
   "id": "448e435b",
   "metadata": {},
   "outputs": [
    {
     "data": {
      "text/plain": [
       "1001    10\n",
       "1002    20\n",
       "1003    30\n",
       "1004    40\n",
       "1005    50\n",
       "dtype: int64"
      ]
     },
     "execution_count": 10,
     "metadata": {},
     "output_type": "execute_result"
    }
   ],
   "source": [
    "s1.index = range(1001,1006)\n",
    "s1"
   ]
  },
  {
   "cell_type": "code",
   "execution_count": 11,
   "id": "6ec655f5",
   "metadata": {},
   "outputs": [
    {
     "data": {
      "text/plain": [
       "1.5    10\n",
       "2.5    20\n",
       "3.5    30\n",
       "4.5    40\n",
       "5.7    50\n",
       "dtype: int64"
      ]
     },
     "execution_count": 11,
     "metadata": {},
     "output_type": "execute_result"
    }
   ],
   "source": [
    "s1.index = [1.5,2.5,3.5,4.5,5.7]\n",
    "s1"
   ]
  },
  {
   "cell_type": "code",
   "execution_count": 12,
   "id": "a453681b",
   "metadata": {},
   "outputs": [
    {
     "data": {
      "text/plain": [
       "A    10\n",
       "B    20\n",
       "C    30\n",
       "D    40\n",
       "E    50\n",
       "dtype: int64"
      ]
     },
     "execution_count": 12,
     "metadata": {},
     "output_type": "execute_result"
    }
   ],
   "source": [
    "s1.index = ['A', 'B', 'C', 'D', 'E']\n",
    "s1"
   ]
  },
  {
   "cell_type": "code",
   "execution_count": 13,
   "id": "5a5c7cc0",
   "metadata": {},
   "outputs": [
    {
     "data": {
      "text/plain": [
       "Index(['A', 'B', 'C', 'D', 'E'], dtype='object')"
      ]
     },
     "execution_count": 13,
     "metadata": {},
     "output_type": "execute_result"
    }
   ],
   "source": [
    "s1.index"
   ]
  },
  {
   "cell_type": "markdown",
   "id": "55e78fa2",
   "metadata": {},
   "source": [
    "## Accessing data in Series"
   ]
  },
  {
   "cell_type": "code",
   "execution_count": 14,
   "id": "594f7006",
   "metadata": {},
   "outputs": [
    {
     "data": {
      "text/plain": [
       "10"
      ]
     },
     "execution_count": 14,
     "metadata": {},
     "output_type": "execute_result"
    }
   ],
   "source": [
    "s1[0]"
   ]
  },
  {
   "cell_type": "code",
   "execution_count": 15,
   "id": "98e0437a",
   "metadata": {},
   "outputs": [
    {
     "data": {
      "text/plain": [
       "20"
      ]
     },
     "execution_count": 15,
     "metadata": {},
     "output_type": "execute_result"
    }
   ],
   "source": [
    "s1[1]"
   ]
  },
  {
   "cell_type": "code",
   "execution_count": 16,
   "id": "af501d74",
   "metadata": {},
   "outputs": [
    {
     "data": {
      "text/plain": [
       "50"
      ]
     },
     "execution_count": 16,
     "metadata": {},
     "output_type": "execute_result"
    }
   ],
   "source": [
    "s1[-1]"
   ]
  },
  {
   "cell_type": "code",
   "execution_count": 17,
   "id": "ba49a4a7",
   "metadata": {},
   "outputs": [
    {
     "data": {
      "text/plain": [
       "10"
      ]
     },
     "execution_count": 17,
     "metadata": {},
     "output_type": "execute_result"
    }
   ],
   "source": [
    "s1['A']"
   ]
  },
  {
   "cell_type": "code",
   "execution_count": 18,
   "id": "1ba92e50",
   "metadata": {},
   "outputs": [
    {
     "data": {
      "text/plain": [
       "20"
      ]
     },
     "execution_count": 18,
     "metadata": {},
     "output_type": "execute_result"
    }
   ],
   "source": [
    "s1['B']"
   ]
  },
  {
   "cell_type": "code",
   "execution_count": 19,
   "id": "876752e6",
   "metadata": {},
   "outputs": [
    {
     "data": {
      "text/plain": [
       "40"
      ]
     },
     "execution_count": 19,
     "metadata": {},
     "output_type": "execute_result"
    }
   ],
   "source": [
    "s1['D']"
   ]
  },
  {
   "cell_type": "code",
   "execution_count": 20,
   "id": "762a92e5",
   "metadata": {},
   "outputs": [
    {
     "data": {
      "text/plain": [
       "10"
      ]
     },
     "execution_count": 20,
     "metadata": {},
     "output_type": "execute_result"
    }
   ],
   "source": [
    "s1.iloc[0]                       # By positional indexing"
   ]
  },
  {
   "cell_type": "code",
   "execution_count": 21,
   "id": "2c106718",
   "metadata": {},
   "outputs": [
    {
     "data": {
      "text/plain": [
       "A    10\n",
       "B    20\n",
       "E    50\n",
       "dtype: int64"
      ]
     },
     "execution_count": 21,
     "metadata": {},
     "output_type": "execute_result"
    }
   ],
   "source": [
    "s1.iloc[[0,1,4]]"
   ]
  },
  {
   "cell_type": "code",
   "execution_count": 22,
   "id": "7af852cd",
   "metadata": {},
   "outputs": [
    {
     "data": {
      "text/plain": [
       "10"
      ]
     },
     "execution_count": 22,
     "metadata": {},
     "output_type": "execute_result"
    }
   ],
   "source": [
    "s1.loc['A']                      # By index that has been provided"
   ]
  },
  {
   "cell_type": "code",
   "execution_count": 23,
   "id": "410a0e32",
   "metadata": {},
   "outputs": [
    {
     "data": {
      "text/plain": [
       "A    10\n",
       "B    20\n",
       "D    40\n",
       "dtype: int64"
      ]
     },
     "execution_count": 23,
     "metadata": {},
     "output_type": "execute_result"
    }
   ],
   "source": [
    "s1.loc[['A','B','D']]"
   ]
  },
  {
   "cell_type": "markdown",
   "id": "5b51190f",
   "metadata": {},
   "source": [
    "## Add, update and Delete operations"
   ]
  },
  {
   "cell_type": "code",
   "execution_count": 24,
   "id": "bdda17b2",
   "metadata": {},
   "outputs": [
    {
     "data": {
      "text/plain": [
       "A    10\n",
       "B    20\n",
       "C    30\n",
       "D    40\n",
       "E    50\n",
       "dtype: int64"
      ]
     },
     "execution_count": 24,
     "metadata": {},
     "output_type": "execute_result"
    }
   ],
   "source": [
    "s1"
   ]
  },
  {
   "cell_type": "code",
   "execution_count": 25,
   "id": "2c072196",
   "metadata": {},
   "outputs": [
    {
     "data": {
      "text/plain": [
       "A    10\n",
       "B    20\n",
       "C    30\n",
       "D    40\n",
       "E    50\n",
       "F    60\n",
       "dtype: int64"
      ]
     },
     "execution_count": 25,
     "metadata": {},
     "output_type": "execute_result"
    }
   ],
   "source": [
    "s1['F'] = 60\n",
    "s1"
   ]
  },
  {
   "cell_type": "code",
   "execution_count": 26,
   "id": "449396cb",
   "metadata": {},
   "outputs": [
    {
     "data": {
      "text/plain": [
       "A    10\n",
       "B    20\n",
       "C    30\n",
       "D    80\n",
       "E    50\n",
       "F    60\n",
       "dtype: int64"
      ]
     },
     "execution_count": 26,
     "metadata": {},
     "output_type": "execute_result"
    }
   ],
   "source": [
    "s1['D'] = 80\n",
    "s1"
   ]
  },
  {
   "cell_type": "code",
   "execution_count": 27,
   "id": "1966d1ef",
   "metadata": {},
   "outputs": [],
   "source": [
    "s1.drop('D', inplace = True)    # inplace = True will make the change permanent in the original series"
   ]
  },
  {
   "cell_type": "code",
   "execution_count": 28,
   "id": "059004ea",
   "metadata": {},
   "outputs": [
    {
     "data": {
      "text/plain": [
       "A    10\n",
       "B    20\n",
       "C    30\n",
       "E    50\n",
       "F    60\n",
       "dtype: int64"
      ]
     },
     "execution_count": 28,
     "metadata": {},
     "output_type": "execute_result"
    }
   ],
   "source": [
    "s1"
   ]
  },
  {
   "cell_type": "markdown",
   "id": "25ef7846",
   "metadata": {},
   "source": [
    "## Slicing"
   ]
  },
  {
   "cell_type": "code",
   "execution_count": 29,
   "id": "79fd3242",
   "metadata": {},
   "outputs": [
    {
     "data": {
      "text/plain": [
       "A    10\n",
       "B    20\n",
       "C    30\n",
       "E    50\n",
       "F    60\n",
       "dtype: int64"
      ]
     },
     "execution_count": 29,
     "metadata": {},
     "output_type": "execute_result"
    }
   ],
   "source": [
    "s1[:]"
   ]
  },
  {
   "cell_type": "code",
   "execution_count": 30,
   "id": "1a544183",
   "metadata": {},
   "outputs": [
    {
     "data": {
      "text/plain": [
       "C    30\n",
       "E    50\n",
       "F    60\n",
       "dtype: int64"
      ]
     },
     "execution_count": 30,
     "metadata": {},
     "output_type": "execute_result"
    }
   ],
   "source": [
    "s1[2:5]"
   ]
  },
  {
   "cell_type": "code",
   "execution_count": 31,
   "id": "4013ad86",
   "metadata": {},
   "outputs": [
    {
     "data": {
      "text/plain": [
       "F    60\n",
       "E    50\n",
       "C    30\n",
       "B    20\n",
       "A    10\n",
       "dtype: int64"
      ]
     },
     "execution_count": 31,
     "metadata": {},
     "output_type": "execute_result"
    }
   ],
   "source": [
    "s1[-1::-1]"
   ]
  },
  {
   "cell_type": "code",
   "execution_count": 32,
   "id": "4c67c00f",
   "metadata": {},
   "outputs": [
    {
     "data": {
      "text/plain": [
       "A    10\n",
       "C    30\n",
       "F    60\n",
       "dtype: int64"
      ]
     },
     "execution_count": 32,
     "metadata": {},
     "output_type": "execute_result"
    }
   ],
   "source": [
    "s1[::2]"
   ]
  },
  {
   "cell_type": "markdown",
   "id": "d46470df",
   "metadata": {},
   "source": [
    "## Creating Series from Dictionary"
   ]
  },
  {
   "cell_type": "code",
   "execution_count": 33,
   "id": "bc1ef669",
   "metadata": {},
   "outputs": [
    {
     "data": {
      "text/plain": [
       "Mohit     85\n",
       "Ankit     80\n",
       "Anjali    86\n",
       "Varun     81\n",
       "dtype: int64"
      ]
     },
     "execution_count": 33,
     "metadata": {},
     "output_type": "execute_result"
    }
   ],
   "source": [
    "data = {'Mohit' : 85,\n",
    "        'Ankit' : 80,\n",
    "        'Anjali': 86,\n",
    "        'Varun' : 81}\n",
    "s = pd.Series(data)\n",
    "s"
   ]
  },
  {
   "cell_type": "code",
   "execution_count": 34,
   "id": "5c22da2a",
   "metadata": {},
   "outputs": [
    {
     "data": {
      "text/plain": [
       "{'Jaipur': 'Rajasthan',\n",
       " 'Mumbai': 'Maharashtra',\n",
       " 'Kolkata': 'West Bengal',\n",
       " 'Chandigarh': 'Punjab',\n",
       " 'Bengaluru': 'Karnataka'}"
      ]
     },
     "execution_count": 34,
     "metadata": {},
     "output_type": "execute_result"
    }
   ],
   "source": [
    "data = {'Jaipur' : 'Rajasthan',\n",
    "        'Mumbai' : 'Maharashtra',\n",
    "        'Kolkata': 'West Bengal',\n",
    "        'Chandigarh' : 'Punjab',\n",
    "        'Bengaluru' : 'Karnataka'}\n",
    "data"
   ]
  },
  {
   "cell_type": "code",
   "execution_count": 35,
   "id": "db77ea97",
   "metadata": {},
   "outputs": [
    {
     "data": {
      "text/plain": [
       "Jaipur          Rajasthan\n",
       "Mumbai        Maharashtra\n",
       "Kolkata       West Bengal\n",
       "Chandigarh         Punjab\n",
       "Bengaluru       Karnataka\n",
       "dtype: object"
      ]
     },
     "execution_count": 35,
     "metadata": {},
     "output_type": "execute_result"
    }
   ],
   "source": [
    "s2 = pd.Series(data)\n",
    "s2"
   ]
  },
  {
   "cell_type": "code",
   "execution_count": 36,
   "id": "34792a35",
   "metadata": {},
   "outputs": [
    {
     "data": {
      "text/plain": [
       "'Rajasthan'"
      ]
     },
     "execution_count": 36,
     "metadata": {},
     "output_type": "execute_result"
    }
   ],
   "source": [
    "s2['Jaipur']"
   ]
  },
  {
   "cell_type": "code",
   "execution_count": 37,
   "id": "4bbc7880",
   "metadata": {},
   "outputs": [
    {
     "data": {
      "text/plain": [
       "Index(['Jaipur', 'Mumbai', 'Kolkata', 'Chandigarh', 'Bengaluru'], dtype='object')"
      ]
     },
     "execution_count": 37,
     "metadata": {},
     "output_type": "execute_result"
    }
   ],
   "source": [
    "s2.index"
   ]
  },
  {
   "cell_type": "code",
   "execution_count": 38,
   "id": "43dbdd24",
   "metadata": {},
   "outputs": [
    {
     "data": {
      "text/plain": [
       "array(['Rajasthan', 'Maharashtra', 'West Bengal', 'Punjab', 'Karnataka'],\n",
       "      dtype=object)"
      ]
     },
     "execution_count": 38,
     "metadata": {},
     "output_type": "execute_result"
    }
   ],
   "source": [
    "s2.values"
   ]
  },
  {
   "cell_type": "code",
   "execution_count": 39,
   "id": "393f7cde",
   "metadata": {},
   "outputs": [
    {
     "data": {
      "text/plain": [
       "'Rajasthan'"
      ]
     },
     "execution_count": 39,
     "metadata": {},
     "output_type": "execute_result"
    }
   ],
   "source": [
    "s2[0]"
   ]
  },
  {
   "cell_type": "code",
   "execution_count": 40,
   "id": "d00aac99",
   "metadata": {},
   "outputs": [
    {
     "data": {
      "text/plain": [
       "'Rajasthan'"
      ]
     },
     "execution_count": 40,
     "metadata": {},
     "output_type": "execute_result"
    }
   ],
   "source": [
    "s2.loc['Jaipur']"
   ]
  },
  {
   "cell_type": "code",
   "execution_count": 41,
   "id": "cc63e816",
   "metadata": {},
   "outputs": [
    {
     "data": {
      "text/plain": [
       "'Rajasthan'"
      ]
     },
     "execution_count": 41,
     "metadata": {},
     "output_type": "execute_result"
    }
   ],
   "source": [
    "s2.iloc[0]"
   ]
  },
  {
   "cell_type": "code",
   "execution_count": 42,
   "id": "e9a0bf4c",
   "metadata": {},
   "outputs": [
    {
     "data": {
      "text/plain": [
       "Jaipur          Rajasthan\n",
       "Mumbai        Maharashtra\n",
       "Kolkata       West Bengal\n",
       "Chandigarh         Punjab\n",
       "Bengaluru       Karnataka\n",
       "Name: States and Capitals, dtype: object"
      ]
     },
     "execution_count": 42,
     "metadata": {},
     "output_type": "execute_result"
    }
   ],
   "source": [
    "s2.name = 'States and Capitals'\n",
    "s2"
   ]
  },
  {
   "cell_type": "code",
   "execution_count": 43,
   "id": "348f89ca",
   "metadata": {},
   "outputs": [
    {
     "data": {
      "text/plain": [
       "'States and Capitals'"
      ]
     },
     "execution_count": 43,
     "metadata": {},
     "output_type": "execute_result"
    }
   ],
   "source": [
    "s2.name"
   ]
  },
  {
   "cell_type": "code",
   "execution_count": 44,
   "id": "2915a8c0",
   "metadata": {},
   "outputs": [
    {
     "data": {
      "text/plain": [
       "Capitals\n",
       "Jaipur          Rajasthan\n",
       "Mumbai        Maharashtra\n",
       "Kolkata       West Bengal\n",
       "Chandigarh         Punjab\n",
       "Bengaluru       Karnataka\n",
       "Name: States and Capitals, dtype: object"
      ]
     },
     "execution_count": 44,
     "metadata": {},
     "output_type": "execute_result"
    }
   ],
   "source": [
    "s2.index.name = 'Capitals'\n",
    "s2"
   ]
  },
  {
   "cell_type": "code",
   "execution_count": 45,
   "id": "c099d4ca",
   "metadata": {},
   "outputs": [
    {
     "name": "stdout",
     "output_type": "stream",
     "text": [
      "Index(['Jaipur', 'Mumbai', 'Kolkata', 'Chandigarh', 'Bengaluru'], dtype='object', name='Capitals')\n",
      "['Rajasthan' 'Maharashtra' 'West Bengal' 'Punjab' 'Karnataka']\n",
      "object\n",
      "States and Capitals\n",
      "Capitals\n"
     ]
    }
   ],
   "source": [
    "print(s2.index)\n",
    "print(s2.values)\n",
    "print(s2.dtype)\n",
    "print(s2.name)\n",
    "print(s2.index.name)"
   ]
  },
  {
   "cell_type": "code",
   "execution_count": 46,
   "id": "c65fa9b3",
   "metadata": {},
   "outputs": [
    {
     "data": {
      "text/plain": [
       "Capitals\n",
       "Jaipur       Rajasthan\n",
       "Mumbai     Maharashtra\n",
       "Kolkata    West Bengal\n",
       "Name: States and Capitals, dtype: object"
      ]
     },
     "execution_count": 46,
     "metadata": {},
     "output_type": "execute_result"
    }
   ],
   "source": [
    "s2[['Jaipur','Mumbai','Kolkata']]"
   ]
  },
  {
   "cell_type": "code",
   "execution_count": 47,
   "id": "b2db13d4",
   "metadata": {},
   "outputs": [
    {
     "data": {
      "text/plain": [
       "Roll No\n",
       "101    88\n",
       "102    89\n",
       "103    93\n",
       "104    85\n",
       "105    96\n",
       "Name: Final Result, dtype: int64"
      ]
     },
     "execution_count": 47,
     "metadata": {},
     "output_type": "execute_result"
    }
   ],
   "source": [
    "roll_no = [101,102,103,104,105]\n",
    "result = [88,89,93,85,96]\n",
    "\n",
    "s3 = pd.Series(data = result, index = roll_no)\n",
    "s3.name = 'Final Result'\n",
    "s3.index.name = 'Roll No'\n",
    "s3"
   ]
  },
  {
   "cell_type": "code",
   "execution_count": 48,
   "id": "d27fd942",
   "metadata": {},
   "outputs": [
    {
     "data": {
      "text/plain": [
       "Capitals\n",
       "Jaipur          Rajasthan\n",
       "Mumbai        Maharashtra\n",
       "Kolkata       West Bengal\n",
       "Chandigarh         Punjab\n",
       "Bengaluru       Karnataka\n",
       "Name: States and Capitals, dtype: object"
      ]
     },
     "execution_count": 48,
     "metadata": {},
     "output_type": "execute_result"
    }
   ],
   "source": [
    "s2"
   ]
  },
  {
   "cell_type": "code",
   "execution_count": 49,
   "id": "c8649916",
   "metadata": {},
   "outputs": [
    {
     "data": {
      "text/plain": [
       "Jaipur       Rajasthan\n",
       "Kolkata    West Bengal\n",
       "Mumbai     Maharashtra\n",
       "Name: States and Capitals, dtype: object"
      ]
     },
     "execution_count": 49,
     "metadata": {},
     "output_type": "execute_result"
    }
   ],
   "source": [
    "capitals = ['Jaipur', 'Kolkata', 'Mumbai']\n",
    "s4 = pd.Series(data = s2, index = capitals)\n",
    "s4"
   ]
  },
  {
   "cell_type": "code",
   "execution_count": 50,
   "id": "e06a7dab",
   "metadata": {},
   "outputs": [
    {
     "data": {
      "text/plain": [
       "Jaipur       Rajasthan\n",
       "Kolkata    West Bengal\n",
       "Mumbai     Maharashtra\n",
       "Delhi              NaN\n",
       "Chennai            NaN\n",
       "Name: States and Capitals, dtype: object"
      ]
     },
     "execution_count": 50,
     "metadata": {},
     "output_type": "execute_result"
    }
   ],
   "source": [
    "capitals = ['Jaipur', 'Kolkata', 'Mumbai', 'Delhi','Chennai']\n",
    "s5 = pd.Series(data = s2, index = capitals)\n",
    "s5"
   ]
  },
  {
   "cell_type": "markdown",
   "id": "f699680e",
   "metadata": {},
   "source": [
    "## Functions"
   ]
  },
  {
   "cell_type": "code",
   "execution_count": 51,
   "id": "b8e497ca",
   "metadata": {},
   "outputs": [
    {
     "data": {
      "text/plain": [
       "Jaipur     False\n",
       "Kolkata    False\n",
       "Mumbai     False\n",
       "Delhi       True\n",
       "Chennai     True\n",
       "Name: States and Capitals, dtype: bool"
      ]
     },
     "execution_count": 51,
     "metadata": {},
     "output_type": "execute_result"
    }
   ],
   "source": [
    "s5.isnull()                               # Check for missing values"
   ]
  },
  {
   "cell_type": "code",
   "execution_count": 52,
   "id": "18d6826e",
   "metadata": {},
   "outputs": [
    {
     "data": {
      "text/plain": [
       "Jaipur      True\n",
       "Kolkata     True\n",
       "Mumbai      True\n",
       "Delhi      False\n",
       "Chennai    False\n",
       "Name: States and Capitals, dtype: bool"
      ]
     },
     "execution_count": 52,
     "metadata": {},
     "output_type": "execute_result"
    }
   ],
   "source": [
    "s5.notnull()"
   ]
  },
  {
   "cell_type": "code",
   "execution_count": 53,
   "id": "b006448f",
   "metadata": {},
   "outputs": [
    {
     "data": {
      "text/plain": [
       "2"
      ]
     },
     "execution_count": 53,
     "metadata": {},
     "output_type": "execute_result"
    }
   ],
   "source": [
    "s5.isnull().sum()     # Number of missing values"
   ]
  },
  {
   "cell_type": "code",
   "execution_count": 54,
   "id": "efa3b3b2",
   "metadata": {},
   "outputs": [
    {
     "data": {
      "text/plain": [
       "3"
      ]
     },
     "execution_count": 54,
     "metadata": {},
     "output_type": "execute_result"
    }
   ],
   "source": [
    "s5.notnull().sum()"
   ]
  },
  {
   "cell_type": "code",
   "execution_count": 55,
   "id": "3197686a",
   "metadata": {},
   "outputs": [
    {
     "data": {
      "text/plain": [
       "Jaipur         Rajasthan\n",
       "Kolkata      West Bengal\n",
       "Mumbai       Maharashtra\n",
       "Delhi                NaN\n",
       "Chennai              NaN\n",
       "Bengaluru      Karnataka\n",
       "Name: States and Capitals, dtype: object"
      ]
     },
     "execution_count": 55,
     "metadata": {},
     "output_type": "execute_result"
    }
   ],
   "source": [
    "s5['Bengaluru'] = 'Karnataka'\n",
    "s5"
   ]
  },
  {
   "cell_type": "code",
   "execution_count": 56,
   "id": "82cbe182",
   "metadata": {},
   "outputs": [
    {
     "data": {
      "text/plain": [
       "Jaipur       Rajasthan\n",
       "Kolkata    West Bengal\n",
       "Mumbai     Maharashtra\n",
       "Delhi              NaN\n",
       "Chennai            NaN\n",
       "Name: States and Capitals, dtype: object"
      ]
     },
     "execution_count": 56,
     "metadata": {},
     "output_type": "execute_result"
    }
   ],
   "source": [
    "s5.head()"
   ]
  },
  {
   "cell_type": "code",
   "execution_count": 57,
   "id": "7c1de22a",
   "metadata": {},
   "outputs": [
    {
     "data": {
      "text/plain": [
       "Jaipur       Rajasthan\n",
       "Kolkata    West Bengal\n",
       "Mumbai     Maharashtra\n",
       "Delhi              NaN\n",
       "Chennai            NaN\n",
       "Name: States and Capitals, dtype: object"
      ]
     },
     "execution_count": 57,
     "metadata": {},
     "output_type": "execute_result"
    }
   ],
   "source": [
    "s5.head(5)"
   ]
  },
  {
   "cell_type": "code",
   "execution_count": 58,
   "id": "bd57d590",
   "metadata": {},
   "outputs": [
    {
     "data": {
      "text/plain": [
       "Jaipur       Rajasthan\n",
       "Kolkata    West Bengal\n",
       "Mumbai     Maharashtra\n",
       "Name: States and Capitals, dtype: object"
      ]
     },
     "execution_count": 58,
     "metadata": {},
     "output_type": "execute_result"
    }
   ],
   "source": [
    "s5.head(3)"
   ]
  },
  {
   "cell_type": "code",
   "execution_count": 59,
   "id": "9a7d1b4f",
   "metadata": {},
   "outputs": [
    {
     "data": {
      "text/plain": [
       "Kolkata      West Bengal\n",
       "Mumbai       Maharashtra\n",
       "Delhi                NaN\n",
       "Chennai              NaN\n",
       "Bengaluru      Karnataka\n",
       "Name: States and Capitals, dtype: object"
      ]
     },
     "execution_count": 59,
     "metadata": {},
     "output_type": "execute_result"
    }
   ],
   "source": [
    "s5.tail()"
   ]
  },
  {
   "cell_type": "code",
   "execution_count": 60,
   "id": "155f59e9",
   "metadata": {},
   "outputs": [
    {
     "data": {
      "text/plain": [
       "Delhi              NaN\n",
       "Chennai            NaN\n",
       "Bengaluru    Karnataka\n",
       "Name: States and Capitals, dtype: object"
      ]
     },
     "execution_count": 60,
     "metadata": {},
     "output_type": "execute_result"
    }
   ],
   "source": [
    "s5.tail(3)"
   ]
  },
  {
   "cell_type": "code",
   "execution_count": 61,
   "id": "9bf69489",
   "metadata": {},
   "outputs": [
    {
     "data": {
      "text/plain": [
       "Jaipur         Rajasthan\n",
       "Kolkata      West Bengal\n",
       "Mumbai       Maharashtra\n",
       "Delhi                NaN\n",
       "Chennai              NaN\n",
       "Bengaluru      Karnataka\n",
       "Pune         Maharashtra\n",
       "Name: States and Capitals, dtype: object"
      ]
     },
     "execution_count": 61,
     "metadata": {},
     "output_type": "execute_result"
    }
   ],
   "source": [
    "s5['Pune'] = 'Maharashtra'\n",
    "s5"
   ]
  },
  {
   "cell_type": "code",
   "execution_count": 62,
   "id": "2ceceaf6",
   "metadata": {},
   "outputs": [
    {
     "data": {
      "text/plain": [
       "101      Rajasthan\n",
       "102    West Bengal\n",
       "103    Maharashtra\n",
       "104            NaN\n",
       "105            NaN\n",
       "106      Karnataka\n",
       "107    Maharashtra\n",
       "Name: States and Capitals, dtype: object"
      ]
     },
     "execution_count": 62,
     "metadata": {},
     "output_type": "execute_result"
    }
   ],
   "source": [
    "s5.index = range(101,108)\n",
    "s5"
   ]
  },
  {
   "cell_type": "code",
   "execution_count": 63,
   "id": "7b126ea0",
   "metadata": {},
   "outputs": [
    {
     "data": {
      "text/plain": [
       "101      Rajasthan\n",
       "102    West Bengal\n",
       "103    Maharashtra\n",
       "104            NaN\n",
       "105            NaN\n",
       "106      Karnataka\n",
       "107    Maharashtra\n",
       "108    Maharashtra\n",
       "109    Maharashtra\n",
       "Name: States and Capitals, dtype: object"
      ]
     },
     "execution_count": 63,
     "metadata": {},
     "output_type": "execute_result"
    }
   ],
   "source": [
    "s5[108] = 'Maharashtra'\n",
    "s5[109] = 'Maharashtra'\n",
    "s5"
   ]
  },
  {
   "cell_type": "code",
   "execution_count": 64,
   "id": "3827f5f8",
   "metadata": {},
   "outputs": [
    {
     "data": {
      "text/plain": [
       "101    False\n",
       "102    False\n",
       "103    False\n",
       "104    False\n",
       "105     True\n",
       "106    False\n",
       "107     True\n",
       "108     True\n",
       "109     True\n",
       "Name: States and Capitals, dtype: bool"
      ]
     },
     "execution_count": 64,
     "metadata": {},
     "output_type": "execute_result"
    }
   ],
   "source": [
    "s5.duplicated()                                   # Check for duplicate values"
   ]
  },
  {
   "cell_type": "code",
   "execution_count": 65,
   "id": "708feb7b",
   "metadata": {},
   "outputs": [
    {
     "data": {
      "text/plain": [
       "4"
      ]
     },
     "execution_count": 65,
     "metadata": {},
     "output_type": "execute_result"
    }
   ],
   "source": [
    "s5.duplicated().sum()"
   ]
  },
  {
   "cell_type": "code",
   "execution_count": 66,
   "id": "7b19259b",
   "metadata": {},
   "outputs": [
    {
     "data": {
      "text/plain": [
       "3"
      ]
     },
     "execution_count": 66,
     "metadata": {},
     "output_type": "execute_result"
    }
   ],
   "source": [
    "s5.dropna().duplicated().sum()"
   ]
  },
  {
   "cell_type": "code",
   "execution_count": 67,
   "id": "5fc06942",
   "metadata": {},
   "outputs": [],
   "source": [
    "s5.drop_duplicates(inplace = True)   # Drop duplicates"
   ]
  },
  {
   "cell_type": "code",
   "execution_count": 68,
   "id": "edd7bc2e",
   "metadata": {},
   "outputs": [
    {
     "data": {
      "text/plain": [
       "101      Rajasthan\n",
       "102    West Bengal\n",
       "103    Maharashtra\n",
       "104            NaN\n",
       "106      Karnataka\n",
       "Name: States and Capitals, dtype: object"
      ]
     },
     "execution_count": 68,
     "metadata": {},
     "output_type": "execute_result"
    }
   ],
   "source": [
    "s5"
   ]
  },
  {
   "cell_type": "markdown",
   "id": "12f1cf57",
   "metadata": {},
   "source": [
    "# ==============================================\n",
    "# DataFrames"
   ]
  },
  {
   "cell_type": "code",
   "execution_count": 69,
   "id": "188edd29",
   "metadata": {},
   "outputs": [],
   "source": [
    "employee1 = pd.Series({'Name' : 'Utkarsh', 'ID' : 1, 'Gender' : 'Male', 'Salary':95000})\n",
    "employee2 = pd.Series({'Name' : 'Kartik', 'ID' : 2, 'Gender' : 'Male','Salary':85000})\n",
    "employee3 = pd.Series({'Name' : 'Aishwarya', 'ID' : 3, 'Gender' : 'Female','Salary':75000})\n",
    "employee4 = pd.Series({'Name' : 'Anand', 'ID' : 4, 'Gender' : 'Male','Salary':65000})\n",
    "employee5 = pd.Series({'Name' : 'Shalini', 'ID' : 5, 'Gender' : 'Female','Salary':90000})\n",
    "employee6 = pd.Series({'Name' : 'Pratik', 'ID' : 6, 'Gender' : 'Male','Salary':80000})\n",
    "employee7 = pd.Series({'Name' : 'Monalika', 'ID' : 7, 'Gender' : 'Female','Salary':70000})\n",
    "employee8 = pd.Series({'Name' : 'Ayesha', 'ID' : 8, 'Gender' : 'Female','Salary':60000})\n",
    "employee9 = pd.Series({'Name' : 'Anant', 'ID' : 9, 'Gender' : 'Male','Salary':100000})\n",
    "employee10 = pd.Series({'Name' : 'Shamiksha', 'ID' : 10, 'Gender' : 'Female','Salary':45000})\n",
    "employee11 = pd.Series({'Name' : 'Prashant', 'ID' : 11, 'Gender' : 'Male','Salary':55000})\n",
    "employee12 = pd.Series({'Name' : 'Mohini', 'ID' : 12, 'Gender' : 'Female','Salary':65000})"
   ]
  },
  {
   "cell_type": "code",
   "execution_count": 70,
   "id": "c02de459",
   "metadata": {},
   "outputs": [
    {
     "data": {
      "text/plain": [
       "Name      Utkarsh\n",
       "ID              1\n",
       "Gender       Male\n",
       "Salary      95000\n",
       "dtype: object"
      ]
     },
     "execution_count": 70,
     "metadata": {},
     "output_type": "execute_result"
    }
   ],
   "source": [
    "employee1"
   ]
  },
  {
   "cell_type": "code",
   "execution_count": 71,
   "id": "957a87d8",
   "metadata": {},
   "outputs": [
    {
     "data": {
      "text/html": [
       "<div>\n",
       "<style scoped>\n",
       "    .dataframe tbody tr th:only-of-type {\n",
       "        vertical-align: middle;\n",
       "    }\n",
       "\n",
       "    .dataframe tbody tr th {\n",
       "        vertical-align: top;\n",
       "    }\n",
       "\n",
       "    .dataframe thead th {\n",
       "        text-align: right;\n",
       "    }\n",
       "</style>\n",
       "<table border=\"1\" class=\"dataframe\">\n",
       "  <thead>\n",
       "    <tr style=\"text-align: right;\">\n",
       "      <th></th>\n",
       "      <th>Name</th>\n",
       "      <th>ID</th>\n",
       "      <th>Gender</th>\n",
       "      <th>Salary</th>\n",
       "    </tr>\n",
       "  </thead>\n",
       "  <tbody>\n",
       "    <tr>\n",
       "      <th>101</th>\n",
       "      <td>Utkarsh</td>\n",
       "      <td>1</td>\n",
       "      <td>Male</td>\n",
       "      <td>95000</td>\n",
       "    </tr>\n",
       "    <tr>\n",
       "      <th>102</th>\n",
       "      <td>Kartik</td>\n",
       "      <td>2</td>\n",
       "      <td>Male</td>\n",
       "      <td>85000</td>\n",
       "    </tr>\n",
       "    <tr>\n",
       "      <th>103</th>\n",
       "      <td>Aishwarya</td>\n",
       "      <td>3</td>\n",
       "      <td>Female</td>\n",
       "      <td>75000</td>\n",
       "    </tr>\n",
       "    <tr>\n",
       "      <th>104</th>\n",
       "      <td>Anand</td>\n",
       "      <td>4</td>\n",
       "      <td>Male</td>\n",
       "      <td>65000</td>\n",
       "    </tr>\n",
       "    <tr>\n",
       "      <th>105</th>\n",
       "      <td>Shalini</td>\n",
       "      <td>5</td>\n",
       "      <td>Female</td>\n",
       "      <td>90000</td>\n",
       "    </tr>\n",
       "    <tr>\n",
       "      <th>106</th>\n",
       "      <td>Pratik</td>\n",
       "      <td>6</td>\n",
       "      <td>Male</td>\n",
       "      <td>80000</td>\n",
       "    </tr>\n",
       "    <tr>\n",
       "      <th>107</th>\n",
       "      <td>Monalika</td>\n",
       "      <td>7</td>\n",
       "      <td>Female</td>\n",
       "      <td>70000</td>\n",
       "    </tr>\n",
       "    <tr>\n",
       "      <th>108</th>\n",
       "      <td>Ayesha</td>\n",
       "      <td>8</td>\n",
       "      <td>Female</td>\n",
       "      <td>60000</td>\n",
       "    </tr>\n",
       "    <tr>\n",
       "      <th>109</th>\n",
       "      <td>Anant</td>\n",
       "      <td>9</td>\n",
       "      <td>Male</td>\n",
       "      <td>100000</td>\n",
       "    </tr>\n",
       "    <tr>\n",
       "      <th>110</th>\n",
       "      <td>Shamiksha</td>\n",
       "      <td>10</td>\n",
       "      <td>Female</td>\n",
       "      <td>45000</td>\n",
       "    </tr>\n",
       "    <tr>\n",
       "      <th>111</th>\n",
       "      <td>Prashant</td>\n",
       "      <td>11</td>\n",
       "      <td>Male</td>\n",
       "      <td>55000</td>\n",
       "    </tr>\n",
       "    <tr>\n",
       "      <th>112</th>\n",
       "      <td>Mohini</td>\n",
       "      <td>12</td>\n",
       "      <td>Female</td>\n",
       "      <td>65000</td>\n",
       "    </tr>\n",
       "  </tbody>\n",
       "</table>\n",
       "</div>"
      ],
      "text/plain": [
       "          Name  ID  Gender  Salary\n",
       "101    Utkarsh   1    Male   95000\n",
       "102     Kartik   2    Male   85000\n",
       "103  Aishwarya   3  Female   75000\n",
       "104      Anand   4    Male   65000\n",
       "105    Shalini   5  Female   90000\n",
       "106     Pratik   6    Male   80000\n",
       "107   Monalika   7  Female   70000\n",
       "108     Ayesha   8  Female   60000\n",
       "109      Anant   9    Male  100000\n",
       "110  Shamiksha  10  Female   45000\n",
       "111   Prashant  11    Male   55000\n",
       "112     Mohini  12  Female   65000"
      ]
     },
     "execution_count": 71,
     "metadata": {},
     "output_type": "execute_result"
    }
   ],
   "source": [
    "employees = [employee1,employee2,employee3,employee4,employee5,employee6,employee7,employee8,employee9,employee10,employee11,employee12]\n",
    "df1 = pd.DataFrame(data = employees, index = range(101,113))\n",
    "df1"
   ]
  },
  {
   "cell_type": "markdown",
   "id": "05bc4c76",
   "metadata": {},
   "source": [
    " - Single and two dimensional data\n",
    " - Rows and columns format\n",
    " - Tabular data\n",
    " - Data Frame\n",
    " - Structured data\n",
    " - Unstructured data"
   ]
  },
  {
   "cell_type": "code",
   "execution_count": 72,
   "id": "40ffbee3",
   "metadata": {},
   "outputs": [
    {
     "data": {
      "text/html": [
       "<div>\n",
       "<style scoped>\n",
       "    .dataframe tbody tr th:only-of-type {\n",
       "        vertical-align: middle;\n",
       "    }\n",
       "\n",
       "    .dataframe tbody tr th {\n",
       "        vertical-align: top;\n",
       "    }\n",
       "\n",
       "    .dataframe thead th {\n",
       "        text-align: right;\n",
       "    }\n",
       "</style>\n",
       "<table border=\"1\" class=\"dataframe\">\n",
       "  <thead>\n",
       "    <tr style=\"text-align: right;\">\n",
       "      <th></th>\n",
       "      <th>Name</th>\n",
       "      <th>ID</th>\n",
       "      <th>Gender</th>\n",
       "      <th>Salary</th>\n",
       "    </tr>\n",
       "  </thead>\n",
       "  <tbody>\n",
       "    <tr>\n",
       "      <th>101</th>\n",
       "      <td>Utkarsh</td>\n",
       "      <td>1</td>\n",
       "      <td>Male</td>\n",
       "      <td>95000</td>\n",
       "    </tr>\n",
       "    <tr>\n",
       "      <th>102</th>\n",
       "      <td>Kartik</td>\n",
       "      <td>2</td>\n",
       "      <td>Male</td>\n",
       "      <td>85000</td>\n",
       "    </tr>\n",
       "    <tr>\n",
       "      <th>103</th>\n",
       "      <td>Aishwarya</td>\n",
       "      <td>3</td>\n",
       "      <td>Female</td>\n",
       "      <td>75000</td>\n",
       "    </tr>\n",
       "    <tr>\n",
       "      <th>104</th>\n",
       "      <td>Anand</td>\n",
       "      <td>4</td>\n",
       "      <td>Male</td>\n",
       "      <td>65000</td>\n",
       "    </tr>\n",
       "    <tr>\n",
       "      <th>105</th>\n",
       "      <td>Shalini</td>\n",
       "      <td>5</td>\n",
       "      <td>Female</td>\n",
       "      <td>90000</td>\n",
       "    </tr>\n",
       "  </tbody>\n",
       "</table>\n",
       "</div>"
      ],
      "text/plain": [
       "          Name  ID  Gender  Salary\n",
       "101    Utkarsh   1    Male   95000\n",
       "102     Kartik   2    Male   85000\n",
       "103  Aishwarya   3  Female   75000\n",
       "104      Anand   4    Male   65000\n",
       "105    Shalini   5  Female   90000"
      ]
     },
     "execution_count": 72,
     "metadata": {},
     "output_type": "execute_result"
    }
   ],
   "source": [
    "df1.head()"
   ]
  },
  {
   "cell_type": "code",
   "execution_count": 73,
   "id": "a1c73d6d",
   "metadata": {},
   "outputs": [
    {
     "name": "stdout",
     "output_type": "stream",
     "text": [
      "<class 'pandas.core.frame.DataFrame'>\n",
      "RangeIndex: 12 entries, 101 to 112\n",
      "Data columns (total 4 columns):\n",
      " #   Column  Non-Null Count  Dtype \n",
      "---  ------  --------------  ----- \n",
      " 0   Name    12 non-null     object\n",
      " 1   ID      12 non-null     int64 \n",
      " 2   Gender  12 non-null     object\n",
      " 3   Salary  12 non-null     int64 \n",
      "dtypes: int64(2), object(2)\n",
      "memory usage: 516.0+ bytes\n"
     ]
    }
   ],
   "source": [
    "df1.info()"
   ]
  },
  {
   "cell_type": "code",
   "execution_count": 74,
   "id": "04a6c688",
   "metadata": {},
   "outputs": [
    {
     "data": {
      "text/plain": [
       "RangeIndex(start=101, stop=113, step=1)"
      ]
     },
     "execution_count": 74,
     "metadata": {},
     "output_type": "execute_result"
    }
   ],
   "source": [
    "df1.index"
   ]
  },
  {
   "cell_type": "code",
   "execution_count": 75,
   "id": "89908a05",
   "metadata": {},
   "outputs": [
    {
     "data": {
      "text/plain": [
       "array([['Utkarsh', 1, 'Male', 95000],\n",
       "       ['Kartik', 2, 'Male', 85000],\n",
       "       ['Aishwarya', 3, 'Female', 75000],\n",
       "       ['Anand', 4, 'Male', 65000],\n",
       "       ['Shalini', 5, 'Female', 90000],\n",
       "       ['Pratik', 6, 'Male', 80000],\n",
       "       ['Monalika', 7, 'Female', 70000],\n",
       "       ['Ayesha', 8, 'Female', 60000],\n",
       "       ['Anant', 9, 'Male', 100000],\n",
       "       ['Shamiksha', 10, 'Female', 45000],\n",
       "       ['Prashant', 11, 'Male', 55000],\n",
       "       ['Mohini', 12, 'Female', 65000]], dtype=object)"
      ]
     },
     "execution_count": 75,
     "metadata": {},
     "output_type": "execute_result"
    }
   ],
   "source": [
    "df1.values"
   ]
  },
  {
   "cell_type": "code",
   "execution_count": 76,
   "id": "21f6292d",
   "metadata": {},
   "outputs": [
    {
     "data": {
      "text/plain": [
       "Index(['Name', 'ID', 'Gender', 'Salary'], dtype='object')"
      ]
     },
     "execution_count": 76,
     "metadata": {},
     "output_type": "execute_result"
    }
   ],
   "source": [
    "df1.columns"
   ]
  },
  {
   "cell_type": "code",
   "execution_count": 77,
   "id": "5d15c039",
   "metadata": {},
   "outputs": [],
   "source": [
    "df1.name = 'Employee_Details'\n",
    "df1.index.name = 'Employee_ID'"
   ]
  },
  {
   "cell_type": "code",
   "execution_count": 78,
   "id": "6cbd0c5b",
   "metadata": {},
   "outputs": [
    {
     "data": {
      "text/plain": [
       "'Employee_Details'"
      ]
     },
     "execution_count": 78,
     "metadata": {},
     "output_type": "execute_result"
    }
   ],
   "source": [
    "df1.name"
   ]
  },
  {
   "cell_type": "code",
   "execution_count": 79,
   "id": "6e1b2cd2",
   "metadata": {},
   "outputs": [
    {
     "data": {
      "text/plain": [
       "'Employee_ID'"
      ]
     },
     "execution_count": 79,
     "metadata": {},
     "output_type": "execute_result"
    }
   ],
   "source": [
    "df1.index.name"
   ]
  },
  {
   "cell_type": "markdown",
   "id": "dc9f3d06",
   "metadata": {},
   "source": [
    "## Accessing data from DataFrame"
   ]
  },
  {
   "cell_type": "code",
   "execution_count": 80,
   "id": "51efd2d7",
   "metadata": {},
   "outputs": [
    {
     "data": {
      "text/html": [
       "<div>\n",
       "<style scoped>\n",
       "    .dataframe tbody tr th:only-of-type {\n",
       "        vertical-align: middle;\n",
       "    }\n",
       "\n",
       "    .dataframe tbody tr th {\n",
       "        vertical-align: top;\n",
       "    }\n",
       "\n",
       "    .dataframe thead th {\n",
       "        text-align: right;\n",
       "    }\n",
       "</style>\n",
       "<table border=\"1\" class=\"dataframe\">\n",
       "  <thead>\n",
       "    <tr style=\"text-align: right;\">\n",
       "      <th></th>\n",
       "      <th>Name</th>\n",
       "      <th>ID</th>\n",
       "      <th>Gender</th>\n",
       "      <th>Salary</th>\n",
       "    </tr>\n",
       "    <tr>\n",
       "      <th>Employee_ID</th>\n",
       "      <th></th>\n",
       "      <th></th>\n",
       "      <th></th>\n",
       "      <th></th>\n",
       "    </tr>\n",
       "  </thead>\n",
       "  <tbody>\n",
       "    <tr>\n",
       "      <th>101</th>\n",
       "      <td>Utkarsh</td>\n",
       "      <td>1</td>\n",
       "      <td>Male</td>\n",
       "      <td>95000</td>\n",
       "    </tr>\n",
       "    <tr>\n",
       "      <th>102</th>\n",
       "      <td>Kartik</td>\n",
       "      <td>2</td>\n",
       "      <td>Male</td>\n",
       "      <td>85000</td>\n",
       "    </tr>\n",
       "    <tr>\n",
       "      <th>103</th>\n",
       "      <td>Aishwarya</td>\n",
       "      <td>3</td>\n",
       "      <td>Female</td>\n",
       "      <td>75000</td>\n",
       "    </tr>\n",
       "    <tr>\n",
       "      <th>104</th>\n",
       "      <td>Anand</td>\n",
       "      <td>4</td>\n",
       "      <td>Male</td>\n",
       "      <td>65000</td>\n",
       "    </tr>\n",
       "    <tr>\n",
       "      <th>105</th>\n",
       "      <td>Shalini</td>\n",
       "      <td>5</td>\n",
       "      <td>Female</td>\n",
       "      <td>90000</td>\n",
       "    </tr>\n",
       "    <tr>\n",
       "      <th>106</th>\n",
       "      <td>Pratik</td>\n",
       "      <td>6</td>\n",
       "      <td>Male</td>\n",
       "      <td>80000</td>\n",
       "    </tr>\n",
       "    <tr>\n",
       "      <th>107</th>\n",
       "      <td>Monalika</td>\n",
       "      <td>7</td>\n",
       "      <td>Female</td>\n",
       "      <td>70000</td>\n",
       "    </tr>\n",
       "    <tr>\n",
       "      <th>108</th>\n",
       "      <td>Ayesha</td>\n",
       "      <td>8</td>\n",
       "      <td>Female</td>\n",
       "      <td>60000</td>\n",
       "    </tr>\n",
       "    <tr>\n",
       "      <th>109</th>\n",
       "      <td>Anant</td>\n",
       "      <td>9</td>\n",
       "      <td>Male</td>\n",
       "      <td>100000</td>\n",
       "    </tr>\n",
       "    <tr>\n",
       "      <th>110</th>\n",
       "      <td>Shamiksha</td>\n",
       "      <td>10</td>\n",
       "      <td>Female</td>\n",
       "      <td>45000</td>\n",
       "    </tr>\n",
       "    <tr>\n",
       "      <th>111</th>\n",
       "      <td>Prashant</td>\n",
       "      <td>11</td>\n",
       "      <td>Male</td>\n",
       "      <td>55000</td>\n",
       "    </tr>\n",
       "    <tr>\n",
       "      <th>112</th>\n",
       "      <td>Mohini</td>\n",
       "      <td>12</td>\n",
       "      <td>Female</td>\n",
       "      <td>65000</td>\n",
       "    </tr>\n",
       "  </tbody>\n",
       "</table>\n",
       "</div>"
      ],
      "text/plain": [
       "                  Name  ID  Gender  Salary\n",
       "Employee_ID                               \n",
       "101            Utkarsh   1    Male   95000\n",
       "102             Kartik   2    Male   85000\n",
       "103          Aishwarya   3  Female   75000\n",
       "104              Anand   4    Male   65000\n",
       "105            Shalini   5  Female   90000\n",
       "106             Pratik   6    Male   80000\n",
       "107           Monalika   7  Female   70000\n",
       "108             Ayesha   8  Female   60000\n",
       "109              Anant   9    Male  100000\n",
       "110          Shamiksha  10  Female   45000\n",
       "111           Prashant  11    Male   55000\n",
       "112             Mohini  12  Female   65000"
      ]
     },
     "execution_count": 80,
     "metadata": {},
     "output_type": "execute_result"
    }
   ],
   "source": [
    "df1"
   ]
  },
  {
   "cell_type": "markdown",
   "id": "b41b1666",
   "metadata": {},
   "source": [
    "#### Accessing Columns"
   ]
  },
  {
   "cell_type": "code",
   "execution_count": 81,
   "id": "91b7d64d",
   "metadata": {},
   "outputs": [
    {
     "data": {
      "text/plain": [
       "Employee_ID\n",
       "101      Utkarsh\n",
       "102       Kartik\n",
       "103    Aishwarya\n",
       "104        Anand\n",
       "105      Shalini\n",
       "106       Pratik\n",
       "107     Monalika\n",
       "108       Ayesha\n",
       "109        Anant\n",
       "110    Shamiksha\n",
       "111     Prashant\n",
       "112       Mohini\n",
       "Name: Name, dtype: object"
      ]
     },
     "execution_count": 81,
     "metadata": {},
     "output_type": "execute_result"
    }
   ],
   "source": [
    "df1['Name']"
   ]
  },
  {
   "cell_type": "code",
   "execution_count": 82,
   "id": "0fa8728f",
   "metadata": {},
   "outputs": [
    {
     "data": {
      "text/plain": [
       "Employee_ID\n",
       "101     95000\n",
       "102     85000\n",
       "103     75000\n",
       "104     65000\n",
       "105     90000\n",
       "106     80000\n",
       "107     70000\n",
       "108     60000\n",
       "109    100000\n",
       "110     45000\n",
       "111     55000\n",
       "112     65000\n",
       "Name: Salary, dtype: int64"
      ]
     },
     "execution_count": 82,
     "metadata": {},
     "output_type": "execute_result"
    }
   ],
   "source": [
    "df1['Salary']"
   ]
  },
  {
   "cell_type": "code",
   "execution_count": 83,
   "id": "4abcfdeb",
   "metadata": {},
   "outputs": [
    {
     "data": {
      "text/html": [
       "<div>\n",
       "<style scoped>\n",
       "    .dataframe tbody tr th:only-of-type {\n",
       "        vertical-align: middle;\n",
       "    }\n",
       "\n",
       "    .dataframe tbody tr th {\n",
       "        vertical-align: top;\n",
       "    }\n",
       "\n",
       "    .dataframe thead th {\n",
       "        text-align: right;\n",
       "    }\n",
       "</style>\n",
       "<table border=\"1\" class=\"dataframe\">\n",
       "  <thead>\n",
       "    <tr style=\"text-align: right;\">\n",
       "      <th></th>\n",
       "      <th>Name</th>\n",
       "      <th>Salary</th>\n",
       "    </tr>\n",
       "    <tr>\n",
       "      <th>Employee_ID</th>\n",
       "      <th></th>\n",
       "      <th></th>\n",
       "    </tr>\n",
       "  </thead>\n",
       "  <tbody>\n",
       "    <tr>\n",
       "      <th>101</th>\n",
       "      <td>Utkarsh</td>\n",
       "      <td>95000</td>\n",
       "    </tr>\n",
       "    <tr>\n",
       "      <th>102</th>\n",
       "      <td>Kartik</td>\n",
       "      <td>85000</td>\n",
       "    </tr>\n",
       "    <tr>\n",
       "      <th>103</th>\n",
       "      <td>Aishwarya</td>\n",
       "      <td>75000</td>\n",
       "    </tr>\n",
       "    <tr>\n",
       "      <th>104</th>\n",
       "      <td>Anand</td>\n",
       "      <td>65000</td>\n",
       "    </tr>\n",
       "    <tr>\n",
       "      <th>105</th>\n",
       "      <td>Shalini</td>\n",
       "      <td>90000</td>\n",
       "    </tr>\n",
       "    <tr>\n",
       "      <th>106</th>\n",
       "      <td>Pratik</td>\n",
       "      <td>80000</td>\n",
       "    </tr>\n",
       "    <tr>\n",
       "      <th>107</th>\n",
       "      <td>Monalika</td>\n",
       "      <td>70000</td>\n",
       "    </tr>\n",
       "    <tr>\n",
       "      <th>108</th>\n",
       "      <td>Ayesha</td>\n",
       "      <td>60000</td>\n",
       "    </tr>\n",
       "    <tr>\n",
       "      <th>109</th>\n",
       "      <td>Anant</td>\n",
       "      <td>100000</td>\n",
       "    </tr>\n",
       "    <tr>\n",
       "      <th>110</th>\n",
       "      <td>Shamiksha</td>\n",
       "      <td>45000</td>\n",
       "    </tr>\n",
       "    <tr>\n",
       "      <th>111</th>\n",
       "      <td>Prashant</td>\n",
       "      <td>55000</td>\n",
       "    </tr>\n",
       "    <tr>\n",
       "      <th>112</th>\n",
       "      <td>Mohini</td>\n",
       "      <td>65000</td>\n",
       "    </tr>\n",
       "  </tbody>\n",
       "</table>\n",
       "</div>"
      ],
      "text/plain": [
       "                  Name  Salary\n",
       "Employee_ID                   \n",
       "101            Utkarsh   95000\n",
       "102             Kartik   85000\n",
       "103          Aishwarya   75000\n",
       "104              Anand   65000\n",
       "105            Shalini   90000\n",
       "106             Pratik   80000\n",
       "107           Monalika   70000\n",
       "108             Ayesha   60000\n",
       "109              Anant  100000\n",
       "110          Shamiksha   45000\n",
       "111           Prashant   55000\n",
       "112             Mohini   65000"
      ]
     },
     "execution_count": 83,
     "metadata": {},
     "output_type": "execute_result"
    }
   ],
   "source": [
    "df1[['Name', 'Salary']]"
   ]
  },
  {
   "cell_type": "code",
   "execution_count": 84,
   "id": "bd759b76",
   "metadata": {},
   "outputs": [
    {
     "data": {
      "text/plain": [
       "Employee_ID\n",
       "101      Utkarsh\n",
       "102       Kartik\n",
       "103    Aishwarya\n",
       "104        Anand\n",
       "105      Shalini\n",
       "106       Pratik\n",
       "107     Monalika\n",
       "108       Ayesha\n",
       "109        Anant\n",
       "110    Shamiksha\n",
       "111     Prashant\n",
       "112       Mohini\n",
       "Name: Name, dtype: object"
      ]
     },
     "execution_count": 84,
     "metadata": {},
     "output_type": "execute_result"
    }
   ],
   "source": [
    "df1.Name         # Columns of a dataframe are also its attributes"
   ]
  },
  {
   "cell_type": "code",
   "execution_count": 85,
   "id": "d0a6f8e8",
   "metadata": {},
   "outputs": [
    {
     "data": {
      "text/plain": [
       "Employee_ID\n",
       "101     95000\n",
       "102     85000\n",
       "103     75000\n",
       "104     65000\n",
       "105     90000\n",
       "106     80000\n",
       "107     70000\n",
       "108     60000\n",
       "109    100000\n",
       "110     45000\n",
       "111     55000\n",
       "112     65000\n",
       "Name: Salary, dtype: int64"
      ]
     },
     "execution_count": 85,
     "metadata": {},
     "output_type": "execute_result"
    }
   ],
   "source": [
    "df1.Salary"
   ]
  },
  {
   "cell_type": "markdown",
   "id": "7dee3b16",
   "metadata": {},
   "source": [
    "#### Accessing Records (Rows)"
   ]
  },
  {
   "cell_type": "code",
   "execution_count": 86,
   "id": "86e3d654",
   "metadata": {},
   "outputs": [
    {
     "data": {
      "text/plain": [
       "Name      Utkarsh\n",
       "ID              1\n",
       "Gender       Male\n",
       "Salary      95000\n",
       "Name: 101, dtype: object"
      ]
     },
     "execution_count": 86,
     "metadata": {},
     "output_type": "execute_result"
    }
   ],
   "source": [
    "df1.loc[101]        # Provided index"
   ]
  },
  {
   "cell_type": "code",
   "execution_count": 87,
   "id": "046bb062",
   "metadata": {},
   "outputs": [
    {
     "data": {
      "text/plain": [
       "Name      Utkarsh\n",
       "ID              1\n",
       "Gender       Male\n",
       "Salary      95000\n",
       "Name: 101, dtype: object"
      ]
     },
     "execution_count": 87,
     "metadata": {},
     "output_type": "execute_result"
    }
   ],
   "source": [
    "df1.iloc[0]        # Default indexing"
   ]
  },
  {
   "cell_type": "code",
   "execution_count": 88,
   "id": "1330f230",
   "metadata": {},
   "outputs": [
    {
     "data": {
      "text/plain": [
       "Name      Shalini\n",
       "ID              5\n",
       "Gender     Female\n",
       "Salary      90000\n",
       "Name: 105, dtype: object"
      ]
     },
     "execution_count": 88,
     "metadata": {},
     "output_type": "execute_result"
    }
   ],
   "source": [
    "df1.loc[105]"
   ]
  },
  {
   "cell_type": "code",
   "execution_count": 89,
   "id": "0b15ac80",
   "metadata": {},
   "outputs": [
    {
     "data": {
      "text/html": [
       "<div>\n",
       "<style scoped>\n",
       "    .dataframe tbody tr th:only-of-type {\n",
       "        vertical-align: middle;\n",
       "    }\n",
       "\n",
       "    .dataframe tbody tr th {\n",
       "        vertical-align: top;\n",
       "    }\n",
       "\n",
       "    .dataframe thead th {\n",
       "        text-align: right;\n",
       "    }\n",
       "</style>\n",
       "<table border=\"1\" class=\"dataframe\">\n",
       "  <thead>\n",
       "    <tr style=\"text-align: right;\">\n",
       "      <th></th>\n",
       "      <th>Name</th>\n",
       "      <th>ID</th>\n",
       "      <th>Gender</th>\n",
       "      <th>Salary</th>\n",
       "    </tr>\n",
       "    <tr>\n",
       "      <th>Employee_ID</th>\n",
       "      <th></th>\n",
       "      <th></th>\n",
       "      <th></th>\n",
       "      <th></th>\n",
       "    </tr>\n",
       "  </thead>\n",
       "  <tbody>\n",
       "    <tr>\n",
       "      <th>101</th>\n",
       "      <td>Utkarsh</td>\n",
       "      <td>1</td>\n",
       "      <td>Male</td>\n",
       "      <td>95000</td>\n",
       "    </tr>\n",
       "    <tr>\n",
       "      <th>105</th>\n",
       "      <td>Shalini</td>\n",
       "      <td>5</td>\n",
       "      <td>Female</td>\n",
       "      <td>90000</td>\n",
       "    </tr>\n",
       "    <tr>\n",
       "      <th>109</th>\n",
       "      <td>Anant</td>\n",
       "      <td>9</td>\n",
       "      <td>Male</td>\n",
       "      <td>100000</td>\n",
       "    </tr>\n",
       "  </tbody>\n",
       "</table>\n",
       "</div>"
      ],
      "text/plain": [
       "                Name  ID  Gender  Salary\n",
       "Employee_ID                             \n",
       "101          Utkarsh   1    Male   95000\n",
       "105          Shalini   5  Female   90000\n",
       "109            Anant   9    Male  100000"
      ]
     },
     "execution_count": 89,
     "metadata": {},
     "output_type": "execute_result"
    }
   ],
   "source": [
    "df1.loc[[101,105,109]]"
   ]
  },
  {
   "cell_type": "code",
   "execution_count": 90,
   "id": "1d77e23d",
   "metadata": {},
   "outputs": [
    {
     "data": {
      "text/html": [
       "<div>\n",
       "<style scoped>\n",
       "    .dataframe tbody tr th:only-of-type {\n",
       "        vertical-align: middle;\n",
       "    }\n",
       "\n",
       "    .dataframe tbody tr th {\n",
       "        vertical-align: top;\n",
       "    }\n",
       "\n",
       "    .dataframe thead th {\n",
       "        text-align: right;\n",
       "    }\n",
       "</style>\n",
       "<table border=\"1\" class=\"dataframe\">\n",
       "  <thead>\n",
       "    <tr style=\"text-align: right;\">\n",
       "      <th></th>\n",
       "      <th>Name</th>\n",
       "      <th>ID</th>\n",
       "      <th>Gender</th>\n",
       "      <th>Salary</th>\n",
       "    </tr>\n",
       "    <tr>\n",
       "      <th>Employee_ID</th>\n",
       "      <th></th>\n",
       "      <th></th>\n",
       "      <th></th>\n",
       "      <th></th>\n",
       "    </tr>\n",
       "  </thead>\n",
       "  <tbody>\n",
       "    <tr>\n",
       "      <th>101</th>\n",
       "      <td>Utkarsh</td>\n",
       "      <td>1</td>\n",
       "      <td>Male</td>\n",
       "      <td>95000</td>\n",
       "    </tr>\n",
       "    <tr>\n",
       "      <th>105</th>\n",
       "      <td>Shalini</td>\n",
       "      <td>5</td>\n",
       "      <td>Female</td>\n",
       "      <td>90000</td>\n",
       "    </tr>\n",
       "    <tr>\n",
       "      <th>107</th>\n",
       "      <td>Monalika</td>\n",
       "      <td>7</td>\n",
       "      <td>Female</td>\n",
       "      <td>70000</td>\n",
       "    </tr>\n",
       "    <tr>\n",
       "      <th>110</th>\n",
       "      <td>Shamiksha</td>\n",
       "      <td>10</td>\n",
       "      <td>Female</td>\n",
       "      <td>45000</td>\n",
       "    </tr>\n",
       "  </tbody>\n",
       "</table>\n",
       "</div>"
      ],
      "text/plain": [
       "                  Name  ID  Gender  Salary\n",
       "Employee_ID                               \n",
       "101            Utkarsh   1    Male   95000\n",
       "105            Shalini   5  Female   90000\n",
       "107           Monalika   7  Female   70000\n",
       "110          Shamiksha  10  Female   45000"
      ]
     },
     "execution_count": 90,
     "metadata": {},
     "output_type": "execute_result"
    }
   ],
   "source": [
    "df1.iloc[[0,4,6,9]]"
   ]
  },
  {
   "cell_type": "markdown",
   "id": "2db61260",
   "metadata": {},
   "source": [
    "### Accessing Specific Values"
   ]
  },
  {
   "cell_type": "code",
   "execution_count": 91,
   "id": "8c9f303a",
   "metadata": {},
   "outputs": [
    {
     "data": {
      "text/html": [
       "<div>\n",
       "<style scoped>\n",
       "    .dataframe tbody tr th:only-of-type {\n",
       "        vertical-align: middle;\n",
       "    }\n",
       "\n",
       "    .dataframe tbody tr th {\n",
       "        vertical-align: top;\n",
       "    }\n",
       "\n",
       "    .dataframe thead th {\n",
       "        text-align: right;\n",
       "    }\n",
       "</style>\n",
       "<table border=\"1\" class=\"dataframe\">\n",
       "  <thead>\n",
       "    <tr style=\"text-align: right;\">\n",
       "      <th></th>\n",
       "      <th>Name</th>\n",
       "      <th>ID</th>\n",
       "      <th>Gender</th>\n",
       "      <th>Salary</th>\n",
       "    </tr>\n",
       "    <tr>\n",
       "      <th>Employee_ID</th>\n",
       "      <th></th>\n",
       "      <th></th>\n",
       "      <th></th>\n",
       "      <th></th>\n",
       "    </tr>\n",
       "  </thead>\n",
       "  <tbody>\n",
       "    <tr>\n",
       "      <th>101</th>\n",
       "      <td>Utkarsh</td>\n",
       "      <td>1</td>\n",
       "      <td>Male</td>\n",
       "      <td>95000</td>\n",
       "    </tr>\n",
       "    <tr>\n",
       "      <th>102</th>\n",
       "      <td>Kartik</td>\n",
       "      <td>2</td>\n",
       "      <td>Male</td>\n",
       "      <td>85000</td>\n",
       "    </tr>\n",
       "    <tr>\n",
       "      <th>103</th>\n",
       "      <td>Aishwarya</td>\n",
       "      <td>3</td>\n",
       "      <td>Female</td>\n",
       "      <td>75000</td>\n",
       "    </tr>\n",
       "    <tr>\n",
       "      <th>104</th>\n",
       "      <td>Anand</td>\n",
       "      <td>4</td>\n",
       "      <td>Male</td>\n",
       "      <td>65000</td>\n",
       "    </tr>\n",
       "    <tr>\n",
       "      <th>105</th>\n",
       "      <td>Shalini</td>\n",
       "      <td>5</td>\n",
       "      <td>Female</td>\n",
       "      <td>90000</td>\n",
       "    </tr>\n",
       "    <tr>\n",
       "      <th>106</th>\n",
       "      <td>Pratik</td>\n",
       "      <td>6</td>\n",
       "      <td>Male</td>\n",
       "      <td>80000</td>\n",
       "    </tr>\n",
       "    <tr>\n",
       "      <th>107</th>\n",
       "      <td>Monalika</td>\n",
       "      <td>7</td>\n",
       "      <td>Female</td>\n",
       "      <td>70000</td>\n",
       "    </tr>\n",
       "    <tr>\n",
       "      <th>108</th>\n",
       "      <td>Ayesha</td>\n",
       "      <td>8</td>\n",
       "      <td>Female</td>\n",
       "      <td>60000</td>\n",
       "    </tr>\n",
       "    <tr>\n",
       "      <th>109</th>\n",
       "      <td>Anant</td>\n",
       "      <td>9</td>\n",
       "      <td>Male</td>\n",
       "      <td>100000</td>\n",
       "    </tr>\n",
       "    <tr>\n",
       "      <th>110</th>\n",
       "      <td>Shamiksha</td>\n",
       "      <td>10</td>\n",
       "      <td>Female</td>\n",
       "      <td>45000</td>\n",
       "    </tr>\n",
       "    <tr>\n",
       "      <th>111</th>\n",
       "      <td>Prashant</td>\n",
       "      <td>11</td>\n",
       "      <td>Male</td>\n",
       "      <td>55000</td>\n",
       "    </tr>\n",
       "    <tr>\n",
       "      <th>112</th>\n",
       "      <td>Mohini</td>\n",
       "      <td>12</td>\n",
       "      <td>Female</td>\n",
       "      <td>65000</td>\n",
       "    </tr>\n",
       "  </tbody>\n",
       "</table>\n",
       "</div>"
      ],
      "text/plain": [
       "                  Name  ID  Gender  Salary\n",
       "Employee_ID                               \n",
       "101            Utkarsh   1    Male   95000\n",
       "102             Kartik   2    Male   85000\n",
       "103          Aishwarya   3  Female   75000\n",
       "104              Anand   4    Male   65000\n",
       "105            Shalini   5  Female   90000\n",
       "106             Pratik   6    Male   80000\n",
       "107           Monalika   7  Female   70000\n",
       "108             Ayesha   8  Female   60000\n",
       "109              Anant   9    Male  100000\n",
       "110          Shamiksha  10  Female   45000\n",
       "111           Prashant  11    Male   55000\n",
       "112             Mohini  12  Female   65000"
      ]
     },
     "execution_count": 91,
     "metadata": {},
     "output_type": "execute_result"
    }
   ],
   "source": [
    "df1"
   ]
  },
  {
   "cell_type": "code",
   "execution_count": 92,
   "id": "b91db22b",
   "metadata": {},
   "outputs": [
    {
     "data": {
      "text/plain": [
       "90000"
      ]
     },
     "execution_count": 92,
     "metadata": {},
     "output_type": "execute_result"
    }
   ],
   "source": [
    "df1.loc[105]['Salary']"
   ]
  },
  {
   "cell_type": "code",
   "execution_count": 93,
   "id": "0add9ab7",
   "metadata": {},
   "outputs": [
    {
     "data": {
      "text/plain": [
       "'Aishwarya'"
      ]
     },
     "execution_count": 93,
     "metadata": {},
     "output_type": "execute_result"
    }
   ],
   "source": [
    "df1.loc[103]['Name']"
   ]
  },
  {
   "cell_type": "code",
   "execution_count": 94,
   "id": "5144a9bd",
   "metadata": {},
   "outputs": [
    {
     "data": {
      "text/plain": [
       "65000"
      ]
     },
     "execution_count": 94,
     "metadata": {},
     "output_type": "execute_result"
    }
   ],
   "source": [
    "df1.iloc[3]['Salary']"
   ]
  },
  {
   "cell_type": "code",
   "execution_count": 95,
   "id": "9dc78f4b",
   "metadata": {},
   "outputs": [
    {
     "data": {
      "text/plain": [
       "'Aishwarya'"
      ]
     },
     "execution_count": 95,
     "metadata": {},
     "output_type": "execute_result"
    }
   ],
   "source": [
    "df1.iloc[2]['Name']"
   ]
  },
  {
   "cell_type": "code",
   "execution_count": 96,
   "id": "bb6b6918",
   "metadata": {},
   "outputs": [
    {
     "data": {
      "text/plain": [
       "90000"
      ]
     },
     "execution_count": 96,
     "metadata": {},
     "output_type": "execute_result"
    }
   ],
   "source": [
    "df1['Salary'][105]"
   ]
  },
  {
   "cell_type": "code",
   "execution_count": 97,
   "id": "0c89cf18",
   "metadata": {},
   "outputs": [
    {
     "data": {
      "text/plain": [
       "'Aishwarya'"
      ]
     },
     "execution_count": 97,
     "metadata": {},
     "output_type": "execute_result"
    }
   ],
   "source": [
    "df1['Name'][103]"
   ]
  },
  {
   "cell_type": "code",
   "execution_count": 98,
   "id": "2fe18561",
   "metadata": {},
   "outputs": [
    {
     "data": {
      "text/plain": [
       "90000"
      ]
     },
     "execution_count": 98,
     "metadata": {},
     "output_type": "execute_result"
    }
   ],
   "source": [
    "df1.Salary[105]"
   ]
  },
  {
   "cell_type": "code",
   "execution_count": 99,
   "id": "85b79355",
   "metadata": {},
   "outputs": [
    {
     "data": {
      "text/plain": [
       "'Aishwarya'"
      ]
     },
     "execution_count": 99,
     "metadata": {},
     "output_type": "execute_result"
    }
   ],
   "source": [
    "df1.Name[103]"
   ]
  },
  {
   "cell_type": "code",
   "execution_count": 100,
   "id": "91b5e8db",
   "metadata": {},
   "outputs": [
    {
     "data": {
      "text/plain": [
       "Employee_ID\n",
       "101    95000\n",
       "105    90000\n",
       "108    60000\n",
       "Name: Salary, dtype: int64"
      ]
     },
     "execution_count": 100,
     "metadata": {},
     "output_type": "execute_result"
    }
   ],
   "source": [
    "df1.loc[[101,105,108]]['Salary']"
   ]
  },
  {
   "cell_type": "code",
   "execution_count": 101,
   "id": "aaaa82ed",
   "metadata": {},
   "outputs": [
    {
     "data": {
      "text/html": [
       "<div>\n",
       "<style scoped>\n",
       "    .dataframe tbody tr th:only-of-type {\n",
       "        vertical-align: middle;\n",
       "    }\n",
       "\n",
       "    .dataframe tbody tr th {\n",
       "        vertical-align: top;\n",
       "    }\n",
       "\n",
       "    .dataframe thead th {\n",
       "        text-align: right;\n",
       "    }\n",
       "</style>\n",
       "<table border=\"1\" class=\"dataframe\">\n",
       "  <thead>\n",
       "    <tr style=\"text-align: right;\">\n",
       "      <th></th>\n",
       "      <th>Name</th>\n",
       "      <th>Salary</th>\n",
       "    </tr>\n",
       "    <tr>\n",
       "      <th>Employee_ID</th>\n",
       "      <th></th>\n",
       "      <th></th>\n",
       "    </tr>\n",
       "  </thead>\n",
       "  <tbody>\n",
       "    <tr>\n",
       "      <th>101</th>\n",
       "      <td>Utkarsh</td>\n",
       "      <td>95000</td>\n",
       "    </tr>\n",
       "    <tr>\n",
       "      <th>105</th>\n",
       "      <td>Shalini</td>\n",
       "      <td>90000</td>\n",
       "    </tr>\n",
       "    <tr>\n",
       "      <th>108</th>\n",
       "      <td>Ayesha</td>\n",
       "      <td>60000</td>\n",
       "    </tr>\n",
       "  </tbody>\n",
       "</table>\n",
       "</div>"
      ],
      "text/plain": [
       "                Name  Salary\n",
       "Employee_ID                 \n",
       "101          Utkarsh   95000\n",
       "105          Shalini   90000\n",
       "108           Ayesha   60000"
      ]
     },
     "execution_count": 101,
     "metadata": {},
     "output_type": "execute_result"
    }
   ],
   "source": [
    "df1.loc[[101,105,108]][['Name', 'Salary']]"
   ]
  },
  {
   "cell_type": "code",
   "execution_count": 102,
   "id": "c0e5f397",
   "metadata": {},
   "outputs": [
    {
     "data": {
      "text/html": [
       "<div>\n",
       "<style scoped>\n",
       "    .dataframe tbody tr th:only-of-type {\n",
       "        vertical-align: middle;\n",
       "    }\n",
       "\n",
       "    .dataframe tbody tr th {\n",
       "        vertical-align: top;\n",
       "    }\n",
       "\n",
       "    .dataframe thead th {\n",
       "        text-align: right;\n",
       "    }\n",
       "</style>\n",
       "<table border=\"1\" class=\"dataframe\">\n",
       "  <thead>\n",
       "    <tr style=\"text-align: right;\">\n",
       "      <th></th>\n",
       "      <th>Name</th>\n",
       "      <th>Salary</th>\n",
       "    </tr>\n",
       "    <tr>\n",
       "      <th>Employee_ID</th>\n",
       "      <th></th>\n",
       "      <th></th>\n",
       "    </tr>\n",
       "  </thead>\n",
       "  <tbody>\n",
       "    <tr>\n",
       "      <th>101</th>\n",
       "      <td>Utkarsh</td>\n",
       "      <td>95000</td>\n",
       "    </tr>\n",
       "    <tr>\n",
       "      <th>105</th>\n",
       "      <td>Shalini</td>\n",
       "      <td>90000</td>\n",
       "    </tr>\n",
       "    <tr>\n",
       "      <th>108</th>\n",
       "      <td>Ayesha</td>\n",
       "      <td>60000</td>\n",
       "    </tr>\n",
       "    <tr>\n",
       "      <th>110</th>\n",
       "      <td>Shamiksha</td>\n",
       "      <td>45000</td>\n",
       "    </tr>\n",
       "  </tbody>\n",
       "</table>\n",
       "</div>"
      ],
      "text/plain": [
       "                  Name  Salary\n",
       "Employee_ID                   \n",
       "101            Utkarsh   95000\n",
       "105            Shalini   90000\n",
       "108             Ayesha   60000\n",
       "110          Shamiksha   45000"
      ]
     },
     "execution_count": 102,
     "metadata": {},
     "output_type": "execute_result"
    }
   ],
   "source": [
    "df1.iloc[[0,4,7,9]][['Name', 'Salary']]"
   ]
  },
  {
   "cell_type": "code",
   "execution_count": 103,
   "id": "92780c71",
   "metadata": {},
   "outputs": [
    {
     "data": {
      "text/plain": [
       "90000"
      ]
     },
     "execution_count": 103,
     "metadata": {},
     "output_type": "execute_result"
    }
   ],
   "source": [
    "df1.loc[105,'Salary']                             # df1.loc[105]['Salary']"
   ]
  },
  {
   "cell_type": "code",
   "execution_count": 104,
   "id": "10f8a5cf",
   "metadata": {},
   "outputs": [
    {
     "data": {
      "text/plain": [
       "Employee_ID\n",
       "105    90000\n",
       "108    60000\n",
       "110    45000\n",
       "Name: Salary, dtype: int64"
      ]
     },
     "execution_count": 104,
     "metadata": {},
     "output_type": "execute_result"
    }
   ],
   "source": [
    "df1.loc[[105,108,110], 'Salary']"
   ]
  },
  {
   "cell_type": "code",
   "execution_count": 105,
   "id": "6b5aba2f",
   "metadata": {},
   "outputs": [
    {
     "data": {
      "text/html": [
       "<div>\n",
       "<style scoped>\n",
       "    .dataframe tbody tr th:only-of-type {\n",
       "        vertical-align: middle;\n",
       "    }\n",
       "\n",
       "    .dataframe tbody tr th {\n",
       "        vertical-align: top;\n",
       "    }\n",
       "\n",
       "    .dataframe thead th {\n",
       "        text-align: right;\n",
       "    }\n",
       "</style>\n",
       "<table border=\"1\" class=\"dataframe\">\n",
       "  <thead>\n",
       "    <tr style=\"text-align: right;\">\n",
       "      <th></th>\n",
       "      <th>Name</th>\n",
       "      <th>Salary</th>\n",
       "    </tr>\n",
       "    <tr>\n",
       "      <th>Employee_ID</th>\n",
       "      <th></th>\n",
       "      <th></th>\n",
       "    </tr>\n",
       "  </thead>\n",
       "  <tbody>\n",
       "    <tr>\n",
       "      <th>105</th>\n",
       "      <td>Shalini</td>\n",
       "      <td>90000</td>\n",
       "    </tr>\n",
       "    <tr>\n",
       "      <th>108</th>\n",
       "      <td>Ayesha</td>\n",
       "      <td>60000</td>\n",
       "    </tr>\n",
       "    <tr>\n",
       "      <th>110</th>\n",
       "      <td>Shamiksha</td>\n",
       "      <td>45000</td>\n",
       "    </tr>\n",
       "    <tr>\n",
       "      <th>101</th>\n",
       "      <td>Utkarsh</td>\n",
       "      <td>95000</td>\n",
       "    </tr>\n",
       "  </tbody>\n",
       "</table>\n",
       "</div>"
      ],
      "text/plain": [
       "                  Name  Salary\n",
       "Employee_ID                   \n",
       "105            Shalini   90000\n",
       "108             Ayesha   60000\n",
       "110          Shamiksha   45000\n",
       "101            Utkarsh   95000"
      ]
     },
     "execution_count": 105,
     "metadata": {},
     "output_type": "execute_result"
    }
   ],
   "source": [
    "df1.loc[[105,108,110, 101], ['Name','Salary']]"
   ]
  },
  {
   "cell_type": "code",
   "execution_count": 106,
   "id": "b84d22ef",
   "metadata": {},
   "outputs": [
    {
     "data": {
      "text/html": [
       "<div>\n",
       "<style scoped>\n",
       "    .dataframe tbody tr th:only-of-type {\n",
       "        vertical-align: middle;\n",
       "    }\n",
       "\n",
       "    .dataframe tbody tr th {\n",
       "        vertical-align: top;\n",
       "    }\n",
       "\n",
       "    .dataframe thead th {\n",
       "        text-align: right;\n",
       "    }\n",
       "</style>\n",
       "<table border=\"1\" class=\"dataframe\">\n",
       "  <thead>\n",
       "    <tr style=\"text-align: right;\">\n",
       "      <th></th>\n",
       "      <th>Name</th>\n",
       "      <th>ID</th>\n",
       "      <th>Gender</th>\n",
       "      <th>Salary</th>\n",
       "    </tr>\n",
       "    <tr>\n",
       "      <th>Employee_ID</th>\n",
       "      <th></th>\n",
       "      <th></th>\n",
       "      <th></th>\n",
       "      <th></th>\n",
       "    </tr>\n",
       "  </thead>\n",
       "  <tbody>\n",
       "    <tr>\n",
       "      <th>101</th>\n",
       "      <td>Utkarsh</td>\n",
       "      <td>1</td>\n",
       "      <td>Male</td>\n",
       "      <td>95000</td>\n",
       "    </tr>\n",
       "    <tr>\n",
       "      <th>102</th>\n",
       "      <td>Kartik</td>\n",
       "      <td>2</td>\n",
       "      <td>Male</td>\n",
       "      <td>85000</td>\n",
       "    </tr>\n",
       "    <tr>\n",
       "      <th>103</th>\n",
       "      <td>Aishwarya</td>\n",
       "      <td>3</td>\n",
       "      <td>Female</td>\n",
       "      <td>75000</td>\n",
       "    </tr>\n",
       "    <tr>\n",
       "      <th>104</th>\n",
       "      <td>Anand</td>\n",
       "      <td>4</td>\n",
       "      <td>Male</td>\n",
       "      <td>65000</td>\n",
       "    </tr>\n",
       "    <tr>\n",
       "      <th>105</th>\n",
       "      <td>Shalini</td>\n",
       "      <td>5</td>\n",
       "      <td>Female</td>\n",
       "      <td>90000</td>\n",
       "    </tr>\n",
       "    <tr>\n",
       "      <th>106</th>\n",
       "      <td>Pratik</td>\n",
       "      <td>6</td>\n",
       "      <td>Male</td>\n",
       "      <td>80000</td>\n",
       "    </tr>\n",
       "  </tbody>\n",
       "</table>\n",
       "</div>"
      ],
      "text/plain": [
       "                  Name  ID  Gender  Salary\n",
       "Employee_ID                               \n",
       "101            Utkarsh   1    Male   95000\n",
       "102             Kartik   2    Male   85000\n",
       "103          Aishwarya   3  Female   75000\n",
       "104              Anand   4    Male   65000\n",
       "105            Shalini   5  Female   90000\n",
       "106             Pratik   6    Male   80000"
      ]
     },
     "execution_count": 106,
     "metadata": {},
     "output_type": "execute_result"
    }
   ],
   "source": [
    "df1.loc[101:106]"
   ]
  },
  {
   "cell_type": "code",
   "execution_count": 107,
   "id": "0563370e",
   "metadata": {},
   "outputs": [
    {
     "data": {
      "text/html": [
       "<div>\n",
       "<style scoped>\n",
       "    .dataframe tbody tr th:only-of-type {\n",
       "        vertical-align: middle;\n",
       "    }\n",
       "\n",
       "    .dataframe tbody tr th {\n",
       "        vertical-align: top;\n",
       "    }\n",
       "\n",
       "    .dataframe thead th {\n",
       "        text-align: right;\n",
       "    }\n",
       "</style>\n",
       "<table border=\"1\" class=\"dataframe\">\n",
       "  <thead>\n",
       "    <tr style=\"text-align: right;\">\n",
       "      <th></th>\n",
       "      <th>Name</th>\n",
       "      <th>Salary</th>\n",
       "    </tr>\n",
       "    <tr>\n",
       "      <th>Employee_ID</th>\n",
       "      <th></th>\n",
       "      <th></th>\n",
       "    </tr>\n",
       "  </thead>\n",
       "  <tbody>\n",
       "    <tr>\n",
       "      <th>101</th>\n",
       "      <td>Utkarsh</td>\n",
       "      <td>95000</td>\n",
       "    </tr>\n",
       "    <tr>\n",
       "      <th>102</th>\n",
       "      <td>Kartik</td>\n",
       "      <td>85000</td>\n",
       "    </tr>\n",
       "    <tr>\n",
       "      <th>103</th>\n",
       "      <td>Aishwarya</td>\n",
       "      <td>75000</td>\n",
       "    </tr>\n",
       "    <tr>\n",
       "      <th>104</th>\n",
       "      <td>Anand</td>\n",
       "      <td>65000</td>\n",
       "    </tr>\n",
       "    <tr>\n",
       "      <th>105</th>\n",
       "      <td>Shalini</td>\n",
       "      <td>90000</td>\n",
       "    </tr>\n",
       "    <tr>\n",
       "      <th>106</th>\n",
       "      <td>Pratik</td>\n",
       "      <td>80000</td>\n",
       "    </tr>\n",
       "  </tbody>\n",
       "</table>\n",
       "</div>"
      ],
      "text/plain": [
       "                  Name  Salary\n",
       "Employee_ID                   \n",
       "101            Utkarsh   95000\n",
       "102             Kartik   85000\n",
       "103          Aishwarya   75000\n",
       "104              Anand   65000\n",
       "105            Shalini   90000\n",
       "106             Pratik   80000"
      ]
     },
     "execution_count": 107,
     "metadata": {},
     "output_type": "execute_result"
    }
   ],
   "source": [
    "df1.loc[101:106, ['Name','Salary']]"
   ]
  },
  {
   "cell_type": "code",
   "execution_count": 108,
   "id": "f638e54d",
   "metadata": {},
   "outputs": [
    {
     "name": "stdout",
     "output_type": "stream",
     "text": [
      "Employee_ID\n",
      "101      Utkarsh\n",
      "102       Kartik\n",
      "103    Aishwarya\n",
      "104        Anand\n",
      "105      Shalini\n",
      "106       Pratik\n",
      "107     Monalika\n",
      "108       Ayesha\n",
      "109        Anant\n",
      "110    Shamiksha\n",
      "111     Prashant\n",
      "112       Mohini\n",
      "Name: Name, dtype: object\n",
      "Name      Utkarsh\n",
      "ID              1\n",
      "Gender       Male\n",
      "Salary      95000\n",
      "Name: 101, dtype: object\n",
      "95000\n"
     ]
    }
   ],
   "source": [
    "# To remember\n",
    "print(df1['Name'])\n",
    "print(df1.loc[101])\n",
    "print(df1.loc[101,'Salary'])"
   ]
  },
  {
   "cell_type": "markdown",
   "id": "6f9d32f2",
   "metadata": {},
   "source": [
    "## Adding and Deleting Rows and Columns"
   ]
  },
  {
   "cell_type": "code",
   "execution_count": 109,
   "id": "68078f79",
   "metadata": {},
   "outputs": [
    {
     "data": {
      "text/html": [
       "<div>\n",
       "<style scoped>\n",
       "    .dataframe tbody tr th:only-of-type {\n",
       "        vertical-align: middle;\n",
       "    }\n",
       "\n",
       "    .dataframe tbody tr th {\n",
       "        vertical-align: top;\n",
       "    }\n",
       "\n",
       "    .dataframe thead th {\n",
       "        text-align: right;\n",
       "    }\n",
       "</style>\n",
       "<table border=\"1\" class=\"dataframe\">\n",
       "  <thead>\n",
       "    <tr style=\"text-align: right;\">\n",
       "      <th></th>\n",
       "      <th>Name</th>\n",
       "      <th>ID</th>\n",
       "      <th>Gender</th>\n",
       "      <th>Salary</th>\n",
       "    </tr>\n",
       "    <tr>\n",
       "      <th>Employee_ID</th>\n",
       "      <th></th>\n",
       "      <th></th>\n",
       "      <th></th>\n",
       "      <th></th>\n",
       "    </tr>\n",
       "  </thead>\n",
       "  <tbody>\n",
       "    <tr>\n",
       "      <th>101</th>\n",
       "      <td>Utkarsh</td>\n",
       "      <td>1</td>\n",
       "      <td>Male</td>\n",
       "      <td>95000</td>\n",
       "    </tr>\n",
       "    <tr>\n",
       "      <th>102</th>\n",
       "      <td>Kartik</td>\n",
       "      <td>2</td>\n",
       "      <td>Male</td>\n",
       "      <td>85000</td>\n",
       "    </tr>\n",
       "    <tr>\n",
       "      <th>103</th>\n",
       "      <td>Aishwarya</td>\n",
       "      <td>3</td>\n",
       "      <td>Female</td>\n",
       "      <td>75000</td>\n",
       "    </tr>\n",
       "    <tr>\n",
       "      <th>104</th>\n",
       "      <td>Anand</td>\n",
       "      <td>4</td>\n",
       "      <td>Male</td>\n",
       "      <td>65000</td>\n",
       "    </tr>\n",
       "    <tr>\n",
       "      <th>105</th>\n",
       "      <td>Shalini</td>\n",
       "      <td>5</td>\n",
       "      <td>Female</td>\n",
       "      <td>90000</td>\n",
       "    </tr>\n",
       "    <tr>\n",
       "      <th>106</th>\n",
       "      <td>Pratik</td>\n",
       "      <td>6</td>\n",
       "      <td>Male</td>\n",
       "      <td>80000</td>\n",
       "    </tr>\n",
       "    <tr>\n",
       "      <th>107</th>\n",
       "      <td>Monalika</td>\n",
       "      <td>7</td>\n",
       "      <td>Female</td>\n",
       "      <td>70000</td>\n",
       "    </tr>\n",
       "    <tr>\n",
       "      <th>108</th>\n",
       "      <td>Ayesha</td>\n",
       "      <td>8</td>\n",
       "      <td>Female</td>\n",
       "      <td>60000</td>\n",
       "    </tr>\n",
       "    <tr>\n",
       "      <th>109</th>\n",
       "      <td>Anant</td>\n",
       "      <td>9</td>\n",
       "      <td>Male</td>\n",
       "      <td>100000</td>\n",
       "    </tr>\n",
       "    <tr>\n",
       "      <th>110</th>\n",
       "      <td>Shamiksha</td>\n",
       "      <td>10</td>\n",
       "      <td>Female</td>\n",
       "      <td>45000</td>\n",
       "    </tr>\n",
       "    <tr>\n",
       "      <th>111</th>\n",
       "      <td>Prashant</td>\n",
       "      <td>11</td>\n",
       "      <td>Male</td>\n",
       "      <td>55000</td>\n",
       "    </tr>\n",
       "    <tr>\n",
       "      <th>112</th>\n",
       "      <td>Mohini</td>\n",
       "      <td>12</td>\n",
       "      <td>Female</td>\n",
       "      <td>65000</td>\n",
       "    </tr>\n",
       "    <tr>\n",
       "      <th>113</th>\n",
       "      <td>Priti</td>\n",
       "      <td>13</td>\n",
       "      <td>Female</td>\n",
       "      <td>71000</td>\n",
       "    </tr>\n",
       "  </tbody>\n",
       "</table>\n",
       "</div>"
      ],
      "text/plain": [
       "                  Name  ID  Gender  Salary\n",
       "Employee_ID                               \n",
       "101            Utkarsh   1    Male   95000\n",
       "102             Kartik   2    Male   85000\n",
       "103          Aishwarya   3  Female   75000\n",
       "104              Anand   4    Male   65000\n",
       "105            Shalini   5  Female   90000\n",
       "106             Pratik   6    Male   80000\n",
       "107           Monalika   7  Female   70000\n",
       "108             Ayesha   8  Female   60000\n",
       "109              Anant   9    Male  100000\n",
       "110          Shamiksha  10  Female   45000\n",
       "111           Prashant  11    Male   55000\n",
       "112             Mohini  12  Female   65000\n",
       "113              Priti  13  Female   71000"
      ]
     },
     "execution_count": 109,
     "metadata": {},
     "output_type": "execute_result"
    }
   ],
   "source": [
    "df1.loc[113] = ['Priti', 13, 'Female', 71000]\n",
    "df1"
   ]
  },
  {
   "cell_type": "code",
   "execution_count": 110,
   "id": "c9f07213",
   "metadata": {},
   "outputs": [
    {
     "data": {
      "text/html": [
       "<div>\n",
       "<style scoped>\n",
       "    .dataframe tbody tr th:only-of-type {\n",
       "        vertical-align: middle;\n",
       "    }\n",
       "\n",
       "    .dataframe tbody tr th {\n",
       "        vertical-align: top;\n",
       "    }\n",
       "\n",
       "    .dataframe thead th {\n",
       "        text-align: right;\n",
       "    }\n",
       "</style>\n",
       "<table border=\"1\" class=\"dataframe\">\n",
       "  <thead>\n",
       "    <tr style=\"text-align: right;\">\n",
       "      <th></th>\n",
       "      <th>Name</th>\n",
       "      <th>ID</th>\n",
       "      <th>Gender</th>\n",
       "      <th>Salary</th>\n",
       "      <th>Age</th>\n",
       "    </tr>\n",
       "    <tr>\n",
       "      <th>Employee_ID</th>\n",
       "      <th></th>\n",
       "      <th></th>\n",
       "      <th></th>\n",
       "      <th></th>\n",
       "      <th></th>\n",
       "    </tr>\n",
       "  </thead>\n",
       "  <tbody>\n",
       "    <tr>\n",
       "      <th>101</th>\n",
       "      <td>Utkarsh</td>\n",
       "      <td>1</td>\n",
       "      <td>Male</td>\n",
       "      <td>95000</td>\n",
       "      <td>45</td>\n",
       "    </tr>\n",
       "    <tr>\n",
       "      <th>102</th>\n",
       "      <td>Kartik</td>\n",
       "      <td>2</td>\n",
       "      <td>Male</td>\n",
       "      <td>85000</td>\n",
       "      <td>38</td>\n",
       "    </tr>\n",
       "    <tr>\n",
       "      <th>103</th>\n",
       "      <td>Aishwarya</td>\n",
       "      <td>3</td>\n",
       "      <td>Female</td>\n",
       "      <td>75000</td>\n",
       "      <td>47</td>\n",
       "    </tr>\n",
       "    <tr>\n",
       "      <th>104</th>\n",
       "      <td>Anand</td>\n",
       "      <td>4</td>\n",
       "      <td>Male</td>\n",
       "      <td>65000</td>\n",
       "      <td>29</td>\n",
       "    </tr>\n",
       "    <tr>\n",
       "      <th>105</th>\n",
       "      <td>Shalini</td>\n",
       "      <td>5</td>\n",
       "      <td>Female</td>\n",
       "      <td>90000</td>\n",
       "      <td>35</td>\n",
       "    </tr>\n",
       "    <tr>\n",
       "      <th>106</th>\n",
       "      <td>Pratik</td>\n",
       "      <td>6</td>\n",
       "      <td>Male</td>\n",
       "      <td>80000</td>\n",
       "      <td>34</td>\n",
       "    </tr>\n",
       "    <tr>\n",
       "      <th>107</th>\n",
       "      <td>Monalika</td>\n",
       "      <td>7</td>\n",
       "      <td>Female</td>\n",
       "      <td>70000</td>\n",
       "      <td>37</td>\n",
       "    </tr>\n",
       "    <tr>\n",
       "      <th>108</th>\n",
       "      <td>Ayesha</td>\n",
       "      <td>8</td>\n",
       "      <td>Female</td>\n",
       "      <td>60000</td>\n",
       "      <td>29</td>\n",
       "    </tr>\n",
       "    <tr>\n",
       "      <th>109</th>\n",
       "      <td>Anant</td>\n",
       "      <td>9</td>\n",
       "      <td>Male</td>\n",
       "      <td>100000</td>\n",
       "      <td>32</td>\n",
       "    </tr>\n",
       "    <tr>\n",
       "      <th>110</th>\n",
       "      <td>Shamiksha</td>\n",
       "      <td>10</td>\n",
       "      <td>Female</td>\n",
       "      <td>45000</td>\n",
       "      <td>47</td>\n",
       "    </tr>\n",
       "    <tr>\n",
       "      <th>111</th>\n",
       "      <td>Prashant</td>\n",
       "      <td>11</td>\n",
       "      <td>Male</td>\n",
       "      <td>55000</td>\n",
       "      <td>41</td>\n",
       "    </tr>\n",
       "    <tr>\n",
       "      <th>112</th>\n",
       "      <td>Mohini</td>\n",
       "      <td>12</td>\n",
       "      <td>Female</td>\n",
       "      <td>65000</td>\n",
       "      <td>41</td>\n",
       "    </tr>\n",
       "    <tr>\n",
       "      <th>113</th>\n",
       "      <td>Priti</td>\n",
       "      <td>13</td>\n",
       "      <td>Female</td>\n",
       "      <td>71000</td>\n",
       "      <td>47</td>\n",
       "    </tr>\n",
       "  </tbody>\n",
       "</table>\n",
       "</div>"
      ],
      "text/plain": [
       "                  Name  ID  Gender  Salary  Age\n",
       "Employee_ID                                    \n",
       "101            Utkarsh   1    Male   95000   45\n",
       "102             Kartik   2    Male   85000   38\n",
       "103          Aishwarya   3  Female   75000   47\n",
       "104              Anand   4    Male   65000   29\n",
       "105            Shalini   5  Female   90000   35\n",
       "106             Pratik   6    Male   80000   34\n",
       "107           Monalika   7  Female   70000   37\n",
       "108             Ayesha   8  Female   60000   29\n",
       "109              Anant   9    Male  100000   32\n",
       "110          Shamiksha  10  Female   45000   47\n",
       "111           Prashant  11    Male   55000   41\n",
       "112             Mohini  12  Female   65000   41\n",
       "113              Priti  13  Female   71000   47"
      ]
     },
     "execution_count": 110,
     "metadata": {},
     "output_type": "execute_result"
    }
   ],
   "source": [
    "df1['Age'] = np.random.randint(25,50,13)\n",
    "df1"
   ]
  },
  {
   "cell_type": "code",
   "execution_count": 111,
   "id": "c72a703a",
   "metadata": {},
   "outputs": [
    {
     "data": {
      "text/html": [
       "<div>\n",
       "<style scoped>\n",
       "    .dataframe tbody tr th:only-of-type {\n",
       "        vertical-align: middle;\n",
       "    }\n",
       "\n",
       "    .dataframe tbody tr th {\n",
       "        vertical-align: top;\n",
       "    }\n",
       "\n",
       "    .dataframe thead th {\n",
       "        text-align: right;\n",
       "    }\n",
       "</style>\n",
       "<table border=\"1\" class=\"dataframe\">\n",
       "  <thead>\n",
       "    <tr style=\"text-align: right;\">\n",
       "      <th></th>\n",
       "      <th>Name</th>\n",
       "      <th>ID</th>\n",
       "      <th>Gender</th>\n",
       "      <th>Salary</th>\n",
       "      <th>Age</th>\n",
       "    </tr>\n",
       "    <tr>\n",
       "      <th>Employee_ID</th>\n",
       "      <th></th>\n",
       "      <th></th>\n",
       "      <th></th>\n",
       "      <th></th>\n",
       "      <th></th>\n",
       "    </tr>\n",
       "  </thead>\n",
       "  <tbody>\n",
       "    <tr>\n",
       "      <th>101</th>\n",
       "      <td>Utkarsh</td>\n",
       "      <td>1</td>\n",
       "      <td>Male</td>\n",
       "      <td>95000</td>\n",
       "      <td>45</td>\n",
       "    </tr>\n",
       "    <tr>\n",
       "      <th>102</th>\n",
       "      <td>Kartik</td>\n",
       "      <td>2</td>\n",
       "      <td>Male</td>\n",
       "      <td>85000</td>\n",
       "      <td>38</td>\n",
       "    </tr>\n",
       "    <tr>\n",
       "      <th>103</th>\n",
       "      <td>Aishwarya</td>\n",
       "      <td>3</td>\n",
       "      <td>Female</td>\n",
       "      <td>75000</td>\n",
       "      <td>47</td>\n",
       "    </tr>\n",
       "    <tr>\n",
       "      <th>104</th>\n",
       "      <td>Anand</td>\n",
       "      <td>4</td>\n",
       "      <td>Male</td>\n",
       "      <td>65000</td>\n",
       "      <td>29</td>\n",
       "    </tr>\n",
       "    <tr>\n",
       "      <th>105</th>\n",
       "      <td>Shalini</td>\n",
       "      <td>5</td>\n",
       "      <td>Female</td>\n",
       "      <td>90000</td>\n",
       "      <td>35</td>\n",
       "    </tr>\n",
       "    <tr>\n",
       "      <th>106</th>\n",
       "      <td>Pratik</td>\n",
       "      <td>6</td>\n",
       "      <td>Male</td>\n",
       "      <td>80000</td>\n",
       "      <td>34</td>\n",
       "    </tr>\n",
       "    <tr>\n",
       "      <th>107</th>\n",
       "      <td>Monalika</td>\n",
       "      <td>7</td>\n",
       "      <td>Female</td>\n",
       "      <td>70000</td>\n",
       "      <td>37</td>\n",
       "    </tr>\n",
       "    <tr>\n",
       "      <th>108</th>\n",
       "      <td>Ayesha</td>\n",
       "      <td>8</td>\n",
       "      <td>Female</td>\n",
       "      <td>60000</td>\n",
       "      <td>29</td>\n",
       "    </tr>\n",
       "    <tr>\n",
       "      <th>109</th>\n",
       "      <td>Anant</td>\n",
       "      <td>9</td>\n",
       "      <td>Male</td>\n",
       "      <td>100000</td>\n",
       "      <td>32</td>\n",
       "    </tr>\n",
       "    <tr>\n",
       "      <th>110</th>\n",
       "      <td>Shamiksha</td>\n",
       "      <td>10</td>\n",
       "      <td>Female</td>\n",
       "      <td>45000</td>\n",
       "      <td>47</td>\n",
       "    </tr>\n",
       "    <tr>\n",
       "      <th>111</th>\n",
       "      <td>Prashant</td>\n",
       "      <td>11</td>\n",
       "      <td>Male</td>\n",
       "      <td>55000</td>\n",
       "      <td>41</td>\n",
       "    </tr>\n",
       "    <tr>\n",
       "      <th>112</th>\n",
       "      <td>Mohini</td>\n",
       "      <td>12</td>\n",
       "      <td>Female</td>\n",
       "      <td>65000</td>\n",
       "      <td>41</td>\n",
       "    </tr>\n",
       "  </tbody>\n",
       "</table>\n",
       "</div>"
      ],
      "text/plain": [
       "                  Name  ID  Gender  Salary  Age\n",
       "Employee_ID                                    \n",
       "101            Utkarsh   1    Male   95000   45\n",
       "102             Kartik   2    Male   85000   38\n",
       "103          Aishwarya   3  Female   75000   47\n",
       "104              Anand   4    Male   65000   29\n",
       "105            Shalini   5  Female   90000   35\n",
       "106             Pratik   6    Male   80000   34\n",
       "107           Monalika   7  Female   70000   37\n",
       "108             Ayesha   8  Female   60000   29\n",
       "109              Anant   9    Male  100000   32\n",
       "110          Shamiksha  10  Female   45000   47\n",
       "111           Prashant  11    Male   55000   41\n",
       "112             Mohini  12  Female   65000   41"
      ]
     },
     "execution_count": 111,
     "metadata": {},
     "output_type": "execute_result"
    }
   ],
   "source": [
    "df1.drop(113, inplace = True, axis = 0)   # Dropping a row, axis = 0\n",
    "df1"
   ]
  },
  {
   "cell_type": "code",
   "execution_count": 112,
   "id": "f1d3be6d",
   "metadata": {},
   "outputs": [
    {
     "data": {
      "text/html": [
       "<div>\n",
       "<style scoped>\n",
       "    .dataframe tbody tr th:only-of-type {\n",
       "        vertical-align: middle;\n",
       "    }\n",
       "\n",
       "    .dataframe tbody tr th {\n",
       "        vertical-align: top;\n",
       "    }\n",
       "\n",
       "    .dataframe thead th {\n",
       "        text-align: right;\n",
       "    }\n",
       "</style>\n",
       "<table border=\"1\" class=\"dataframe\">\n",
       "  <thead>\n",
       "    <tr style=\"text-align: right;\">\n",
       "      <th></th>\n",
       "      <th>Name</th>\n",
       "      <th>ID</th>\n",
       "      <th>Gender</th>\n",
       "      <th>Salary</th>\n",
       "      <th>Age</th>\n",
       "      <th>City</th>\n",
       "    </tr>\n",
       "    <tr>\n",
       "      <th>Employee_ID</th>\n",
       "      <th></th>\n",
       "      <th></th>\n",
       "      <th></th>\n",
       "      <th></th>\n",
       "      <th></th>\n",
       "      <th></th>\n",
       "    </tr>\n",
       "  </thead>\n",
       "  <tbody>\n",
       "    <tr>\n",
       "      <th>101</th>\n",
       "      <td>Utkarsh</td>\n",
       "      <td>1</td>\n",
       "      <td>Male</td>\n",
       "      <td>95000</td>\n",
       "      <td>45</td>\n",
       "      <td>Jaipur</td>\n",
       "    </tr>\n",
       "    <tr>\n",
       "      <th>102</th>\n",
       "      <td>Kartik</td>\n",
       "      <td>2</td>\n",
       "      <td>Male</td>\n",
       "      <td>85000</td>\n",
       "      <td>38</td>\n",
       "      <td>Jaipur</td>\n",
       "    </tr>\n",
       "    <tr>\n",
       "      <th>103</th>\n",
       "      <td>Aishwarya</td>\n",
       "      <td>3</td>\n",
       "      <td>Female</td>\n",
       "      <td>75000</td>\n",
       "      <td>47</td>\n",
       "      <td>Jaipur</td>\n",
       "    </tr>\n",
       "    <tr>\n",
       "      <th>104</th>\n",
       "      <td>Anand</td>\n",
       "      <td>4</td>\n",
       "      <td>Male</td>\n",
       "      <td>65000</td>\n",
       "      <td>29</td>\n",
       "      <td>Jaipur</td>\n",
       "    </tr>\n",
       "    <tr>\n",
       "      <th>105</th>\n",
       "      <td>Shalini</td>\n",
       "      <td>5</td>\n",
       "      <td>Female</td>\n",
       "      <td>90000</td>\n",
       "      <td>35</td>\n",
       "      <td>Jaipur</td>\n",
       "    </tr>\n",
       "    <tr>\n",
       "      <th>106</th>\n",
       "      <td>Pratik</td>\n",
       "      <td>6</td>\n",
       "      <td>Male</td>\n",
       "      <td>80000</td>\n",
       "      <td>34</td>\n",
       "      <td>Jaipur</td>\n",
       "    </tr>\n",
       "    <tr>\n",
       "      <th>107</th>\n",
       "      <td>Monalika</td>\n",
       "      <td>7</td>\n",
       "      <td>Female</td>\n",
       "      <td>70000</td>\n",
       "      <td>37</td>\n",
       "      <td>Jaipur</td>\n",
       "    </tr>\n",
       "    <tr>\n",
       "      <th>108</th>\n",
       "      <td>Ayesha</td>\n",
       "      <td>8</td>\n",
       "      <td>Female</td>\n",
       "      <td>60000</td>\n",
       "      <td>29</td>\n",
       "      <td>Jaipur</td>\n",
       "    </tr>\n",
       "    <tr>\n",
       "      <th>109</th>\n",
       "      <td>Anant</td>\n",
       "      <td>9</td>\n",
       "      <td>Male</td>\n",
       "      <td>100000</td>\n",
       "      <td>32</td>\n",
       "      <td>Jaipur</td>\n",
       "    </tr>\n",
       "    <tr>\n",
       "      <th>110</th>\n",
       "      <td>Shamiksha</td>\n",
       "      <td>10</td>\n",
       "      <td>Female</td>\n",
       "      <td>45000</td>\n",
       "      <td>47</td>\n",
       "      <td>Jaipur</td>\n",
       "    </tr>\n",
       "    <tr>\n",
       "      <th>111</th>\n",
       "      <td>Prashant</td>\n",
       "      <td>11</td>\n",
       "      <td>Male</td>\n",
       "      <td>55000</td>\n",
       "      <td>41</td>\n",
       "      <td>Jaipur</td>\n",
       "    </tr>\n",
       "    <tr>\n",
       "      <th>112</th>\n",
       "      <td>Mohini</td>\n",
       "      <td>12</td>\n",
       "      <td>Female</td>\n",
       "      <td>65000</td>\n",
       "      <td>41</td>\n",
       "      <td>Jaipur</td>\n",
       "    </tr>\n",
       "  </tbody>\n",
       "</table>\n",
       "</div>"
      ],
      "text/plain": [
       "                  Name  ID  Gender  Salary  Age    City\n",
       "Employee_ID                                            \n",
       "101            Utkarsh   1    Male   95000   45  Jaipur\n",
       "102             Kartik   2    Male   85000   38  Jaipur\n",
       "103          Aishwarya   3  Female   75000   47  Jaipur\n",
       "104              Anand   4    Male   65000   29  Jaipur\n",
       "105            Shalini   5  Female   90000   35  Jaipur\n",
       "106             Pratik   6    Male   80000   34  Jaipur\n",
       "107           Monalika   7  Female   70000   37  Jaipur\n",
       "108             Ayesha   8  Female   60000   29  Jaipur\n",
       "109              Anant   9    Male  100000   32  Jaipur\n",
       "110          Shamiksha  10  Female   45000   47  Jaipur\n",
       "111           Prashant  11    Male   55000   41  Jaipur\n",
       "112             Mohini  12  Female   65000   41  Jaipur"
      ]
     },
     "execution_count": 112,
     "metadata": {},
     "output_type": "execute_result"
    }
   ],
   "source": [
    "df1['City'] = 'Jaipur'\n",
    "df1"
   ]
  },
  {
   "cell_type": "code",
   "execution_count": 113,
   "id": "d4a560c4",
   "metadata": {},
   "outputs": [
    {
     "data": {
      "text/html": [
       "<div>\n",
       "<style scoped>\n",
       "    .dataframe tbody tr th:only-of-type {\n",
       "        vertical-align: middle;\n",
       "    }\n",
       "\n",
       "    .dataframe tbody tr th {\n",
       "        vertical-align: top;\n",
       "    }\n",
       "\n",
       "    .dataframe thead th {\n",
       "        text-align: right;\n",
       "    }\n",
       "</style>\n",
       "<table border=\"1\" class=\"dataframe\">\n",
       "  <thead>\n",
       "    <tr style=\"text-align: right;\">\n",
       "      <th></th>\n",
       "      <th>Name</th>\n",
       "      <th>ID</th>\n",
       "      <th>Gender</th>\n",
       "      <th>Salary</th>\n",
       "      <th>Age</th>\n",
       "    </tr>\n",
       "    <tr>\n",
       "      <th>Employee_ID</th>\n",
       "      <th></th>\n",
       "      <th></th>\n",
       "      <th></th>\n",
       "      <th></th>\n",
       "      <th></th>\n",
       "    </tr>\n",
       "  </thead>\n",
       "  <tbody>\n",
       "    <tr>\n",
       "      <th>101</th>\n",
       "      <td>Utkarsh</td>\n",
       "      <td>1</td>\n",
       "      <td>Male</td>\n",
       "      <td>95000</td>\n",
       "      <td>45</td>\n",
       "    </tr>\n",
       "    <tr>\n",
       "      <th>102</th>\n",
       "      <td>Kartik</td>\n",
       "      <td>2</td>\n",
       "      <td>Male</td>\n",
       "      <td>85000</td>\n",
       "      <td>38</td>\n",
       "    </tr>\n",
       "    <tr>\n",
       "      <th>103</th>\n",
       "      <td>Aishwarya</td>\n",
       "      <td>3</td>\n",
       "      <td>Female</td>\n",
       "      <td>75000</td>\n",
       "      <td>47</td>\n",
       "    </tr>\n",
       "    <tr>\n",
       "      <th>104</th>\n",
       "      <td>Anand</td>\n",
       "      <td>4</td>\n",
       "      <td>Male</td>\n",
       "      <td>65000</td>\n",
       "      <td>29</td>\n",
       "    </tr>\n",
       "    <tr>\n",
       "      <th>105</th>\n",
       "      <td>Shalini</td>\n",
       "      <td>5</td>\n",
       "      <td>Female</td>\n",
       "      <td>90000</td>\n",
       "      <td>35</td>\n",
       "    </tr>\n",
       "    <tr>\n",
       "      <th>106</th>\n",
       "      <td>Pratik</td>\n",
       "      <td>6</td>\n",
       "      <td>Male</td>\n",
       "      <td>80000</td>\n",
       "      <td>34</td>\n",
       "    </tr>\n",
       "    <tr>\n",
       "      <th>107</th>\n",
       "      <td>Monalika</td>\n",
       "      <td>7</td>\n",
       "      <td>Female</td>\n",
       "      <td>70000</td>\n",
       "      <td>37</td>\n",
       "    </tr>\n",
       "    <tr>\n",
       "      <th>108</th>\n",
       "      <td>Ayesha</td>\n",
       "      <td>8</td>\n",
       "      <td>Female</td>\n",
       "      <td>60000</td>\n",
       "      <td>29</td>\n",
       "    </tr>\n",
       "    <tr>\n",
       "      <th>109</th>\n",
       "      <td>Anant</td>\n",
       "      <td>9</td>\n",
       "      <td>Male</td>\n",
       "      <td>100000</td>\n",
       "      <td>32</td>\n",
       "    </tr>\n",
       "    <tr>\n",
       "      <th>110</th>\n",
       "      <td>Shamiksha</td>\n",
       "      <td>10</td>\n",
       "      <td>Female</td>\n",
       "      <td>45000</td>\n",
       "      <td>47</td>\n",
       "    </tr>\n",
       "    <tr>\n",
       "      <th>111</th>\n",
       "      <td>Prashant</td>\n",
       "      <td>11</td>\n",
       "      <td>Male</td>\n",
       "      <td>55000</td>\n",
       "      <td>41</td>\n",
       "    </tr>\n",
       "    <tr>\n",
       "      <th>112</th>\n",
       "      <td>Mohini</td>\n",
       "      <td>12</td>\n",
       "      <td>Female</td>\n",
       "      <td>65000</td>\n",
       "      <td>41</td>\n",
       "    </tr>\n",
       "  </tbody>\n",
       "</table>\n",
       "</div>"
      ],
      "text/plain": [
       "                  Name  ID  Gender  Salary  Age\n",
       "Employee_ID                                    \n",
       "101            Utkarsh   1    Male   95000   45\n",
       "102             Kartik   2    Male   85000   38\n",
       "103          Aishwarya   3  Female   75000   47\n",
       "104              Anand   4    Male   65000   29\n",
       "105            Shalini   5  Female   90000   35\n",
       "106             Pratik   6    Male   80000   34\n",
       "107           Monalika   7  Female   70000   37\n",
       "108             Ayesha   8  Female   60000   29\n",
       "109              Anant   9    Male  100000   32\n",
       "110          Shamiksha  10  Female   45000   47\n",
       "111           Prashant  11    Male   55000   41\n",
       "112             Mohini  12  Female   65000   41"
      ]
     },
     "execution_count": 113,
     "metadata": {},
     "output_type": "execute_result"
    }
   ],
   "source": [
    "df1.drop('City', inplace = True, axis = 1)   # Dropping a column, axis = 1\n",
    "df1"
   ]
  },
  {
   "cell_type": "code",
   "execution_count": 114,
   "id": "a5b4175e",
   "metadata": {},
   "outputs": [
    {
     "data": {
      "text/html": [
       "<div>\n",
       "<style scoped>\n",
       "    .dataframe tbody tr th:only-of-type {\n",
       "        vertical-align: middle;\n",
       "    }\n",
       "\n",
       "    .dataframe tbody tr th {\n",
       "        vertical-align: top;\n",
       "    }\n",
       "\n",
       "    .dataframe thead th {\n",
       "        text-align: right;\n",
       "    }\n",
       "</style>\n",
       "<table border=\"1\" class=\"dataframe\">\n",
       "  <thead>\n",
       "    <tr style=\"text-align: right;\">\n",
       "      <th></th>\n",
       "      <th>Name</th>\n",
       "      <th>ID</th>\n",
       "      <th>Gender</th>\n",
       "      <th>Salary</th>\n",
       "      <th>Age</th>\n",
       "    </tr>\n",
       "    <tr>\n",
       "      <th>Employee_ID</th>\n",
       "      <th></th>\n",
       "      <th></th>\n",
       "      <th></th>\n",
       "      <th></th>\n",
       "      <th></th>\n",
       "    </tr>\n",
       "  </thead>\n",
       "  <tbody>\n",
       "    <tr>\n",
       "      <th>101</th>\n",
       "      <td>Utkarsh</td>\n",
       "      <td>1</td>\n",
       "      <td>Male</td>\n",
       "      <td>200000</td>\n",
       "      <td>45</td>\n",
       "    </tr>\n",
       "    <tr>\n",
       "      <th>102</th>\n",
       "      <td>Kartik</td>\n",
       "      <td>2</td>\n",
       "      <td>Male</td>\n",
       "      <td>85000</td>\n",
       "      <td>38</td>\n",
       "    </tr>\n",
       "    <tr>\n",
       "      <th>103</th>\n",
       "      <td>Aishwarya</td>\n",
       "      <td>3</td>\n",
       "      <td>Female</td>\n",
       "      <td>75000</td>\n",
       "      <td>47</td>\n",
       "    </tr>\n",
       "    <tr>\n",
       "      <th>104</th>\n",
       "      <td>Anand</td>\n",
       "      <td>4</td>\n",
       "      <td>Male</td>\n",
       "      <td>65000</td>\n",
       "      <td>29</td>\n",
       "    </tr>\n",
       "    <tr>\n",
       "      <th>105</th>\n",
       "      <td>Shalini</td>\n",
       "      <td>5</td>\n",
       "      <td>Female</td>\n",
       "      <td>90000</td>\n",
       "      <td>35</td>\n",
       "    </tr>\n",
       "    <tr>\n",
       "      <th>106</th>\n",
       "      <td>Pratik</td>\n",
       "      <td>6</td>\n",
       "      <td>Male</td>\n",
       "      <td>80000</td>\n",
       "      <td>34</td>\n",
       "    </tr>\n",
       "    <tr>\n",
       "      <th>107</th>\n",
       "      <td>Monalika</td>\n",
       "      <td>7</td>\n",
       "      <td>Female</td>\n",
       "      <td>70000</td>\n",
       "      <td>37</td>\n",
       "    </tr>\n",
       "    <tr>\n",
       "      <th>108</th>\n",
       "      <td>Ayesha</td>\n",
       "      <td>8</td>\n",
       "      <td>Female</td>\n",
       "      <td>60000</td>\n",
       "      <td>29</td>\n",
       "    </tr>\n",
       "    <tr>\n",
       "      <th>109</th>\n",
       "      <td>Anant</td>\n",
       "      <td>9</td>\n",
       "      <td>Male</td>\n",
       "      <td>100000</td>\n",
       "      <td>32</td>\n",
       "    </tr>\n",
       "    <tr>\n",
       "      <th>110</th>\n",
       "      <td>Shamiksha</td>\n",
       "      <td>10</td>\n",
       "      <td>Female</td>\n",
       "      <td>45000</td>\n",
       "      <td>47</td>\n",
       "    </tr>\n",
       "    <tr>\n",
       "      <th>111</th>\n",
       "      <td>Prashant</td>\n",
       "      <td>11</td>\n",
       "      <td>Male</td>\n",
       "      <td>55000</td>\n",
       "      <td>41</td>\n",
       "    </tr>\n",
       "    <tr>\n",
       "      <th>112</th>\n",
       "      <td>Mohini</td>\n",
       "      <td>12</td>\n",
       "      <td>Female</td>\n",
       "      <td>65000</td>\n",
       "      <td>41</td>\n",
       "    </tr>\n",
       "  </tbody>\n",
       "</table>\n",
       "</div>"
      ],
      "text/plain": [
       "                  Name  ID  Gender  Salary  Age\n",
       "Employee_ID                                    \n",
       "101            Utkarsh   1    Male  200000   45\n",
       "102             Kartik   2    Male   85000   38\n",
       "103          Aishwarya   3  Female   75000   47\n",
       "104              Anand   4    Male   65000   29\n",
       "105            Shalini   5  Female   90000   35\n",
       "106             Pratik   6    Male   80000   34\n",
       "107           Monalika   7  Female   70000   37\n",
       "108             Ayesha   8  Female   60000   29\n",
       "109              Anant   9    Male  100000   32\n",
       "110          Shamiksha  10  Female   45000   47\n",
       "111           Prashant  11    Male   55000   41\n",
       "112             Mohini  12  Female   65000   41"
      ]
     },
     "execution_count": 114,
     "metadata": {},
     "output_type": "execute_result"
    }
   ],
   "source": [
    "df1.loc[101, 'Salary'] = 200000\n",
    "df1"
   ]
  },
  {
   "cell_type": "code",
   "execution_count": 115,
   "id": "0d14076c",
   "metadata": {},
   "outputs": [
    {
     "data": {
      "text/html": [
       "<div>\n",
       "<style scoped>\n",
       "    .dataframe tbody tr th:only-of-type {\n",
       "        vertical-align: middle;\n",
       "    }\n",
       "\n",
       "    .dataframe tbody tr th {\n",
       "        vertical-align: top;\n",
       "    }\n",
       "\n",
       "    .dataframe thead th {\n",
       "        text-align: right;\n",
       "    }\n",
       "</style>\n",
       "<table border=\"1\" class=\"dataframe\">\n",
       "  <thead>\n",
       "    <tr style=\"text-align: right;\">\n",
       "      <th></th>\n",
       "      <th>Name</th>\n",
       "      <th>ID</th>\n",
       "      <th>Gender</th>\n",
       "      <th>Salary</th>\n",
       "      <th>Age</th>\n",
       "    </tr>\n",
       "    <tr>\n",
       "      <th>Employee_ID</th>\n",
       "      <th></th>\n",
       "      <th></th>\n",
       "      <th></th>\n",
       "      <th></th>\n",
       "      <th></th>\n",
       "    </tr>\n",
       "  </thead>\n",
       "  <tbody>\n",
       "    <tr>\n",
       "      <th>101</th>\n",
       "      <td>Utkarsh</td>\n",
       "      <td>1</td>\n",
       "      <td>Male</td>\n",
       "      <td>200000</td>\n",
       "      <td>45</td>\n",
       "    </tr>\n",
       "    <tr>\n",
       "      <th>102</th>\n",
       "      <td>Kartik</td>\n",
       "      <td>2</td>\n",
       "      <td>Male</td>\n",
       "      <td>80000</td>\n",
       "      <td>38</td>\n",
       "    </tr>\n",
       "    <tr>\n",
       "      <th>103</th>\n",
       "      <td>Aishwarya</td>\n",
       "      <td>3</td>\n",
       "      <td>Female</td>\n",
       "      <td>90000</td>\n",
       "      <td>47</td>\n",
       "    </tr>\n",
       "    <tr>\n",
       "      <th>104</th>\n",
       "      <td>Anand</td>\n",
       "      <td>4</td>\n",
       "      <td>Male</td>\n",
       "      <td>65000</td>\n",
       "      <td>29</td>\n",
       "    </tr>\n",
       "    <tr>\n",
       "      <th>105</th>\n",
       "      <td>Shalini</td>\n",
       "      <td>5</td>\n",
       "      <td>Female</td>\n",
       "      <td>90000</td>\n",
       "      <td>35</td>\n",
       "    </tr>\n",
       "    <tr>\n",
       "      <th>106</th>\n",
       "      <td>Pratik</td>\n",
       "      <td>6</td>\n",
       "      <td>Male</td>\n",
       "      <td>80000</td>\n",
       "      <td>34</td>\n",
       "    </tr>\n",
       "    <tr>\n",
       "      <th>107</th>\n",
       "      <td>Monalika</td>\n",
       "      <td>7</td>\n",
       "      <td>Female</td>\n",
       "      <td>70000</td>\n",
       "      <td>37</td>\n",
       "    </tr>\n",
       "    <tr>\n",
       "      <th>108</th>\n",
       "      <td>Ayesha</td>\n",
       "      <td>8</td>\n",
       "      <td>Female</td>\n",
       "      <td>60000</td>\n",
       "      <td>29</td>\n",
       "    </tr>\n",
       "    <tr>\n",
       "      <th>109</th>\n",
       "      <td>Anant</td>\n",
       "      <td>9</td>\n",
       "      <td>Male</td>\n",
       "      <td>100000</td>\n",
       "      <td>32</td>\n",
       "    </tr>\n",
       "    <tr>\n",
       "      <th>110</th>\n",
       "      <td>Shamiksha</td>\n",
       "      <td>10</td>\n",
       "      <td>Female</td>\n",
       "      <td>45000</td>\n",
       "      <td>47</td>\n",
       "    </tr>\n",
       "    <tr>\n",
       "      <th>111</th>\n",
       "      <td>Prashant</td>\n",
       "      <td>11</td>\n",
       "      <td>Male</td>\n",
       "      <td>55000</td>\n",
       "      <td>41</td>\n",
       "    </tr>\n",
       "    <tr>\n",
       "      <th>112</th>\n",
       "      <td>Mohini</td>\n",
       "      <td>12</td>\n",
       "      <td>Female</td>\n",
       "      <td>65000</td>\n",
       "      <td>41</td>\n",
       "    </tr>\n",
       "  </tbody>\n",
       "</table>\n",
       "</div>"
      ],
      "text/plain": [
       "                  Name  ID  Gender  Salary  Age\n",
       "Employee_ID                                    \n",
       "101            Utkarsh   1    Male  200000   45\n",
       "102             Kartik   2    Male   80000   38\n",
       "103          Aishwarya   3  Female   90000   47\n",
       "104              Anand   4    Male   65000   29\n",
       "105            Shalini   5  Female   90000   35\n",
       "106             Pratik   6    Male   80000   34\n",
       "107           Monalika   7  Female   70000   37\n",
       "108             Ayesha   8  Female   60000   29\n",
       "109              Anant   9    Male  100000   32\n",
       "110          Shamiksha  10  Female   45000   47\n",
       "111           Prashant  11    Male   55000   41\n",
       "112             Mohini  12  Female   65000   41"
      ]
     },
     "execution_count": 115,
     "metadata": {},
     "output_type": "execute_result"
    }
   ],
   "source": [
    "df1.loc[[102,103], 'Salary'] = [80000, 90000]\n",
    "df1"
   ]
  },
  {
   "cell_type": "markdown",
   "id": "250dfc58",
   "metadata": {},
   "source": [
    "## Querying Based on Condition"
   ]
  },
  {
   "cell_type": "code",
   "execution_count": 116,
   "id": "bde83c98",
   "metadata": {},
   "outputs": [
    {
     "data": {
      "text/plain": [
       "Employee_ID\n",
       "101     True\n",
       "102    False\n",
       "103     True\n",
       "104    False\n",
       "105    False\n",
       "106    False\n",
       "107    False\n",
       "108    False\n",
       "109    False\n",
       "110     True\n",
       "111     True\n",
       "112     True\n",
       "Name: Age, dtype: bool"
      ]
     },
     "execution_count": 116,
     "metadata": {},
     "output_type": "execute_result"
    }
   ],
   "source": [
    "df1.Age > 40"
   ]
  },
  {
   "cell_type": "code",
   "execution_count": 117,
   "id": "68ec0818",
   "metadata": {},
   "outputs": [
    {
     "data": {
      "text/html": [
       "<div>\n",
       "<style scoped>\n",
       "    .dataframe tbody tr th:only-of-type {\n",
       "        vertical-align: middle;\n",
       "    }\n",
       "\n",
       "    .dataframe tbody tr th {\n",
       "        vertical-align: top;\n",
       "    }\n",
       "\n",
       "    .dataframe thead th {\n",
       "        text-align: right;\n",
       "    }\n",
       "</style>\n",
       "<table border=\"1\" class=\"dataframe\">\n",
       "  <thead>\n",
       "    <tr style=\"text-align: right;\">\n",
       "      <th></th>\n",
       "      <th>Name</th>\n",
       "      <th>ID</th>\n",
       "      <th>Gender</th>\n",
       "      <th>Salary</th>\n",
       "      <th>Age</th>\n",
       "    </tr>\n",
       "    <tr>\n",
       "      <th>Employee_ID</th>\n",
       "      <th></th>\n",
       "      <th></th>\n",
       "      <th></th>\n",
       "      <th></th>\n",
       "      <th></th>\n",
       "    </tr>\n",
       "  </thead>\n",
       "  <tbody>\n",
       "    <tr>\n",
       "      <th>101</th>\n",
       "      <td>Utkarsh</td>\n",
       "      <td>1</td>\n",
       "      <td>Male</td>\n",
       "      <td>200000</td>\n",
       "      <td>45</td>\n",
       "    </tr>\n",
       "    <tr>\n",
       "      <th>103</th>\n",
       "      <td>Aishwarya</td>\n",
       "      <td>3</td>\n",
       "      <td>Female</td>\n",
       "      <td>90000</td>\n",
       "      <td>47</td>\n",
       "    </tr>\n",
       "    <tr>\n",
       "      <th>110</th>\n",
       "      <td>Shamiksha</td>\n",
       "      <td>10</td>\n",
       "      <td>Female</td>\n",
       "      <td>45000</td>\n",
       "      <td>47</td>\n",
       "    </tr>\n",
       "    <tr>\n",
       "      <th>111</th>\n",
       "      <td>Prashant</td>\n",
       "      <td>11</td>\n",
       "      <td>Male</td>\n",
       "      <td>55000</td>\n",
       "      <td>41</td>\n",
       "    </tr>\n",
       "    <tr>\n",
       "      <th>112</th>\n",
       "      <td>Mohini</td>\n",
       "      <td>12</td>\n",
       "      <td>Female</td>\n",
       "      <td>65000</td>\n",
       "      <td>41</td>\n",
       "    </tr>\n",
       "  </tbody>\n",
       "</table>\n",
       "</div>"
      ],
      "text/plain": [
       "                  Name  ID  Gender  Salary  Age\n",
       "Employee_ID                                    \n",
       "101            Utkarsh   1    Male  200000   45\n",
       "103          Aishwarya   3  Female   90000   47\n",
       "110          Shamiksha  10  Female   45000   47\n",
       "111           Prashant  11    Male   55000   41\n",
       "112             Mohini  12  Female   65000   41"
      ]
     },
     "execution_count": 117,
     "metadata": {},
     "output_type": "execute_result"
    }
   ],
   "source": [
    "df1[df1.Age > 40]"
   ]
  },
  {
   "cell_type": "code",
   "execution_count": 118,
   "id": "2fb705ca",
   "metadata": {},
   "outputs": [
    {
     "data": {
      "text/html": [
       "<div>\n",
       "<style scoped>\n",
       "    .dataframe tbody tr th:only-of-type {\n",
       "        vertical-align: middle;\n",
       "    }\n",
       "\n",
       "    .dataframe tbody tr th {\n",
       "        vertical-align: top;\n",
       "    }\n",
       "\n",
       "    .dataframe thead th {\n",
       "        text-align: right;\n",
       "    }\n",
       "</style>\n",
       "<table border=\"1\" class=\"dataframe\">\n",
       "  <thead>\n",
       "    <tr style=\"text-align: right;\">\n",
       "      <th></th>\n",
       "      <th>Name</th>\n",
       "      <th>Age</th>\n",
       "      <th>Salary</th>\n",
       "    </tr>\n",
       "    <tr>\n",
       "      <th>Employee_ID</th>\n",
       "      <th></th>\n",
       "      <th></th>\n",
       "      <th></th>\n",
       "    </tr>\n",
       "  </thead>\n",
       "  <tbody>\n",
       "    <tr>\n",
       "      <th>101</th>\n",
       "      <td>Utkarsh</td>\n",
       "      <td>45</td>\n",
       "      <td>200000</td>\n",
       "    </tr>\n",
       "    <tr>\n",
       "      <th>103</th>\n",
       "      <td>Aishwarya</td>\n",
       "      <td>47</td>\n",
       "      <td>90000</td>\n",
       "    </tr>\n",
       "    <tr>\n",
       "      <th>110</th>\n",
       "      <td>Shamiksha</td>\n",
       "      <td>47</td>\n",
       "      <td>45000</td>\n",
       "    </tr>\n",
       "    <tr>\n",
       "      <th>111</th>\n",
       "      <td>Prashant</td>\n",
       "      <td>41</td>\n",
       "      <td>55000</td>\n",
       "    </tr>\n",
       "    <tr>\n",
       "      <th>112</th>\n",
       "      <td>Mohini</td>\n",
       "      <td>41</td>\n",
       "      <td>65000</td>\n",
       "    </tr>\n",
       "  </tbody>\n",
       "</table>\n",
       "</div>"
      ],
      "text/plain": [
       "                  Name  Age  Salary\n",
       "Employee_ID                        \n",
       "101            Utkarsh   45  200000\n",
       "103          Aishwarya   47   90000\n",
       "110          Shamiksha   47   45000\n",
       "111           Prashant   41   55000\n",
       "112             Mohini   41   65000"
      ]
     },
     "execution_count": 118,
     "metadata": {},
     "output_type": "execute_result"
    }
   ],
   "source": [
    "df1[df1.Age > 40][['Name', 'Age', 'Salary']]"
   ]
  },
  {
   "cell_type": "code",
   "execution_count": 119,
   "id": "2a7fbc51",
   "metadata": {},
   "outputs": [
    {
     "data": {
      "text/html": [
       "<div>\n",
       "<style scoped>\n",
       "    .dataframe tbody tr th:only-of-type {\n",
       "        vertical-align: middle;\n",
       "    }\n",
       "\n",
       "    .dataframe tbody tr th {\n",
       "        vertical-align: top;\n",
       "    }\n",
       "\n",
       "    .dataframe thead th {\n",
       "        text-align: right;\n",
       "    }\n",
       "</style>\n",
       "<table border=\"1\" class=\"dataframe\">\n",
       "  <thead>\n",
       "    <tr style=\"text-align: right;\">\n",
       "      <th></th>\n",
       "      <th>Name</th>\n",
       "      <th>ID</th>\n",
       "      <th>Gender</th>\n",
       "      <th>Salary</th>\n",
       "      <th>Age</th>\n",
       "    </tr>\n",
       "    <tr>\n",
       "      <th>Employee_ID</th>\n",
       "      <th></th>\n",
       "      <th></th>\n",
       "      <th></th>\n",
       "      <th></th>\n",
       "      <th></th>\n",
       "    </tr>\n",
       "  </thead>\n",
       "  <tbody>\n",
       "    <tr>\n",
       "      <th>104</th>\n",
       "      <td>Anand</td>\n",
       "      <td>4</td>\n",
       "      <td>Male</td>\n",
       "      <td>65000</td>\n",
       "      <td>29</td>\n",
       "    </tr>\n",
       "    <tr>\n",
       "      <th>108</th>\n",
       "      <td>Ayesha</td>\n",
       "      <td>8</td>\n",
       "      <td>Female</td>\n",
       "      <td>60000</td>\n",
       "      <td>29</td>\n",
       "    </tr>\n",
       "    <tr>\n",
       "      <th>110</th>\n",
       "      <td>Shamiksha</td>\n",
       "      <td>10</td>\n",
       "      <td>Female</td>\n",
       "      <td>45000</td>\n",
       "      <td>47</td>\n",
       "    </tr>\n",
       "    <tr>\n",
       "      <th>111</th>\n",
       "      <td>Prashant</td>\n",
       "      <td>11</td>\n",
       "      <td>Male</td>\n",
       "      <td>55000</td>\n",
       "      <td>41</td>\n",
       "    </tr>\n",
       "    <tr>\n",
       "      <th>112</th>\n",
       "      <td>Mohini</td>\n",
       "      <td>12</td>\n",
       "      <td>Female</td>\n",
       "      <td>65000</td>\n",
       "      <td>41</td>\n",
       "    </tr>\n",
       "  </tbody>\n",
       "</table>\n",
       "</div>"
      ],
      "text/plain": [
       "                  Name  ID  Gender  Salary  Age\n",
       "Employee_ID                                    \n",
       "104              Anand   4    Male   65000   29\n",
       "108             Ayesha   8  Female   60000   29\n",
       "110          Shamiksha  10  Female   45000   47\n",
       "111           Prashant  11    Male   55000   41\n",
       "112             Mohini  12  Female   65000   41"
      ]
     },
     "execution_count": 119,
     "metadata": {},
     "output_type": "execute_result"
    }
   ],
   "source": [
    "df1[df1['Salary'] < 70000]"
   ]
  },
  {
   "cell_type": "code",
   "execution_count": 120,
   "id": "002e3b7b",
   "metadata": {},
   "outputs": [
    {
     "data": {
      "text/html": [
       "<div>\n",
       "<style scoped>\n",
       "    .dataframe tbody tr th:only-of-type {\n",
       "        vertical-align: middle;\n",
       "    }\n",
       "\n",
       "    .dataframe tbody tr th {\n",
       "        vertical-align: top;\n",
       "    }\n",
       "\n",
       "    .dataframe thead th {\n",
       "        text-align: right;\n",
       "    }\n",
       "</style>\n",
       "<table border=\"1\" class=\"dataframe\">\n",
       "  <thead>\n",
       "    <tr style=\"text-align: right;\">\n",
       "      <th></th>\n",
       "      <th>Name</th>\n",
       "      <th>Salary</th>\n",
       "    </tr>\n",
       "    <tr>\n",
       "      <th>Employee_ID</th>\n",
       "      <th></th>\n",
       "      <th></th>\n",
       "    </tr>\n",
       "  </thead>\n",
       "  <tbody>\n",
       "    <tr>\n",
       "      <th>104</th>\n",
       "      <td>Anand</td>\n",
       "      <td>65000</td>\n",
       "    </tr>\n",
       "    <tr>\n",
       "      <th>108</th>\n",
       "      <td>Ayesha</td>\n",
       "      <td>60000</td>\n",
       "    </tr>\n",
       "    <tr>\n",
       "      <th>110</th>\n",
       "      <td>Shamiksha</td>\n",
       "      <td>45000</td>\n",
       "    </tr>\n",
       "    <tr>\n",
       "      <th>111</th>\n",
       "      <td>Prashant</td>\n",
       "      <td>55000</td>\n",
       "    </tr>\n",
       "    <tr>\n",
       "      <th>112</th>\n",
       "      <td>Mohini</td>\n",
       "      <td>65000</td>\n",
       "    </tr>\n",
       "  </tbody>\n",
       "</table>\n",
       "</div>"
      ],
      "text/plain": [
       "                  Name  Salary\n",
       "Employee_ID                   \n",
       "104              Anand   65000\n",
       "108             Ayesha   60000\n",
       "110          Shamiksha   45000\n",
       "111           Prashant   55000\n",
       "112             Mohini   65000"
      ]
     },
     "execution_count": 120,
     "metadata": {},
     "output_type": "execute_result"
    }
   ],
   "source": [
    "df1[df1.Salary < 70000][['Name', 'Salary']]"
   ]
  },
  {
   "cell_type": "code",
   "execution_count": 121,
   "id": "03f07674",
   "metadata": {},
   "outputs": [
    {
     "data": {
      "text/html": [
       "<div>\n",
       "<style scoped>\n",
       "    .dataframe tbody tr th:only-of-type {\n",
       "        vertical-align: middle;\n",
       "    }\n",
       "\n",
       "    .dataframe tbody tr th {\n",
       "        vertical-align: top;\n",
       "    }\n",
       "\n",
       "    .dataframe thead th {\n",
       "        text-align: right;\n",
       "    }\n",
       "</style>\n",
       "<table border=\"1\" class=\"dataframe\">\n",
       "  <thead>\n",
       "    <tr style=\"text-align: right;\">\n",
       "      <th></th>\n",
       "      <th>Name</th>\n",
       "      <th>ID</th>\n",
       "      <th>Gender</th>\n",
       "      <th>Salary</th>\n",
       "      <th>Age</th>\n",
       "    </tr>\n",
       "    <tr>\n",
       "      <th>Employee_ID</th>\n",
       "      <th></th>\n",
       "      <th></th>\n",
       "      <th></th>\n",
       "      <th></th>\n",
       "      <th></th>\n",
       "    </tr>\n",
       "  </thead>\n",
       "  <tbody>\n",
       "    <tr>\n",
       "      <th>101</th>\n",
       "      <td>Utkarsh</td>\n",
       "      <td>1</td>\n",
       "      <td>Male</td>\n",
       "      <td>200000</td>\n",
       "      <td>45</td>\n",
       "    </tr>\n",
       "    <tr>\n",
       "      <th>102</th>\n",
       "      <td>Kartik</td>\n",
       "      <td>2</td>\n",
       "      <td>Male</td>\n",
       "      <td>80000</td>\n",
       "      <td>38</td>\n",
       "    </tr>\n",
       "    <tr>\n",
       "      <th>104</th>\n",
       "      <td>Anand</td>\n",
       "      <td>4</td>\n",
       "      <td>Male</td>\n",
       "      <td>65000</td>\n",
       "      <td>29</td>\n",
       "    </tr>\n",
       "    <tr>\n",
       "      <th>106</th>\n",
       "      <td>Pratik</td>\n",
       "      <td>6</td>\n",
       "      <td>Male</td>\n",
       "      <td>80000</td>\n",
       "      <td>34</td>\n",
       "    </tr>\n",
       "    <tr>\n",
       "      <th>109</th>\n",
       "      <td>Anant</td>\n",
       "      <td>9</td>\n",
       "      <td>Male</td>\n",
       "      <td>100000</td>\n",
       "      <td>32</td>\n",
       "    </tr>\n",
       "    <tr>\n",
       "      <th>111</th>\n",
       "      <td>Prashant</td>\n",
       "      <td>11</td>\n",
       "      <td>Male</td>\n",
       "      <td>55000</td>\n",
       "      <td>41</td>\n",
       "    </tr>\n",
       "  </tbody>\n",
       "</table>\n",
       "</div>"
      ],
      "text/plain": [
       "                 Name  ID Gender  Salary  Age\n",
       "Employee_ID                                  \n",
       "101           Utkarsh   1   Male  200000   45\n",
       "102            Kartik   2   Male   80000   38\n",
       "104             Anand   4   Male   65000   29\n",
       "106            Pratik   6   Male   80000   34\n",
       "109             Anant   9   Male  100000   32\n",
       "111          Prashant  11   Male   55000   41"
      ]
     },
     "execution_count": 121,
     "metadata": {},
     "output_type": "execute_result"
    }
   ],
   "source": [
    "df1[df1.Gender == 'Male']"
   ]
  },
  {
   "cell_type": "code",
   "execution_count": 122,
   "id": "570d39a9",
   "metadata": {},
   "outputs": [
    {
     "data": {
      "text/html": [
       "<div>\n",
       "<style scoped>\n",
       "    .dataframe tbody tr th:only-of-type {\n",
       "        vertical-align: middle;\n",
       "    }\n",
       "\n",
       "    .dataframe tbody tr th {\n",
       "        vertical-align: top;\n",
       "    }\n",
       "\n",
       "    .dataframe thead th {\n",
       "        text-align: right;\n",
       "    }\n",
       "</style>\n",
       "<table border=\"1\" class=\"dataframe\">\n",
       "  <thead>\n",
       "    <tr style=\"text-align: right;\">\n",
       "      <th></th>\n",
       "      <th>Name</th>\n",
       "      <th>ID</th>\n",
       "      <th>Gender</th>\n",
       "      <th>Salary</th>\n",
       "      <th>Age</th>\n",
       "    </tr>\n",
       "    <tr>\n",
       "      <th>Employee_ID</th>\n",
       "      <th></th>\n",
       "      <th></th>\n",
       "      <th></th>\n",
       "      <th></th>\n",
       "      <th></th>\n",
       "    </tr>\n",
       "  </thead>\n",
       "  <tbody>\n",
       "    <tr>\n",
       "      <th>101</th>\n",
       "      <td>Utkarsh</td>\n",
       "      <td>1</td>\n",
       "      <td>Male</td>\n",
       "      <td>200000</td>\n",
       "      <td>45</td>\n",
       "    </tr>\n",
       "    <tr>\n",
       "      <th>109</th>\n",
       "      <td>Anant</td>\n",
       "      <td>9</td>\n",
       "      <td>Male</td>\n",
       "      <td>100000</td>\n",
       "      <td>32</td>\n",
       "    </tr>\n",
       "  </tbody>\n",
       "</table>\n",
       "</div>"
      ],
      "text/plain": [
       "                Name  ID Gender  Salary  Age\n",
       "Employee_ID                                 \n",
       "101          Utkarsh   1   Male  200000   45\n",
       "109            Anant   9   Male  100000   32"
      ]
     },
     "execution_count": 122,
     "metadata": {},
     "output_type": "execute_result"
    }
   ],
   "source": [
    "df1[df1.Gender == 'Male'][df1.Salary > 80000]"
   ]
  },
  {
   "cell_type": "code",
   "execution_count": 123,
   "id": "1289cc53",
   "metadata": {},
   "outputs": [
    {
     "data": {
      "text/html": [
       "<div>\n",
       "<style scoped>\n",
       "    .dataframe tbody tr th:only-of-type {\n",
       "        vertical-align: middle;\n",
       "    }\n",
       "\n",
       "    .dataframe tbody tr th {\n",
       "        vertical-align: top;\n",
       "    }\n",
       "\n",
       "    .dataframe thead th {\n",
       "        text-align: right;\n",
       "    }\n",
       "</style>\n",
       "<table border=\"1\" class=\"dataframe\">\n",
       "  <thead>\n",
       "    <tr style=\"text-align: right;\">\n",
       "      <th></th>\n",
       "      <th>Name</th>\n",
       "      <th>ID</th>\n",
       "      <th>Gender</th>\n",
       "      <th>Salary</th>\n",
       "      <th>Age</th>\n",
       "    </tr>\n",
       "    <tr>\n",
       "      <th>Employee_ID</th>\n",
       "      <th></th>\n",
       "      <th></th>\n",
       "      <th></th>\n",
       "      <th></th>\n",
       "      <th></th>\n",
       "    </tr>\n",
       "  </thead>\n",
       "  <tbody>\n",
       "    <tr>\n",
       "      <th>103</th>\n",
       "      <td>Aishwarya</td>\n",
       "      <td>3</td>\n",
       "      <td>Female</td>\n",
       "      <td>90000</td>\n",
       "      <td>47</td>\n",
       "    </tr>\n",
       "    <tr>\n",
       "      <th>105</th>\n",
       "      <td>Shalini</td>\n",
       "      <td>5</td>\n",
       "      <td>Female</td>\n",
       "      <td>90000</td>\n",
       "      <td>35</td>\n",
       "    </tr>\n",
       "    <tr>\n",
       "      <th>107</th>\n",
       "      <td>Monalika</td>\n",
       "      <td>7</td>\n",
       "      <td>Female</td>\n",
       "      <td>70000</td>\n",
       "      <td>37</td>\n",
       "    </tr>\n",
       "    <tr>\n",
       "      <th>108</th>\n",
       "      <td>Ayesha</td>\n",
       "      <td>8</td>\n",
       "      <td>Female</td>\n",
       "      <td>60000</td>\n",
       "      <td>29</td>\n",
       "    </tr>\n",
       "    <tr>\n",
       "      <th>110</th>\n",
       "      <td>Shamiksha</td>\n",
       "      <td>10</td>\n",
       "      <td>Female</td>\n",
       "      <td>45000</td>\n",
       "      <td>47</td>\n",
       "    </tr>\n",
       "    <tr>\n",
       "      <th>112</th>\n",
       "      <td>Mohini</td>\n",
       "      <td>12</td>\n",
       "      <td>Female</td>\n",
       "      <td>65000</td>\n",
       "      <td>41</td>\n",
       "    </tr>\n",
       "  </tbody>\n",
       "</table>\n",
       "</div>"
      ],
      "text/plain": [
       "                  Name  ID  Gender  Salary  Age\n",
       "Employee_ID                                    \n",
       "103          Aishwarya   3  Female   90000   47\n",
       "105            Shalini   5  Female   90000   35\n",
       "107           Monalika   7  Female   70000   37\n",
       "108             Ayesha   8  Female   60000   29\n",
       "110          Shamiksha  10  Female   45000   47\n",
       "112             Mohini  12  Female   65000   41"
      ]
     },
     "execution_count": 123,
     "metadata": {},
     "output_type": "execute_result"
    }
   ],
   "source": [
    "df1[df1.Gender == 'Female'][df1.Salary < 100000]"
   ]
  },
  {
   "cell_type": "code",
   "execution_count": 124,
   "id": "f6956f6b",
   "metadata": {},
   "outputs": [
    {
     "data": {
      "text/html": [
       "<div>\n",
       "<style scoped>\n",
       "    .dataframe tbody tr th:only-of-type {\n",
       "        vertical-align: middle;\n",
       "    }\n",
       "\n",
       "    .dataframe tbody tr th {\n",
       "        vertical-align: top;\n",
       "    }\n",
       "\n",
       "    .dataframe thead th {\n",
       "        text-align: right;\n",
       "    }\n",
       "</style>\n",
       "<table border=\"1\" class=\"dataframe\">\n",
       "  <thead>\n",
       "    <tr style=\"text-align: right;\">\n",
       "      <th></th>\n",
       "      <th>Name</th>\n",
       "      <th>ID</th>\n",
       "      <th>Gender</th>\n",
       "      <th>Salary</th>\n",
       "      <th>Age</th>\n",
       "    </tr>\n",
       "    <tr>\n",
       "      <th>Employee_ID</th>\n",
       "      <th></th>\n",
       "      <th></th>\n",
       "      <th></th>\n",
       "      <th></th>\n",
       "      <th></th>\n",
       "    </tr>\n",
       "  </thead>\n",
       "  <tbody>\n",
       "    <tr>\n",
       "      <th>103</th>\n",
       "      <td>Aishwarya</td>\n",
       "      <td>3</td>\n",
       "      <td>Female</td>\n",
       "      <td>90000</td>\n",
       "      <td>47</td>\n",
       "    </tr>\n",
       "    <tr>\n",
       "      <th>105</th>\n",
       "      <td>Shalini</td>\n",
       "      <td>5</td>\n",
       "      <td>Female</td>\n",
       "      <td>90000</td>\n",
       "      <td>35</td>\n",
       "    </tr>\n",
       "    <tr>\n",
       "      <th>107</th>\n",
       "      <td>Monalika</td>\n",
       "      <td>7</td>\n",
       "      <td>Female</td>\n",
       "      <td>70000</td>\n",
       "      <td>37</td>\n",
       "    </tr>\n",
       "    <tr>\n",
       "      <th>108</th>\n",
       "      <td>Ayesha</td>\n",
       "      <td>8</td>\n",
       "      <td>Female</td>\n",
       "      <td>60000</td>\n",
       "      <td>29</td>\n",
       "    </tr>\n",
       "    <tr>\n",
       "      <th>110</th>\n",
       "      <td>Shamiksha</td>\n",
       "      <td>10</td>\n",
       "      <td>Female</td>\n",
       "      <td>45000</td>\n",
       "      <td>47</td>\n",
       "    </tr>\n",
       "    <tr>\n",
       "      <th>112</th>\n",
       "      <td>Mohini</td>\n",
       "      <td>12</td>\n",
       "      <td>Female</td>\n",
       "      <td>65000</td>\n",
       "      <td>41</td>\n",
       "    </tr>\n",
       "  </tbody>\n",
       "</table>\n",
       "</div>"
      ],
      "text/plain": [
       "                  Name  ID  Gender  Salary  Age\n",
       "Employee_ID                                    \n",
       "103          Aishwarya   3  Female   90000   47\n",
       "105            Shalini   5  Female   90000   35\n",
       "107           Monalika   7  Female   70000   37\n",
       "108             Ayesha   8  Female   60000   29\n",
       "110          Shamiksha  10  Female   45000   47\n",
       "112             Mohini  12  Female   65000   41"
      ]
     },
     "execution_count": 124,
     "metadata": {},
     "output_type": "execute_result"
    }
   ],
   "source": [
    "df1[(df1.Gender == 'Female') & (df1.Salary < 100000)]"
   ]
  },
  {
   "cell_type": "code",
   "execution_count": 125,
   "id": "f4e78de5",
   "metadata": {},
   "outputs": [
    {
     "data": {
      "text/html": [
       "<div>\n",
       "<style scoped>\n",
       "    .dataframe tbody tr th:only-of-type {\n",
       "        vertical-align: middle;\n",
       "    }\n",
       "\n",
       "    .dataframe tbody tr th {\n",
       "        vertical-align: top;\n",
       "    }\n",
       "\n",
       "    .dataframe thead th {\n",
       "        text-align: right;\n",
       "    }\n",
       "</style>\n",
       "<table border=\"1\" class=\"dataframe\">\n",
       "  <thead>\n",
       "    <tr style=\"text-align: right;\">\n",
       "      <th></th>\n",
       "      <th>Name</th>\n",
       "      <th>ID</th>\n",
       "      <th>Gender</th>\n",
       "      <th>Salary</th>\n",
       "      <th>Age</th>\n",
       "    </tr>\n",
       "    <tr>\n",
       "      <th>Employee_ID</th>\n",
       "      <th></th>\n",
       "      <th></th>\n",
       "      <th></th>\n",
       "      <th></th>\n",
       "      <th></th>\n",
       "    </tr>\n",
       "  </thead>\n",
       "  <tbody>\n",
       "    <tr>\n",
       "      <th>103</th>\n",
       "      <td>Aishwarya</td>\n",
       "      <td>3</td>\n",
       "      <td>Female</td>\n",
       "      <td>90000</td>\n",
       "      <td>47</td>\n",
       "    </tr>\n",
       "    <tr>\n",
       "      <th>104</th>\n",
       "      <td>Anand</td>\n",
       "      <td>4</td>\n",
       "      <td>Male</td>\n",
       "      <td>65000</td>\n",
       "      <td>29</td>\n",
       "    </tr>\n",
       "    <tr>\n",
       "      <th>108</th>\n",
       "      <td>Ayesha</td>\n",
       "      <td>8</td>\n",
       "      <td>Female</td>\n",
       "      <td>60000</td>\n",
       "      <td>29</td>\n",
       "    </tr>\n",
       "    <tr>\n",
       "      <th>110</th>\n",
       "      <td>Shamiksha</td>\n",
       "      <td>10</td>\n",
       "      <td>Female</td>\n",
       "      <td>45000</td>\n",
       "      <td>47</td>\n",
       "    </tr>\n",
       "  </tbody>\n",
       "</table>\n",
       "</div>"
      ],
      "text/plain": [
       "                  Name  ID  Gender  Salary  Age\n",
       "Employee_ID                                    \n",
       "103          Aishwarya   3  Female   90000   47\n",
       "104              Anand   4    Male   65000   29\n",
       "108             Ayesha   8  Female   60000   29\n",
       "110          Shamiksha  10  Female   45000   47"
      ]
     },
     "execution_count": 125,
     "metadata": {},
     "output_type": "execute_result"
    }
   ],
   "source": [
    "df1[(df1.Age < 30) | (df1.Age > 45)]"
   ]
  },
  {
   "cell_type": "code",
   "execution_count": 126,
   "id": "d61aee8b",
   "metadata": {},
   "outputs": [
    {
     "data": {
      "text/html": [
       "<div>\n",
       "<style scoped>\n",
       "    .dataframe tbody tr th:only-of-type {\n",
       "        vertical-align: middle;\n",
       "    }\n",
       "\n",
       "    .dataframe tbody tr th {\n",
       "        vertical-align: top;\n",
       "    }\n",
       "\n",
       "    .dataframe thead th {\n",
       "        text-align: right;\n",
       "    }\n",
       "</style>\n",
       "<table border=\"1\" class=\"dataframe\">\n",
       "  <thead>\n",
       "    <tr style=\"text-align: right;\">\n",
       "      <th></th>\n",
       "      <th>Name</th>\n",
       "      <th>ID</th>\n",
       "      <th>Gender</th>\n",
       "      <th>Salary</th>\n",
       "      <th>Age</th>\n",
       "    </tr>\n",
       "    <tr>\n",
       "      <th>Employee_ID</th>\n",
       "      <th></th>\n",
       "      <th></th>\n",
       "      <th></th>\n",
       "      <th></th>\n",
       "      <th></th>\n",
       "    </tr>\n",
       "  </thead>\n",
       "  <tbody>\n",
       "    <tr>\n",
       "      <th>109</th>\n",
       "      <td>Anant</td>\n",
       "      <td>9</td>\n",
       "      <td>Male</td>\n",
       "      <td>100000</td>\n",
       "      <td>32</td>\n",
       "    </tr>\n",
       "  </tbody>\n",
       "</table>\n",
       "</div>"
      ],
      "text/plain": [
       "              Name  ID Gender  Salary  Age\n",
       "Employee_ID                               \n",
       "109          Anant   9   Male  100000   32"
      ]
     },
     "execution_count": 126,
     "metadata": {},
     "output_type": "execute_result"
    }
   ],
   "source": [
    "df1[df1.Gender == 'Male'][df1.Salary > 80000][df1.Salary < 150000]"
   ]
  },
  {
   "cell_type": "code",
   "execution_count": 127,
   "id": "de224e2d",
   "metadata": {},
   "outputs": [
    {
     "data": {
      "text/html": [
       "<div>\n",
       "<style scoped>\n",
       "    .dataframe tbody tr th:only-of-type {\n",
       "        vertical-align: middle;\n",
       "    }\n",
       "\n",
       "    .dataframe tbody tr th {\n",
       "        vertical-align: top;\n",
       "    }\n",
       "\n",
       "    .dataframe thead th {\n",
       "        text-align: right;\n",
       "    }\n",
       "</style>\n",
       "<table border=\"1\" class=\"dataframe\">\n",
       "  <thead>\n",
       "    <tr style=\"text-align: right;\">\n",
       "      <th></th>\n",
       "      <th>Name</th>\n",
       "      <th>Gender</th>\n",
       "      <th>Salary</th>\n",
       "    </tr>\n",
       "    <tr>\n",
       "      <th>Employee_ID</th>\n",
       "      <th></th>\n",
       "      <th></th>\n",
       "      <th></th>\n",
       "    </tr>\n",
       "  </thead>\n",
       "  <tbody>\n",
       "    <tr>\n",
       "      <th>102</th>\n",
       "      <td>Kartik</td>\n",
       "      <td>Male</td>\n",
       "      <td>80000</td>\n",
       "    </tr>\n",
       "    <tr>\n",
       "      <th>106</th>\n",
       "      <td>Pratik</td>\n",
       "      <td>Male</td>\n",
       "      <td>80000</td>\n",
       "    </tr>\n",
       "    <tr>\n",
       "      <th>109</th>\n",
       "      <td>Anant</td>\n",
       "      <td>Male</td>\n",
       "      <td>100000</td>\n",
       "    </tr>\n",
       "  </tbody>\n",
       "</table>\n",
       "</div>"
      ],
      "text/plain": [
       "               Name Gender  Salary\n",
       "Employee_ID                       \n",
       "102          Kartik   Male   80000\n",
       "106          Pratik   Male   80000\n",
       "109           Anant   Male  100000"
      ]
     },
     "execution_count": 127,
     "metadata": {},
     "output_type": "execute_result"
    }
   ],
   "source": [
    "# Extract name, gender and salary of all male employees having salary between 80000 to 120000\n",
    "df1[df1.Gender == 'Male'][df1.Salary >= 80000][df1.Salary <= 120000][['Name', 'Gender', 'Salary']]"
   ]
  },
  {
   "cell_type": "code",
   "execution_count": 128,
   "id": "a5e4289e",
   "metadata": {},
   "outputs": [
    {
     "data": {
      "text/html": [
       "<div>\n",
       "<style scoped>\n",
       "    .dataframe tbody tr th:only-of-type {\n",
       "        vertical-align: middle;\n",
       "    }\n",
       "\n",
       "    .dataframe tbody tr th {\n",
       "        vertical-align: top;\n",
       "    }\n",
       "\n",
       "    .dataframe thead th {\n",
       "        text-align: right;\n",
       "    }\n",
       "</style>\n",
       "<table border=\"1\" class=\"dataframe\">\n",
       "  <thead>\n",
       "    <tr style=\"text-align: right;\">\n",
       "      <th></th>\n",
       "      <th>Name</th>\n",
       "      <th>ID</th>\n",
       "      <th>Gender</th>\n",
       "      <th>Salary</th>\n",
       "      <th>Age</th>\n",
       "    </tr>\n",
       "    <tr>\n",
       "      <th>Employee_ID</th>\n",
       "      <th></th>\n",
       "      <th></th>\n",
       "      <th></th>\n",
       "      <th></th>\n",
       "      <th></th>\n",
       "    </tr>\n",
       "  </thead>\n",
       "  <tbody>\n",
       "    <tr>\n",
       "      <th>101</th>\n",
       "      <td>Utkarsh</td>\n",
       "      <td>1</td>\n",
       "      <td>Male</td>\n",
       "      <td>200000</td>\n",
       "      <td>45</td>\n",
       "    </tr>\n",
       "    <tr>\n",
       "      <th>102</th>\n",
       "      <td>Kartik</td>\n",
       "      <td>2</td>\n",
       "      <td>Male</td>\n",
       "      <td>80000</td>\n",
       "      <td>38</td>\n",
       "    </tr>\n",
       "    <tr>\n",
       "      <th>103</th>\n",
       "      <td>Aishwarya</td>\n",
       "      <td>3</td>\n",
       "      <td>Female</td>\n",
       "      <td>90000</td>\n",
       "      <td>47</td>\n",
       "    </tr>\n",
       "    <tr>\n",
       "      <th>105</th>\n",
       "      <td>Shalini</td>\n",
       "      <td>5</td>\n",
       "      <td>Female</td>\n",
       "      <td>90000</td>\n",
       "      <td>35</td>\n",
       "    </tr>\n",
       "    <tr>\n",
       "      <th>106</th>\n",
       "      <td>Pratik</td>\n",
       "      <td>6</td>\n",
       "      <td>Male</td>\n",
       "      <td>80000</td>\n",
       "      <td>34</td>\n",
       "    </tr>\n",
       "    <tr>\n",
       "      <th>109</th>\n",
       "      <td>Anant</td>\n",
       "      <td>9</td>\n",
       "      <td>Male</td>\n",
       "      <td>100000</td>\n",
       "      <td>32</td>\n",
       "    </tr>\n",
       "  </tbody>\n",
       "</table>\n",
       "</div>"
      ],
      "text/plain": [
       "                  Name  ID  Gender  Salary  Age\n",
       "Employee_ID                                    \n",
       "101            Utkarsh   1    Male  200000   45\n",
       "102             Kartik   2    Male   80000   38\n",
       "103          Aishwarya   3  Female   90000   47\n",
       "105            Shalini   5  Female   90000   35\n",
       "106             Pratik   6    Male   80000   34\n",
       "109              Anant   9    Male  100000   32"
      ]
     },
     "execution_count": 128,
     "metadata": {},
     "output_type": "execute_result"
    }
   ],
   "source": [
    "df1.query('Salary > 70000')"
   ]
  },
  {
   "cell_type": "code",
   "execution_count": 129,
   "id": "a9b2d1b6",
   "metadata": {},
   "outputs": [
    {
     "data": {
      "text/html": [
       "<div>\n",
       "<style scoped>\n",
       "    .dataframe tbody tr th:only-of-type {\n",
       "        vertical-align: middle;\n",
       "    }\n",
       "\n",
       "    .dataframe tbody tr th {\n",
       "        vertical-align: top;\n",
       "    }\n",
       "\n",
       "    .dataframe thead th {\n",
       "        text-align: right;\n",
       "    }\n",
       "</style>\n",
       "<table border=\"1\" class=\"dataframe\">\n",
       "  <thead>\n",
       "    <tr style=\"text-align: right;\">\n",
       "      <th></th>\n",
       "      <th>Name</th>\n",
       "      <th>ID</th>\n",
       "      <th>Gender</th>\n",
       "      <th>Salary</th>\n",
       "      <th>Age</th>\n",
       "    </tr>\n",
       "    <tr>\n",
       "      <th>Employee_ID</th>\n",
       "      <th></th>\n",
       "      <th></th>\n",
       "      <th></th>\n",
       "      <th></th>\n",
       "      <th></th>\n",
       "    </tr>\n",
       "  </thead>\n",
       "  <tbody>\n",
       "    <tr>\n",
       "      <th>101</th>\n",
       "      <td>Utkarsh</td>\n",
       "      <td>1</td>\n",
       "      <td>Male</td>\n",
       "      <td>200000</td>\n",
       "      <td>45</td>\n",
       "    </tr>\n",
       "    <tr>\n",
       "      <th>102</th>\n",
       "      <td>Kartik</td>\n",
       "      <td>2</td>\n",
       "      <td>Male</td>\n",
       "      <td>80000</td>\n",
       "      <td>38</td>\n",
       "    </tr>\n",
       "    <tr>\n",
       "      <th>104</th>\n",
       "      <td>Anand</td>\n",
       "      <td>4</td>\n",
       "      <td>Male</td>\n",
       "      <td>65000</td>\n",
       "      <td>29</td>\n",
       "    </tr>\n",
       "    <tr>\n",
       "      <th>106</th>\n",
       "      <td>Pratik</td>\n",
       "      <td>6</td>\n",
       "      <td>Male</td>\n",
       "      <td>80000</td>\n",
       "      <td>34</td>\n",
       "    </tr>\n",
       "    <tr>\n",
       "      <th>109</th>\n",
       "      <td>Anant</td>\n",
       "      <td>9</td>\n",
       "      <td>Male</td>\n",
       "      <td>100000</td>\n",
       "      <td>32</td>\n",
       "    </tr>\n",
       "    <tr>\n",
       "      <th>111</th>\n",
       "      <td>Prashant</td>\n",
       "      <td>11</td>\n",
       "      <td>Male</td>\n",
       "      <td>55000</td>\n",
       "      <td>41</td>\n",
       "    </tr>\n",
       "  </tbody>\n",
       "</table>\n",
       "</div>"
      ],
      "text/plain": [
       "                 Name  ID Gender  Salary  Age\n",
       "Employee_ID                                  \n",
       "101           Utkarsh   1   Male  200000   45\n",
       "102            Kartik   2   Male   80000   38\n",
       "104             Anand   4   Male   65000   29\n",
       "106            Pratik   6   Male   80000   34\n",
       "109             Anant   9   Male  100000   32\n",
       "111          Prashant  11   Male   55000   41"
      ]
     },
     "execution_count": 129,
     "metadata": {},
     "output_type": "execute_result"
    }
   ],
   "source": [
    "df1.query('Gender == \"Male\"')"
   ]
  },
  {
   "cell_type": "code",
   "execution_count": 130,
   "id": "7ab41bcc",
   "metadata": {},
   "outputs": [
    {
     "data": {
      "text/html": [
       "<div>\n",
       "<style scoped>\n",
       "    .dataframe tbody tr th:only-of-type {\n",
       "        vertical-align: middle;\n",
       "    }\n",
       "\n",
       "    .dataframe tbody tr th {\n",
       "        vertical-align: top;\n",
       "    }\n",
       "\n",
       "    .dataframe thead th {\n",
       "        text-align: right;\n",
       "    }\n",
       "</style>\n",
       "<table border=\"1\" class=\"dataframe\">\n",
       "  <thead>\n",
       "    <tr style=\"text-align: right;\">\n",
       "      <th></th>\n",
       "      <th>Name</th>\n",
       "      <th>ID</th>\n",
       "      <th>Gender</th>\n",
       "      <th>Salary</th>\n",
       "      <th>Age</th>\n",
       "    </tr>\n",
       "    <tr>\n",
       "      <th>Employee_ID</th>\n",
       "      <th></th>\n",
       "      <th></th>\n",
       "      <th></th>\n",
       "      <th></th>\n",
       "      <th></th>\n",
       "    </tr>\n",
       "  </thead>\n",
       "  <tbody>\n",
       "    <tr>\n",
       "      <th>101</th>\n",
       "      <td>Utkarsh</td>\n",
       "      <td>1</td>\n",
       "      <td>Male</td>\n",
       "      <td>200000</td>\n",
       "      <td>45</td>\n",
       "    </tr>\n",
       "    <tr>\n",
       "      <th>103</th>\n",
       "      <td>Aishwarya</td>\n",
       "      <td>3</td>\n",
       "      <td>Female</td>\n",
       "      <td>90000</td>\n",
       "      <td>47</td>\n",
       "    </tr>\n",
       "  </tbody>\n",
       "</table>\n",
       "</div>"
      ],
      "text/plain": [
       "                  Name  ID  Gender  Salary  Age\n",
       "Employee_ID                                    \n",
       "101            Utkarsh   1    Male  200000   45\n",
       "103          Aishwarya   3  Female   90000   47"
      ]
     },
     "execution_count": 130,
     "metadata": {},
     "output_type": "execute_result"
    }
   ],
   "source": [
    "df1.query('Salary > 70000 and Age > 40')"
   ]
  },
  {
   "cell_type": "code",
   "execution_count": 131,
   "id": "18dbb63e",
   "metadata": {},
   "outputs": [
    {
     "data": {
      "text/html": [
       "<div>\n",
       "<style scoped>\n",
       "    .dataframe tbody tr th:only-of-type {\n",
       "        vertical-align: middle;\n",
       "    }\n",
       "\n",
       "    .dataframe tbody tr th {\n",
       "        vertical-align: top;\n",
       "    }\n",
       "\n",
       "    .dataframe thead th {\n",
       "        text-align: right;\n",
       "    }\n",
       "</style>\n",
       "<table border=\"1\" class=\"dataframe\">\n",
       "  <thead>\n",
       "    <tr style=\"text-align: right;\">\n",
       "      <th></th>\n",
       "      <th>Name</th>\n",
       "      <th>ID</th>\n",
       "      <th>Gender</th>\n",
       "      <th>Salary</th>\n",
       "      <th>Age</th>\n",
       "    </tr>\n",
       "    <tr>\n",
       "      <th>Employee_ID</th>\n",
       "      <th></th>\n",
       "      <th></th>\n",
       "      <th></th>\n",
       "      <th></th>\n",
       "      <th></th>\n",
       "    </tr>\n",
       "  </thead>\n",
       "  <tbody>\n",
       "    <tr>\n",
       "      <th>102</th>\n",
       "      <td>Kartik</td>\n",
       "      <td>2</td>\n",
       "      <td>Male</td>\n",
       "      <td>80000</td>\n",
       "      <td>38</td>\n",
       "    </tr>\n",
       "    <tr>\n",
       "      <th>103</th>\n",
       "      <td>Aishwarya</td>\n",
       "      <td>3</td>\n",
       "      <td>Female</td>\n",
       "      <td>90000</td>\n",
       "      <td>47</td>\n",
       "    </tr>\n",
       "    <tr>\n",
       "      <th>105</th>\n",
       "      <td>Shalini</td>\n",
       "      <td>5</td>\n",
       "      <td>Female</td>\n",
       "      <td>90000</td>\n",
       "      <td>35</td>\n",
       "    </tr>\n",
       "    <tr>\n",
       "      <th>106</th>\n",
       "      <td>Pratik</td>\n",
       "      <td>6</td>\n",
       "      <td>Male</td>\n",
       "      <td>80000</td>\n",
       "      <td>34</td>\n",
       "    </tr>\n",
       "    <tr>\n",
       "      <th>107</th>\n",
       "      <td>Monalika</td>\n",
       "      <td>7</td>\n",
       "      <td>Female</td>\n",
       "      <td>70000</td>\n",
       "      <td>37</td>\n",
       "    </tr>\n",
       "  </tbody>\n",
       "</table>\n",
       "</div>"
      ],
      "text/plain": [
       "                  Name  ID  Gender  Salary  Age\n",
       "Employee_ID                                    \n",
       "102             Kartik   2    Male   80000   38\n",
       "103          Aishwarya   3  Female   90000   47\n",
       "105            Shalini   5  Female   90000   35\n",
       "106             Pratik   6    Male   80000   34\n",
       "107           Monalika   7  Female   70000   37"
      ]
     },
     "execution_count": 131,
     "metadata": {},
     "output_type": "execute_result"
    }
   ],
   "source": [
    "df1.query('Salary >= 70000 and Salary <= 90000')"
   ]
  },
  {
   "cell_type": "code",
   "execution_count": 132,
   "id": "9d215117",
   "metadata": {},
   "outputs": [
    {
     "data": {
      "text/html": [
       "<div>\n",
       "<style scoped>\n",
       "    .dataframe tbody tr th:only-of-type {\n",
       "        vertical-align: middle;\n",
       "    }\n",
       "\n",
       "    .dataframe tbody tr th {\n",
       "        vertical-align: top;\n",
       "    }\n",
       "\n",
       "    .dataframe thead th {\n",
       "        text-align: right;\n",
       "    }\n",
       "</style>\n",
       "<table border=\"1\" class=\"dataframe\">\n",
       "  <thead>\n",
       "    <tr style=\"text-align: right;\">\n",
       "      <th></th>\n",
       "      <th>Name</th>\n",
       "      <th>Gender</th>\n",
       "      <th>Salary</th>\n",
       "    </tr>\n",
       "    <tr>\n",
       "      <th>Employee_ID</th>\n",
       "      <th></th>\n",
       "      <th></th>\n",
       "      <th></th>\n",
       "    </tr>\n",
       "  </thead>\n",
       "  <tbody>\n",
       "    <tr>\n",
       "      <th>102</th>\n",
       "      <td>Kartik</td>\n",
       "      <td>Male</td>\n",
       "      <td>80000</td>\n",
       "    </tr>\n",
       "    <tr>\n",
       "      <th>106</th>\n",
       "      <td>Pratik</td>\n",
       "      <td>Male</td>\n",
       "      <td>80000</td>\n",
       "    </tr>\n",
       "    <tr>\n",
       "      <th>109</th>\n",
       "      <td>Anant</td>\n",
       "      <td>Male</td>\n",
       "      <td>100000</td>\n",
       "    </tr>\n",
       "  </tbody>\n",
       "</table>\n",
       "</div>"
      ],
      "text/plain": [
       "               Name Gender  Salary\n",
       "Employee_ID                       \n",
       "102          Kartik   Male   80000\n",
       "106          Pratik   Male   80000\n",
       "109           Anant   Male  100000"
      ]
     },
     "execution_count": 132,
     "metadata": {},
     "output_type": "execute_result"
    }
   ],
   "source": [
    "# Extract name, gender and salary of all male employees having salary between 80000 to 120000\n",
    "df1.query(\"Gender == 'Male' and Salary >= 80000 and Salary <= 120000\")[['Name', 'Gender', 'Salary']]"
   ]
  },
  {
   "cell_type": "code",
   "execution_count": 133,
   "id": "8d98ce46",
   "metadata": {},
   "outputs": [
    {
     "data": {
      "text/html": [
       "<div>\n",
       "<style scoped>\n",
       "    .dataframe tbody tr th:only-of-type {\n",
       "        vertical-align: middle;\n",
       "    }\n",
       "\n",
       "    .dataframe tbody tr th {\n",
       "        vertical-align: top;\n",
       "    }\n",
       "\n",
       "    .dataframe thead th {\n",
       "        text-align: right;\n",
       "    }\n",
       "</style>\n",
       "<table border=\"1\" class=\"dataframe\">\n",
       "  <thead>\n",
       "    <tr style=\"text-align: right;\">\n",
       "      <th></th>\n",
       "      <th>Name</th>\n",
       "      <th>ID</th>\n",
       "      <th>Gender</th>\n",
       "      <th>Salary</th>\n",
       "      <th>Age</th>\n",
       "    </tr>\n",
       "    <tr>\n",
       "      <th>Employee_ID</th>\n",
       "      <th></th>\n",
       "      <th></th>\n",
       "      <th></th>\n",
       "      <th></th>\n",
       "      <th></th>\n",
       "    </tr>\n",
       "  </thead>\n",
       "  <tbody>\n",
       "    <tr>\n",
       "      <th>101</th>\n",
       "      <td>Utkarsh</td>\n",
       "      <td>1</td>\n",
       "      <td>Male</td>\n",
       "      <td>200000</td>\n",
       "      <td>45</td>\n",
       "    </tr>\n",
       "    <tr>\n",
       "      <th>103</th>\n",
       "      <td>Aishwarya</td>\n",
       "      <td>3</td>\n",
       "      <td>Female</td>\n",
       "      <td>90000</td>\n",
       "      <td>47</td>\n",
       "    </tr>\n",
       "    <tr>\n",
       "      <th>105</th>\n",
       "      <td>Shalini</td>\n",
       "      <td>5</td>\n",
       "      <td>Female</td>\n",
       "      <td>90000</td>\n",
       "      <td>35</td>\n",
       "    </tr>\n",
       "    <tr>\n",
       "      <th>109</th>\n",
       "      <td>Anant</td>\n",
       "      <td>9</td>\n",
       "      <td>Male</td>\n",
       "      <td>100000</td>\n",
       "      <td>32</td>\n",
       "    </tr>\n",
       "  </tbody>\n",
       "</table>\n",
       "</div>"
      ],
      "text/plain": [
       "                  Name  ID  Gender  Salary  Age\n",
       "Employee_ID                                    \n",
       "101            Utkarsh   1    Male  200000   45\n",
       "103          Aishwarya   3  Female   90000   47\n",
       "105            Shalini   5  Female   90000   35\n",
       "109              Anant   9    Male  100000   32"
      ]
     },
     "execution_count": 133,
     "metadata": {},
     "output_type": "execute_result"
    }
   ],
   "source": [
    "# Extract all employees having salary more than the average salary\n",
    "df1[df1.Salary > df1.Salary.mean()]"
   ]
  },
  {
   "cell_type": "code",
   "execution_count": 134,
   "id": "d10fdcb3",
   "metadata": {},
   "outputs": [
    {
     "data": {
      "text/html": [
       "<div>\n",
       "<style scoped>\n",
       "    .dataframe tbody tr th:only-of-type {\n",
       "        vertical-align: middle;\n",
       "    }\n",
       "\n",
       "    .dataframe tbody tr th {\n",
       "        vertical-align: top;\n",
       "    }\n",
       "\n",
       "    .dataframe thead th {\n",
       "        text-align: right;\n",
       "    }\n",
       "</style>\n",
       "<table border=\"1\" class=\"dataframe\">\n",
       "  <thead>\n",
       "    <tr style=\"text-align: right;\">\n",
       "      <th></th>\n",
       "      <th>Name</th>\n",
       "      <th>ID</th>\n",
       "      <th>Gender</th>\n",
       "      <th>Salary</th>\n",
       "      <th>Age</th>\n",
       "    </tr>\n",
       "    <tr>\n",
       "      <th>Employee_ID</th>\n",
       "      <th></th>\n",
       "      <th></th>\n",
       "      <th></th>\n",
       "      <th></th>\n",
       "      <th></th>\n",
       "    </tr>\n",
       "  </thead>\n",
       "  <tbody>\n",
       "    <tr>\n",
       "      <th>101</th>\n",
       "      <td>Utkarsh</td>\n",
       "      <td>1</td>\n",
       "      <td>Male</td>\n",
       "      <td>200000</td>\n",
       "      <td>45</td>\n",
       "    </tr>\n",
       "    <tr>\n",
       "      <th>103</th>\n",
       "      <td>Aishwarya</td>\n",
       "      <td>3</td>\n",
       "      <td>Female</td>\n",
       "      <td>90000</td>\n",
       "      <td>47</td>\n",
       "    </tr>\n",
       "    <tr>\n",
       "      <th>105</th>\n",
       "      <td>Shalini</td>\n",
       "      <td>5</td>\n",
       "      <td>Female</td>\n",
       "      <td>90000</td>\n",
       "      <td>35</td>\n",
       "    </tr>\n",
       "    <tr>\n",
       "      <th>109</th>\n",
       "      <td>Anant</td>\n",
       "      <td>9</td>\n",
       "      <td>Male</td>\n",
       "      <td>100000</td>\n",
       "      <td>32</td>\n",
       "    </tr>\n",
       "  </tbody>\n",
       "</table>\n",
       "</div>"
      ],
      "text/plain": [
       "                  Name  ID  Gender  Salary  Age\n",
       "Employee_ID                                    \n",
       "101            Utkarsh   1    Male  200000   45\n",
       "103          Aishwarya   3  Female   90000   47\n",
       "105            Shalini   5  Female   90000   35\n",
       "109              Anant   9    Male  100000   32"
      ]
     },
     "execution_count": 134,
     "metadata": {},
     "output_type": "execute_result"
    }
   ],
   "source": [
    "df1.query('Salary > {}'.format(df1.Salary.mean()))"
   ]
  },
  {
   "cell_type": "markdown",
   "id": "848ff2fd",
   "metadata": {},
   "source": [
    "# Important Functions"
   ]
  },
  {
   "cell_type": "code",
   "execution_count": 135,
   "id": "48b50479",
   "metadata": {},
   "outputs": [
    {
     "data": {
      "text/html": [
       "<div>\n",
       "<style scoped>\n",
       "    .dataframe tbody tr th:only-of-type {\n",
       "        vertical-align: middle;\n",
       "    }\n",
       "\n",
       "    .dataframe tbody tr th {\n",
       "        vertical-align: top;\n",
       "    }\n",
       "\n",
       "    .dataframe thead th {\n",
       "        text-align: right;\n",
       "    }\n",
       "</style>\n",
       "<table border=\"1\" class=\"dataframe\">\n",
       "  <thead>\n",
       "    <tr style=\"text-align: right;\">\n",
       "      <th></th>\n",
       "      <th>Name</th>\n",
       "      <th>ID</th>\n",
       "      <th>Gender</th>\n",
       "      <th>Salary</th>\n",
       "      <th>Age</th>\n",
       "    </tr>\n",
       "    <tr>\n",
       "      <th>Employee_ID</th>\n",
       "      <th></th>\n",
       "      <th></th>\n",
       "      <th></th>\n",
       "      <th></th>\n",
       "      <th></th>\n",
       "    </tr>\n",
       "  </thead>\n",
       "  <tbody>\n",
       "    <tr>\n",
       "      <th>101</th>\n",
       "      <td>Utkarsh</td>\n",
       "      <td>1</td>\n",
       "      <td>Male</td>\n",
       "      <td>200000</td>\n",
       "      <td>45</td>\n",
       "    </tr>\n",
       "    <tr>\n",
       "      <th>102</th>\n",
       "      <td>Kartik</td>\n",
       "      <td>2</td>\n",
       "      <td>Male</td>\n",
       "      <td>80000</td>\n",
       "      <td>38</td>\n",
       "    </tr>\n",
       "    <tr>\n",
       "      <th>103</th>\n",
       "      <td>Aishwarya</td>\n",
       "      <td>3</td>\n",
       "      <td>Female</td>\n",
       "      <td>90000</td>\n",
       "      <td>47</td>\n",
       "    </tr>\n",
       "    <tr>\n",
       "      <th>104</th>\n",
       "      <td>Anand</td>\n",
       "      <td>4</td>\n",
       "      <td>Male</td>\n",
       "      <td>65000</td>\n",
       "      <td>29</td>\n",
       "    </tr>\n",
       "    <tr>\n",
       "      <th>105</th>\n",
       "      <td>Shalini</td>\n",
       "      <td>5</td>\n",
       "      <td>Female</td>\n",
       "      <td>90000</td>\n",
       "      <td>35</td>\n",
       "    </tr>\n",
       "    <tr>\n",
       "      <th>106</th>\n",
       "      <td>Pratik</td>\n",
       "      <td>6</td>\n",
       "      <td>Male</td>\n",
       "      <td>80000</td>\n",
       "      <td>34</td>\n",
       "    </tr>\n",
       "    <tr>\n",
       "      <th>107</th>\n",
       "      <td>Monalika</td>\n",
       "      <td>7</td>\n",
       "      <td>Female</td>\n",
       "      <td>70000</td>\n",
       "      <td>37</td>\n",
       "    </tr>\n",
       "    <tr>\n",
       "      <th>108</th>\n",
       "      <td>Ayesha</td>\n",
       "      <td>8</td>\n",
       "      <td>Female</td>\n",
       "      <td>60000</td>\n",
       "      <td>29</td>\n",
       "    </tr>\n",
       "    <tr>\n",
       "      <th>109</th>\n",
       "      <td>Anant</td>\n",
       "      <td>9</td>\n",
       "      <td>Male</td>\n",
       "      <td>100000</td>\n",
       "      <td>32</td>\n",
       "    </tr>\n",
       "    <tr>\n",
       "      <th>110</th>\n",
       "      <td>Shamiksha</td>\n",
       "      <td>10</td>\n",
       "      <td>Female</td>\n",
       "      <td>45000</td>\n",
       "      <td>47</td>\n",
       "    </tr>\n",
       "    <tr>\n",
       "      <th>111</th>\n",
       "      <td>Prashant</td>\n",
       "      <td>11</td>\n",
       "      <td>Male</td>\n",
       "      <td>55000</td>\n",
       "      <td>41</td>\n",
       "    </tr>\n",
       "    <tr>\n",
       "      <th>112</th>\n",
       "      <td>Mohini</td>\n",
       "      <td>12</td>\n",
       "      <td>Female</td>\n",
       "      <td>65000</td>\n",
       "      <td>41</td>\n",
       "    </tr>\n",
       "  </tbody>\n",
       "</table>\n",
       "</div>"
      ],
      "text/plain": [
       "                  Name  ID  Gender  Salary  Age\n",
       "Employee_ID                                    \n",
       "101            Utkarsh   1    Male  200000   45\n",
       "102             Kartik   2    Male   80000   38\n",
       "103          Aishwarya   3  Female   90000   47\n",
       "104              Anand   4    Male   65000   29\n",
       "105            Shalini   5  Female   90000   35\n",
       "106             Pratik   6    Male   80000   34\n",
       "107           Monalika   7  Female   70000   37\n",
       "108             Ayesha   8  Female   60000   29\n",
       "109              Anant   9    Male  100000   32\n",
       "110          Shamiksha  10  Female   45000   47\n",
       "111           Prashant  11    Male   55000   41\n",
       "112             Mohini  12  Female   65000   41"
      ]
     },
     "execution_count": 135,
     "metadata": {},
     "output_type": "execute_result"
    }
   ],
   "source": [
    "df1"
   ]
  },
  {
   "cell_type": "code",
   "execution_count": 136,
   "id": "7dbdced7",
   "metadata": {},
   "outputs": [
    {
     "data": {
      "text/html": [
       "<div>\n",
       "<style scoped>\n",
       "    .dataframe tbody tr th:only-of-type {\n",
       "        vertical-align: middle;\n",
       "    }\n",
       "\n",
       "    .dataframe tbody tr th {\n",
       "        vertical-align: top;\n",
       "    }\n",
       "\n",
       "    .dataframe thead th {\n",
       "        text-align: right;\n",
       "    }\n",
       "</style>\n",
       "<table border=\"1\" class=\"dataframe\">\n",
       "  <thead>\n",
       "    <tr style=\"text-align: right;\">\n",
       "      <th></th>\n",
       "      <th>Name</th>\n",
       "      <th>ID</th>\n",
       "      <th>Gender</th>\n",
       "      <th>Salary</th>\n",
       "      <th>Age</th>\n",
       "    </tr>\n",
       "    <tr>\n",
       "      <th>Employee_ID</th>\n",
       "      <th></th>\n",
       "      <th></th>\n",
       "      <th></th>\n",
       "      <th></th>\n",
       "      <th></th>\n",
       "    </tr>\n",
       "  </thead>\n",
       "  <tbody>\n",
       "    <tr>\n",
       "      <th>101</th>\n",
       "      <td>Utkarsh</td>\n",
       "      <td>1</td>\n",
       "      <td>Male</td>\n",
       "      <td>200000.0</td>\n",
       "      <td>45</td>\n",
       "    </tr>\n",
       "    <tr>\n",
       "      <th>102</th>\n",
       "      <td>Kartik</td>\n",
       "      <td>2</td>\n",
       "      <td>Male</td>\n",
       "      <td>80000.0</td>\n",
       "      <td>38</td>\n",
       "    </tr>\n",
       "    <tr>\n",
       "      <th>103</th>\n",
       "      <td>Aishwarya</td>\n",
       "      <td>3</td>\n",
       "      <td>Female</td>\n",
       "      <td>90000.0</td>\n",
       "      <td>47</td>\n",
       "    </tr>\n",
       "    <tr>\n",
       "      <th>104</th>\n",
       "      <td>Anand</td>\n",
       "      <td>4</td>\n",
       "      <td>Male</td>\n",
       "      <td>65000.0</td>\n",
       "      <td>29</td>\n",
       "    </tr>\n",
       "    <tr>\n",
       "      <th>105</th>\n",
       "      <td>Shalini</td>\n",
       "      <td>5</td>\n",
       "      <td>Female</td>\n",
       "      <td>90000.0</td>\n",
       "      <td>35</td>\n",
       "    </tr>\n",
       "    <tr>\n",
       "      <th>106</th>\n",
       "      <td>Pratik</td>\n",
       "      <td>6</td>\n",
       "      <td>Male</td>\n",
       "      <td>80000.0</td>\n",
       "      <td>34</td>\n",
       "    </tr>\n",
       "    <tr>\n",
       "      <th>107</th>\n",
       "      <td>Monalika</td>\n",
       "      <td>7</td>\n",
       "      <td>Female</td>\n",
       "      <td>70000.0</td>\n",
       "      <td>37</td>\n",
       "    </tr>\n",
       "    <tr>\n",
       "      <th>108</th>\n",
       "      <td>Ayesha</td>\n",
       "      <td>8</td>\n",
       "      <td>Female</td>\n",
       "      <td>60000.0</td>\n",
       "      <td>29</td>\n",
       "    </tr>\n",
       "    <tr>\n",
       "      <th>109</th>\n",
       "      <td>Anant</td>\n",
       "      <td>9</td>\n",
       "      <td>Male</td>\n",
       "      <td>100000.0</td>\n",
       "      <td>32</td>\n",
       "    </tr>\n",
       "    <tr>\n",
       "      <th>110</th>\n",
       "      <td>Shamiksha</td>\n",
       "      <td>10</td>\n",
       "      <td>Female</td>\n",
       "      <td>45000.0</td>\n",
       "      <td>47</td>\n",
       "    </tr>\n",
       "    <tr>\n",
       "      <th>111</th>\n",
       "      <td>Prashant</td>\n",
       "      <td>11</td>\n",
       "      <td>Male</td>\n",
       "      <td>55000.0</td>\n",
       "      <td>41</td>\n",
       "    </tr>\n",
       "    <tr>\n",
       "      <th>112</th>\n",
       "      <td>Mohini</td>\n",
       "      <td>12</td>\n",
       "      <td>Female</td>\n",
       "      <td>65000.0</td>\n",
       "      <td>41</td>\n",
       "    </tr>\n",
       "    <tr>\n",
       "      <th>113</th>\n",
       "      <td>Anant</td>\n",
       "      <td>9</td>\n",
       "      <td>Male</td>\n",
       "      <td>100000.0</td>\n",
       "      <td>32</td>\n",
       "    </tr>\n",
       "    <tr>\n",
       "      <th>114</th>\n",
       "      <td>Shamiksha</td>\n",
       "      <td>10</td>\n",
       "      <td>Female</td>\n",
       "      <td>45000.0</td>\n",
       "      <td>47</td>\n",
       "    </tr>\n",
       "    <tr>\n",
       "      <th>115</th>\n",
       "      <td>Kavita</td>\n",
       "      <td>15</td>\n",
       "      <td>NaN</td>\n",
       "      <td>85000.0</td>\n",
       "      <td>30</td>\n",
       "    </tr>\n",
       "    <tr>\n",
       "      <th>116</th>\n",
       "      <td>Pratik</td>\n",
       "      <td>16</td>\n",
       "      <td>NaN</td>\n",
       "      <td>NaN</td>\n",
       "      <td>32</td>\n",
       "    </tr>\n",
       "  </tbody>\n",
       "</table>\n",
       "</div>"
      ],
      "text/plain": [
       "                  Name  ID  Gender    Salary  Age\n",
       "Employee_ID                                      \n",
       "101            Utkarsh   1    Male  200000.0   45\n",
       "102             Kartik   2    Male   80000.0   38\n",
       "103          Aishwarya   3  Female   90000.0   47\n",
       "104              Anand   4    Male   65000.0   29\n",
       "105            Shalini   5  Female   90000.0   35\n",
       "106             Pratik   6    Male   80000.0   34\n",
       "107           Monalika   7  Female   70000.0   37\n",
       "108             Ayesha   8  Female   60000.0   29\n",
       "109              Anant   9    Male  100000.0   32\n",
       "110          Shamiksha  10  Female   45000.0   47\n",
       "111           Prashant  11    Male   55000.0   41\n",
       "112             Mohini  12  Female   65000.0   41\n",
       "113              Anant   9    Male  100000.0   32\n",
       "114          Shamiksha  10  Female   45000.0   47\n",
       "115             Kavita  15     NaN   85000.0   30\n",
       "116             Pratik  16     NaN       NaN   32"
      ]
     },
     "execution_count": 136,
     "metadata": {},
     "output_type": "execute_result"
    }
   ],
   "source": [
    "df1.loc[113] = df1.loc[109]\n",
    "df1.loc[114] = df1.loc[110]\n",
    "df1.loc[115] = ['Kavita', 15, np.nan, 85000, 30]\n",
    "df1.loc[116] = ['Pratik', 16, np.nan, np.nan, 32]\n",
    "df1"
   ]
  },
  {
   "cell_type": "code",
   "execution_count": 137,
   "id": "b003baea",
   "metadata": {},
   "outputs": [
    {
     "data": {
      "text/html": [
       "<div>\n",
       "<style scoped>\n",
       "    .dataframe tbody tr th:only-of-type {\n",
       "        vertical-align: middle;\n",
       "    }\n",
       "\n",
       "    .dataframe tbody tr th {\n",
       "        vertical-align: top;\n",
       "    }\n",
       "\n",
       "    .dataframe thead th {\n",
       "        text-align: right;\n",
       "    }\n",
       "</style>\n",
       "<table border=\"1\" class=\"dataframe\">\n",
       "  <thead>\n",
       "    <tr style=\"text-align: right;\">\n",
       "      <th></th>\n",
       "      <th>Name</th>\n",
       "      <th>ID</th>\n",
       "      <th>Gender</th>\n",
       "      <th>Salary</th>\n",
       "      <th>Age</th>\n",
       "    </tr>\n",
       "    <tr>\n",
       "      <th>Employee_ID</th>\n",
       "      <th></th>\n",
       "      <th></th>\n",
       "      <th></th>\n",
       "      <th></th>\n",
       "      <th></th>\n",
       "    </tr>\n",
       "  </thead>\n",
       "  <tbody>\n",
       "    <tr>\n",
       "      <th>101</th>\n",
       "      <td>Utkarsh</td>\n",
       "      <td>1</td>\n",
       "      <td>Male</td>\n",
       "      <td>200000.0</td>\n",
       "      <td>45</td>\n",
       "    </tr>\n",
       "    <tr>\n",
       "      <th>102</th>\n",
       "      <td>Kartik</td>\n",
       "      <td>2</td>\n",
       "      <td>Male</td>\n",
       "      <td>80000.0</td>\n",
       "      <td>38</td>\n",
       "    </tr>\n",
       "    <tr>\n",
       "      <th>103</th>\n",
       "      <td>Aishwarya</td>\n",
       "      <td>3</td>\n",
       "      <td>Female</td>\n",
       "      <td>90000.0</td>\n",
       "      <td>47</td>\n",
       "    </tr>\n",
       "    <tr>\n",
       "      <th>104</th>\n",
       "      <td>Anand</td>\n",
       "      <td>4</td>\n",
       "      <td>Male</td>\n",
       "      <td>65000.0</td>\n",
       "      <td>29</td>\n",
       "    </tr>\n",
       "    <tr>\n",
       "      <th>105</th>\n",
       "      <td>Shalini</td>\n",
       "      <td>5</td>\n",
       "      <td>Female</td>\n",
       "      <td>90000.0</td>\n",
       "      <td>35</td>\n",
       "    </tr>\n",
       "  </tbody>\n",
       "</table>\n",
       "</div>"
      ],
      "text/plain": [
       "                  Name  ID  Gender    Salary  Age\n",
       "Employee_ID                                      \n",
       "101            Utkarsh   1    Male  200000.0   45\n",
       "102             Kartik   2    Male   80000.0   38\n",
       "103          Aishwarya   3  Female   90000.0   47\n",
       "104              Anand   4    Male   65000.0   29\n",
       "105            Shalini   5  Female   90000.0   35"
      ]
     },
     "execution_count": 137,
     "metadata": {},
     "output_type": "execute_result"
    }
   ],
   "source": [
    "df1.head()"
   ]
  },
  {
   "cell_type": "code",
   "execution_count": 138,
   "id": "9f974a24",
   "metadata": {},
   "outputs": [
    {
     "data": {
      "text/html": [
       "<div>\n",
       "<style scoped>\n",
       "    .dataframe tbody tr th:only-of-type {\n",
       "        vertical-align: middle;\n",
       "    }\n",
       "\n",
       "    .dataframe tbody tr th {\n",
       "        vertical-align: top;\n",
       "    }\n",
       "\n",
       "    .dataframe thead th {\n",
       "        text-align: right;\n",
       "    }\n",
       "</style>\n",
       "<table border=\"1\" class=\"dataframe\">\n",
       "  <thead>\n",
       "    <tr style=\"text-align: right;\">\n",
       "      <th></th>\n",
       "      <th>Name</th>\n",
       "      <th>ID</th>\n",
       "      <th>Gender</th>\n",
       "      <th>Salary</th>\n",
       "      <th>Age</th>\n",
       "    </tr>\n",
       "    <tr>\n",
       "      <th>Employee_ID</th>\n",
       "      <th></th>\n",
       "      <th></th>\n",
       "      <th></th>\n",
       "      <th></th>\n",
       "      <th></th>\n",
       "    </tr>\n",
       "  </thead>\n",
       "  <tbody>\n",
       "    <tr>\n",
       "      <th>101</th>\n",
       "      <td>Utkarsh</td>\n",
       "      <td>1</td>\n",
       "      <td>Male</td>\n",
       "      <td>200000.0</td>\n",
       "      <td>45</td>\n",
       "    </tr>\n",
       "    <tr>\n",
       "      <th>102</th>\n",
       "      <td>Kartik</td>\n",
       "      <td>2</td>\n",
       "      <td>Male</td>\n",
       "      <td>80000.0</td>\n",
       "      <td>38</td>\n",
       "    </tr>\n",
       "    <tr>\n",
       "      <th>103</th>\n",
       "      <td>Aishwarya</td>\n",
       "      <td>3</td>\n",
       "      <td>Female</td>\n",
       "      <td>90000.0</td>\n",
       "      <td>47</td>\n",
       "    </tr>\n",
       "    <tr>\n",
       "      <th>104</th>\n",
       "      <td>Anand</td>\n",
       "      <td>4</td>\n",
       "      <td>Male</td>\n",
       "      <td>65000.0</td>\n",
       "      <td>29</td>\n",
       "    </tr>\n",
       "    <tr>\n",
       "      <th>105</th>\n",
       "      <td>Shalini</td>\n",
       "      <td>5</td>\n",
       "      <td>Female</td>\n",
       "      <td>90000.0</td>\n",
       "      <td>35</td>\n",
       "    </tr>\n",
       "    <tr>\n",
       "      <th>106</th>\n",
       "      <td>Pratik</td>\n",
       "      <td>6</td>\n",
       "      <td>Male</td>\n",
       "      <td>80000.0</td>\n",
       "      <td>34</td>\n",
       "    </tr>\n",
       "    <tr>\n",
       "      <th>107</th>\n",
       "      <td>Monalika</td>\n",
       "      <td>7</td>\n",
       "      <td>Female</td>\n",
       "      <td>70000.0</td>\n",
       "      <td>37</td>\n",
       "    </tr>\n",
       "    <tr>\n",
       "      <th>108</th>\n",
       "      <td>Ayesha</td>\n",
       "      <td>8</td>\n",
       "      <td>Female</td>\n",
       "      <td>60000.0</td>\n",
       "      <td>29</td>\n",
       "    </tr>\n",
       "    <tr>\n",
       "      <th>109</th>\n",
       "      <td>Anant</td>\n",
       "      <td>9</td>\n",
       "      <td>Male</td>\n",
       "      <td>100000.0</td>\n",
       "      <td>32</td>\n",
       "    </tr>\n",
       "    <tr>\n",
       "      <th>110</th>\n",
       "      <td>Shamiksha</td>\n",
       "      <td>10</td>\n",
       "      <td>Female</td>\n",
       "      <td>45000.0</td>\n",
       "      <td>47</td>\n",
       "    </tr>\n",
       "  </tbody>\n",
       "</table>\n",
       "</div>"
      ],
      "text/plain": [
       "                  Name  ID  Gender    Salary  Age\n",
       "Employee_ID                                      \n",
       "101            Utkarsh   1    Male  200000.0   45\n",
       "102             Kartik   2    Male   80000.0   38\n",
       "103          Aishwarya   3  Female   90000.0   47\n",
       "104              Anand   4    Male   65000.0   29\n",
       "105            Shalini   5  Female   90000.0   35\n",
       "106             Pratik   6    Male   80000.0   34\n",
       "107           Monalika   7  Female   70000.0   37\n",
       "108             Ayesha   8  Female   60000.0   29\n",
       "109              Anant   9    Male  100000.0   32\n",
       "110          Shamiksha  10  Female   45000.0   47"
      ]
     },
     "execution_count": 138,
     "metadata": {},
     "output_type": "execute_result"
    }
   ],
   "source": [
    "df1.head(10)"
   ]
  },
  {
   "cell_type": "code",
   "execution_count": 139,
   "id": "9fe0037a",
   "metadata": {},
   "outputs": [
    {
     "data": {
      "text/html": [
       "<div>\n",
       "<style scoped>\n",
       "    .dataframe tbody tr th:only-of-type {\n",
       "        vertical-align: middle;\n",
       "    }\n",
       "\n",
       "    .dataframe tbody tr th {\n",
       "        vertical-align: top;\n",
       "    }\n",
       "\n",
       "    .dataframe thead th {\n",
       "        text-align: right;\n",
       "    }\n",
       "</style>\n",
       "<table border=\"1\" class=\"dataframe\">\n",
       "  <thead>\n",
       "    <tr style=\"text-align: right;\">\n",
       "      <th></th>\n",
       "      <th>Name</th>\n",
       "      <th>ID</th>\n",
       "      <th>Gender</th>\n",
       "      <th>Salary</th>\n",
       "      <th>Age</th>\n",
       "    </tr>\n",
       "    <tr>\n",
       "      <th>Employee_ID</th>\n",
       "      <th></th>\n",
       "      <th></th>\n",
       "      <th></th>\n",
       "      <th></th>\n",
       "      <th></th>\n",
       "    </tr>\n",
       "  </thead>\n",
       "  <tbody>\n",
       "    <tr>\n",
       "      <th>112</th>\n",
       "      <td>Mohini</td>\n",
       "      <td>12</td>\n",
       "      <td>Female</td>\n",
       "      <td>65000.0</td>\n",
       "      <td>41</td>\n",
       "    </tr>\n",
       "    <tr>\n",
       "      <th>113</th>\n",
       "      <td>Anant</td>\n",
       "      <td>9</td>\n",
       "      <td>Male</td>\n",
       "      <td>100000.0</td>\n",
       "      <td>32</td>\n",
       "    </tr>\n",
       "    <tr>\n",
       "      <th>114</th>\n",
       "      <td>Shamiksha</td>\n",
       "      <td>10</td>\n",
       "      <td>Female</td>\n",
       "      <td>45000.0</td>\n",
       "      <td>47</td>\n",
       "    </tr>\n",
       "    <tr>\n",
       "      <th>115</th>\n",
       "      <td>Kavita</td>\n",
       "      <td>15</td>\n",
       "      <td>NaN</td>\n",
       "      <td>85000.0</td>\n",
       "      <td>30</td>\n",
       "    </tr>\n",
       "    <tr>\n",
       "      <th>116</th>\n",
       "      <td>Pratik</td>\n",
       "      <td>16</td>\n",
       "      <td>NaN</td>\n",
       "      <td>NaN</td>\n",
       "      <td>32</td>\n",
       "    </tr>\n",
       "  </tbody>\n",
       "</table>\n",
       "</div>"
      ],
      "text/plain": [
       "                  Name  ID  Gender    Salary  Age\n",
       "Employee_ID                                      \n",
       "112             Mohini  12  Female   65000.0   41\n",
       "113              Anant   9    Male  100000.0   32\n",
       "114          Shamiksha  10  Female   45000.0   47\n",
       "115             Kavita  15     NaN   85000.0   30\n",
       "116             Pratik  16     NaN       NaN   32"
      ]
     },
     "execution_count": 139,
     "metadata": {},
     "output_type": "execute_result"
    }
   ],
   "source": [
    "df1.tail()"
   ]
  },
  {
   "cell_type": "code",
   "execution_count": 140,
   "id": "409b3ea8",
   "metadata": {},
   "outputs": [
    {
     "data": {
      "text/html": [
       "<div>\n",
       "<style scoped>\n",
       "    .dataframe tbody tr th:only-of-type {\n",
       "        vertical-align: middle;\n",
       "    }\n",
       "\n",
       "    .dataframe tbody tr th {\n",
       "        vertical-align: top;\n",
       "    }\n",
       "\n",
       "    .dataframe thead th {\n",
       "        text-align: right;\n",
       "    }\n",
       "</style>\n",
       "<table border=\"1\" class=\"dataframe\">\n",
       "  <thead>\n",
       "    <tr style=\"text-align: right;\">\n",
       "      <th></th>\n",
       "      <th>Name</th>\n",
       "      <th>ID</th>\n",
       "      <th>Gender</th>\n",
       "      <th>Salary</th>\n",
       "      <th>Age</th>\n",
       "    </tr>\n",
       "    <tr>\n",
       "      <th>Employee_ID</th>\n",
       "      <th></th>\n",
       "      <th></th>\n",
       "      <th></th>\n",
       "      <th></th>\n",
       "      <th></th>\n",
       "    </tr>\n",
       "  </thead>\n",
       "  <tbody>\n",
       "    <tr>\n",
       "      <th>110</th>\n",
       "      <td>Shamiksha</td>\n",
       "      <td>10</td>\n",
       "      <td>Female</td>\n",
       "      <td>45000.0</td>\n",
       "      <td>47</td>\n",
       "    </tr>\n",
       "    <tr>\n",
       "      <th>111</th>\n",
       "      <td>Prashant</td>\n",
       "      <td>11</td>\n",
       "      <td>Male</td>\n",
       "      <td>55000.0</td>\n",
       "      <td>41</td>\n",
       "    </tr>\n",
       "    <tr>\n",
       "      <th>112</th>\n",
       "      <td>Mohini</td>\n",
       "      <td>12</td>\n",
       "      <td>Female</td>\n",
       "      <td>65000.0</td>\n",
       "      <td>41</td>\n",
       "    </tr>\n",
       "    <tr>\n",
       "      <th>113</th>\n",
       "      <td>Anant</td>\n",
       "      <td>9</td>\n",
       "      <td>Male</td>\n",
       "      <td>100000.0</td>\n",
       "      <td>32</td>\n",
       "    </tr>\n",
       "    <tr>\n",
       "      <th>114</th>\n",
       "      <td>Shamiksha</td>\n",
       "      <td>10</td>\n",
       "      <td>Female</td>\n",
       "      <td>45000.0</td>\n",
       "      <td>47</td>\n",
       "    </tr>\n",
       "    <tr>\n",
       "      <th>115</th>\n",
       "      <td>Kavita</td>\n",
       "      <td>15</td>\n",
       "      <td>NaN</td>\n",
       "      <td>85000.0</td>\n",
       "      <td>30</td>\n",
       "    </tr>\n",
       "    <tr>\n",
       "      <th>116</th>\n",
       "      <td>Pratik</td>\n",
       "      <td>16</td>\n",
       "      <td>NaN</td>\n",
       "      <td>NaN</td>\n",
       "      <td>32</td>\n",
       "    </tr>\n",
       "  </tbody>\n",
       "</table>\n",
       "</div>"
      ],
      "text/plain": [
       "                  Name  ID  Gender    Salary  Age\n",
       "Employee_ID                                      \n",
       "110          Shamiksha  10  Female   45000.0   47\n",
       "111           Prashant  11    Male   55000.0   41\n",
       "112             Mohini  12  Female   65000.0   41\n",
       "113              Anant   9    Male  100000.0   32\n",
       "114          Shamiksha  10  Female   45000.0   47\n",
       "115             Kavita  15     NaN   85000.0   30\n",
       "116             Pratik  16     NaN       NaN   32"
      ]
     },
     "execution_count": 140,
     "metadata": {},
     "output_type": "execute_result"
    }
   ],
   "source": [
    "df1.tail(7)"
   ]
  },
  {
   "cell_type": "code",
   "execution_count": 141,
   "id": "41edd15b",
   "metadata": {},
   "outputs": [
    {
     "data": {
      "text/plain": [
       "Name      0\n",
       "ID        0\n",
       "Gender    2\n",
       "Salary    1\n",
       "Age       0\n",
       "dtype: int64"
      ]
     },
     "execution_count": 141,
     "metadata": {},
     "output_type": "execute_result"
    }
   ],
   "source": [
    "# Check for null values\n",
    "df1.isnull().sum()"
   ]
  },
  {
   "cell_type": "code",
   "execution_count": 142,
   "id": "f31c6bfb",
   "metadata": {},
   "outputs": [
    {
     "data": {
      "text/plain": [
       "1"
      ]
     },
     "execution_count": 142,
     "metadata": {},
     "output_type": "execute_result"
    }
   ],
   "source": [
    "df1.Salary.isnull().sum()"
   ]
  },
  {
   "cell_type": "code",
   "execution_count": 143,
   "id": "482961e1",
   "metadata": {},
   "outputs": [
    {
     "data": {
      "text/plain": [
       "Name      0\n",
       "ID        0\n",
       "Gender    2\n",
       "Salary    1\n",
       "Age       0\n",
       "dtype: int64"
      ]
     },
     "execution_count": 143,
     "metadata": {},
     "output_type": "execute_result"
    }
   ],
   "source": [
    "df1.isna().sum()"
   ]
  },
  {
   "cell_type": "code",
   "execution_count": 144,
   "id": "ecb794d7",
   "metadata": {},
   "outputs": [
    {
     "data": {
      "text/plain": [
       "Employee_ID\n",
       "101    False\n",
       "102    False\n",
       "103    False\n",
       "104    False\n",
       "105    False\n",
       "106    False\n",
       "107    False\n",
       "108    False\n",
       "109    False\n",
       "110    False\n",
       "111    False\n",
       "112    False\n",
       "113     True\n",
       "114     True\n",
       "115    False\n",
       "116    False\n",
       "dtype: bool"
      ]
     },
     "execution_count": 144,
     "metadata": {},
     "output_type": "execute_result"
    }
   ],
   "source": [
    "# Check for duplicates\n",
    "df1.duplicated()"
   ]
  },
  {
   "cell_type": "code",
   "execution_count": 145,
   "id": "0369392a",
   "metadata": {},
   "outputs": [
    {
     "data": {
      "text/plain": [
       "2"
      ]
     },
     "execution_count": 145,
     "metadata": {},
     "output_type": "execute_result"
    }
   ],
   "source": [
    "df1.duplicated().sum()"
   ]
  },
  {
   "cell_type": "code",
   "execution_count": 146,
   "id": "9bd09d39",
   "metadata": {},
   "outputs": [
    {
     "data": {
      "text/html": [
       "<div>\n",
       "<style scoped>\n",
       "    .dataframe tbody tr th:only-of-type {\n",
       "        vertical-align: middle;\n",
       "    }\n",
       "\n",
       "    .dataframe tbody tr th {\n",
       "        vertical-align: top;\n",
       "    }\n",
       "\n",
       "    .dataframe thead th {\n",
       "        text-align: right;\n",
       "    }\n",
       "</style>\n",
       "<table border=\"1\" class=\"dataframe\">\n",
       "  <thead>\n",
       "    <tr style=\"text-align: right;\">\n",
       "      <th></th>\n",
       "      <th>Name</th>\n",
       "      <th>ID</th>\n",
       "      <th>Gender</th>\n",
       "      <th>Salary</th>\n",
       "      <th>Age</th>\n",
       "    </tr>\n",
       "    <tr>\n",
       "      <th>Employee_ID</th>\n",
       "      <th></th>\n",
       "      <th></th>\n",
       "      <th></th>\n",
       "      <th></th>\n",
       "      <th></th>\n",
       "    </tr>\n",
       "  </thead>\n",
       "  <tbody>\n",
       "    <tr>\n",
       "      <th>101</th>\n",
       "      <td>Utkarsh</td>\n",
       "      <td>1</td>\n",
       "      <td>Male</td>\n",
       "      <td>200000.0</td>\n",
       "      <td>45</td>\n",
       "    </tr>\n",
       "    <tr>\n",
       "      <th>102</th>\n",
       "      <td>Kartik</td>\n",
       "      <td>2</td>\n",
       "      <td>Male</td>\n",
       "      <td>80000.0</td>\n",
       "      <td>38</td>\n",
       "    </tr>\n",
       "    <tr>\n",
       "      <th>103</th>\n",
       "      <td>Aishwarya</td>\n",
       "      <td>3</td>\n",
       "      <td>Female</td>\n",
       "      <td>90000.0</td>\n",
       "      <td>47</td>\n",
       "    </tr>\n",
       "    <tr>\n",
       "      <th>104</th>\n",
       "      <td>Anand</td>\n",
       "      <td>4</td>\n",
       "      <td>Male</td>\n",
       "      <td>65000.0</td>\n",
       "      <td>29</td>\n",
       "    </tr>\n",
       "    <tr>\n",
       "      <th>105</th>\n",
       "      <td>Shalini</td>\n",
       "      <td>5</td>\n",
       "      <td>Female</td>\n",
       "      <td>90000.0</td>\n",
       "      <td>35</td>\n",
       "    </tr>\n",
       "    <tr>\n",
       "      <th>106</th>\n",
       "      <td>Pratik</td>\n",
       "      <td>6</td>\n",
       "      <td>Male</td>\n",
       "      <td>80000.0</td>\n",
       "      <td>34</td>\n",
       "    </tr>\n",
       "    <tr>\n",
       "      <th>107</th>\n",
       "      <td>Monalika</td>\n",
       "      <td>7</td>\n",
       "      <td>Female</td>\n",
       "      <td>70000.0</td>\n",
       "      <td>37</td>\n",
       "    </tr>\n",
       "    <tr>\n",
       "      <th>108</th>\n",
       "      <td>Ayesha</td>\n",
       "      <td>8</td>\n",
       "      <td>Female</td>\n",
       "      <td>60000.0</td>\n",
       "      <td>29</td>\n",
       "    </tr>\n",
       "    <tr>\n",
       "      <th>109</th>\n",
       "      <td>Anant</td>\n",
       "      <td>9</td>\n",
       "      <td>Male</td>\n",
       "      <td>100000.0</td>\n",
       "      <td>32</td>\n",
       "    </tr>\n",
       "    <tr>\n",
       "      <th>110</th>\n",
       "      <td>Shamiksha</td>\n",
       "      <td>10</td>\n",
       "      <td>Female</td>\n",
       "      <td>45000.0</td>\n",
       "      <td>47</td>\n",
       "    </tr>\n",
       "    <tr>\n",
       "      <th>111</th>\n",
       "      <td>Prashant</td>\n",
       "      <td>11</td>\n",
       "      <td>Male</td>\n",
       "      <td>55000.0</td>\n",
       "      <td>41</td>\n",
       "    </tr>\n",
       "    <tr>\n",
       "      <th>112</th>\n",
       "      <td>Mohini</td>\n",
       "      <td>12</td>\n",
       "      <td>Female</td>\n",
       "      <td>65000.0</td>\n",
       "      <td>41</td>\n",
       "    </tr>\n",
       "    <tr>\n",
       "      <th>115</th>\n",
       "      <td>Kavita</td>\n",
       "      <td>15</td>\n",
       "      <td>NaN</td>\n",
       "      <td>85000.0</td>\n",
       "      <td>30</td>\n",
       "    </tr>\n",
       "    <tr>\n",
       "      <th>116</th>\n",
       "      <td>Pratik</td>\n",
       "      <td>16</td>\n",
       "      <td>NaN</td>\n",
       "      <td>NaN</td>\n",
       "      <td>32</td>\n",
       "    </tr>\n",
       "  </tbody>\n",
       "</table>\n",
       "</div>"
      ],
      "text/plain": [
       "                  Name  ID  Gender    Salary  Age\n",
       "Employee_ID                                      \n",
       "101            Utkarsh   1    Male  200000.0   45\n",
       "102             Kartik   2    Male   80000.0   38\n",
       "103          Aishwarya   3  Female   90000.0   47\n",
       "104              Anand   4    Male   65000.0   29\n",
       "105            Shalini   5  Female   90000.0   35\n",
       "106             Pratik   6    Male   80000.0   34\n",
       "107           Monalika   7  Female   70000.0   37\n",
       "108             Ayesha   8  Female   60000.0   29\n",
       "109              Anant   9    Male  100000.0   32\n",
       "110          Shamiksha  10  Female   45000.0   47\n",
       "111           Prashant  11    Male   55000.0   41\n",
       "112             Mohini  12  Female   65000.0   41\n",
       "115             Kavita  15     NaN   85000.0   30\n",
       "116             Pratik  16     NaN       NaN   32"
      ]
     },
     "execution_count": 146,
     "metadata": {},
     "output_type": "execute_result"
    }
   ],
   "source": [
    "# To drop duplicate records\n",
    "df1.drop_duplicates(inplace = True)\n",
    "df1"
   ]
  },
  {
   "cell_type": "code",
   "execution_count": 147,
   "id": "1eab7d47",
   "metadata": {},
   "outputs": [
    {
     "data": {
      "text/plain": [
       "Name      13\n",
       "ID        14\n",
       "Gender     2\n",
       "Salary    10\n",
       "Age       10\n",
       "dtype: int64"
      ]
     },
     "execution_count": 147,
     "metadata": {},
     "output_type": "execute_result"
    }
   ],
   "source": [
    "df1.nunique()          # Number of unique values"
   ]
  },
  {
   "cell_type": "code",
   "execution_count": 148,
   "id": "18ec0214",
   "metadata": {},
   "outputs": [
    {
     "data": {
      "text/plain": [
       "10"
      ]
     },
     "execution_count": 148,
     "metadata": {},
     "output_type": "execute_result"
    }
   ],
   "source": [
    "df1['Salary'].nunique()"
   ]
  },
  {
   "cell_type": "code",
   "execution_count": 149,
   "id": "bb726dc6",
   "metadata": {},
   "outputs": [
    {
     "data": {
      "text/plain": [
       "13"
      ]
     },
     "execution_count": 149,
     "metadata": {},
     "output_type": "execute_result"
    }
   ],
   "source": [
    "df1['Name'].nunique()"
   ]
  },
  {
   "cell_type": "code",
   "execution_count": 150,
   "id": "89c5a267",
   "metadata": {},
   "outputs": [
    {
     "data": {
      "text/plain": [
       "array(['Utkarsh', 'Kartik', 'Aishwarya', 'Anand', 'Shalini', 'Pratik',\n",
       "       'Monalika', 'Ayesha', 'Anant', 'Shamiksha', 'Prashant', 'Mohini',\n",
       "       'Kavita'], dtype=object)"
      ]
     },
     "execution_count": 150,
     "metadata": {},
     "output_type": "execute_result"
    }
   ],
   "source": [
    "df1['Name'].unique()            # Gives unique values"
   ]
  },
  {
   "cell_type": "code",
   "execution_count": 151,
   "id": "91748646",
   "metadata": {},
   "outputs": [
    {
     "data": {
      "text/plain": [
       "array(['Male', 'Female', nan], dtype=object)"
      ]
     },
     "execution_count": 151,
     "metadata": {},
     "output_type": "execute_result"
    }
   ],
   "source": [
    "df1['Gender'].unique()"
   ]
  },
  {
   "cell_type": "code",
   "execution_count": 152,
   "id": "049231dd",
   "metadata": {},
   "outputs": [
    {
     "data": {
      "text/plain": [
       "array(['Male', 'Female'], dtype=object)"
      ]
     },
     "execution_count": 152,
     "metadata": {},
     "output_type": "execute_result"
    }
   ],
   "source": [
    "df1['Gender'].dropna().unique()    # To avoid nan  "
   ]
  },
  {
   "cell_type": "code",
   "execution_count": 153,
   "id": "6e1e6796",
   "metadata": {},
   "outputs": [
    {
     "data": {
      "text/html": [
       "<div>\n",
       "<style scoped>\n",
       "    .dataframe tbody tr th:only-of-type {\n",
       "        vertical-align: middle;\n",
       "    }\n",
       "\n",
       "    .dataframe tbody tr th {\n",
       "        vertical-align: top;\n",
       "    }\n",
       "\n",
       "    .dataframe thead th {\n",
       "        text-align: right;\n",
       "    }\n",
       "</style>\n",
       "<table border=\"1\" class=\"dataframe\">\n",
       "  <thead>\n",
       "    <tr style=\"text-align: right;\">\n",
       "      <th></th>\n",
       "      <th>Name</th>\n",
       "      <th>ID</th>\n",
       "      <th>Gender</th>\n",
       "      <th>Salary</th>\n",
       "      <th>Age</th>\n",
       "    </tr>\n",
       "    <tr>\n",
       "      <th>Employee_ID</th>\n",
       "      <th></th>\n",
       "      <th></th>\n",
       "      <th></th>\n",
       "      <th></th>\n",
       "      <th></th>\n",
       "    </tr>\n",
       "  </thead>\n",
       "  <tbody>\n",
       "    <tr>\n",
       "      <th>101</th>\n",
       "      <td>Utkarsh</td>\n",
       "      <td>1</td>\n",
       "      <td>Male</td>\n",
       "      <td>200000.0</td>\n",
       "      <td>45</td>\n",
       "    </tr>\n",
       "    <tr>\n",
       "      <th>102</th>\n",
       "      <td>Kartik</td>\n",
       "      <td>2</td>\n",
       "      <td>Male</td>\n",
       "      <td>80000.0</td>\n",
       "      <td>38</td>\n",
       "    </tr>\n",
       "    <tr>\n",
       "      <th>103</th>\n",
       "      <td>Aishwarya</td>\n",
       "      <td>3</td>\n",
       "      <td>Female</td>\n",
       "      <td>90000.0</td>\n",
       "      <td>47</td>\n",
       "    </tr>\n",
       "    <tr>\n",
       "      <th>104</th>\n",
       "      <td>Anand</td>\n",
       "      <td>4</td>\n",
       "      <td>Male</td>\n",
       "      <td>65000.0</td>\n",
       "      <td>29</td>\n",
       "    </tr>\n",
       "    <tr>\n",
       "      <th>105</th>\n",
       "      <td>Shalini</td>\n",
       "      <td>5</td>\n",
       "      <td>Female</td>\n",
       "      <td>90000.0</td>\n",
       "      <td>35</td>\n",
       "    </tr>\n",
       "    <tr>\n",
       "      <th>106</th>\n",
       "      <td>Pratik</td>\n",
       "      <td>6</td>\n",
       "      <td>Male</td>\n",
       "      <td>80000.0</td>\n",
       "      <td>34</td>\n",
       "    </tr>\n",
       "    <tr>\n",
       "      <th>107</th>\n",
       "      <td>Monalika</td>\n",
       "      <td>7</td>\n",
       "      <td>Female</td>\n",
       "      <td>70000.0</td>\n",
       "      <td>37</td>\n",
       "    </tr>\n",
       "    <tr>\n",
       "      <th>108</th>\n",
       "      <td>Ayesha</td>\n",
       "      <td>8</td>\n",
       "      <td>Female</td>\n",
       "      <td>60000.0</td>\n",
       "      <td>29</td>\n",
       "    </tr>\n",
       "    <tr>\n",
       "      <th>109</th>\n",
       "      <td>Anant</td>\n",
       "      <td>9</td>\n",
       "      <td>Male</td>\n",
       "      <td>100000.0</td>\n",
       "      <td>32</td>\n",
       "    </tr>\n",
       "    <tr>\n",
       "      <th>110</th>\n",
       "      <td>Shamiksha</td>\n",
       "      <td>10</td>\n",
       "      <td>Female</td>\n",
       "      <td>45000.0</td>\n",
       "      <td>47</td>\n",
       "    </tr>\n",
       "    <tr>\n",
       "      <th>111</th>\n",
       "      <td>Prashant</td>\n",
       "      <td>11</td>\n",
       "      <td>Male</td>\n",
       "      <td>55000.0</td>\n",
       "      <td>41</td>\n",
       "    </tr>\n",
       "    <tr>\n",
       "      <th>112</th>\n",
       "      <td>Mohini</td>\n",
       "      <td>12</td>\n",
       "      <td>Female</td>\n",
       "      <td>65000.0</td>\n",
       "      <td>41</td>\n",
       "    </tr>\n",
       "    <tr>\n",
       "      <th>115</th>\n",
       "      <td>Kavita</td>\n",
       "      <td>15</td>\n",
       "      <td>NaN</td>\n",
       "      <td>85000.0</td>\n",
       "      <td>30</td>\n",
       "    </tr>\n",
       "    <tr>\n",
       "      <th>116</th>\n",
       "      <td>Pratik</td>\n",
       "      <td>16</td>\n",
       "      <td>NaN</td>\n",
       "      <td>NaN</td>\n",
       "      <td>32</td>\n",
       "    </tr>\n",
       "  </tbody>\n",
       "</table>\n",
       "</div>"
      ],
      "text/plain": [
       "                  Name  ID  Gender    Salary  Age\n",
       "Employee_ID                                      \n",
       "101            Utkarsh   1    Male  200000.0   45\n",
       "102             Kartik   2    Male   80000.0   38\n",
       "103          Aishwarya   3  Female   90000.0   47\n",
       "104              Anand   4    Male   65000.0   29\n",
       "105            Shalini   5  Female   90000.0   35\n",
       "106             Pratik   6    Male   80000.0   34\n",
       "107           Monalika   7  Female   70000.0   37\n",
       "108             Ayesha   8  Female   60000.0   29\n",
       "109              Anant   9    Male  100000.0   32\n",
       "110          Shamiksha  10  Female   45000.0   47\n",
       "111           Prashant  11    Male   55000.0   41\n",
       "112             Mohini  12  Female   65000.0   41\n",
       "115             Kavita  15     NaN   85000.0   30\n",
       "116             Pratik  16     NaN       NaN   32"
      ]
     },
     "execution_count": 153,
     "metadata": {},
     "output_type": "execute_result"
    }
   ],
   "source": [
    "df1.sort_index()"
   ]
  },
  {
   "cell_type": "code",
   "execution_count": 154,
   "id": "b74925a2",
   "metadata": {},
   "outputs": [
    {
     "data": {
      "text/html": [
       "<div>\n",
       "<style scoped>\n",
       "    .dataframe tbody tr th:only-of-type {\n",
       "        vertical-align: middle;\n",
       "    }\n",
       "\n",
       "    .dataframe tbody tr th {\n",
       "        vertical-align: top;\n",
       "    }\n",
       "\n",
       "    .dataframe thead th {\n",
       "        text-align: right;\n",
       "    }\n",
       "</style>\n",
       "<table border=\"1\" class=\"dataframe\">\n",
       "  <thead>\n",
       "    <tr style=\"text-align: right;\">\n",
       "      <th></th>\n",
       "      <th>Name</th>\n",
       "      <th>ID</th>\n",
       "      <th>Gender</th>\n",
       "      <th>Salary</th>\n",
       "      <th>Age</th>\n",
       "    </tr>\n",
       "    <tr>\n",
       "      <th>Employee_ID</th>\n",
       "      <th></th>\n",
       "      <th></th>\n",
       "      <th></th>\n",
       "      <th></th>\n",
       "      <th></th>\n",
       "    </tr>\n",
       "  </thead>\n",
       "  <tbody>\n",
       "    <tr>\n",
       "      <th>116</th>\n",
       "      <td>Pratik</td>\n",
       "      <td>16</td>\n",
       "      <td>NaN</td>\n",
       "      <td>NaN</td>\n",
       "      <td>32</td>\n",
       "    </tr>\n",
       "    <tr>\n",
       "      <th>115</th>\n",
       "      <td>Kavita</td>\n",
       "      <td>15</td>\n",
       "      <td>NaN</td>\n",
       "      <td>85000.0</td>\n",
       "      <td>30</td>\n",
       "    </tr>\n",
       "    <tr>\n",
       "      <th>112</th>\n",
       "      <td>Mohini</td>\n",
       "      <td>12</td>\n",
       "      <td>Female</td>\n",
       "      <td>65000.0</td>\n",
       "      <td>41</td>\n",
       "    </tr>\n",
       "    <tr>\n",
       "      <th>111</th>\n",
       "      <td>Prashant</td>\n",
       "      <td>11</td>\n",
       "      <td>Male</td>\n",
       "      <td>55000.0</td>\n",
       "      <td>41</td>\n",
       "    </tr>\n",
       "    <tr>\n",
       "      <th>110</th>\n",
       "      <td>Shamiksha</td>\n",
       "      <td>10</td>\n",
       "      <td>Female</td>\n",
       "      <td>45000.0</td>\n",
       "      <td>47</td>\n",
       "    </tr>\n",
       "    <tr>\n",
       "      <th>109</th>\n",
       "      <td>Anant</td>\n",
       "      <td>9</td>\n",
       "      <td>Male</td>\n",
       "      <td>100000.0</td>\n",
       "      <td>32</td>\n",
       "    </tr>\n",
       "    <tr>\n",
       "      <th>108</th>\n",
       "      <td>Ayesha</td>\n",
       "      <td>8</td>\n",
       "      <td>Female</td>\n",
       "      <td>60000.0</td>\n",
       "      <td>29</td>\n",
       "    </tr>\n",
       "    <tr>\n",
       "      <th>107</th>\n",
       "      <td>Monalika</td>\n",
       "      <td>7</td>\n",
       "      <td>Female</td>\n",
       "      <td>70000.0</td>\n",
       "      <td>37</td>\n",
       "    </tr>\n",
       "    <tr>\n",
       "      <th>106</th>\n",
       "      <td>Pratik</td>\n",
       "      <td>6</td>\n",
       "      <td>Male</td>\n",
       "      <td>80000.0</td>\n",
       "      <td>34</td>\n",
       "    </tr>\n",
       "    <tr>\n",
       "      <th>105</th>\n",
       "      <td>Shalini</td>\n",
       "      <td>5</td>\n",
       "      <td>Female</td>\n",
       "      <td>90000.0</td>\n",
       "      <td>35</td>\n",
       "    </tr>\n",
       "    <tr>\n",
       "      <th>104</th>\n",
       "      <td>Anand</td>\n",
       "      <td>4</td>\n",
       "      <td>Male</td>\n",
       "      <td>65000.0</td>\n",
       "      <td>29</td>\n",
       "    </tr>\n",
       "    <tr>\n",
       "      <th>103</th>\n",
       "      <td>Aishwarya</td>\n",
       "      <td>3</td>\n",
       "      <td>Female</td>\n",
       "      <td>90000.0</td>\n",
       "      <td>47</td>\n",
       "    </tr>\n",
       "    <tr>\n",
       "      <th>102</th>\n",
       "      <td>Kartik</td>\n",
       "      <td>2</td>\n",
       "      <td>Male</td>\n",
       "      <td>80000.0</td>\n",
       "      <td>38</td>\n",
       "    </tr>\n",
       "    <tr>\n",
       "      <th>101</th>\n",
       "      <td>Utkarsh</td>\n",
       "      <td>1</td>\n",
       "      <td>Male</td>\n",
       "      <td>200000.0</td>\n",
       "      <td>45</td>\n",
       "    </tr>\n",
       "  </tbody>\n",
       "</table>\n",
       "</div>"
      ],
      "text/plain": [
       "                  Name  ID  Gender    Salary  Age\n",
       "Employee_ID                                      \n",
       "116             Pratik  16     NaN       NaN   32\n",
       "115             Kavita  15     NaN   85000.0   30\n",
       "112             Mohini  12  Female   65000.0   41\n",
       "111           Prashant  11    Male   55000.0   41\n",
       "110          Shamiksha  10  Female   45000.0   47\n",
       "109              Anant   9    Male  100000.0   32\n",
       "108             Ayesha   8  Female   60000.0   29\n",
       "107           Monalika   7  Female   70000.0   37\n",
       "106             Pratik   6    Male   80000.0   34\n",
       "105            Shalini   5  Female   90000.0   35\n",
       "104              Anand   4    Male   65000.0   29\n",
       "103          Aishwarya   3  Female   90000.0   47\n",
       "102             Kartik   2    Male   80000.0   38\n",
       "101            Utkarsh   1    Male  200000.0   45"
      ]
     },
     "execution_count": 154,
     "metadata": {},
     "output_type": "execute_result"
    }
   ],
   "source": [
    "df1.sort_index(ascending = False)"
   ]
  },
  {
   "cell_type": "code",
   "execution_count": 155,
   "id": "6fc2141e",
   "metadata": {},
   "outputs": [
    {
     "data": {
      "text/html": [
       "<div>\n",
       "<style scoped>\n",
       "    .dataframe tbody tr th:only-of-type {\n",
       "        vertical-align: middle;\n",
       "    }\n",
       "\n",
       "    .dataframe tbody tr th {\n",
       "        vertical-align: top;\n",
       "    }\n",
       "\n",
       "    .dataframe thead th {\n",
       "        text-align: right;\n",
       "    }\n",
       "</style>\n",
       "<table border=\"1\" class=\"dataframe\">\n",
       "  <thead>\n",
       "    <tr style=\"text-align: right;\">\n",
       "      <th></th>\n",
       "      <th>Name</th>\n",
       "      <th>ID</th>\n",
       "      <th>Gender</th>\n",
       "      <th>Salary</th>\n",
       "      <th>Age</th>\n",
       "    </tr>\n",
       "    <tr>\n",
       "      <th>Employee_ID</th>\n",
       "      <th></th>\n",
       "      <th></th>\n",
       "      <th></th>\n",
       "      <th></th>\n",
       "      <th></th>\n",
       "    </tr>\n",
       "  </thead>\n",
       "  <tbody>\n",
       "    <tr>\n",
       "      <th>110</th>\n",
       "      <td>Shamiksha</td>\n",
       "      <td>10</td>\n",
       "      <td>Female</td>\n",
       "      <td>45000.0</td>\n",
       "      <td>47</td>\n",
       "    </tr>\n",
       "    <tr>\n",
       "      <th>111</th>\n",
       "      <td>Prashant</td>\n",
       "      <td>11</td>\n",
       "      <td>Male</td>\n",
       "      <td>55000.0</td>\n",
       "      <td>41</td>\n",
       "    </tr>\n",
       "    <tr>\n",
       "      <th>108</th>\n",
       "      <td>Ayesha</td>\n",
       "      <td>8</td>\n",
       "      <td>Female</td>\n",
       "      <td>60000.0</td>\n",
       "      <td>29</td>\n",
       "    </tr>\n",
       "    <tr>\n",
       "      <th>104</th>\n",
       "      <td>Anand</td>\n",
       "      <td>4</td>\n",
       "      <td>Male</td>\n",
       "      <td>65000.0</td>\n",
       "      <td>29</td>\n",
       "    </tr>\n",
       "    <tr>\n",
       "      <th>112</th>\n",
       "      <td>Mohini</td>\n",
       "      <td>12</td>\n",
       "      <td>Female</td>\n",
       "      <td>65000.0</td>\n",
       "      <td>41</td>\n",
       "    </tr>\n",
       "    <tr>\n",
       "      <th>107</th>\n",
       "      <td>Monalika</td>\n",
       "      <td>7</td>\n",
       "      <td>Female</td>\n",
       "      <td>70000.0</td>\n",
       "      <td>37</td>\n",
       "    </tr>\n",
       "    <tr>\n",
       "      <th>102</th>\n",
       "      <td>Kartik</td>\n",
       "      <td>2</td>\n",
       "      <td>Male</td>\n",
       "      <td>80000.0</td>\n",
       "      <td>38</td>\n",
       "    </tr>\n",
       "    <tr>\n",
       "      <th>106</th>\n",
       "      <td>Pratik</td>\n",
       "      <td>6</td>\n",
       "      <td>Male</td>\n",
       "      <td>80000.0</td>\n",
       "      <td>34</td>\n",
       "    </tr>\n",
       "    <tr>\n",
       "      <th>115</th>\n",
       "      <td>Kavita</td>\n",
       "      <td>15</td>\n",
       "      <td>NaN</td>\n",
       "      <td>85000.0</td>\n",
       "      <td>30</td>\n",
       "    </tr>\n",
       "    <tr>\n",
       "      <th>103</th>\n",
       "      <td>Aishwarya</td>\n",
       "      <td>3</td>\n",
       "      <td>Female</td>\n",
       "      <td>90000.0</td>\n",
       "      <td>47</td>\n",
       "    </tr>\n",
       "    <tr>\n",
       "      <th>105</th>\n",
       "      <td>Shalini</td>\n",
       "      <td>5</td>\n",
       "      <td>Female</td>\n",
       "      <td>90000.0</td>\n",
       "      <td>35</td>\n",
       "    </tr>\n",
       "    <tr>\n",
       "      <th>109</th>\n",
       "      <td>Anant</td>\n",
       "      <td>9</td>\n",
       "      <td>Male</td>\n",
       "      <td>100000.0</td>\n",
       "      <td>32</td>\n",
       "    </tr>\n",
       "    <tr>\n",
       "      <th>101</th>\n",
       "      <td>Utkarsh</td>\n",
       "      <td>1</td>\n",
       "      <td>Male</td>\n",
       "      <td>200000.0</td>\n",
       "      <td>45</td>\n",
       "    </tr>\n",
       "    <tr>\n",
       "      <th>116</th>\n",
       "      <td>Pratik</td>\n",
       "      <td>16</td>\n",
       "      <td>NaN</td>\n",
       "      <td>NaN</td>\n",
       "      <td>32</td>\n",
       "    </tr>\n",
       "  </tbody>\n",
       "</table>\n",
       "</div>"
      ],
      "text/plain": [
       "                  Name  ID  Gender    Salary  Age\n",
       "Employee_ID                                      \n",
       "110          Shamiksha  10  Female   45000.0   47\n",
       "111           Prashant  11    Male   55000.0   41\n",
       "108             Ayesha   8  Female   60000.0   29\n",
       "104              Anand   4    Male   65000.0   29\n",
       "112             Mohini  12  Female   65000.0   41\n",
       "107           Monalika   7  Female   70000.0   37\n",
       "102             Kartik   2    Male   80000.0   38\n",
       "106             Pratik   6    Male   80000.0   34\n",
       "115             Kavita  15     NaN   85000.0   30\n",
       "103          Aishwarya   3  Female   90000.0   47\n",
       "105            Shalini   5  Female   90000.0   35\n",
       "109              Anant   9    Male  100000.0   32\n",
       "101            Utkarsh   1    Male  200000.0   45\n",
       "116             Pratik  16     NaN       NaN   32"
      ]
     },
     "execution_count": 155,
     "metadata": {},
     "output_type": "execute_result"
    }
   ],
   "source": [
    "df1.sort_values(by = 'Salary')   # Used to order the dataframe based on a column (or Columns)"
   ]
  },
  {
   "cell_type": "code",
   "execution_count": 156,
   "id": "25b077b6",
   "metadata": {},
   "outputs": [
    {
     "data": {
      "text/html": [
       "<div>\n",
       "<style scoped>\n",
       "    .dataframe tbody tr th:only-of-type {\n",
       "        vertical-align: middle;\n",
       "    }\n",
       "\n",
       "    .dataframe tbody tr th {\n",
       "        vertical-align: top;\n",
       "    }\n",
       "\n",
       "    .dataframe thead th {\n",
       "        text-align: right;\n",
       "    }\n",
       "</style>\n",
       "<table border=\"1\" class=\"dataframe\">\n",
       "  <thead>\n",
       "    <tr style=\"text-align: right;\">\n",
       "      <th></th>\n",
       "      <th>Name</th>\n",
       "      <th>ID</th>\n",
       "      <th>Gender</th>\n",
       "      <th>Salary</th>\n",
       "      <th>Age</th>\n",
       "    </tr>\n",
       "    <tr>\n",
       "      <th>Employee_ID</th>\n",
       "      <th></th>\n",
       "      <th></th>\n",
       "      <th></th>\n",
       "      <th></th>\n",
       "      <th></th>\n",
       "    </tr>\n",
       "  </thead>\n",
       "  <tbody>\n",
       "    <tr>\n",
       "      <th>101</th>\n",
       "      <td>Utkarsh</td>\n",
       "      <td>1</td>\n",
       "      <td>Male</td>\n",
       "      <td>200000.0</td>\n",
       "      <td>45</td>\n",
       "    </tr>\n",
       "    <tr>\n",
       "      <th>109</th>\n",
       "      <td>Anant</td>\n",
       "      <td>9</td>\n",
       "      <td>Male</td>\n",
       "      <td>100000.0</td>\n",
       "      <td>32</td>\n",
       "    </tr>\n",
       "    <tr>\n",
       "      <th>103</th>\n",
       "      <td>Aishwarya</td>\n",
       "      <td>3</td>\n",
       "      <td>Female</td>\n",
       "      <td>90000.0</td>\n",
       "      <td>47</td>\n",
       "    </tr>\n",
       "    <tr>\n",
       "      <th>105</th>\n",
       "      <td>Shalini</td>\n",
       "      <td>5</td>\n",
       "      <td>Female</td>\n",
       "      <td>90000.0</td>\n",
       "      <td>35</td>\n",
       "    </tr>\n",
       "    <tr>\n",
       "      <th>115</th>\n",
       "      <td>Kavita</td>\n",
       "      <td>15</td>\n",
       "      <td>NaN</td>\n",
       "      <td>85000.0</td>\n",
       "      <td>30</td>\n",
       "    </tr>\n",
       "    <tr>\n",
       "      <th>102</th>\n",
       "      <td>Kartik</td>\n",
       "      <td>2</td>\n",
       "      <td>Male</td>\n",
       "      <td>80000.0</td>\n",
       "      <td>38</td>\n",
       "    </tr>\n",
       "    <tr>\n",
       "      <th>106</th>\n",
       "      <td>Pratik</td>\n",
       "      <td>6</td>\n",
       "      <td>Male</td>\n",
       "      <td>80000.0</td>\n",
       "      <td>34</td>\n",
       "    </tr>\n",
       "    <tr>\n",
       "      <th>107</th>\n",
       "      <td>Monalika</td>\n",
       "      <td>7</td>\n",
       "      <td>Female</td>\n",
       "      <td>70000.0</td>\n",
       "      <td>37</td>\n",
       "    </tr>\n",
       "    <tr>\n",
       "      <th>104</th>\n",
       "      <td>Anand</td>\n",
       "      <td>4</td>\n",
       "      <td>Male</td>\n",
       "      <td>65000.0</td>\n",
       "      <td>29</td>\n",
       "    </tr>\n",
       "    <tr>\n",
       "      <th>112</th>\n",
       "      <td>Mohini</td>\n",
       "      <td>12</td>\n",
       "      <td>Female</td>\n",
       "      <td>65000.0</td>\n",
       "      <td>41</td>\n",
       "    </tr>\n",
       "    <tr>\n",
       "      <th>108</th>\n",
       "      <td>Ayesha</td>\n",
       "      <td>8</td>\n",
       "      <td>Female</td>\n",
       "      <td>60000.0</td>\n",
       "      <td>29</td>\n",
       "    </tr>\n",
       "    <tr>\n",
       "      <th>111</th>\n",
       "      <td>Prashant</td>\n",
       "      <td>11</td>\n",
       "      <td>Male</td>\n",
       "      <td>55000.0</td>\n",
       "      <td>41</td>\n",
       "    </tr>\n",
       "    <tr>\n",
       "      <th>110</th>\n",
       "      <td>Shamiksha</td>\n",
       "      <td>10</td>\n",
       "      <td>Female</td>\n",
       "      <td>45000.0</td>\n",
       "      <td>47</td>\n",
       "    </tr>\n",
       "    <tr>\n",
       "      <th>116</th>\n",
       "      <td>Pratik</td>\n",
       "      <td>16</td>\n",
       "      <td>NaN</td>\n",
       "      <td>NaN</td>\n",
       "      <td>32</td>\n",
       "    </tr>\n",
       "  </tbody>\n",
       "</table>\n",
       "</div>"
      ],
      "text/plain": [
       "                  Name  ID  Gender    Salary  Age\n",
       "Employee_ID                                      \n",
       "101            Utkarsh   1    Male  200000.0   45\n",
       "109              Anant   9    Male  100000.0   32\n",
       "103          Aishwarya   3  Female   90000.0   47\n",
       "105            Shalini   5  Female   90000.0   35\n",
       "115             Kavita  15     NaN   85000.0   30\n",
       "102             Kartik   2    Male   80000.0   38\n",
       "106             Pratik   6    Male   80000.0   34\n",
       "107           Monalika   7  Female   70000.0   37\n",
       "104              Anand   4    Male   65000.0   29\n",
       "112             Mohini  12  Female   65000.0   41\n",
       "108             Ayesha   8  Female   60000.0   29\n",
       "111           Prashant  11    Male   55000.0   41\n",
       "110          Shamiksha  10  Female   45000.0   47\n",
       "116             Pratik  16     NaN       NaN   32"
      ]
     },
     "execution_count": 156,
     "metadata": {},
     "output_type": "execute_result"
    }
   ],
   "source": [
    "df1.sort_values(by = 'Salary', ascending = False)"
   ]
  },
  {
   "cell_type": "code",
   "execution_count": 157,
   "id": "fc0e2fee",
   "metadata": {},
   "outputs": [
    {
     "data": {
      "text/html": [
       "<div>\n",
       "<style scoped>\n",
       "    .dataframe tbody tr th:only-of-type {\n",
       "        vertical-align: middle;\n",
       "    }\n",
       "\n",
       "    .dataframe tbody tr th {\n",
       "        vertical-align: top;\n",
       "    }\n",
       "\n",
       "    .dataframe thead th {\n",
       "        text-align: right;\n",
       "    }\n",
       "</style>\n",
       "<table border=\"1\" class=\"dataframe\">\n",
       "  <thead>\n",
       "    <tr style=\"text-align: right;\">\n",
       "      <th></th>\n",
       "      <th>Name</th>\n",
       "      <th>ID</th>\n",
       "      <th>Gender</th>\n",
       "      <th>Salary</th>\n",
       "      <th>Age</th>\n",
       "    </tr>\n",
       "    <tr>\n",
       "      <th>Employee_ID</th>\n",
       "      <th></th>\n",
       "      <th></th>\n",
       "      <th></th>\n",
       "      <th></th>\n",
       "      <th></th>\n",
       "    </tr>\n",
       "  </thead>\n",
       "  <tbody>\n",
       "    <tr>\n",
       "      <th>103</th>\n",
       "      <td>Aishwarya</td>\n",
       "      <td>3</td>\n",
       "      <td>Female</td>\n",
       "      <td>90000.0</td>\n",
       "      <td>47</td>\n",
       "    </tr>\n",
       "    <tr>\n",
       "      <th>104</th>\n",
       "      <td>Anand</td>\n",
       "      <td>4</td>\n",
       "      <td>Male</td>\n",
       "      <td>65000.0</td>\n",
       "      <td>29</td>\n",
       "    </tr>\n",
       "    <tr>\n",
       "      <th>109</th>\n",
       "      <td>Anant</td>\n",
       "      <td>9</td>\n",
       "      <td>Male</td>\n",
       "      <td>100000.0</td>\n",
       "      <td>32</td>\n",
       "    </tr>\n",
       "    <tr>\n",
       "      <th>108</th>\n",
       "      <td>Ayesha</td>\n",
       "      <td>8</td>\n",
       "      <td>Female</td>\n",
       "      <td>60000.0</td>\n",
       "      <td>29</td>\n",
       "    </tr>\n",
       "    <tr>\n",
       "      <th>102</th>\n",
       "      <td>Kartik</td>\n",
       "      <td>2</td>\n",
       "      <td>Male</td>\n",
       "      <td>80000.0</td>\n",
       "      <td>38</td>\n",
       "    </tr>\n",
       "    <tr>\n",
       "      <th>115</th>\n",
       "      <td>Kavita</td>\n",
       "      <td>15</td>\n",
       "      <td>NaN</td>\n",
       "      <td>85000.0</td>\n",
       "      <td>30</td>\n",
       "    </tr>\n",
       "    <tr>\n",
       "      <th>112</th>\n",
       "      <td>Mohini</td>\n",
       "      <td>12</td>\n",
       "      <td>Female</td>\n",
       "      <td>65000.0</td>\n",
       "      <td>41</td>\n",
       "    </tr>\n",
       "    <tr>\n",
       "      <th>107</th>\n",
       "      <td>Monalika</td>\n",
       "      <td>7</td>\n",
       "      <td>Female</td>\n",
       "      <td>70000.0</td>\n",
       "      <td>37</td>\n",
       "    </tr>\n",
       "    <tr>\n",
       "      <th>111</th>\n",
       "      <td>Prashant</td>\n",
       "      <td>11</td>\n",
       "      <td>Male</td>\n",
       "      <td>55000.0</td>\n",
       "      <td>41</td>\n",
       "    </tr>\n",
       "    <tr>\n",
       "      <th>106</th>\n",
       "      <td>Pratik</td>\n",
       "      <td>6</td>\n",
       "      <td>Male</td>\n",
       "      <td>80000.0</td>\n",
       "      <td>34</td>\n",
       "    </tr>\n",
       "    <tr>\n",
       "      <th>116</th>\n",
       "      <td>Pratik</td>\n",
       "      <td>16</td>\n",
       "      <td>NaN</td>\n",
       "      <td>NaN</td>\n",
       "      <td>32</td>\n",
       "    </tr>\n",
       "    <tr>\n",
       "      <th>105</th>\n",
       "      <td>Shalini</td>\n",
       "      <td>5</td>\n",
       "      <td>Female</td>\n",
       "      <td>90000.0</td>\n",
       "      <td>35</td>\n",
       "    </tr>\n",
       "    <tr>\n",
       "      <th>110</th>\n",
       "      <td>Shamiksha</td>\n",
       "      <td>10</td>\n",
       "      <td>Female</td>\n",
       "      <td>45000.0</td>\n",
       "      <td>47</td>\n",
       "    </tr>\n",
       "    <tr>\n",
       "      <th>101</th>\n",
       "      <td>Utkarsh</td>\n",
       "      <td>1</td>\n",
       "      <td>Male</td>\n",
       "      <td>200000.0</td>\n",
       "      <td>45</td>\n",
       "    </tr>\n",
       "  </tbody>\n",
       "</table>\n",
       "</div>"
      ],
      "text/plain": [
       "                  Name  ID  Gender    Salary  Age\n",
       "Employee_ID                                      \n",
       "103          Aishwarya   3  Female   90000.0   47\n",
       "104              Anand   4    Male   65000.0   29\n",
       "109              Anant   9    Male  100000.0   32\n",
       "108             Ayesha   8  Female   60000.0   29\n",
       "102             Kartik   2    Male   80000.0   38\n",
       "115             Kavita  15     NaN   85000.0   30\n",
       "112             Mohini  12  Female   65000.0   41\n",
       "107           Monalika   7  Female   70000.0   37\n",
       "111           Prashant  11    Male   55000.0   41\n",
       "106             Pratik   6    Male   80000.0   34\n",
       "116             Pratik  16     NaN       NaN   32\n",
       "105            Shalini   5  Female   90000.0   35\n",
       "110          Shamiksha  10  Female   45000.0   47\n",
       "101            Utkarsh   1    Male  200000.0   45"
      ]
     },
     "execution_count": 157,
     "metadata": {},
     "output_type": "execute_result"
    }
   ],
   "source": [
    "df1.sort_values(by = 'Name')"
   ]
  },
  {
   "cell_type": "code",
   "execution_count": 158,
   "id": "aaad534b",
   "metadata": {},
   "outputs": [
    {
     "data": {
      "text/html": [
       "<div>\n",
       "<style scoped>\n",
       "    .dataframe tbody tr th:only-of-type {\n",
       "        vertical-align: middle;\n",
       "    }\n",
       "\n",
       "    .dataframe tbody tr th {\n",
       "        vertical-align: top;\n",
       "    }\n",
       "\n",
       "    .dataframe thead th {\n",
       "        text-align: right;\n",
       "    }\n",
       "</style>\n",
       "<table border=\"1\" class=\"dataframe\">\n",
       "  <thead>\n",
       "    <tr style=\"text-align: right;\">\n",
       "      <th></th>\n",
       "      <th>Name</th>\n",
       "      <th>ID</th>\n",
       "      <th>Gender</th>\n",
       "      <th>Salary</th>\n",
       "      <th>Age</th>\n",
       "    </tr>\n",
       "    <tr>\n",
       "      <th>Employee_ID</th>\n",
       "      <th></th>\n",
       "      <th></th>\n",
       "      <th></th>\n",
       "      <th></th>\n",
       "      <th></th>\n",
       "    </tr>\n",
       "  </thead>\n",
       "  <tbody>\n",
       "    <tr>\n",
       "      <th>108</th>\n",
       "      <td>Ayesha</td>\n",
       "      <td>8</td>\n",
       "      <td>Female</td>\n",
       "      <td>60000.0</td>\n",
       "      <td>29</td>\n",
       "    </tr>\n",
       "    <tr>\n",
       "      <th>104</th>\n",
       "      <td>Anand</td>\n",
       "      <td>4</td>\n",
       "      <td>Male</td>\n",
       "      <td>65000.0</td>\n",
       "      <td>29</td>\n",
       "    </tr>\n",
       "    <tr>\n",
       "      <th>115</th>\n",
       "      <td>Kavita</td>\n",
       "      <td>15</td>\n",
       "      <td>NaN</td>\n",
       "      <td>85000.0</td>\n",
       "      <td>30</td>\n",
       "    </tr>\n",
       "    <tr>\n",
       "      <th>109</th>\n",
       "      <td>Anant</td>\n",
       "      <td>9</td>\n",
       "      <td>Male</td>\n",
       "      <td>100000.0</td>\n",
       "      <td>32</td>\n",
       "    </tr>\n",
       "    <tr>\n",
       "      <th>116</th>\n",
       "      <td>Pratik</td>\n",
       "      <td>16</td>\n",
       "      <td>NaN</td>\n",
       "      <td>NaN</td>\n",
       "      <td>32</td>\n",
       "    </tr>\n",
       "    <tr>\n",
       "      <th>106</th>\n",
       "      <td>Pratik</td>\n",
       "      <td>6</td>\n",
       "      <td>Male</td>\n",
       "      <td>80000.0</td>\n",
       "      <td>34</td>\n",
       "    </tr>\n",
       "    <tr>\n",
       "      <th>105</th>\n",
       "      <td>Shalini</td>\n",
       "      <td>5</td>\n",
       "      <td>Female</td>\n",
       "      <td>90000.0</td>\n",
       "      <td>35</td>\n",
       "    </tr>\n",
       "    <tr>\n",
       "      <th>107</th>\n",
       "      <td>Monalika</td>\n",
       "      <td>7</td>\n",
       "      <td>Female</td>\n",
       "      <td>70000.0</td>\n",
       "      <td>37</td>\n",
       "    </tr>\n",
       "    <tr>\n",
       "      <th>102</th>\n",
       "      <td>Kartik</td>\n",
       "      <td>2</td>\n",
       "      <td>Male</td>\n",
       "      <td>80000.0</td>\n",
       "      <td>38</td>\n",
       "    </tr>\n",
       "    <tr>\n",
       "      <th>111</th>\n",
       "      <td>Prashant</td>\n",
       "      <td>11</td>\n",
       "      <td>Male</td>\n",
       "      <td>55000.0</td>\n",
       "      <td>41</td>\n",
       "    </tr>\n",
       "    <tr>\n",
       "      <th>112</th>\n",
       "      <td>Mohini</td>\n",
       "      <td>12</td>\n",
       "      <td>Female</td>\n",
       "      <td>65000.0</td>\n",
       "      <td>41</td>\n",
       "    </tr>\n",
       "    <tr>\n",
       "      <th>101</th>\n",
       "      <td>Utkarsh</td>\n",
       "      <td>1</td>\n",
       "      <td>Male</td>\n",
       "      <td>200000.0</td>\n",
       "      <td>45</td>\n",
       "    </tr>\n",
       "    <tr>\n",
       "      <th>110</th>\n",
       "      <td>Shamiksha</td>\n",
       "      <td>10</td>\n",
       "      <td>Female</td>\n",
       "      <td>45000.0</td>\n",
       "      <td>47</td>\n",
       "    </tr>\n",
       "    <tr>\n",
       "      <th>103</th>\n",
       "      <td>Aishwarya</td>\n",
       "      <td>3</td>\n",
       "      <td>Female</td>\n",
       "      <td>90000.0</td>\n",
       "      <td>47</td>\n",
       "    </tr>\n",
       "  </tbody>\n",
       "</table>\n",
       "</div>"
      ],
      "text/plain": [
       "                  Name  ID  Gender    Salary  Age\n",
       "Employee_ID                                      \n",
       "108             Ayesha   8  Female   60000.0   29\n",
       "104              Anand   4    Male   65000.0   29\n",
       "115             Kavita  15     NaN   85000.0   30\n",
       "109              Anant   9    Male  100000.0   32\n",
       "116             Pratik  16     NaN       NaN   32\n",
       "106             Pratik   6    Male   80000.0   34\n",
       "105            Shalini   5  Female   90000.0   35\n",
       "107           Monalika   7  Female   70000.0   37\n",
       "102             Kartik   2    Male   80000.0   38\n",
       "111           Prashant  11    Male   55000.0   41\n",
       "112             Mohini  12  Female   65000.0   41\n",
       "101            Utkarsh   1    Male  200000.0   45\n",
       "110          Shamiksha  10  Female   45000.0   47\n",
       "103          Aishwarya   3  Female   90000.0   47"
      ]
     },
     "execution_count": 158,
     "metadata": {},
     "output_type": "execute_result"
    }
   ],
   "source": [
    "df1.sort_values(by = ['Age', 'Salary'])"
   ]
  },
  {
   "cell_type": "code",
   "execution_count": 159,
   "id": "7735efbb",
   "metadata": {},
   "outputs": [
    {
     "data": {
      "text/html": [
       "<div>\n",
       "<style scoped>\n",
       "    .dataframe tbody tr th:only-of-type {\n",
       "        vertical-align: middle;\n",
       "    }\n",
       "\n",
       "    .dataframe tbody tr th {\n",
       "        vertical-align: top;\n",
       "    }\n",
       "\n",
       "    .dataframe thead th {\n",
       "        text-align: right;\n",
       "    }\n",
       "</style>\n",
       "<table border=\"1\" class=\"dataframe\">\n",
       "  <thead>\n",
       "    <tr style=\"text-align: right;\">\n",
       "      <th></th>\n",
       "      <th>Name</th>\n",
       "      <th>ID</th>\n",
       "      <th>Gender</th>\n",
       "      <th>Salary</th>\n",
       "      <th>Age</th>\n",
       "    </tr>\n",
       "    <tr>\n",
       "      <th>Employee_ID</th>\n",
       "      <th></th>\n",
       "      <th></th>\n",
       "      <th></th>\n",
       "      <th></th>\n",
       "      <th></th>\n",
       "    </tr>\n",
       "  </thead>\n",
       "  <tbody>\n",
       "    <tr>\n",
       "      <th>101</th>\n",
       "      <td>Utkarsh</td>\n",
       "      <td>1</td>\n",
       "      <td>Male</td>\n",
       "      <td>200000.0</td>\n",
       "      <td>45</td>\n",
       "    </tr>\n",
       "    <tr>\n",
       "      <th>102</th>\n",
       "      <td>Kartik</td>\n",
       "      <td>2</td>\n",
       "      <td>Male</td>\n",
       "      <td>80000.0</td>\n",
       "      <td>38</td>\n",
       "    </tr>\n",
       "    <tr>\n",
       "      <th>103</th>\n",
       "      <td>Aishwarya</td>\n",
       "      <td>3</td>\n",
       "      <td>Female</td>\n",
       "      <td>90000.0</td>\n",
       "      <td>47</td>\n",
       "    </tr>\n",
       "    <tr>\n",
       "      <th>104</th>\n",
       "      <td>Anand</td>\n",
       "      <td>4</td>\n",
       "      <td>Male</td>\n",
       "      <td>65000.0</td>\n",
       "      <td>29</td>\n",
       "    </tr>\n",
       "    <tr>\n",
       "      <th>105</th>\n",
       "      <td>Shalini</td>\n",
       "      <td>5</td>\n",
       "      <td>Female</td>\n",
       "      <td>90000.0</td>\n",
       "      <td>35</td>\n",
       "    </tr>\n",
       "    <tr>\n",
       "      <th>106</th>\n",
       "      <td>Pratik</td>\n",
       "      <td>6</td>\n",
       "      <td>Male</td>\n",
       "      <td>80000.0</td>\n",
       "      <td>34</td>\n",
       "    </tr>\n",
       "    <tr>\n",
       "      <th>107</th>\n",
       "      <td>Monalika</td>\n",
       "      <td>7</td>\n",
       "      <td>Female</td>\n",
       "      <td>70000.0</td>\n",
       "      <td>37</td>\n",
       "    </tr>\n",
       "    <tr>\n",
       "      <th>108</th>\n",
       "      <td>Ayesha</td>\n",
       "      <td>8</td>\n",
       "      <td>Female</td>\n",
       "      <td>60000.0</td>\n",
       "      <td>29</td>\n",
       "    </tr>\n",
       "    <tr>\n",
       "      <th>109</th>\n",
       "      <td>Anant</td>\n",
       "      <td>9</td>\n",
       "      <td>Male</td>\n",
       "      <td>100000.0</td>\n",
       "      <td>32</td>\n",
       "    </tr>\n",
       "    <tr>\n",
       "      <th>110</th>\n",
       "      <td>Shamiksha</td>\n",
       "      <td>10</td>\n",
       "      <td>Female</td>\n",
       "      <td>45000.0</td>\n",
       "      <td>47</td>\n",
       "    </tr>\n",
       "    <tr>\n",
       "      <th>111</th>\n",
       "      <td>Prashant</td>\n",
       "      <td>11</td>\n",
       "      <td>Male</td>\n",
       "      <td>55000.0</td>\n",
       "      <td>41</td>\n",
       "    </tr>\n",
       "    <tr>\n",
       "      <th>112</th>\n",
       "      <td>Mohini</td>\n",
       "      <td>12</td>\n",
       "      <td>Female</td>\n",
       "      <td>65000.0</td>\n",
       "      <td>41</td>\n",
       "    </tr>\n",
       "    <tr>\n",
       "      <th>115</th>\n",
       "      <td>Kavita</td>\n",
       "      <td>15</td>\n",
       "      <td>NaN</td>\n",
       "      <td>85000.0</td>\n",
       "      <td>30</td>\n",
       "    </tr>\n",
       "    <tr>\n",
       "      <th>116</th>\n",
       "      <td>Pratik</td>\n",
       "      <td>16</td>\n",
       "      <td>NaN</td>\n",
       "      <td>NaN</td>\n",
       "      <td>32</td>\n",
       "    </tr>\n",
       "    <tr>\n",
       "      <th>101</th>\n",
       "      <td>Utkarsh</td>\n",
       "      <td>1</td>\n",
       "      <td>Male</td>\n",
       "      <td>200000.0</td>\n",
       "      <td>45</td>\n",
       "    </tr>\n",
       "    <tr>\n",
       "      <th>102</th>\n",
       "      <td>Kartik</td>\n",
       "      <td>2</td>\n",
       "      <td>Male</td>\n",
       "      <td>80000.0</td>\n",
       "      <td>38</td>\n",
       "    </tr>\n",
       "    <tr>\n",
       "      <th>103</th>\n",
       "      <td>Aishwarya</td>\n",
       "      <td>3</td>\n",
       "      <td>Female</td>\n",
       "      <td>90000.0</td>\n",
       "      <td>47</td>\n",
       "    </tr>\n",
       "    <tr>\n",
       "      <th>104</th>\n",
       "      <td>Anand</td>\n",
       "      <td>4</td>\n",
       "      <td>Male</td>\n",
       "      <td>65000.0</td>\n",
       "      <td>29</td>\n",
       "    </tr>\n",
       "    <tr>\n",
       "      <th>105</th>\n",
       "      <td>Shalini</td>\n",
       "      <td>5</td>\n",
       "      <td>Female</td>\n",
       "      <td>90000.0</td>\n",
       "      <td>35</td>\n",
       "    </tr>\n",
       "    <tr>\n",
       "      <th>106</th>\n",
       "      <td>Pratik</td>\n",
       "      <td>6</td>\n",
       "      <td>Male</td>\n",
       "      <td>80000.0</td>\n",
       "      <td>34</td>\n",
       "    </tr>\n",
       "    <tr>\n",
       "      <th>107</th>\n",
       "      <td>Monalika</td>\n",
       "      <td>7</td>\n",
       "      <td>Female</td>\n",
       "      <td>70000.0</td>\n",
       "      <td>37</td>\n",
       "    </tr>\n",
       "    <tr>\n",
       "      <th>108</th>\n",
       "      <td>Ayesha</td>\n",
       "      <td>8</td>\n",
       "      <td>Female</td>\n",
       "      <td>60000.0</td>\n",
       "      <td>29</td>\n",
       "    </tr>\n",
       "    <tr>\n",
       "      <th>109</th>\n",
       "      <td>Anant</td>\n",
       "      <td>9</td>\n",
       "      <td>Male</td>\n",
       "      <td>100000.0</td>\n",
       "      <td>32</td>\n",
       "    </tr>\n",
       "    <tr>\n",
       "      <th>110</th>\n",
       "      <td>Shamiksha</td>\n",
       "      <td>10</td>\n",
       "      <td>Female</td>\n",
       "      <td>45000.0</td>\n",
       "      <td>47</td>\n",
       "    </tr>\n",
       "    <tr>\n",
       "      <th>111</th>\n",
       "      <td>Prashant</td>\n",
       "      <td>11</td>\n",
       "      <td>Male</td>\n",
       "      <td>55000.0</td>\n",
       "      <td>41</td>\n",
       "    </tr>\n",
       "    <tr>\n",
       "      <th>112</th>\n",
       "      <td>Mohini</td>\n",
       "      <td>12</td>\n",
       "      <td>Female</td>\n",
       "      <td>65000.0</td>\n",
       "      <td>41</td>\n",
       "    </tr>\n",
       "    <tr>\n",
       "      <th>115</th>\n",
       "      <td>Kavita</td>\n",
       "      <td>15</td>\n",
       "      <td>NaN</td>\n",
       "      <td>85000.0</td>\n",
       "      <td>30</td>\n",
       "    </tr>\n",
       "    <tr>\n",
       "      <th>116</th>\n",
       "      <td>Pratik</td>\n",
       "      <td>16</td>\n",
       "      <td>NaN</td>\n",
       "      <td>NaN</td>\n",
       "      <td>32</td>\n",
       "    </tr>\n",
       "  </tbody>\n",
       "</table>\n",
       "</div>"
      ],
      "text/plain": [
       "                  Name  ID  Gender    Salary  Age\n",
       "Employee_ID                                      \n",
       "101            Utkarsh   1    Male  200000.0   45\n",
       "102             Kartik   2    Male   80000.0   38\n",
       "103          Aishwarya   3  Female   90000.0   47\n",
       "104              Anand   4    Male   65000.0   29\n",
       "105            Shalini   5  Female   90000.0   35\n",
       "106             Pratik   6    Male   80000.0   34\n",
       "107           Monalika   7  Female   70000.0   37\n",
       "108             Ayesha   8  Female   60000.0   29\n",
       "109              Anant   9    Male  100000.0   32\n",
       "110          Shamiksha  10  Female   45000.0   47\n",
       "111           Prashant  11    Male   55000.0   41\n",
       "112             Mohini  12  Female   65000.0   41\n",
       "115             Kavita  15     NaN   85000.0   30\n",
       "116             Pratik  16     NaN       NaN   32\n",
       "101            Utkarsh   1    Male  200000.0   45\n",
       "102             Kartik   2    Male   80000.0   38\n",
       "103          Aishwarya   3  Female   90000.0   47\n",
       "104              Anand   4    Male   65000.0   29\n",
       "105            Shalini   5  Female   90000.0   35\n",
       "106             Pratik   6    Male   80000.0   34\n",
       "107           Monalika   7  Female   70000.0   37\n",
       "108             Ayesha   8  Female   60000.0   29\n",
       "109              Anant   9    Male  100000.0   32\n",
       "110          Shamiksha  10  Female   45000.0   47\n",
       "111           Prashant  11    Male   55000.0   41\n",
       "112             Mohini  12  Female   65000.0   41\n",
       "115             Kavita  15     NaN   85000.0   30\n",
       "116             Pratik  16     NaN       NaN   32"
      ]
     },
     "execution_count": 159,
     "metadata": {},
     "output_type": "execute_result"
    }
   ],
   "source": [
    "pd.concat([df1,df1],axis = 0)"
   ]
  },
  {
   "cell_type": "code",
   "execution_count": 160,
   "id": "aeb3277c",
   "metadata": {},
   "outputs": [
    {
     "data": {
      "text/html": [
       "<div>\n",
       "<style scoped>\n",
       "    .dataframe tbody tr th:only-of-type {\n",
       "        vertical-align: middle;\n",
       "    }\n",
       "\n",
       "    .dataframe tbody tr th {\n",
       "        vertical-align: top;\n",
       "    }\n",
       "\n",
       "    .dataframe thead th {\n",
       "        text-align: right;\n",
       "    }\n",
       "</style>\n",
       "<table border=\"1\" class=\"dataframe\">\n",
       "  <thead>\n",
       "    <tr style=\"text-align: right;\">\n",
       "      <th></th>\n",
       "      <th>Name</th>\n",
       "      <th>ID</th>\n",
       "      <th>Gender</th>\n",
       "      <th>Salary</th>\n",
       "      <th>Age</th>\n",
       "      <th>Name</th>\n",
       "      <th>ID</th>\n",
       "      <th>Gender</th>\n",
       "      <th>Salary</th>\n",
       "      <th>Age</th>\n",
       "    </tr>\n",
       "    <tr>\n",
       "      <th>Employee_ID</th>\n",
       "      <th></th>\n",
       "      <th></th>\n",
       "      <th></th>\n",
       "      <th></th>\n",
       "      <th></th>\n",
       "      <th></th>\n",
       "      <th></th>\n",
       "      <th></th>\n",
       "      <th></th>\n",
       "      <th></th>\n",
       "    </tr>\n",
       "  </thead>\n",
       "  <tbody>\n",
       "    <tr>\n",
       "      <th>101</th>\n",
       "      <td>Utkarsh</td>\n",
       "      <td>1</td>\n",
       "      <td>Male</td>\n",
       "      <td>200000.0</td>\n",
       "      <td>45</td>\n",
       "      <td>Utkarsh</td>\n",
       "      <td>1</td>\n",
       "      <td>Male</td>\n",
       "      <td>200000.0</td>\n",
       "      <td>45</td>\n",
       "    </tr>\n",
       "    <tr>\n",
       "      <th>102</th>\n",
       "      <td>Kartik</td>\n",
       "      <td>2</td>\n",
       "      <td>Male</td>\n",
       "      <td>80000.0</td>\n",
       "      <td>38</td>\n",
       "      <td>Kartik</td>\n",
       "      <td>2</td>\n",
       "      <td>Male</td>\n",
       "      <td>80000.0</td>\n",
       "      <td>38</td>\n",
       "    </tr>\n",
       "    <tr>\n",
       "      <th>103</th>\n",
       "      <td>Aishwarya</td>\n",
       "      <td>3</td>\n",
       "      <td>Female</td>\n",
       "      <td>90000.0</td>\n",
       "      <td>47</td>\n",
       "      <td>Aishwarya</td>\n",
       "      <td>3</td>\n",
       "      <td>Female</td>\n",
       "      <td>90000.0</td>\n",
       "      <td>47</td>\n",
       "    </tr>\n",
       "    <tr>\n",
       "      <th>104</th>\n",
       "      <td>Anand</td>\n",
       "      <td>4</td>\n",
       "      <td>Male</td>\n",
       "      <td>65000.0</td>\n",
       "      <td>29</td>\n",
       "      <td>Anand</td>\n",
       "      <td>4</td>\n",
       "      <td>Male</td>\n",
       "      <td>65000.0</td>\n",
       "      <td>29</td>\n",
       "    </tr>\n",
       "    <tr>\n",
       "      <th>105</th>\n",
       "      <td>Shalini</td>\n",
       "      <td>5</td>\n",
       "      <td>Female</td>\n",
       "      <td>90000.0</td>\n",
       "      <td>35</td>\n",
       "      <td>Shalini</td>\n",
       "      <td>5</td>\n",
       "      <td>Female</td>\n",
       "      <td>90000.0</td>\n",
       "      <td>35</td>\n",
       "    </tr>\n",
       "    <tr>\n",
       "      <th>106</th>\n",
       "      <td>Pratik</td>\n",
       "      <td>6</td>\n",
       "      <td>Male</td>\n",
       "      <td>80000.0</td>\n",
       "      <td>34</td>\n",
       "      <td>Pratik</td>\n",
       "      <td>6</td>\n",
       "      <td>Male</td>\n",
       "      <td>80000.0</td>\n",
       "      <td>34</td>\n",
       "    </tr>\n",
       "    <tr>\n",
       "      <th>107</th>\n",
       "      <td>Monalika</td>\n",
       "      <td>7</td>\n",
       "      <td>Female</td>\n",
       "      <td>70000.0</td>\n",
       "      <td>37</td>\n",
       "      <td>Monalika</td>\n",
       "      <td>7</td>\n",
       "      <td>Female</td>\n",
       "      <td>70000.0</td>\n",
       "      <td>37</td>\n",
       "    </tr>\n",
       "    <tr>\n",
       "      <th>108</th>\n",
       "      <td>Ayesha</td>\n",
       "      <td>8</td>\n",
       "      <td>Female</td>\n",
       "      <td>60000.0</td>\n",
       "      <td>29</td>\n",
       "      <td>Ayesha</td>\n",
       "      <td>8</td>\n",
       "      <td>Female</td>\n",
       "      <td>60000.0</td>\n",
       "      <td>29</td>\n",
       "    </tr>\n",
       "    <tr>\n",
       "      <th>109</th>\n",
       "      <td>Anant</td>\n",
       "      <td>9</td>\n",
       "      <td>Male</td>\n",
       "      <td>100000.0</td>\n",
       "      <td>32</td>\n",
       "      <td>Anant</td>\n",
       "      <td>9</td>\n",
       "      <td>Male</td>\n",
       "      <td>100000.0</td>\n",
       "      <td>32</td>\n",
       "    </tr>\n",
       "    <tr>\n",
       "      <th>110</th>\n",
       "      <td>Shamiksha</td>\n",
       "      <td>10</td>\n",
       "      <td>Female</td>\n",
       "      <td>45000.0</td>\n",
       "      <td>47</td>\n",
       "      <td>Shamiksha</td>\n",
       "      <td>10</td>\n",
       "      <td>Female</td>\n",
       "      <td>45000.0</td>\n",
       "      <td>47</td>\n",
       "    </tr>\n",
       "    <tr>\n",
       "      <th>111</th>\n",
       "      <td>Prashant</td>\n",
       "      <td>11</td>\n",
       "      <td>Male</td>\n",
       "      <td>55000.0</td>\n",
       "      <td>41</td>\n",
       "      <td>Prashant</td>\n",
       "      <td>11</td>\n",
       "      <td>Male</td>\n",
       "      <td>55000.0</td>\n",
       "      <td>41</td>\n",
       "    </tr>\n",
       "    <tr>\n",
       "      <th>112</th>\n",
       "      <td>Mohini</td>\n",
       "      <td>12</td>\n",
       "      <td>Female</td>\n",
       "      <td>65000.0</td>\n",
       "      <td>41</td>\n",
       "      <td>Mohini</td>\n",
       "      <td>12</td>\n",
       "      <td>Female</td>\n",
       "      <td>65000.0</td>\n",
       "      <td>41</td>\n",
       "    </tr>\n",
       "    <tr>\n",
       "      <th>115</th>\n",
       "      <td>Kavita</td>\n",
       "      <td>15</td>\n",
       "      <td>NaN</td>\n",
       "      <td>85000.0</td>\n",
       "      <td>30</td>\n",
       "      <td>Kavita</td>\n",
       "      <td>15</td>\n",
       "      <td>NaN</td>\n",
       "      <td>85000.0</td>\n",
       "      <td>30</td>\n",
       "    </tr>\n",
       "    <tr>\n",
       "      <th>116</th>\n",
       "      <td>Pratik</td>\n",
       "      <td>16</td>\n",
       "      <td>NaN</td>\n",
       "      <td>NaN</td>\n",
       "      <td>32</td>\n",
       "      <td>Pratik</td>\n",
       "      <td>16</td>\n",
       "      <td>NaN</td>\n",
       "      <td>NaN</td>\n",
       "      <td>32</td>\n",
       "    </tr>\n",
       "  </tbody>\n",
       "</table>\n",
       "</div>"
      ],
      "text/plain": [
       "                  Name  ID  Gender    Salary  Age       Name  ID  Gender  \\\n",
       "Employee_ID                                                                \n",
       "101            Utkarsh   1    Male  200000.0   45    Utkarsh   1    Male   \n",
       "102             Kartik   2    Male   80000.0   38     Kartik   2    Male   \n",
       "103          Aishwarya   3  Female   90000.0   47  Aishwarya   3  Female   \n",
       "104              Anand   4    Male   65000.0   29      Anand   4    Male   \n",
       "105            Shalini   5  Female   90000.0   35    Shalini   5  Female   \n",
       "106             Pratik   6    Male   80000.0   34     Pratik   6    Male   \n",
       "107           Monalika   7  Female   70000.0   37   Monalika   7  Female   \n",
       "108             Ayesha   8  Female   60000.0   29     Ayesha   8  Female   \n",
       "109              Anant   9    Male  100000.0   32      Anant   9    Male   \n",
       "110          Shamiksha  10  Female   45000.0   47  Shamiksha  10  Female   \n",
       "111           Prashant  11    Male   55000.0   41   Prashant  11    Male   \n",
       "112             Mohini  12  Female   65000.0   41     Mohini  12  Female   \n",
       "115             Kavita  15     NaN   85000.0   30     Kavita  15     NaN   \n",
       "116             Pratik  16     NaN       NaN   32     Pratik  16     NaN   \n",
       "\n",
       "               Salary  Age  \n",
       "Employee_ID                 \n",
       "101          200000.0   45  \n",
       "102           80000.0   38  \n",
       "103           90000.0   47  \n",
       "104           65000.0   29  \n",
       "105           90000.0   35  \n",
       "106           80000.0   34  \n",
       "107           70000.0   37  \n",
       "108           60000.0   29  \n",
       "109          100000.0   32  \n",
       "110           45000.0   47  \n",
       "111           55000.0   41  \n",
       "112           65000.0   41  \n",
       "115           85000.0   30  \n",
       "116               NaN   32  "
      ]
     },
     "execution_count": 160,
     "metadata": {},
     "output_type": "execute_result"
    }
   ],
   "source": [
    "pd.concat([df1,df1], axis = 1)"
   ]
  },
  {
   "cell_type": "code",
   "execution_count": 161,
   "id": "4548b310",
   "metadata": {},
   "outputs": [
    {
     "data": {
      "text/plain": [
       "80000.0     2\n",
       "90000.0     2\n",
       "65000.0     2\n",
       "200000.0    1\n",
       "70000.0     1\n",
       "60000.0     1\n",
       "100000.0    1\n",
       "45000.0     1\n",
       "55000.0     1\n",
       "85000.0     1\n",
       "Name: Salary, dtype: int64"
      ]
     },
     "execution_count": 161,
     "metadata": {},
     "output_type": "execute_result"
    }
   ],
   "source": [
    "df1.Salary.value_counts()    # It counts the values"
   ]
  },
  {
   "cell_type": "code",
   "execution_count": 162,
   "id": "5bc9b921",
   "metadata": {},
   "outputs": [
    {
     "data": {
      "text/plain": [
       "Male      6\n",
       "Female    6\n",
       "Name: Gender, dtype: int64"
      ]
     },
     "execution_count": 162,
     "metadata": {},
     "output_type": "execute_result"
    }
   ],
   "source": [
    "df1.Gender.value_counts()"
   ]
  },
  {
   "cell_type": "code",
   "execution_count": 163,
   "id": "ac61bf92",
   "metadata": {},
   "outputs": [
    {
     "data": {
      "text/plain": [
       "Male      0.5\n",
       "Female    0.5\n",
       "Name: Gender, dtype: float64"
      ]
     },
     "execution_count": 163,
     "metadata": {},
     "output_type": "execute_result"
    }
   ],
   "source": [
    "df1.Gender.value_counts(normalize = True)  # To get ratios"
   ]
  },
  {
   "cell_type": "code",
   "execution_count": 164,
   "id": "bde9f5bb",
   "metadata": {},
   "outputs": [
    {
     "data": {
      "text/html": [
       "<div>\n",
       "<style scoped>\n",
       "    .dataframe tbody tr th:only-of-type {\n",
       "        vertical-align: middle;\n",
       "    }\n",
       "\n",
       "    .dataframe tbody tr th {\n",
       "        vertical-align: top;\n",
       "    }\n",
       "\n",
       "    .dataframe thead th {\n",
       "        text-align: right;\n",
       "    }\n",
       "</style>\n",
       "<table border=\"1\" class=\"dataframe\">\n",
       "  <thead>\n",
       "    <tr style=\"text-align: right;\">\n",
       "      <th></th>\n",
       "      <th>ID</th>\n",
       "      <th>Salary</th>\n",
       "      <th>Age</th>\n",
       "    </tr>\n",
       "  </thead>\n",
       "  <tbody>\n",
       "    <tr>\n",
       "      <th>count</th>\n",
       "      <td>14.000000</td>\n",
       "      <td>13.000000</td>\n",
       "      <td>14.000000</td>\n",
       "    </tr>\n",
       "    <tr>\n",
       "      <th>mean</th>\n",
       "      <td>7.785714</td>\n",
       "      <td>83461.538462</td>\n",
       "      <td>36.928571</td>\n",
       "    </tr>\n",
       "    <tr>\n",
       "      <th>std</th>\n",
       "      <td>4.660448</td>\n",
       "      <td>38372.332447</td>\n",
       "      <td>6.426679</td>\n",
       "    </tr>\n",
       "    <tr>\n",
       "      <th>min</th>\n",
       "      <td>1.000000</td>\n",
       "      <td>45000.000000</td>\n",
       "      <td>29.000000</td>\n",
       "    </tr>\n",
       "    <tr>\n",
       "      <th>25%</th>\n",
       "      <td>4.250000</td>\n",
       "      <td>65000.000000</td>\n",
       "      <td>32.000000</td>\n",
       "    </tr>\n",
       "    <tr>\n",
       "      <th>50%</th>\n",
       "      <td>7.500000</td>\n",
       "      <td>80000.000000</td>\n",
       "      <td>36.000000</td>\n",
       "    </tr>\n",
       "    <tr>\n",
       "      <th>75%</th>\n",
       "      <td>10.750000</td>\n",
       "      <td>90000.000000</td>\n",
       "      <td>41.000000</td>\n",
       "    </tr>\n",
       "    <tr>\n",
       "      <th>max</th>\n",
       "      <td>16.000000</td>\n",
       "      <td>200000.000000</td>\n",
       "      <td>47.000000</td>\n",
       "    </tr>\n",
       "  </tbody>\n",
       "</table>\n",
       "</div>"
      ],
      "text/plain": [
       "              ID         Salary        Age\n",
       "count  14.000000      13.000000  14.000000\n",
       "mean    7.785714   83461.538462  36.928571\n",
       "std     4.660448   38372.332447   6.426679\n",
       "min     1.000000   45000.000000  29.000000\n",
       "25%     4.250000   65000.000000  32.000000\n",
       "50%     7.500000   80000.000000  36.000000\n",
       "75%    10.750000   90000.000000  41.000000\n",
       "max    16.000000  200000.000000  47.000000"
      ]
     },
     "execution_count": 164,
     "metadata": {},
     "output_type": "execute_result"
    }
   ],
   "source": [
    "df1.describe()           # Gives descriptive statistics about numerical columns"
   ]
  },
  {
   "cell_type": "code",
   "execution_count": 165,
   "id": "114b0d2a",
   "metadata": {},
   "outputs": [
    {
     "data": {
      "text/html": [
       "<div>\n",
       "<style scoped>\n",
       "    .dataframe tbody tr th:only-of-type {\n",
       "        vertical-align: middle;\n",
       "    }\n",
       "\n",
       "    .dataframe tbody tr th {\n",
       "        vertical-align: top;\n",
       "    }\n",
       "\n",
       "    .dataframe thead th {\n",
       "        text-align: right;\n",
       "    }\n",
       "</style>\n",
       "<table border=\"1\" class=\"dataframe\">\n",
       "  <thead>\n",
       "    <tr style=\"text-align: right;\">\n",
       "      <th></th>\n",
       "      <th>Age</th>\n",
       "      <th>Salary</th>\n",
       "    </tr>\n",
       "  </thead>\n",
       "  <tbody>\n",
       "    <tr>\n",
       "      <th>count</th>\n",
       "      <td>14.000000</td>\n",
       "      <td>13.000000</td>\n",
       "    </tr>\n",
       "    <tr>\n",
       "      <th>mean</th>\n",
       "      <td>36.928571</td>\n",
       "      <td>83461.538462</td>\n",
       "    </tr>\n",
       "    <tr>\n",
       "      <th>std</th>\n",
       "      <td>6.426679</td>\n",
       "      <td>38372.332447</td>\n",
       "    </tr>\n",
       "    <tr>\n",
       "      <th>min</th>\n",
       "      <td>29.000000</td>\n",
       "      <td>45000.000000</td>\n",
       "    </tr>\n",
       "    <tr>\n",
       "      <th>25%</th>\n",
       "      <td>32.000000</td>\n",
       "      <td>65000.000000</td>\n",
       "    </tr>\n",
       "    <tr>\n",
       "      <th>50%</th>\n",
       "      <td>36.000000</td>\n",
       "      <td>80000.000000</td>\n",
       "    </tr>\n",
       "    <tr>\n",
       "      <th>75%</th>\n",
       "      <td>41.000000</td>\n",
       "      <td>90000.000000</td>\n",
       "    </tr>\n",
       "    <tr>\n",
       "      <th>max</th>\n",
       "      <td>47.000000</td>\n",
       "      <td>200000.000000</td>\n",
       "    </tr>\n",
       "  </tbody>\n",
       "</table>\n",
       "</div>"
      ],
      "text/plain": [
       "             Age         Salary\n",
       "count  14.000000      13.000000\n",
       "mean   36.928571   83461.538462\n",
       "std     6.426679   38372.332447\n",
       "min    29.000000   45000.000000\n",
       "25%    32.000000   65000.000000\n",
       "50%    36.000000   80000.000000\n",
       "75%    41.000000   90000.000000\n",
       "max    47.000000  200000.000000"
      ]
     },
     "execution_count": 165,
     "metadata": {},
     "output_type": "execute_result"
    }
   ],
   "source": [
    "df1[['Age','Salary']].describe()"
   ]
  },
  {
   "cell_type": "code",
   "execution_count": 166,
   "id": "d1e1a075",
   "metadata": {},
   "outputs": [
    {
     "data": {
      "text/plain": [
       "Name      14\n",
       "ID        14\n",
       "Gender    12\n",
       "Salary    13\n",
       "Age       14\n",
       "dtype: int64"
      ]
     },
     "execution_count": 166,
     "metadata": {},
     "output_type": "execute_result"
    }
   ],
   "source": [
    "df1.count()"
   ]
  },
  {
   "cell_type": "code",
   "execution_count": 167,
   "id": "5541f605",
   "metadata": {},
   "outputs": [
    {
     "data": {
      "text/plain": [
       "ID            7.785714\n",
       "Salary    83461.538462\n",
       "Age          36.928571\n",
       "dtype: float64"
      ]
     },
     "execution_count": 167,
     "metadata": {},
     "output_type": "execute_result"
    }
   ],
   "source": [
    "df1.mean()"
   ]
  },
  {
   "cell_type": "code",
   "execution_count": 168,
   "id": "b7fda1e7",
   "metadata": {},
   "outputs": [
    {
     "data": {
      "text/plain": [
       "83461.53846153847"
      ]
     },
     "execution_count": 168,
     "metadata": {},
     "output_type": "execute_result"
    }
   ],
   "source": [
    "df1['Salary'].mean()        # df1.Salary.mean()"
   ]
  },
  {
   "cell_type": "code",
   "execution_count": 169,
   "id": "905f212f",
   "metadata": {},
   "outputs": [
    {
     "data": {
      "text/plain": [
       "ID        2.171978e+01\n",
       "Salary    1.472436e+09\n",
       "Age       4.130220e+01\n",
       "dtype: float64"
      ]
     },
     "execution_count": 169,
     "metadata": {},
     "output_type": "execute_result"
    }
   ],
   "source": [
    "df1.var()"
   ]
  },
  {
   "cell_type": "code",
   "execution_count": 170,
   "id": "ea2d972e",
   "metadata": {},
   "outputs": [
    {
     "data": {
      "text/plain": [
       "1472435897.4358976"
      ]
     },
     "execution_count": 170,
     "metadata": {},
     "output_type": "execute_result"
    }
   ],
   "source": [
    "df1['Salary'].var()"
   ]
  },
  {
   "cell_type": "code",
   "execution_count": 171,
   "id": "5a2bca7c",
   "metadata": {},
   "outputs": [
    {
     "data": {
      "text/plain": [
       "ID            4.660448\n",
       "Salary    38372.332447\n",
       "Age           6.426679\n",
       "dtype: float64"
      ]
     },
     "execution_count": 171,
     "metadata": {},
     "output_type": "execute_result"
    }
   ],
   "source": [
    "df1.std()"
   ]
  },
  {
   "cell_type": "code",
   "execution_count": 172,
   "id": "6df82757",
   "metadata": {},
   "outputs": [
    {
     "data": {
      "text/plain": [
       "38372.3324471669"
      ]
     },
     "execution_count": 172,
     "metadata": {},
     "output_type": "execute_result"
    }
   ],
   "source": [
    "df1['Salary'].std()"
   ]
  },
  {
   "cell_type": "code",
   "execution_count": 173,
   "id": "b0488d17",
   "metadata": {},
   "outputs": [
    {
     "data": {
      "text/plain": [
       "ID            7.5\n",
       "Salary    80000.0\n",
       "Age          36.0\n",
       "dtype: float64"
      ]
     },
     "execution_count": 173,
     "metadata": {},
     "output_type": "execute_result"
    }
   ],
   "source": [
    "df1.median()"
   ]
  },
  {
   "cell_type": "code",
   "execution_count": 174,
   "id": "d16b9a06",
   "metadata": {},
   "outputs": [
    {
     "data": {
      "text/plain": [
       "80000.0"
      ]
     },
     "execution_count": 174,
     "metadata": {},
     "output_type": "execute_result"
    }
   ],
   "source": [
    "df1['Salary'].median()"
   ]
  },
  {
   "cell_type": "code",
   "execution_count": 175,
   "id": "926d1664",
   "metadata": {},
   "outputs": [
    {
     "data": {
      "text/plain": [
       "0    29\n",
       "1    32\n",
       "2    41\n",
       "3    47\n",
       "dtype: int64"
      ]
     },
     "execution_count": 175,
     "metadata": {},
     "output_type": "execute_result"
    }
   ],
   "source": [
    "df1['Age'].mode()"
   ]
  },
  {
   "cell_type": "code",
   "execution_count": 176,
   "id": "655721db",
   "metadata": {},
   "outputs": [
    {
     "data": {
      "text/plain": [
       "47    2\n",
       "29    2\n",
       "32    2\n",
       "41    2\n",
       "45    1\n",
       "38    1\n",
       "35    1\n",
       "34    1\n",
       "37    1\n",
       "30    1\n",
       "Name: Age, dtype: int64"
      ]
     },
     "execution_count": 176,
     "metadata": {},
     "output_type": "execute_result"
    }
   ],
   "source": [
    "df1.Age.value_counts()"
   ]
  },
  {
   "cell_type": "code",
   "execution_count": 177,
   "id": "003dc8c8",
   "metadata": {},
   "outputs": [
    {
     "data": {
      "text/plain": [
       "0    29\n",
       "1    32\n",
       "2    41\n",
       "3    47\n",
       "dtype: int64"
      ]
     },
     "execution_count": 177,
     "metadata": {},
     "output_type": "execute_result"
    }
   ],
   "source": [
    "df1['Age'].dropna().mode()     # Ignore nan values"
   ]
  },
  {
   "cell_type": "code",
   "execution_count": 178,
   "id": "1559e862",
   "metadata": {},
   "outputs": [
    {
     "data": {
      "text/plain": [
       "32.0"
      ]
     },
     "execution_count": 178,
     "metadata": {},
     "output_type": "execute_result"
    }
   ],
   "source": [
    "df1.Age.quantile(0.25)"
   ]
  },
  {
   "cell_type": "code",
   "execution_count": 179,
   "id": "736d4bc5",
   "metadata": {},
   "outputs": [
    {
     "data": {
      "text/plain": [
       "36.0"
      ]
     },
     "execution_count": 179,
     "metadata": {},
     "output_type": "execute_result"
    }
   ],
   "source": [
    "df1.Age.quantile(0.5)"
   ]
  },
  {
   "cell_type": "code",
   "execution_count": 180,
   "id": "bb7c7b4e",
   "metadata": {},
   "outputs": [
    {
     "data": {
      "text/plain": [
       "41.0"
      ]
     },
     "execution_count": 180,
     "metadata": {},
     "output_type": "execute_result"
    }
   ],
   "source": [
    "df1.Age.quantile(0.75)"
   ]
  },
  {
   "cell_type": "code",
   "execution_count": 181,
   "id": "56c19d42",
   "metadata": {},
   "outputs": [
    {
     "data": {
      "text/plain": [
       "Employee_ID\n",
       "101    447.213595\n",
       "102    282.842712\n",
       "103    300.000000\n",
       "104    254.950976\n",
       "105    300.000000\n",
       "106    282.842712\n",
       "107    264.575131\n",
       "108    244.948974\n",
       "109    316.227766\n",
       "110    212.132034\n",
       "111    234.520788\n",
       "112    254.950976\n",
       "115    291.547595\n",
       "116           NaN\n",
       "Name: Salary, dtype: float64"
      ]
     },
     "execution_count": 181,
     "metadata": {},
     "output_type": "execute_result"
    }
   ],
   "source": [
    "df1['Salary'].apply(np.sqrt)"
   ]
  },
  {
   "cell_type": "code",
   "execution_count": 182,
   "id": "df7525b3",
   "metadata": {},
   "outputs": [
    {
     "data": {
      "text/plain": [
       "Employee_ID\n",
       "101    220000.0\n",
       "102     88000.0\n",
       "103     99000.0\n",
       "104     71500.0\n",
       "105     99000.0\n",
       "106     88000.0\n",
       "107     77000.0\n",
       "108     66000.0\n",
       "109    110000.0\n",
       "110     49500.0\n",
       "111     60500.0\n",
       "112     71500.0\n",
       "115     93500.0\n",
       "116         NaN\n",
       "Name: Salary, dtype: float64"
      ]
     },
     "execution_count": 182,
     "metadata": {},
     "output_type": "execute_result"
    }
   ],
   "source": [
    "df1['Salary'].apply(lambda num : 1.1 * num)"
   ]
  },
  {
   "cell_type": "code",
   "execution_count": 183,
   "id": "9146ac99",
   "metadata": {},
   "outputs": [
    {
     "data": {
      "text/plain": [
       "Gender\n",
       "Female    39.333333\n",
       "Male      36.500000\n",
       "Name: Age, dtype: float64"
      ]
     },
     "execution_count": 183,
     "metadata": {},
     "output_type": "execute_result"
    }
   ],
   "source": [
    "df1.groupby(by = 'Gender')['Age'].mean()"
   ]
  },
  {
   "cell_type": "code",
   "execution_count": 184,
   "id": "e7436270",
   "metadata": {},
   "outputs": [
    {
     "data": {
      "text/plain": [
       "Gender\n",
       "Female    70000.000000\n",
       "Male      96666.666667\n",
       "Name: Salary, dtype: float64"
      ]
     },
     "execution_count": 184,
     "metadata": {},
     "output_type": "execute_result"
    }
   ],
   "source": [
    "df1.groupby(by = 'Gender')['Salary'].mean()"
   ]
  },
  {
   "cell_type": "code",
   "execution_count": 185,
   "id": "36ea54fb",
   "metadata": {},
   "outputs": [
    {
     "data": {
      "text/html": [
       "<div>\n",
       "<style scoped>\n",
       "    .dataframe tbody tr th:only-of-type {\n",
       "        vertical-align: middle;\n",
       "    }\n",
       "\n",
       "    .dataframe tbody tr th {\n",
       "        vertical-align: top;\n",
       "    }\n",
       "\n",
       "    .dataframe thead th {\n",
       "        text-align: right;\n",
       "    }\n",
       "</style>\n",
       "<table border=\"1\" class=\"dataframe\">\n",
       "  <thead>\n",
       "    <tr style=\"text-align: right;\">\n",
       "      <th></th>\n",
       "      <th>ID</th>\n",
       "      <th>Salary</th>\n",
       "      <th>Age</th>\n",
       "    </tr>\n",
       "  </thead>\n",
       "  <tbody>\n",
       "    <tr>\n",
       "      <th>ID</th>\n",
       "      <td>21.719780</td>\n",
       "      <td>-8.016026e+04</td>\n",
       "      <td>-8.785714</td>\n",
       "    </tr>\n",
       "    <tr>\n",
       "      <th>Salary</th>\n",
       "      <td>-80160.256410</td>\n",
       "      <td>1.472436e+09</td>\n",
       "      <td>55096.153846</td>\n",
       "    </tr>\n",
       "    <tr>\n",
       "      <th>Age</th>\n",
       "      <td>-8.785714</td>\n",
       "      <td>5.509615e+04</td>\n",
       "      <td>41.302198</td>\n",
       "    </tr>\n",
       "  </tbody>\n",
       "</table>\n",
       "</div>"
      ],
      "text/plain": [
       "                  ID        Salary           Age\n",
       "ID         21.719780 -8.016026e+04     -8.785714\n",
       "Salary -80160.256410  1.472436e+09  55096.153846\n",
       "Age        -8.785714  5.509615e+04     41.302198"
      ]
     },
     "execution_count": 185,
     "metadata": {},
     "output_type": "execute_result"
    }
   ],
   "source": [
    "df1.cov()       # Covariance"
   ]
  },
  {
   "cell_type": "code",
   "execution_count": 186,
   "id": "5c8a65ca",
   "metadata": {},
   "outputs": [
    {
     "data": {
      "text/html": [
       "<div>\n",
       "<style scoped>\n",
       "    .dataframe tbody tr th:only-of-type {\n",
       "        vertical-align: middle;\n",
       "    }\n",
       "\n",
       "    .dataframe tbody tr th {\n",
       "        vertical-align: top;\n",
       "    }\n",
       "\n",
       "    .dataframe thead th {\n",
       "        text-align: right;\n",
       "    }\n",
       "</style>\n",
       "<table border=\"1\" class=\"dataframe\">\n",
       "  <thead>\n",
       "    <tr style=\"text-align: right;\">\n",
       "      <th></th>\n",
       "      <th>Age</th>\n",
       "      <th>Salary</th>\n",
       "    </tr>\n",
       "  </thead>\n",
       "  <tbody>\n",
       "    <tr>\n",
       "      <th>Age</th>\n",
       "      <td>41.302198</td>\n",
       "      <td>5.509615e+04</td>\n",
       "    </tr>\n",
       "    <tr>\n",
       "      <th>Salary</th>\n",
       "      <td>55096.153846</td>\n",
       "      <td>1.472436e+09</td>\n",
       "    </tr>\n",
       "  </tbody>\n",
       "</table>\n",
       "</div>"
      ],
      "text/plain": [
       "                 Age        Salary\n",
       "Age        41.302198  5.509615e+04\n",
       "Salary  55096.153846  1.472436e+09"
      ]
     },
     "execution_count": 186,
     "metadata": {},
     "output_type": "execute_result"
    }
   ],
   "source": [
    "df1[['Age', 'Salary']].cov()"
   ]
  },
  {
   "cell_type": "code",
   "execution_count": 187,
   "id": "8933f398",
   "metadata": {},
   "outputs": [
    {
     "data": {
      "text/html": [
       "<div>\n",
       "<style scoped>\n",
       "    .dataframe tbody tr th:only-of-type {\n",
       "        vertical-align: middle;\n",
       "    }\n",
       "\n",
       "    .dataframe tbody tr th {\n",
       "        vertical-align: top;\n",
       "    }\n",
       "\n",
       "    .dataframe thead th {\n",
       "        text-align: right;\n",
       "    }\n",
       "</style>\n",
       "<table border=\"1\" class=\"dataframe\">\n",
       "  <thead>\n",
       "    <tr style=\"text-align: right;\">\n",
       "      <th></th>\n",
       "      <th>Age</th>\n",
       "      <th>Salary</th>\n",
       "    </tr>\n",
       "  </thead>\n",
       "  <tbody>\n",
       "    <tr>\n",
       "      <th>Age</th>\n",
       "      <td>1.00000</td>\n",
       "      <td>0.22008</td>\n",
       "    </tr>\n",
       "    <tr>\n",
       "      <th>Salary</th>\n",
       "      <td>0.22008</td>\n",
       "      <td>1.00000</td>\n",
       "    </tr>\n",
       "  </tbody>\n",
       "</table>\n",
       "</div>"
      ],
      "text/plain": [
       "            Age   Salary\n",
       "Age     1.00000  0.22008\n",
       "Salary  0.22008  1.00000"
      ]
     },
     "execution_count": 187,
     "metadata": {},
     "output_type": "execute_result"
    }
   ],
   "source": [
    "df1[['Age', 'Salary']].corr()    # Correlation"
   ]
  },
  {
   "cell_type": "markdown",
   "id": "c180c572",
   "metadata": {},
   "source": [
    "---\n",
    "---\n",
    "# -------------------------------------------------------------------------------------\n",
    "## Dealing With CSV Files"
   ]
  },
  {
   "cell_type": "code",
   "execution_count": 190,
   "id": "e093038b",
   "metadata": {},
   "outputs": [
    {
     "data": {
      "text/html": [
       "<div>\n",
       "<style scoped>\n",
       "    .dataframe tbody tr th:only-of-type {\n",
       "        vertical-align: middle;\n",
       "    }\n",
       "\n",
       "    .dataframe tbody tr th {\n",
       "        vertical-align: top;\n",
       "    }\n",
       "\n",
       "    .dataframe thead th {\n",
       "        text-align: right;\n",
       "    }\n",
       "</style>\n",
       "<table border=\"1\" class=\"dataframe\">\n",
       "  <thead>\n",
       "    <tr style=\"text-align: right;\">\n",
       "      <th></th>\n",
       "      <th>symboling</th>\n",
       "      <th>normalized-losses</th>\n",
       "      <th>make</th>\n",
       "      <th>fuel-type</th>\n",
       "      <th>aspiration</th>\n",
       "      <th>num-of-doors</th>\n",
       "      <th>body-style</th>\n",
       "      <th>drive-wheels</th>\n",
       "      <th>engine-location</th>\n",
       "      <th>wheel-base</th>\n",
       "      <th>...</th>\n",
       "      <th>engine-size</th>\n",
       "      <th>fuel-system</th>\n",
       "      <th>bore</th>\n",
       "      <th>stroke</th>\n",
       "      <th>compression-ratio</th>\n",
       "      <th>horsepower</th>\n",
       "      <th>peak-rpm</th>\n",
       "      <th>city-mpg</th>\n",
       "      <th>highway-mpg</th>\n",
       "      <th>price</th>\n",
       "    </tr>\n",
       "  </thead>\n",
       "  <tbody>\n",
       "    <tr>\n",
       "      <th>0</th>\n",
       "      <td>3</td>\n",
       "      <td>?</td>\n",
       "      <td>alfa-romero</td>\n",
       "      <td>gas</td>\n",
       "      <td>std</td>\n",
       "      <td>two</td>\n",
       "      <td>convertible</td>\n",
       "      <td>rwd</td>\n",
       "      <td>front</td>\n",
       "      <td>88.6</td>\n",
       "      <td>...</td>\n",
       "      <td>130</td>\n",
       "      <td>mpfi</td>\n",
       "      <td>3.47</td>\n",
       "      <td>2.68</td>\n",
       "      <td>9.0</td>\n",
       "      <td>111</td>\n",
       "      <td>5000</td>\n",
       "      <td>21</td>\n",
       "      <td>27</td>\n",
       "      <td>13495</td>\n",
       "    </tr>\n",
       "    <tr>\n",
       "      <th>1</th>\n",
       "      <td>3</td>\n",
       "      <td>?</td>\n",
       "      <td>alfa-romero</td>\n",
       "      <td>gas</td>\n",
       "      <td>std</td>\n",
       "      <td>two</td>\n",
       "      <td>convertible</td>\n",
       "      <td>rwd</td>\n",
       "      <td>front</td>\n",
       "      <td>88.6</td>\n",
       "      <td>...</td>\n",
       "      <td>130</td>\n",
       "      <td>mpfi</td>\n",
       "      <td>3.47</td>\n",
       "      <td>2.68</td>\n",
       "      <td>9.0</td>\n",
       "      <td>111</td>\n",
       "      <td>5000</td>\n",
       "      <td>21</td>\n",
       "      <td>27</td>\n",
       "      <td>16500</td>\n",
       "    </tr>\n",
       "    <tr>\n",
       "      <th>2</th>\n",
       "      <td>1</td>\n",
       "      <td>?</td>\n",
       "      <td>alfa-romero</td>\n",
       "      <td>gas</td>\n",
       "      <td>std</td>\n",
       "      <td>two</td>\n",
       "      <td>hatchback</td>\n",
       "      <td>rwd</td>\n",
       "      <td>front</td>\n",
       "      <td>94.5</td>\n",
       "      <td>...</td>\n",
       "      <td>152</td>\n",
       "      <td>mpfi</td>\n",
       "      <td>2.68</td>\n",
       "      <td>3.47</td>\n",
       "      <td>9.0</td>\n",
       "      <td>154</td>\n",
       "      <td>5000</td>\n",
       "      <td>19</td>\n",
       "      <td>26</td>\n",
       "      <td>16500</td>\n",
       "    </tr>\n",
       "    <tr>\n",
       "      <th>3</th>\n",
       "      <td>2</td>\n",
       "      <td>164</td>\n",
       "      <td>audi</td>\n",
       "      <td>gas</td>\n",
       "      <td>std</td>\n",
       "      <td>four</td>\n",
       "      <td>sedan</td>\n",
       "      <td>fwd</td>\n",
       "      <td>front</td>\n",
       "      <td>99.8</td>\n",
       "      <td>...</td>\n",
       "      <td>109</td>\n",
       "      <td>mpfi</td>\n",
       "      <td>3.19</td>\n",
       "      <td>3.4</td>\n",
       "      <td>10.0</td>\n",
       "      <td>102</td>\n",
       "      <td>5500</td>\n",
       "      <td>24</td>\n",
       "      <td>30</td>\n",
       "      <td>13950</td>\n",
       "    </tr>\n",
       "    <tr>\n",
       "      <th>4</th>\n",
       "      <td>2</td>\n",
       "      <td>164</td>\n",
       "      <td>audi</td>\n",
       "      <td>gas</td>\n",
       "      <td>std</td>\n",
       "      <td>four</td>\n",
       "      <td>sedan</td>\n",
       "      <td>4wd</td>\n",
       "      <td>front</td>\n",
       "      <td>99.4</td>\n",
       "      <td>...</td>\n",
       "      <td>136</td>\n",
       "      <td>mpfi</td>\n",
       "      <td>3.19</td>\n",
       "      <td>3.4</td>\n",
       "      <td>8.0</td>\n",
       "      <td>115</td>\n",
       "      <td>5500</td>\n",
       "      <td>18</td>\n",
       "      <td>22</td>\n",
       "      <td>17450</td>\n",
       "    </tr>\n",
       "    <tr>\n",
       "      <th>5</th>\n",
       "      <td>2</td>\n",
       "      <td>?</td>\n",
       "      <td>audi</td>\n",
       "      <td>gas</td>\n",
       "      <td>std</td>\n",
       "      <td>two</td>\n",
       "      <td>sedan</td>\n",
       "      <td>fwd</td>\n",
       "      <td>front</td>\n",
       "      <td>99.8</td>\n",
       "      <td>...</td>\n",
       "      <td>136</td>\n",
       "      <td>mpfi</td>\n",
       "      <td>3.19</td>\n",
       "      <td>3.4</td>\n",
       "      <td>8.5</td>\n",
       "      <td>110</td>\n",
       "      <td>5500</td>\n",
       "      <td>19</td>\n",
       "      <td>25</td>\n",
       "      <td>15250</td>\n",
       "    </tr>\n",
       "    <tr>\n",
       "      <th>6</th>\n",
       "      <td>1</td>\n",
       "      <td>158</td>\n",
       "      <td>audi</td>\n",
       "      <td>gas</td>\n",
       "      <td>std</td>\n",
       "      <td>four</td>\n",
       "      <td>sedan</td>\n",
       "      <td>fwd</td>\n",
       "      <td>front</td>\n",
       "      <td>105.8</td>\n",
       "      <td>...</td>\n",
       "      <td>136</td>\n",
       "      <td>mpfi</td>\n",
       "      <td>3.19</td>\n",
       "      <td>3.4</td>\n",
       "      <td>8.5</td>\n",
       "      <td>110</td>\n",
       "      <td>5500</td>\n",
       "      <td>19</td>\n",
       "      <td>25</td>\n",
       "      <td>17710</td>\n",
       "    </tr>\n",
       "    <tr>\n",
       "      <th>7</th>\n",
       "      <td>1</td>\n",
       "      <td>?</td>\n",
       "      <td>audi</td>\n",
       "      <td>gas</td>\n",
       "      <td>std</td>\n",
       "      <td>four</td>\n",
       "      <td>wagon</td>\n",
       "      <td>fwd</td>\n",
       "      <td>front</td>\n",
       "      <td>105.8</td>\n",
       "      <td>...</td>\n",
       "      <td>136</td>\n",
       "      <td>mpfi</td>\n",
       "      <td>3.19</td>\n",
       "      <td>3.4</td>\n",
       "      <td>8.5</td>\n",
       "      <td>110</td>\n",
       "      <td>5500</td>\n",
       "      <td>19</td>\n",
       "      <td>25</td>\n",
       "      <td>18920</td>\n",
       "    </tr>\n",
       "    <tr>\n",
       "      <th>8</th>\n",
       "      <td>1</td>\n",
       "      <td>158</td>\n",
       "      <td>audi</td>\n",
       "      <td>gas</td>\n",
       "      <td>turbo</td>\n",
       "      <td>four</td>\n",
       "      <td>sedan</td>\n",
       "      <td>fwd</td>\n",
       "      <td>front</td>\n",
       "      <td>105.8</td>\n",
       "      <td>...</td>\n",
       "      <td>131</td>\n",
       "      <td>mpfi</td>\n",
       "      <td>3.13</td>\n",
       "      <td>3.4</td>\n",
       "      <td>8.3</td>\n",
       "      <td>140</td>\n",
       "      <td>5500</td>\n",
       "      <td>17</td>\n",
       "      <td>20</td>\n",
       "      <td>23875</td>\n",
       "    </tr>\n",
       "    <tr>\n",
       "      <th>9</th>\n",
       "      <td>0</td>\n",
       "      <td>?</td>\n",
       "      <td>audi</td>\n",
       "      <td>gas</td>\n",
       "      <td>turbo</td>\n",
       "      <td>two</td>\n",
       "      <td>hatchback</td>\n",
       "      <td>4wd</td>\n",
       "      <td>front</td>\n",
       "      <td>99.5</td>\n",
       "      <td>...</td>\n",
       "      <td>131</td>\n",
       "      <td>mpfi</td>\n",
       "      <td>3.13</td>\n",
       "      <td>3.4</td>\n",
       "      <td>7.0</td>\n",
       "      <td>160</td>\n",
       "      <td>5500</td>\n",
       "      <td>16</td>\n",
       "      <td>22</td>\n",
       "      <td>?</td>\n",
       "    </tr>\n",
       "  </tbody>\n",
       "</table>\n",
       "<p>10 rows × 26 columns</p>\n",
       "</div>"
      ],
      "text/plain": [
       "   symboling normalized-losses         make fuel-type aspiration num-of-doors  \\\n",
       "0          3                 ?  alfa-romero       gas        std          two   \n",
       "1          3                 ?  alfa-romero       gas        std          two   \n",
       "2          1                 ?  alfa-romero       gas        std          two   \n",
       "3          2               164         audi       gas        std         four   \n",
       "4          2               164         audi       gas        std         four   \n",
       "5          2                 ?         audi       gas        std          two   \n",
       "6          1               158         audi       gas        std         four   \n",
       "7          1                 ?         audi       gas        std         four   \n",
       "8          1               158         audi       gas      turbo         four   \n",
       "9          0                 ?         audi       gas      turbo          two   \n",
       "\n",
       "    body-style drive-wheels engine-location  wheel-base  ...  engine-size  \\\n",
       "0  convertible          rwd           front        88.6  ...          130   \n",
       "1  convertible          rwd           front        88.6  ...          130   \n",
       "2    hatchback          rwd           front        94.5  ...          152   \n",
       "3        sedan          fwd           front        99.8  ...          109   \n",
       "4        sedan          4wd           front        99.4  ...          136   \n",
       "5        sedan          fwd           front        99.8  ...          136   \n",
       "6        sedan          fwd           front       105.8  ...          136   \n",
       "7        wagon          fwd           front       105.8  ...          136   \n",
       "8        sedan          fwd           front       105.8  ...          131   \n",
       "9    hatchback          4wd           front        99.5  ...          131   \n",
       "\n",
       "   fuel-system  bore  stroke compression-ratio horsepower  peak-rpm city-mpg  \\\n",
       "0         mpfi  3.47    2.68               9.0        111      5000       21   \n",
       "1         mpfi  3.47    2.68               9.0        111      5000       21   \n",
       "2         mpfi  2.68    3.47               9.0        154      5000       19   \n",
       "3         mpfi  3.19     3.4              10.0        102      5500       24   \n",
       "4         mpfi  3.19     3.4               8.0        115      5500       18   \n",
       "5         mpfi  3.19     3.4               8.5        110      5500       19   \n",
       "6         mpfi  3.19     3.4               8.5        110      5500       19   \n",
       "7         mpfi  3.19     3.4               8.5        110      5500       19   \n",
       "8         mpfi  3.13     3.4               8.3        140      5500       17   \n",
       "9         mpfi  3.13     3.4               7.0        160      5500       16   \n",
       "\n",
       "  highway-mpg  price  \n",
       "0          27  13495  \n",
       "1          27  16500  \n",
       "2          26  16500  \n",
       "3          30  13950  \n",
       "4          22  17450  \n",
       "5          25  15250  \n",
       "6          25  17710  \n",
       "7          25  18920  \n",
       "8          20  23875  \n",
       "9          22      ?  \n",
       "\n",
       "[10 rows x 26 columns]"
      ]
     },
     "execution_count": 190,
     "metadata": {},
     "output_type": "execute_result"
    }
   ],
   "source": [
    "data = pd.read_csv('Automobile_Data.csv')\n",
    "data.head(10)"
   ]
  },
  {
   "cell_type": "code",
   "execution_count": 191,
   "id": "d8438b7b",
   "metadata": {},
   "outputs": [
    {
     "name": "stdout",
     "output_type": "stream",
     "text": [
      "<class 'pandas.core.frame.DataFrame'>\n",
      "RangeIndex: 205 entries, 0 to 204\n",
      "Data columns (total 26 columns):\n",
      " #   Column             Non-Null Count  Dtype  \n",
      "---  ------             --------------  -----  \n",
      " 0   symboling          205 non-null    int64  \n",
      " 1   normalized-losses  205 non-null    object \n",
      " 2   make               205 non-null    object \n",
      " 3   fuel-type          205 non-null    object \n",
      " 4   aspiration         205 non-null    object \n",
      " 5   num-of-doors       205 non-null    object \n",
      " 6   body-style         205 non-null    object \n",
      " 7   drive-wheels       205 non-null    object \n",
      " 8   engine-location    205 non-null    object \n",
      " 9   wheel-base         205 non-null    float64\n",
      " 10  length             205 non-null    float64\n",
      " 11  width              205 non-null    float64\n",
      " 12  height             205 non-null    float64\n",
      " 13  curb-weight        205 non-null    int64  \n",
      " 14  engine-type        205 non-null    object \n",
      " 15  num-of-cylinders   205 non-null    object \n",
      " 16  engine-size        205 non-null    int64  \n",
      " 17  fuel-system        205 non-null    object \n",
      " 18  bore               205 non-null    object \n",
      " 19  stroke             205 non-null    object \n",
      " 20  compression-ratio  205 non-null    float64\n",
      " 21  horsepower         205 non-null    object \n",
      " 22  peak-rpm           205 non-null    object \n",
      " 23  city-mpg           205 non-null    int64  \n",
      " 24  highway-mpg        205 non-null    int64  \n",
      " 25  price              205 non-null    object \n",
      "dtypes: float64(5), int64(5), object(16)\n",
      "memory usage: 41.8+ KB\n"
     ]
    }
   ],
   "source": [
    "data.info()"
   ]
  },
  {
   "cell_type": "code",
   "execution_count": 192,
   "id": "02810769",
   "metadata": {},
   "outputs": [
    {
     "data": {
      "text/plain": [
       "Index(['symboling', 'normalized-losses', 'make', 'fuel-type', 'aspiration',\n",
       "       'num-of-doors', 'body-style', 'drive-wheels', 'engine-location',\n",
       "       'wheel-base', 'length', 'width', 'height', 'curb-weight', 'engine-type',\n",
       "       'num-of-cylinders', 'engine-size', 'fuel-system', 'bore', 'stroke',\n",
       "       'compression-ratio', 'horsepower', 'peak-rpm', 'city-mpg',\n",
       "       'highway-mpg', 'price'],\n",
       "      dtype='object')"
      ]
     },
     "execution_count": 192,
     "metadata": {},
     "output_type": "execute_result"
    }
   ],
   "source": [
    "data.columns"
   ]
  },
  {
   "cell_type": "code",
   "execution_count": 193,
   "id": "26c42dae",
   "metadata": {},
   "outputs": [
    {
     "data": {
      "text/plain": [
       "0"
      ]
     },
     "execution_count": 193,
     "metadata": {},
     "output_type": "execute_result"
    }
   ],
   "source": [
    "data.duplicated().sum()"
   ]
  },
  {
   "cell_type": "code",
   "execution_count": 194,
   "id": "fe7b9d37",
   "metadata": {},
   "outputs": [
    {
     "data": {
      "text/plain": [
       "symboling            0\n",
       "normalized-losses    0\n",
       "make                 0\n",
       "fuel-type            0\n",
       "aspiration           0\n",
       "num-of-doors         0\n",
       "body-style           0\n",
       "drive-wheels         0\n",
       "engine-location      0\n",
       "wheel-base           0\n",
       "length               0\n",
       "width                0\n",
       "height               0\n",
       "curb-weight          0\n",
       "engine-type          0\n",
       "num-of-cylinders     0\n",
       "engine-size          0\n",
       "fuel-system          0\n",
       "bore                 0\n",
       "stroke               0\n",
       "compression-ratio    0\n",
       "horsepower           0\n",
       "peak-rpm             0\n",
       "city-mpg             0\n",
       "highway-mpg          0\n",
       "price                0\n",
       "dtype: int64"
      ]
     },
     "execution_count": 194,
     "metadata": {},
     "output_type": "execute_result"
    }
   ],
   "source": [
    "data.isnull().sum()"
   ]
  },
  {
   "cell_type": "code",
   "execution_count": 195,
   "id": "8cc90c40",
   "metadata": {},
   "outputs": [],
   "source": [
    "data.replace('?', np.nan, inplace =True)"
   ]
  },
  {
   "cell_type": "code",
   "execution_count": 196,
   "id": "e918975c",
   "metadata": {},
   "outputs": [
    {
     "data": {
      "text/plain": [
       "symboling             0\n",
       "normalized-losses    41\n",
       "make                  0\n",
       "fuel-type             0\n",
       "aspiration            0\n",
       "num-of-doors          2\n",
       "body-style            0\n",
       "drive-wheels          0\n",
       "engine-location       0\n",
       "wheel-base            0\n",
       "length                0\n",
       "width                 0\n",
       "height                0\n",
       "curb-weight           0\n",
       "engine-type           0\n",
       "num-of-cylinders      0\n",
       "engine-size           0\n",
       "fuel-system           0\n",
       "bore                  4\n",
       "stroke                4\n",
       "compression-ratio     0\n",
       "horsepower            2\n",
       "peak-rpm              2\n",
       "city-mpg              0\n",
       "highway-mpg           0\n",
       "price                 4\n",
       "dtype: int64"
      ]
     },
     "execution_count": 196,
     "metadata": {},
     "output_type": "execute_result"
    }
   ],
   "source": [
    "data.isnull().sum()"
   ]
  },
  {
   "cell_type": "code",
   "execution_count": 197,
   "id": "aa1863a2",
   "metadata": {},
   "outputs": [],
   "source": [
    "'''\n",
    "data['price'] = data['price'].apply(float)\n",
    "data['peak-rpm'] = data['peak-rpm'].apply(float)\n",
    "data['horsepower'] = data['horsepower'].apply(float)\n",
    "'''\n",
    "\n",
    "data['price'] = data['price'].astype(float)\n",
    "data['peak-rpm'] = data['peak-rpm'].astype(float)\n",
    "data['horsepower'] = data['horsepower'].astype(float)"
   ]
  },
  {
   "cell_type": "code",
   "execution_count": 198,
   "id": "b4352a60",
   "metadata": {},
   "outputs": [
    {
     "name": "stdout",
     "output_type": "stream",
     "text": [
      "<class 'pandas.core.frame.DataFrame'>\n",
      "RangeIndex: 205 entries, 0 to 204\n",
      "Data columns (total 26 columns):\n",
      " #   Column             Non-Null Count  Dtype  \n",
      "---  ------             --------------  -----  \n",
      " 0   symboling          205 non-null    int64  \n",
      " 1   normalized-losses  164 non-null    object \n",
      " 2   make               205 non-null    object \n",
      " 3   fuel-type          205 non-null    object \n",
      " 4   aspiration         205 non-null    object \n",
      " 5   num-of-doors       203 non-null    object \n",
      " 6   body-style         205 non-null    object \n",
      " 7   drive-wheels       205 non-null    object \n",
      " 8   engine-location    205 non-null    object \n",
      " 9   wheel-base         205 non-null    float64\n",
      " 10  length             205 non-null    float64\n",
      " 11  width              205 non-null    float64\n",
      " 12  height             205 non-null    float64\n",
      " 13  curb-weight        205 non-null    int64  \n",
      " 14  engine-type        205 non-null    object \n",
      " 15  num-of-cylinders   205 non-null    object \n",
      " 16  engine-size        205 non-null    int64  \n",
      " 17  fuel-system        205 non-null    object \n",
      " 18  bore               201 non-null    object \n",
      " 19  stroke             201 non-null    object \n",
      " 20  compression-ratio  205 non-null    float64\n",
      " 21  horsepower         203 non-null    float64\n",
      " 22  peak-rpm           203 non-null    float64\n",
      " 23  city-mpg           205 non-null    int64  \n",
      " 24  highway-mpg        205 non-null    int64  \n",
      " 25  price              201 non-null    float64\n",
      "dtypes: float64(8), int64(5), object(13)\n",
      "memory usage: 41.8+ KB\n"
     ]
    }
   ],
   "source": [
    "data.info()"
   ]
  },
  {
   "cell_type": "code",
   "execution_count": 199,
   "id": "b3b17d52",
   "metadata": {},
   "outputs": [
    {
     "data": {
      "text/html": [
       "<div>\n",
       "<style scoped>\n",
       "    .dataframe tbody tr th:only-of-type {\n",
       "        vertical-align: middle;\n",
       "    }\n",
       "\n",
       "    .dataframe tbody tr th {\n",
       "        vertical-align: top;\n",
       "    }\n",
       "\n",
       "    .dataframe thead th {\n",
       "        text-align: right;\n",
       "    }\n",
       "</style>\n",
       "<table border=\"1\" class=\"dataframe\">\n",
       "  <thead>\n",
       "    <tr style=\"text-align: right;\">\n",
       "      <th></th>\n",
       "      <th>symboling</th>\n",
       "      <th>normalized-losses</th>\n",
       "      <th>make</th>\n",
       "      <th>fuel-type</th>\n",
       "      <th>aspiration</th>\n",
       "      <th>num-of-doors</th>\n",
       "      <th>body-style</th>\n",
       "      <th>drive-wheels</th>\n",
       "      <th>engine-location</th>\n",
       "      <th>wheel-base</th>\n",
       "      <th>...</th>\n",
       "      <th>engine-size</th>\n",
       "      <th>fuel-system</th>\n",
       "      <th>bore</th>\n",
       "      <th>stroke</th>\n",
       "      <th>compression-ratio</th>\n",
       "      <th>horsepower</th>\n",
       "      <th>peak-rpm</th>\n",
       "      <th>city-mpg</th>\n",
       "      <th>highway-mpg</th>\n",
       "      <th>price</th>\n",
       "    </tr>\n",
       "  </thead>\n",
       "  <tbody>\n",
       "    <tr>\n",
       "      <th>0</th>\n",
       "      <td>3</td>\n",
       "      <td>NaN</td>\n",
       "      <td>alfa-romero</td>\n",
       "      <td>gas</td>\n",
       "      <td>std</td>\n",
       "      <td>two</td>\n",
       "      <td>convertible</td>\n",
       "      <td>rwd</td>\n",
       "      <td>front</td>\n",
       "      <td>88.6</td>\n",
       "      <td>...</td>\n",
       "      <td>130</td>\n",
       "      <td>mpfi</td>\n",
       "      <td>3.47</td>\n",
       "      <td>2.68</td>\n",
       "      <td>9.0</td>\n",
       "      <td>111.0</td>\n",
       "      <td>5000.0</td>\n",
       "      <td>21</td>\n",
       "      <td>27</td>\n",
       "      <td>13495.0</td>\n",
       "    </tr>\n",
       "    <tr>\n",
       "      <th>1</th>\n",
       "      <td>3</td>\n",
       "      <td>NaN</td>\n",
       "      <td>alfa-romero</td>\n",
       "      <td>gas</td>\n",
       "      <td>std</td>\n",
       "      <td>two</td>\n",
       "      <td>convertible</td>\n",
       "      <td>rwd</td>\n",
       "      <td>front</td>\n",
       "      <td>88.6</td>\n",
       "      <td>...</td>\n",
       "      <td>130</td>\n",
       "      <td>mpfi</td>\n",
       "      <td>3.47</td>\n",
       "      <td>2.68</td>\n",
       "      <td>9.0</td>\n",
       "      <td>111.0</td>\n",
       "      <td>5000.0</td>\n",
       "      <td>21</td>\n",
       "      <td>27</td>\n",
       "      <td>16500.0</td>\n",
       "    </tr>\n",
       "    <tr>\n",
       "      <th>2</th>\n",
       "      <td>1</td>\n",
       "      <td>NaN</td>\n",
       "      <td>alfa-romero</td>\n",
       "      <td>gas</td>\n",
       "      <td>std</td>\n",
       "      <td>two</td>\n",
       "      <td>hatchback</td>\n",
       "      <td>rwd</td>\n",
       "      <td>front</td>\n",
       "      <td>94.5</td>\n",
       "      <td>...</td>\n",
       "      <td>152</td>\n",
       "      <td>mpfi</td>\n",
       "      <td>2.68</td>\n",
       "      <td>3.47</td>\n",
       "      <td>9.0</td>\n",
       "      <td>154.0</td>\n",
       "      <td>5000.0</td>\n",
       "      <td>19</td>\n",
       "      <td>26</td>\n",
       "      <td>16500.0</td>\n",
       "    </tr>\n",
       "    <tr>\n",
       "      <th>3</th>\n",
       "      <td>2</td>\n",
       "      <td>164</td>\n",
       "      <td>audi</td>\n",
       "      <td>gas</td>\n",
       "      <td>std</td>\n",
       "      <td>four</td>\n",
       "      <td>sedan</td>\n",
       "      <td>fwd</td>\n",
       "      <td>front</td>\n",
       "      <td>99.8</td>\n",
       "      <td>...</td>\n",
       "      <td>109</td>\n",
       "      <td>mpfi</td>\n",
       "      <td>3.19</td>\n",
       "      <td>3.4</td>\n",
       "      <td>10.0</td>\n",
       "      <td>102.0</td>\n",
       "      <td>5500.0</td>\n",
       "      <td>24</td>\n",
       "      <td>30</td>\n",
       "      <td>13950.0</td>\n",
       "    </tr>\n",
       "    <tr>\n",
       "      <th>4</th>\n",
       "      <td>2</td>\n",
       "      <td>164</td>\n",
       "      <td>audi</td>\n",
       "      <td>gas</td>\n",
       "      <td>std</td>\n",
       "      <td>four</td>\n",
       "      <td>sedan</td>\n",
       "      <td>4wd</td>\n",
       "      <td>front</td>\n",
       "      <td>99.4</td>\n",
       "      <td>...</td>\n",
       "      <td>136</td>\n",
       "      <td>mpfi</td>\n",
       "      <td>3.19</td>\n",
       "      <td>3.4</td>\n",
       "      <td>8.0</td>\n",
       "      <td>115.0</td>\n",
       "      <td>5500.0</td>\n",
       "      <td>18</td>\n",
       "      <td>22</td>\n",
       "      <td>17450.0</td>\n",
       "    </tr>\n",
       "    <tr>\n",
       "      <th>5</th>\n",
       "      <td>2</td>\n",
       "      <td>NaN</td>\n",
       "      <td>audi</td>\n",
       "      <td>gas</td>\n",
       "      <td>std</td>\n",
       "      <td>two</td>\n",
       "      <td>sedan</td>\n",
       "      <td>fwd</td>\n",
       "      <td>front</td>\n",
       "      <td>99.8</td>\n",
       "      <td>...</td>\n",
       "      <td>136</td>\n",
       "      <td>mpfi</td>\n",
       "      <td>3.19</td>\n",
       "      <td>3.4</td>\n",
       "      <td>8.5</td>\n",
       "      <td>110.0</td>\n",
       "      <td>5500.0</td>\n",
       "      <td>19</td>\n",
       "      <td>25</td>\n",
       "      <td>15250.0</td>\n",
       "    </tr>\n",
       "    <tr>\n",
       "      <th>6</th>\n",
       "      <td>1</td>\n",
       "      <td>158</td>\n",
       "      <td>audi</td>\n",
       "      <td>gas</td>\n",
       "      <td>std</td>\n",
       "      <td>four</td>\n",
       "      <td>sedan</td>\n",
       "      <td>fwd</td>\n",
       "      <td>front</td>\n",
       "      <td>105.8</td>\n",
       "      <td>...</td>\n",
       "      <td>136</td>\n",
       "      <td>mpfi</td>\n",
       "      <td>3.19</td>\n",
       "      <td>3.4</td>\n",
       "      <td>8.5</td>\n",
       "      <td>110.0</td>\n",
       "      <td>5500.0</td>\n",
       "      <td>19</td>\n",
       "      <td>25</td>\n",
       "      <td>17710.0</td>\n",
       "    </tr>\n",
       "    <tr>\n",
       "      <th>7</th>\n",
       "      <td>1</td>\n",
       "      <td>NaN</td>\n",
       "      <td>audi</td>\n",
       "      <td>gas</td>\n",
       "      <td>std</td>\n",
       "      <td>four</td>\n",
       "      <td>wagon</td>\n",
       "      <td>fwd</td>\n",
       "      <td>front</td>\n",
       "      <td>105.8</td>\n",
       "      <td>...</td>\n",
       "      <td>136</td>\n",
       "      <td>mpfi</td>\n",
       "      <td>3.19</td>\n",
       "      <td>3.4</td>\n",
       "      <td>8.5</td>\n",
       "      <td>110.0</td>\n",
       "      <td>5500.0</td>\n",
       "      <td>19</td>\n",
       "      <td>25</td>\n",
       "      <td>18920.0</td>\n",
       "    </tr>\n",
       "    <tr>\n",
       "      <th>8</th>\n",
       "      <td>1</td>\n",
       "      <td>158</td>\n",
       "      <td>audi</td>\n",
       "      <td>gas</td>\n",
       "      <td>turbo</td>\n",
       "      <td>four</td>\n",
       "      <td>sedan</td>\n",
       "      <td>fwd</td>\n",
       "      <td>front</td>\n",
       "      <td>105.8</td>\n",
       "      <td>...</td>\n",
       "      <td>131</td>\n",
       "      <td>mpfi</td>\n",
       "      <td>3.13</td>\n",
       "      <td>3.4</td>\n",
       "      <td>8.3</td>\n",
       "      <td>140.0</td>\n",
       "      <td>5500.0</td>\n",
       "      <td>17</td>\n",
       "      <td>20</td>\n",
       "      <td>23875.0</td>\n",
       "    </tr>\n",
       "    <tr>\n",
       "      <th>9</th>\n",
       "      <td>0</td>\n",
       "      <td>NaN</td>\n",
       "      <td>audi</td>\n",
       "      <td>gas</td>\n",
       "      <td>turbo</td>\n",
       "      <td>two</td>\n",
       "      <td>hatchback</td>\n",
       "      <td>4wd</td>\n",
       "      <td>front</td>\n",
       "      <td>99.5</td>\n",
       "      <td>...</td>\n",
       "      <td>131</td>\n",
       "      <td>mpfi</td>\n",
       "      <td>3.13</td>\n",
       "      <td>3.4</td>\n",
       "      <td>7.0</td>\n",
       "      <td>160.0</td>\n",
       "      <td>5500.0</td>\n",
       "      <td>16</td>\n",
       "      <td>22</td>\n",
       "      <td>NaN</td>\n",
       "    </tr>\n",
       "  </tbody>\n",
       "</table>\n",
       "<p>10 rows × 26 columns</p>\n",
       "</div>"
      ],
      "text/plain": [
       "   symboling normalized-losses         make fuel-type aspiration num-of-doors  \\\n",
       "0          3               NaN  alfa-romero       gas        std          two   \n",
       "1          3               NaN  alfa-romero       gas        std          two   \n",
       "2          1               NaN  alfa-romero       gas        std          two   \n",
       "3          2               164         audi       gas        std         four   \n",
       "4          2               164         audi       gas        std         four   \n",
       "5          2               NaN         audi       gas        std          two   \n",
       "6          1               158         audi       gas        std         four   \n",
       "7          1               NaN         audi       gas        std         four   \n",
       "8          1               158         audi       gas      turbo         four   \n",
       "9          0               NaN         audi       gas      turbo          two   \n",
       "\n",
       "    body-style drive-wheels engine-location  wheel-base  ...  engine-size  \\\n",
       "0  convertible          rwd           front        88.6  ...          130   \n",
       "1  convertible          rwd           front        88.6  ...          130   \n",
       "2    hatchback          rwd           front        94.5  ...          152   \n",
       "3        sedan          fwd           front        99.8  ...          109   \n",
       "4        sedan          4wd           front        99.4  ...          136   \n",
       "5        sedan          fwd           front        99.8  ...          136   \n",
       "6        sedan          fwd           front       105.8  ...          136   \n",
       "7        wagon          fwd           front       105.8  ...          136   \n",
       "8        sedan          fwd           front       105.8  ...          131   \n",
       "9    hatchback          4wd           front        99.5  ...          131   \n",
       "\n",
       "   fuel-system  bore  stroke compression-ratio horsepower  peak-rpm city-mpg  \\\n",
       "0         mpfi  3.47    2.68               9.0      111.0    5000.0       21   \n",
       "1         mpfi  3.47    2.68               9.0      111.0    5000.0       21   \n",
       "2         mpfi  2.68    3.47               9.0      154.0    5000.0       19   \n",
       "3         mpfi  3.19     3.4              10.0      102.0    5500.0       24   \n",
       "4         mpfi  3.19     3.4               8.0      115.0    5500.0       18   \n",
       "5         mpfi  3.19     3.4               8.5      110.0    5500.0       19   \n",
       "6         mpfi  3.19     3.4               8.5      110.0    5500.0       19   \n",
       "7         mpfi  3.19     3.4               8.5      110.0    5500.0       19   \n",
       "8         mpfi  3.13     3.4               8.3      140.0    5500.0       17   \n",
       "9         mpfi  3.13     3.4               7.0      160.0    5500.0       16   \n",
       "\n",
       "  highway-mpg    price  \n",
       "0          27  13495.0  \n",
       "1          27  16500.0  \n",
       "2          26  16500.0  \n",
       "3          30  13950.0  \n",
       "4          22  17450.0  \n",
       "5          25  15250.0  \n",
       "6          25  17710.0  \n",
       "7          25  18920.0  \n",
       "8          20  23875.0  \n",
       "9          22      NaN  \n",
       "\n",
       "[10 rows x 26 columns]"
      ]
     },
     "execution_count": 199,
     "metadata": {},
     "output_type": "execute_result"
    }
   ],
   "source": [
    "data.head(10)"
   ]
  },
  {
   "cell_type": "code",
   "execution_count": 200,
   "id": "129efe31",
   "metadata": {},
   "outputs": [
    {
     "data": {
      "text/plain": [
       "symboling              6\n",
       "normalized-losses     51\n",
       "make                  22\n",
       "fuel-type              2\n",
       "aspiration             2\n",
       "num-of-doors           2\n",
       "body-style             5\n",
       "drive-wheels           3\n",
       "engine-location        2\n",
       "wheel-base            53\n",
       "length                75\n",
       "width                 44\n",
       "height                49\n",
       "curb-weight          171\n",
       "engine-type            7\n",
       "num-of-cylinders       7\n",
       "engine-size           44\n",
       "fuel-system            8\n",
       "bore                  38\n",
       "stroke                36\n",
       "compression-ratio     32\n",
       "horsepower            59\n",
       "peak-rpm              23\n",
       "city-mpg              29\n",
       "highway-mpg           30\n",
       "price                186\n",
       "dtype: int64"
      ]
     },
     "execution_count": 200,
     "metadata": {},
     "output_type": "execute_result"
    }
   ],
   "source": [
    "data.nunique()"
   ]
  },
  {
   "cell_type": "code",
   "execution_count": 202,
   "id": "3783bda5",
   "metadata": {},
   "outputs": [
    {
     "name": "stdout",
     "output_type": "stream",
     "text": [
      "Fuel Types   :  ['gas' 'diesel']\n",
      "Body Styles  :  ['convertible' 'hatchback' 'sedan' 'wagon' 'hardtop']\n",
      "Drive Wheels :  ['rwd' 'fwd' '4wd']\n",
      "Fuel System  :  ['mpfi' '2bbl' 'mfi' '1bbl' 'spfi' '4bbl' 'idi' 'spdi']\n",
      "Engine Type  :  ['dohc' 'ohcv' 'ohc' 'l' 'rotor' 'ohcf' 'dohcv']\n"
     ]
    }
   ],
   "source": [
    "print('Fuel Types   : ',data['fuel-type'].unique())\n",
    "print('Body Styles  : ',data['body-style'].unique())\n",
    "print('Drive Wheels : ',data['drive-wheels'].unique())\n",
    "print('Fuel System  : ',data['fuel-system'].unique())\n",
    "print('Engine Type  : ',data['engine-type'].unique())"
   ]
  },
  {
   "cell_type": "code",
   "execution_count": 203,
   "id": "60090c35",
   "metadata": {},
   "outputs": [
    {
     "data": {
      "text/plain": [
       "25.21951219512195"
      ]
     },
     "execution_count": 203,
     "metadata": {},
     "output_type": "execute_result"
    }
   ],
   "source": [
    "data['city-mpg'].mean()"
   ]
  },
  {
   "cell_type": "code",
   "execution_count": 204,
   "id": "79cf4763",
   "metadata": {},
   "outputs": [
    {
     "data": {
      "text/plain": [
       "fuel-type\n",
       "diesel    30.30000\n",
       "gas       24.67027\n",
       "Name: city-mpg, dtype: float64"
      ]
     },
     "execution_count": 204,
     "metadata": {},
     "output_type": "execute_result"
    }
   ],
   "source": [
    "data.groupby(by = 'fuel-type')['city-mpg'].mean()"
   ]
  },
  {
   "cell_type": "code",
   "execution_count": 205,
   "id": "26e53afd",
   "metadata": {},
   "outputs": [
    {
     "data": {
      "text/plain": [
       "sedan          96\n",
       "hatchback      70\n",
       "wagon          25\n",
       "hardtop         8\n",
       "convertible     6\n",
       "Name: body-style, dtype: int64"
      ]
     },
     "execution_count": 205,
     "metadata": {},
     "output_type": "execute_result"
    }
   ],
   "source": [
    "data['body-style'].value_counts()"
   ]
  },
  {
   "cell_type": "code",
   "execution_count": 206,
   "id": "85da873b",
   "metadata": {},
   "outputs": [
    {
     "data": {
      "text/plain": [
       "gas       0.902439\n",
       "diesel    0.097561\n",
       "Name: fuel-type, dtype: float64"
      ]
     },
     "execution_count": 206,
     "metadata": {},
     "output_type": "execute_result"
    }
   ],
   "source": [
    "data['fuel-type'].value_counts(normalize = True)"
   ]
  },
  {
   "cell_type": "code",
   "execution_count": 207,
   "id": "c053509e",
   "metadata": {},
   "outputs": [
    {
     "data": {
      "text/plain": [
       "body-style\n",
       "convertible    26.000000\n",
       "hardtop        27.250000\n",
       "hatchback      32.171429\n",
       "sedan          30.833333\n",
       "wagon          28.720000\n",
       "Name: highway-mpg, dtype: float64"
      ]
     },
     "execution_count": 207,
     "metadata": {},
     "output_type": "execute_result"
    }
   ],
   "source": [
    "data.groupby(by = 'body-style')['highway-mpg'].mean()"
   ]
  },
  {
   "cell_type": "code",
   "execution_count": 208,
   "id": "993d6c9d",
   "metadata": {},
   "outputs": [
    {
     "data": {
      "text/plain": [
       "body-style\n",
       "hatchback      32.171429\n",
       "sedan          30.833333\n",
       "wagon          28.720000\n",
       "hardtop        27.250000\n",
       "convertible    26.000000\n",
       "Name: highway-mpg, dtype: float64"
      ]
     },
     "execution_count": 208,
     "metadata": {},
     "output_type": "execute_result"
    }
   ],
   "source": [
    "data.groupby('body-style')['highway-mpg'].mean().sort_values(ascending = False)"
   ]
  },
  {
   "cell_type": "code",
   "execution_count": 209,
   "id": "80f6f22b",
   "metadata": {},
   "outputs": [
    {
     "data": {
      "text/plain": [
       "aspiration\n",
       "turbo    27.027027\n",
       "std      31.571429\n",
       "Name: highway-mpg, dtype: float64"
      ]
     },
     "execution_count": 209,
     "metadata": {},
     "output_type": "execute_result"
    }
   ],
   "source": [
    "data.groupby(by = 'aspiration')['highway-mpg'].mean().sort_values()"
   ]
  },
  {
   "cell_type": "code",
   "execution_count": 210,
   "id": "2319eea9",
   "metadata": {},
   "outputs": [
    {
     "data": {
      "text/plain": [
       "aspiration\n",
       "std      25.839286\n",
       "turbo    22.405405\n",
       "Name: city-mpg, dtype: float64"
      ]
     },
     "execution_count": 210,
     "metadata": {},
     "output_type": "execute_result"
    }
   ],
   "source": [
    "data.groupby(by = 'aspiration')['city-mpg'].mean().sort_values(ascending = False)"
   ]
  },
  {
   "cell_type": "code",
   "execution_count": 211,
   "id": "8fc8ad01",
   "metadata": {},
   "outputs": [
    {
     "data": {
      "text/plain": [
       "body-style   fuel-type\n",
       "convertible  gas          20.500000\n",
       "hardtop      diesel       22.000000\n",
       "             gas          21.571429\n",
       "hatchback    diesel       38.000000\n",
       "             gas          26.144928\n",
       "sedan        diesel       31.600000\n",
       "             gas          24.160494\n",
       "wagon        diesel       24.000000\n",
       "             gas          24.045455\n",
       "Name: city-mpg, dtype: float64"
      ]
     },
     "execution_count": 211,
     "metadata": {},
     "output_type": "execute_result"
    }
   ],
   "source": [
    "data.groupby(by = ['body-style','fuel-type'])['city-mpg'].mean()"
   ]
  },
  {
   "cell_type": "code",
   "execution_count": 212,
   "id": "3b371759",
   "metadata": {},
   "outputs": [
    {
     "data": {
      "text/plain": [
       "aspiration  fuel-type\n",
       "std         diesel       36.857143\n",
       "            gas          25.360248\n",
       "turbo       diesel       26.769231\n",
       "            gas          20.041667\n",
       "Name: city-mpg, dtype: float64"
      ]
     },
     "execution_count": 212,
     "metadata": {},
     "output_type": "execute_result"
    }
   ],
   "source": [
    "data.groupby(by = ['aspiration','fuel-type'])['city-mpg'].mean()"
   ]
  },
  {
   "cell_type": "code",
   "execution_count": 213,
   "id": "7dcb2675",
   "metadata": {},
   "outputs": [
    {
     "data": {
      "text/plain": [
       "fuel-type  aspiration\n",
       "diesel     std           36.857143\n",
       "           turbo         26.769231\n",
       "gas        std           25.360248\n",
       "           turbo         20.041667\n",
       "Name: city-mpg, dtype: float64"
      ]
     },
     "execution_count": 213,
     "metadata": {},
     "output_type": "execute_result"
    }
   ],
   "source": [
    "data.groupby(by = ['fuel-type','aspiration'])['city-mpg'].mean()"
   ]
  },
  {
   "cell_type": "code",
   "execution_count": 214,
   "id": "2ea35fc0",
   "metadata": {},
   "outputs": [
    {
     "data": {
      "text/html": [
       "<div>\n",
       "<style scoped>\n",
       "    .dataframe tbody tr th:only-of-type {\n",
       "        vertical-align: middle;\n",
       "    }\n",
       "\n",
       "    .dataframe tbody tr th {\n",
       "        vertical-align: top;\n",
       "    }\n",
       "\n",
       "    .dataframe thead th {\n",
       "        text-align: right;\n",
       "    }\n",
       "</style>\n",
       "<table border=\"1\" class=\"dataframe\">\n",
       "  <thead>\n",
       "    <tr style=\"text-align: right;\">\n",
       "      <th></th>\n",
       "      <th>symboling</th>\n",
       "      <th>normalized-losses</th>\n",
       "      <th>make</th>\n",
       "      <th>fuel-type</th>\n",
       "      <th>aspiration</th>\n",
       "      <th>num-of-doors</th>\n",
       "      <th>body-style</th>\n",
       "      <th>drive-wheels</th>\n",
       "      <th>engine-location</th>\n",
       "      <th>wheel-base</th>\n",
       "      <th>...</th>\n",
       "      <th>fuel-system</th>\n",
       "      <th>bore</th>\n",
       "      <th>stroke</th>\n",
       "      <th>compression-ratio</th>\n",
       "      <th>horsepower</th>\n",
       "      <th>peak-rpm</th>\n",
       "      <th>city-mpg</th>\n",
       "      <th>highway-mpg</th>\n",
       "      <th>price</th>\n",
       "      <th>comb_mpg</th>\n",
       "    </tr>\n",
       "  </thead>\n",
       "  <tbody>\n",
       "    <tr>\n",
       "      <th>0</th>\n",
       "      <td>3</td>\n",
       "      <td>NaN</td>\n",
       "      <td>alfa-romero</td>\n",
       "      <td>gas</td>\n",
       "      <td>std</td>\n",
       "      <td>two</td>\n",
       "      <td>convertible</td>\n",
       "      <td>rwd</td>\n",
       "      <td>front</td>\n",
       "      <td>88.6</td>\n",
       "      <td>...</td>\n",
       "      <td>mpfi</td>\n",
       "      <td>3.47</td>\n",
       "      <td>2.68</td>\n",
       "      <td>9.0</td>\n",
       "      <td>111.0</td>\n",
       "      <td>5000.0</td>\n",
       "      <td>21</td>\n",
       "      <td>27</td>\n",
       "      <td>13495.0</td>\n",
       "      <td>24.0</td>\n",
       "    </tr>\n",
       "    <tr>\n",
       "      <th>1</th>\n",
       "      <td>3</td>\n",
       "      <td>NaN</td>\n",
       "      <td>alfa-romero</td>\n",
       "      <td>gas</td>\n",
       "      <td>std</td>\n",
       "      <td>two</td>\n",
       "      <td>convertible</td>\n",
       "      <td>rwd</td>\n",
       "      <td>front</td>\n",
       "      <td>88.6</td>\n",
       "      <td>...</td>\n",
       "      <td>mpfi</td>\n",
       "      <td>3.47</td>\n",
       "      <td>2.68</td>\n",
       "      <td>9.0</td>\n",
       "      <td>111.0</td>\n",
       "      <td>5000.0</td>\n",
       "      <td>21</td>\n",
       "      <td>27</td>\n",
       "      <td>16500.0</td>\n",
       "      <td>24.0</td>\n",
       "    </tr>\n",
       "    <tr>\n",
       "      <th>2</th>\n",
       "      <td>1</td>\n",
       "      <td>NaN</td>\n",
       "      <td>alfa-romero</td>\n",
       "      <td>gas</td>\n",
       "      <td>std</td>\n",
       "      <td>two</td>\n",
       "      <td>hatchback</td>\n",
       "      <td>rwd</td>\n",
       "      <td>front</td>\n",
       "      <td>94.5</td>\n",
       "      <td>...</td>\n",
       "      <td>mpfi</td>\n",
       "      <td>2.68</td>\n",
       "      <td>3.47</td>\n",
       "      <td>9.0</td>\n",
       "      <td>154.0</td>\n",
       "      <td>5000.0</td>\n",
       "      <td>19</td>\n",
       "      <td>26</td>\n",
       "      <td>16500.0</td>\n",
       "      <td>22.5</td>\n",
       "    </tr>\n",
       "    <tr>\n",
       "      <th>3</th>\n",
       "      <td>2</td>\n",
       "      <td>164</td>\n",
       "      <td>audi</td>\n",
       "      <td>gas</td>\n",
       "      <td>std</td>\n",
       "      <td>four</td>\n",
       "      <td>sedan</td>\n",
       "      <td>fwd</td>\n",
       "      <td>front</td>\n",
       "      <td>99.8</td>\n",
       "      <td>...</td>\n",
       "      <td>mpfi</td>\n",
       "      <td>3.19</td>\n",
       "      <td>3.4</td>\n",
       "      <td>10.0</td>\n",
       "      <td>102.0</td>\n",
       "      <td>5500.0</td>\n",
       "      <td>24</td>\n",
       "      <td>30</td>\n",
       "      <td>13950.0</td>\n",
       "      <td>27.0</td>\n",
       "    </tr>\n",
       "    <tr>\n",
       "      <th>4</th>\n",
       "      <td>2</td>\n",
       "      <td>164</td>\n",
       "      <td>audi</td>\n",
       "      <td>gas</td>\n",
       "      <td>std</td>\n",
       "      <td>four</td>\n",
       "      <td>sedan</td>\n",
       "      <td>4wd</td>\n",
       "      <td>front</td>\n",
       "      <td>99.4</td>\n",
       "      <td>...</td>\n",
       "      <td>mpfi</td>\n",
       "      <td>3.19</td>\n",
       "      <td>3.4</td>\n",
       "      <td>8.0</td>\n",
       "      <td>115.0</td>\n",
       "      <td>5500.0</td>\n",
       "      <td>18</td>\n",
       "      <td>22</td>\n",
       "      <td>17450.0</td>\n",
       "      <td>20.0</td>\n",
       "    </tr>\n",
       "  </tbody>\n",
       "</table>\n",
       "<p>5 rows × 27 columns</p>\n",
       "</div>"
      ],
      "text/plain": [
       "   symboling normalized-losses         make fuel-type aspiration num-of-doors  \\\n",
       "0          3               NaN  alfa-romero       gas        std          two   \n",
       "1          3               NaN  alfa-romero       gas        std          two   \n",
       "2          1               NaN  alfa-romero       gas        std          two   \n",
       "3          2               164         audi       gas        std         four   \n",
       "4          2               164         audi       gas        std         four   \n",
       "\n",
       "    body-style drive-wheels engine-location  wheel-base  ...  fuel-system  \\\n",
       "0  convertible          rwd           front        88.6  ...         mpfi   \n",
       "1  convertible          rwd           front        88.6  ...         mpfi   \n",
       "2    hatchback          rwd           front        94.5  ...         mpfi   \n",
       "3        sedan          fwd           front        99.8  ...         mpfi   \n",
       "4        sedan          4wd           front        99.4  ...         mpfi   \n",
       "\n",
       "   bore  stroke  compression-ratio horsepower peak-rpm  city-mpg highway-mpg  \\\n",
       "0  3.47    2.68                9.0      111.0   5000.0        21          27   \n",
       "1  3.47    2.68                9.0      111.0   5000.0        21          27   \n",
       "2  2.68    3.47                9.0      154.0   5000.0        19          26   \n",
       "3  3.19     3.4               10.0      102.0   5500.0        24          30   \n",
       "4  3.19     3.4                8.0      115.0   5500.0        18          22   \n",
       "\n",
       "     price comb_mpg  \n",
       "0  13495.0     24.0  \n",
       "1  16500.0     24.0  \n",
       "2  16500.0     22.5  \n",
       "3  13950.0     27.0  \n",
       "4  17450.0     20.0  \n",
       "\n",
       "[5 rows x 27 columns]"
      ]
     },
     "execution_count": 214,
     "metadata": {},
     "output_type": "execute_result"
    }
   ],
   "source": [
    "data['comb_mpg'] = (data['city-mpg'] + data['highway-mpg'])/2\n",
    "data.head()"
   ]
  },
  {
   "cell_type": "code",
   "execution_count": null,
   "id": "fba7c711",
   "metadata": {},
   "outputs": [],
   "source": []
  }
 ],
 "metadata": {
  "kernelspec": {
   "display_name": "Python 3 (ipykernel)",
   "language": "python",
   "name": "python3"
  },
  "language_info": {
   "codemirror_mode": {
    "name": "ipython",
    "version": 3
   },
   "file_extension": ".py",
   "mimetype": "text/x-python",
   "name": "python",
   "nbconvert_exporter": "python",
   "pygments_lexer": "ipython3",
   "version": "3.9.7"
  }
 },
 "nbformat": 4,
 "nbformat_minor": 5
}
