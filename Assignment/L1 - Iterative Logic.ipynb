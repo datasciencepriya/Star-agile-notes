{
 "cells": [
  {
   "cell_type": "markdown",
   "id": "9acd52dd",
   "metadata": {
    "id": "9acd52dd"
   },
   "source": [
    "# Assessment - 4 Gradable\n",
    "\n",
    "- Each question carries 5 marks\n",
    "- Marks will be assigned in terms of:\n",
    "    \n",
    "    **1. Expected output**\n",
    "    \n",
    "    **2. Quality and Explainability of code**\n",
    "\n",
    "    ***Go back through the script and type a comment above each line explaining in English what it does.***\n",
    "\n",
    "    **3. Copied code, if found, will result in 0 marks for that question. To avoid this make as much comments in the code to explain the approach**"
   ]
  },
  {
   "cell_type": "markdown",
   "id": "1dd6b730",
   "metadata": {
    "id": "1dd6b730"
   },
   "source": [
    "### 1. \n",
    "\n",
    "Write a Python function that prints out the first n rows of Pascal's triangle.\n",
    "\n",
    "- Input : 5\n",
    "- Output: \n",
    "          1\n",
    "         1 1\n",
    "        1 2 1\n",
    "       1 3 3 1\n",
    "      1 4 6 4 1"
   ]
  },
  {
   "cell_type": "code",
   "execution_count": null,
   "id": "04ae6248",
   "metadata": {
    "id": "04ae6248"
   },
   "outputs": [],
   "source": []
  },
  {
   "cell_type": "markdown",
   "id": "ffc26930",
   "metadata": {
    "id": "ffc26930"
   },
   "source": [
    "### 2. \n",
    "\n",
    "Write a function to print following pattern by accepting n value from user\n",
    "\n",
    "    1  \n",
    "    2  4  \n",
    "    3  6  9  \n",
    "    4  8  12  16  \n",
    "    5  10  15  20  25  \n",
    "    6  12  18  24  30  36  \n",
    "    7  14  21  28  35  42  49  \n",
    "    8  16  24  32  40  48  56  64 \n",
    "    \n",
    "Hint:\n",
    "- n is 8\n"
   ]
  },
  {
   "cell_type": "code",
   "execution_count": 6,
   "id": "dbaf2f2a",
   "metadata": {
    "id": "dbaf2f2a"
   },
   "outputs": [
    {
     "name": "stdout",
     "output_type": "stream",
     "text": [
      "Enter the number of rows : 8\n",
      "1  \n",
      "2  4  \n",
      "3  6  9  \n",
      "4  8  12  16  \n",
      "5  10  15  20  25  \n",
      "6  12  18  24  30  36  \n",
      "7  14  21  28  35  42  49  \n",
      "8  16  24  32  40  48  56  64  \n"
     ]
    }
   ],
   "source": [
    "n = int(input('Enter the number of rows : '))\n",
    "for i in range(1,n+1):\n",
    "    for j in range(1,i+1):\n",
    "        print(i*j, end = '  ')\n",
    "    print()"
   ]
  },
  {
   "cell_type": "markdown",
   "id": "eec7fc6c",
   "metadata": {
    "id": "eec7fc6c"
   },
   "source": [
    "### 3. \n",
    "\n",
    "Write a program to print prime numbers from 1 to 100\n"
   ]
  },
  {
   "cell_type": "code",
   "execution_count": 7,
   "id": "4de40729",
   "metadata": {
    "id": "4de40729"
   },
   "outputs": [
    {
     "name": "stdout",
     "output_type": "stream",
     "text": [
      "2  3  5  7  11  13  17  19  23  29  31  37  41  43  47  53  59  61  67  71  73  79  83  89  97  "
     ]
    }
   ],
   "source": [
    "for num in range(1,101):\n",
    "    if num < 2:\n",
    "        continue\n",
    "    else:\n",
    "        for i in range(2,int(num**0.5) + 1):\n",
    "            if num % i == 0:\n",
    "                break\n",
    "        else:\n",
    "            print(num, end = '  ')"
   ]
  },
  {
   "cell_type": "markdown",
   "id": "6739aeef",
   "metadata": {
    "id": "6739aeef"
   },
   "source": [
    "### 4. \n",
    "\n",
    "Write a program to find given number is palindrome or not\n",
    "\n",
    "Hint:\n",
    "- 121 is palindrome\n",
    "- 123 is not palindrome"
   ]
  },
  {
   "cell_type": "code",
   "execution_count": null,
   "id": "1ec4e63e",
   "metadata": {
    "id": "1ec4e63e"
   },
   "outputs": [],
   "source": []
  },
  {
   "cell_type": "markdown",
   "id": "af46e819",
   "metadata": {
    "id": "af46e819"
   },
   "source": [
    "### 5.\n",
    "\n",
    "Write a program to iterate the first 10 numbers and in each iteration, print the sum of the current and previous number.\n",
    "\n",
    "- Current Number 0 Previous Number  0  Sum:  0\n",
    "- Current Number 1 Previous Number  0  Sum:  1 and so on"
   ]
  },
  {
   "cell_type": "code",
   "execution_count": 16,
   "id": "bac736f0",
   "metadata": {},
   "outputs": [
    {
     "name": "stdout",
     "output_type": "stream",
     "text": [
      "0\n",
      "1\n",
      "3\n",
      "5\n",
      "7\n",
      "9\n",
      "11\n",
      "13\n",
      "15\n",
      "17\n"
     ]
    }
   ],
   "source": [
    "current_num = 0\n",
    "prev_num = 0\n",
    "for i in range(10):\n",
    "    current_num = i\n",
    "    print(current_num + prev_num)\n",
    "    prev_num = current_num"
   ]
  },
  {
   "cell_type": "code",
   "execution_count": 9,
   "id": "830a0664",
   "metadata": {
    "id": "830a0664"
   },
   "outputs": [
    {
     "name": "stdout",
     "output_type": "stream",
     "text": [
      "Enter the number : 301\n",
      "103\n"
     ]
    }
   ],
   "source": [
    "# Take a number as input from the user and reverse it\n",
    "num = int(input('Enter the number : '))\n",
    "rev = int(str(num)[::-1])\n",
    "print(rev)"
   ]
  },
  {
   "cell_type": "code",
   "execution_count": 15,
   "id": "63bc5587",
   "metadata": {},
   "outputs": [
    {
     "name": "stdout",
     "output_type": "stream",
     "text": [
      "Enter the number : 123\n",
      "The reverse of the number is :  321\n"
     ]
    }
   ],
   "source": [
    "num = int(input('Enter the number : '))\n",
    "n = num\n",
    "rev = 0\n",
    "while num > 0:\n",
    "    rem = num % 10\n",
    "    rev = rev*10 + rem\n",
    "    num = num // 10\n",
    "print('The reverse of the number is : ', rev)"
   ]
  },
  {
   "cell_type": "code",
   "execution_count": null,
   "id": "bdd9ba69",
   "metadata": {},
   "outputs": [],
   "source": []
  }
 ],
 "metadata": {
  "colab": {
   "provenance": []
  },
  "kernelspec": {
   "display_name": "Python 3 (ipykernel)",
   "language": "python",
   "name": "python3"
  },
  "language_info": {
   "codemirror_mode": {
    "name": "ipython",
    "version": 3
   },
   "file_extension": ".py",
   "mimetype": "text/x-python",
   "name": "python",
   "nbconvert_exporter": "python",
   "pygments_lexer": "ipython3",
   "version": "3.11.4"
  }
 },
 "nbformat": 4,
 "nbformat_minor": 5
}
