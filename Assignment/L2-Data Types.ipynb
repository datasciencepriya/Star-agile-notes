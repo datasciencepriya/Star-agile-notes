{
 "cells": [
  {
   "cell_type": "markdown",
   "id": "5fad3b2a",
   "metadata": {
    "id": "5fad3b2a"
   },
   "source": [
    "# Assessment - 2 Gradable\n",
    "\n",
    "- Each question carries 3 marks\n",
    "- Marks will be assigned in terms of:\n",
    "    \n",
    "    **1. Expected output**\n",
    "    \n",
    "    **2. Quality and Explainability of code**\n",
    "\n",
    "    ***Go back through the script and type a comment above each line explaining in English what it does.***\n",
    "\n",
    "    **3. Copied code, if found, will result in 0 marks for that question. To avoid this make as much comments in the code to explain the approach**"
   ]
  },
  {
   "cell_type": "markdown",
   "id": "03363a58",
   "metadata": {
    "id": "03363a58"
   },
   "source": [
    "### 1.\n",
    "\n",
    "Write a Python program to perform following tasks on a list\n",
    "\n",
    "<ol>\n",
    "    <li>Create an empty list with name l1</li>\n",
    "    <li>Add atleast 5 number to the l1</li>\n",
    "    <li>Add 100 at 2<sup>nd</sup> position</li>\n",
    "    <li>Add 1000 at front of the l1</li>\n",
    "    <li>Delete element at 3<sup>rd</sup> position</li>\n",
    "    <li>Display elements at even position</li>\n",
    "    <li>Display elements in reverse order</li>\n",
    "</ol>"
   ]
  },
  {
   "cell_type": "code",
   "execution_count": 5,
   "id": "73d7418b",
   "metadata": {
    "id": "73d7418b"
   },
   "outputs": [
    {
     "data": {
      "text/plain": [
       "'100'"
      ]
     },
     "execution_count": 5,
     "metadata": {},
     "output_type": "execute_result"
    }
   ],
   "source": []
  },
  {
   "cell_type": "markdown",
   "id": "3d5efe73",
   "metadata": {
    "id": "3d5efe73"
   },
   "source": [
    "### 2. \n",
    "\n",
    "Grab ``StarAgile`` from the following Dictionaries\n",
    "\n",
    "d_difficult = {'k1':[{'nest_key':['this is deep',['StarAgile']]}]}\n",
    "\n",
    "d_irritating = {'k1':[1,2,{'k2':['this is not easy',{'VeryIrriating':[1,2,['StarAgile']]}]}]}"
   ]
  },
  {
   "cell_type": "code",
   "execution_count": null,
   "id": "9fb35ce9",
   "metadata": {
    "id": "9fb35ce9"
   },
   "outputs": [],
   "source": [
    "{'k1':[1,2,{'k2':['this is not easy',{'VeryIrriating':[1,2,['StarAgile']]}]}]}"
   ]
  },
  {
   "cell_type": "markdown",
   "id": "0540a188",
   "metadata": {
    "id": "0540a188"
   },
   "source": [
    "### 3.\n",
    "\n",
    "Write a program to accept a string from the user and display characters that are present at an even index number.\n",
    "\n",
    "For example, str = \"judgemental\" so you should display ‘j’, ‘d’, ‘e’, ‘e’, ‘t’, ‘l’."
   ]
  },
  {
   "cell_type": "code",
   "execution_count": null,
   "id": "21f5b9dd",
   "metadata": {
    "id": "21f5b9dd"
   },
   "outputs": [],
   "source": []
  },
  {
   "cell_type": "markdown",
   "id": "e0884cde",
   "metadata": {
    "id": "e0884cde"
   },
   "source": [
    "### 4. \n",
    "\n",
    "Convert the Float Value of '3.8' into Integer, Complex, Binary and Hexidecimal format"
   ]
  },
  {
   "cell_type": "code",
   "execution_count": null,
   "id": "99555c16",
   "metadata": {
    "id": "99555c16"
   },
   "outputs": [],
   "source": []
  },
  {
   "cell_type": "markdown",
   "id": "25187f2c",
   "metadata": {
    "id": "25187f2c"
   },
   "source": [
    "### 5. \n",
    "\n",
    "Write a program to accept five names from the user and store it in a Tuple 'T1'"
   ]
  },
  {
   "cell_type": "code",
   "execution_count": 2,
   "id": "7e9e98e3",
   "metadata": {
    "id": "7e9e98e3"
   },
   "outputs": [
    {
     "name": "stdout",
     "output_type": "stream",
     "text": [
      "Enter first name  : Babulal\n",
      "Enter second name : Dhaniram\n",
      "Enter third name  : Chunnilal\n",
      "Enter fourth name : Chiranjilal\n",
      "Enter fifth name  : Dholakram\n"
     ]
    },
    {
     "data": {
      "text/plain": [
       "('Babulal', 'Dhaniram', 'Chunnilal', 'Chiranjilal', 'Dholakram')"
      ]
     },
     "execution_count": 2,
     "metadata": {},
     "output_type": "execute_result"
    }
   ],
   "source": [
    "name1 = input('Enter first name  : ')\n",
    "name2 = input('Enter second name : ')\n",
    "name3 = input('Enter third name  : ')\n",
    "name4 = input('Enter fourth name : ')\n",
    "name5 = input('Enter fifth name  : ')\n",
    "\n",
    "names = (name1, name2, name3, name4, name5)\n",
    "names"
   ]
  },
  {
   "cell_type": "code",
   "execution_count": 4,
   "id": "7491318b",
   "metadata": {},
   "outputs": [
    {
     "data": {
      "text/plain": [
       "'Babulal'"
      ]
     },
     "execution_count": 4,
     "metadata": {},
     "output_type": "execute_result"
    }
   ],
   "source": [
    "name1"
   ]
  },
  {
   "cell_type": "code",
   "execution_count": null,
   "id": "d21ca0fb",
   "metadata": {},
   "outputs": [],
   "source": []
  }
 ],
 "metadata": {
  "colab": {
   "provenance": []
  },
  "kernelspec": {
   "display_name": "Python 3",
   "language": "python",
   "name": "python3"
  },
  "language_info": {
   "codemirror_mode": {
    "name": "ipython",
    "version": 3
   },
   "file_extension": ".py",
   "mimetype": "text/x-python",
   "name": "python",
   "nbconvert_exporter": "python",
   "pygments_lexer": "ipython3",
   "version": "3.8.5"
  }
 },
 "nbformat": 4,
 "nbformat_minor": 5
}
