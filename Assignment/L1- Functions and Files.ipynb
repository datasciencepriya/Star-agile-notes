{
 "cells": [
  {
   "cell_type": "markdown",
   "id": "d72f8ceb",
   "metadata": {
    "id": "d72f8ceb"
   },
   "source": [
    "# Assessment - 5 Gradable\n",
    "\n",
    "- Each question carries 5 or 4 marks\n",
    "- Marks will be assigned in terms of:\n",
    "    \n",
    "    **1. Expected output**\n",
    "    \n",
    "    **2. Quality and Explainability of code**\n",
    "\n",
    "    ***Go back through the script and type a comment above each line explaining in English what it does.***\n",
    "\n",
    "    **3. Copied code, if found, will result in 0 marks for that question. To avoid this make as much comments in the code to explain the approach**"
   ]
  },
  {
   "cell_type": "markdown",
   "id": "e5819cc0",
   "metadata": {
    "id": "e5819cc0"
   },
   "source": [
    "### 1. \n",
    "\n",
    "Create a function ``lets_find_88`` Given a list of ints, return True if the array contains a 8 next to a 8 somewhere.\n",
    "- lets_find_88([1, 8, 8]) → True\n",
    "- lets_find_88([1, 8, 1, 8]) → False\n",
    "- lets_find_88([8, 1, 8]) → False"
   ]
  },
  {
   "cell_type": "code",
   "execution_count": null,
   "id": "88e3b5b4",
   "metadata": {
    "id": "88e3b5b4"
   },
   "outputs": [],
   "source": []
  },
  {
   "cell_type": "markdown",
   "id": "6b3f11fd",
   "metadata": {
    "id": "6b3f11fd"
   },
   "source": [
    "### 2. \n",
    "\n",
    "ANIMAL CRACKERS: Write a function takes a two-word string and returns True if both words begin with same letter and returns False if both words begin with different letter\n",
    "- animal_crackers('Levelheaded Lion') --> True\n",
    "- animal_crackers('Cute Kangaroo') --> False"
   ]
  },
  {
   "cell_type": "code",
   "execution_count": null,
   "id": "15e45ae3",
   "metadata": {
    "id": "15e45ae3"
   },
   "outputs": [],
   "source": []
  },
  {
   "cell_type": "markdown",
   "id": "42453e7d",
   "metadata": {
    "id": "42453e7d"
   },
   "source": [
    "### 3. \n",
    "\n",
    "Write a function ``how_many_primes`` that returns the number of prime numbers that exist up to and including a given number\n",
    "\n",
    "- how_many_primes(100) --> 25"
   ]
  },
  {
   "cell_type": "code",
   "execution_count": null,
   "id": "b3302ec4",
   "metadata": {
    "id": "b3302ec4"
   },
   "outputs": [],
   "source": []
  },
  {
   "cell_type": "markdown",
   "id": "2b5f6f63",
   "metadata": {
    "id": "2b5f6f63"
   },
   "source": [
    "### 4. \n",
    "\n",
    "b = open(\"assignment.txt\")\n",
    "\n",
    "Consider the code given above and write the answers to the following :\n",
    "\n",
    "- Identify the name of the file : \n",
    "- Identify the name of the function used above : \n",
    "- What is 'b' in above code :\n",
    "- The above statement will  ____________ file in ___________ mode."
   ]
  },
  {
   "cell_type": "markdown",
   "id": "6c9eb680",
   "metadata": {
    "id": "6c9eb680"
   },
   "source": [
    "### 5.\n",
    "\n",
    "Accept five hobbies from the user and write in a file 'hobby.txt'. Then Read the file to list out all the 5 hobbies from the user."
   ]
  },
  {
   "cell_type": "code",
   "execution_count": null,
   "id": "1b9db22c",
   "metadata": {
    "id": "1b9db22c"
   },
   "outputs": [],
   "source": []
  }
 ],
 "metadata": {
  "colab": {
   "provenance": []
  },
  "kernelspec": {
   "display_name": "Python 3 (ipykernel)",
   "language": "python",
   "name": "python3"
  },
  "language_info": {
   "codemirror_mode": {
    "name": "ipython",
    "version": 3
   },
   "file_extension": ".py",
   "mimetype": "text/x-python",
   "name": "python",
   "nbconvert_exporter": "python",
   "pygments_lexer": "ipython3",
   "version": "3.9.13"
  }
 },
 "nbformat": 4,
 "nbformat_minor": 5
}
