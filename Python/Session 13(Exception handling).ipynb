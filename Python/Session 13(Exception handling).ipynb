{
 "cells": [
  {
   "cell_type": "markdown",
   "id": "3443606c",
   "metadata": {},
   "source": [
    "# Exception Handling\n",
    "\n",
    "#### Exception handling enables a program to deal with exceptions and continue its normal execution."
   ]
  },
  {
   "cell_type": "code",
   "execution_count": 6,
   "id": "ff76fb16",
   "metadata": {},
   "outputs": [
    {
     "name": "stdout",
     "output_type": "stream",
     "text": [
      "Enter First Number  : 10\n",
      "Enter second number : 0\n"
     ]
    },
    {
     "ename": "ZeroDivisionError",
     "evalue": "division by zero",
     "output_type": "error",
     "traceback": [
      "\u001b[1;31m---------------------------------------------------------------------------\u001b[0m",
      "\u001b[1;31mZeroDivisionError\u001b[0m                         Traceback (most recent call last)",
      "\u001b[1;32m<ipython-input-6-101304b2254c>\u001b[0m in \u001b[0;36m<module>\u001b[1;34m\u001b[0m\n\u001b[0;32m      2\u001b[0m \u001b[0mb\u001b[0m \u001b[1;33m=\u001b[0m \u001b[0mint\u001b[0m\u001b[1;33m(\u001b[0m\u001b[0minput\u001b[0m\u001b[1;33m(\u001b[0m\u001b[1;34m'Enter second number : '\u001b[0m\u001b[1;33m)\u001b[0m\u001b[1;33m)\u001b[0m\u001b[1;33m\u001b[0m\u001b[1;33m\u001b[0m\u001b[0m\n\u001b[0;32m      3\u001b[0m \u001b[1;33m\u001b[0m\u001b[0m\n\u001b[1;32m----> 4\u001b[1;33m \u001b[0mc\u001b[0m \u001b[1;33m=\u001b[0m \u001b[0ma\u001b[0m \u001b[1;33m/\u001b[0m \u001b[0mb\u001b[0m\u001b[1;33m\u001b[0m\u001b[1;33m\u001b[0m\u001b[0m\n\u001b[0m\u001b[0;32m      5\u001b[0m \u001b[0mprint\u001b[0m\u001b[1;33m(\u001b[0m\u001b[1;34m'The result is : '\u001b[0m\u001b[1;33m,\u001b[0m \u001b[0mc\u001b[0m\u001b[1;33m)\u001b[0m\u001b[1;33m\u001b[0m\u001b[1;33m\u001b[0m\u001b[0m\n\u001b[0;32m      6\u001b[0m \u001b[1;33m\u001b[0m\u001b[0m\n",
      "\u001b[1;31mZeroDivisionError\u001b[0m: division by zero"
     ]
    }
   ],
   "source": [
    "a = int(input('Enter First Number  : '))\n",
    "b = int(input('Enter second number : '))\n",
    "\n",
    "c = a / b\n",
    "print('The result is : ', c)\n",
    "\n",
    "print('Statements After')"
   ]
  },
  {
   "cell_type": "code",
   "execution_count": 7,
   "id": "860c4966",
   "metadata": {},
   "outputs": [
    {
     "ename": "FileNotFoundError",
     "evalue": "[Errno 2] No such file or directory: 'hello.txt'",
     "output_type": "error",
     "traceback": [
      "\u001b[1;31m---------------------------------------------------------------------------\u001b[0m",
      "\u001b[1;31mFileNotFoundError\u001b[0m                         Traceback (most recent call last)",
      "\u001b[1;32m<ipython-input-7-7ca720f35126>\u001b[0m in \u001b[0;36m<module>\u001b[1;34m\u001b[0m\n\u001b[1;32m----> 1\u001b[1;33m \u001b[0mf\u001b[0m \u001b[1;33m=\u001b[0m \u001b[0mopen\u001b[0m\u001b[1;33m(\u001b[0m\u001b[1;34m'hello.txt'\u001b[0m\u001b[1;33m)\u001b[0m\u001b[1;33m\u001b[0m\u001b[1;33m\u001b[0m\u001b[0m\n\u001b[0m\u001b[0;32m      2\u001b[0m \u001b[0mprint\u001b[0m\u001b[1;33m(\u001b[0m\u001b[1;34m'Statements After'\u001b[0m\u001b[1;33m)\u001b[0m\u001b[1;33m\u001b[0m\u001b[1;33m\u001b[0m\u001b[0m\n",
      "\u001b[1;31mFileNotFoundError\u001b[0m: [Errno 2] No such file or directory: 'hello.txt'"
     ]
    }
   ],
   "source": [
    "f = open('hello.txt')\n",
    "print('Statements After')"
   ]
  },
  {
   "cell_type": "markdown",
   "id": "e985aef6",
   "metadata": {},
   "source": [
    "# Try and Except"
   ]
  },
  {
   "cell_type": "code",
   "execution_count": 9,
   "id": "2f2c647c",
   "metadata": {},
   "outputs": [
    {
     "name": "stdout",
     "output_type": "stream",
     "text": [
      "Enter First Number  : 20\n",
      "Enter second number : 5\n",
      "The result is :  4.0\n",
      "Statements After\n"
     ]
    }
   ],
   "source": [
    "a = int(input('Enter First Number  : '))\n",
    "b = int(input('Enter second number : '))\n",
    "\n",
    "try:\n",
    "    c = a / b\n",
    "    print('The result is : ', c)\n",
    "except:\n",
    "    print('Division with zero not possible')\n",
    "    \n",
    "print('Statements After')"
   ]
  },
  {
   "cell_type": "code",
   "execution_count": 11,
   "id": "03e23ce7",
   "metadata": {},
   "outputs": [
    {
     "name": "stdout",
     "output_type": "stream",
     "text": [
      "Someting is wrong\n",
      "Statement after\n"
     ]
    }
   ],
   "source": [
    "try:\n",
    "    x = 10 / 5\n",
    "    f = open('hello.txt')\n",
    "except:\n",
    "    print('Someting is wrong')\n",
    "    \n",
    "print('Statement after')"
   ]
  },
  {
   "cell_type": "code",
   "execution_count": 18,
   "id": "5f89fa5d",
   "metadata": {},
   "outputs": [
    {
     "name": "stdout",
     "output_type": "stream",
     "text": [
      "File does not exist\n"
     ]
    }
   ],
   "source": [
    "try:\n",
    "    x = 10 / 5\n",
    "    f = open('hello.txt')\n",
    "    x = 10 / z\n",
    "except ZeroDivisionError:\n",
    "    print('Division by zero not possible')\n",
    "except FileNotFoundError:\n",
    "    print('File does not exist')\n",
    "except NameError:\n",
    "    print('Variable does not exist')"
   ]
  },
  {
   "cell_type": "code",
   "execution_count": 21,
   "id": "29a78012",
   "metadata": {},
   "outputs": [
    {
     "name": "stdout",
     "output_type": "stream",
     "text": [
      "Finally is executing\n"
     ]
    }
   ],
   "source": [
    "try:\n",
    "    x = 10 / 5\n",
    "    f = open('hello.txt')\n",
    "    x = 10 / z\n",
    "except ZeroDivisionError:\n",
    "    print('Division by zero not possible')\n",
    "except FileNotFoundError:\n",
    "    print('File does not exist')\n",
    "except NameError:\n",
    "    print('Variable does not exist')\n",
    "finally:\n",
    "    print('Finally is executing')"
   ]
  },
  {
   "cell_type": "markdown",
   "id": "63254207",
   "metadata": {},
   "source": [
    "# Raising exceptions"
   ]
  },
  {
   "cell_type": "code",
   "execution_count": 22,
   "id": "05158928",
   "metadata": {},
   "outputs": [
    {
     "name": "stdout",
     "output_type": "stream",
     "text": [
      "Enter the number : 5\n"
     ]
    },
    {
     "ename": "Exception",
     "evalue": "Only even numbers allowed",
     "output_type": "error",
     "traceback": [
      "\u001b[1;31m---------------------------------------------------------------------------\u001b[0m",
      "\u001b[1;31mException\u001b[0m                                 Traceback (most recent call last)",
      "\u001b[1;32m<ipython-input-22-7006c47c4cad>\u001b[0m in \u001b[0;36m<module>\u001b[1;34m\u001b[0m\n\u001b[0;32m      1\u001b[0m \u001b[0mx\u001b[0m \u001b[1;33m=\u001b[0m \u001b[0mint\u001b[0m\u001b[1;33m(\u001b[0m\u001b[0minput\u001b[0m\u001b[1;33m(\u001b[0m\u001b[1;34m'Enter the number : '\u001b[0m\u001b[1;33m)\u001b[0m\u001b[1;33m)\u001b[0m\u001b[1;33m\u001b[0m\u001b[1;33m\u001b[0m\u001b[0m\n\u001b[0;32m      2\u001b[0m \u001b[1;32mif\u001b[0m \u001b[0mx\u001b[0m \u001b[1;33m%\u001b[0m \u001b[1;36m2\u001b[0m \u001b[1;33m!=\u001b[0m \u001b[1;36m0\u001b[0m\u001b[1;33m:\u001b[0m\u001b[1;33m\u001b[0m\u001b[1;33m\u001b[0m\u001b[0m\n\u001b[1;32m----> 3\u001b[1;33m     \u001b[1;32mraise\u001b[0m \u001b[0mException\u001b[0m\u001b[1;33m(\u001b[0m\u001b[1;34m'Only even numbers allowed'\u001b[0m\u001b[1;33m)\u001b[0m\u001b[1;33m\u001b[0m\u001b[1;33m\u001b[0m\u001b[0m\n\u001b[0m",
      "\u001b[1;31mException\u001b[0m: Only even numbers allowed"
     ]
    }
   ],
   "source": [
    "x = int(input('Enter the number : '))\n",
    "if x % 2 != 0:\n",
    "    raise Exception('Only even numbers allowed')"
   ]
  },
  {
   "cell_type": "code",
   "execution_count": 23,
   "id": "f7439a73",
   "metadata": {},
   "outputs": [
    {
     "name": "stdout",
     "output_type": "stream",
     "text": [
      "Outer try block\n",
      "Inner Try block\n",
      "Handling inner exceptions\n",
      "After inner try catch\n",
      "Handling outer exeptions\n",
      "Out of try catch blocks\n"
     ]
    }
   ],
   "source": [
    "# Nested Try Except blocks\n",
    "try:\n",
    "    print('Outer try block')\n",
    "    try:\n",
    "        print('Inner Try block')\n",
    "        a = z + 5                     # inner Exception\n",
    "    except:\n",
    "        print('Handling inner exceptions')\n",
    "    print('After inner try catch')\n",
    "    a = z + 5                              # Outer exception\n",
    "except:\n",
    "    print('Handling outer exeptions')\n",
    "    \n",
    "print('Out of try catch blocks')"
   ]
  },
  {
   "cell_type": "code",
   "execution_count": null,
   "id": "ebfbae6d",
   "metadata": {},
   "outputs": [],
   "source": []
  }
 ],
 "metadata": {
  "kernelspec": {
   "display_name": "Python 3 (ipykernel)",
   "language": "python",
   "name": "python3"
  },
  "language_info": {
   "codemirror_mode": {
    "name": "ipython",
    "version": 3
   },
   "file_extension": ".py",
   "mimetype": "text/x-python",
   "name": "python",
   "nbconvert_exporter": "python",
   "pygments_lexer": "ipython3",
   "version": "3.9.7"
  }
 },
 "nbformat": 4,
 "nbformat_minor": 5
}
