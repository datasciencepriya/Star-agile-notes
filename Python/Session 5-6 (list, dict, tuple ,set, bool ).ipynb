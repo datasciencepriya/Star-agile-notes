{
 "cells": [
  {
   "cell_type": "markdown",
   "id": "de619a25",
   "metadata": {},
   "source": [
    "# Data Types In Python\n",
    "- **int** (for integers )\n",
    "- **float** (for floating point numbers)\n",
    "- **str** (for strings )\n",
    "- **list**\n",
    "- **tuple**\n",
    "- **dict** (for dictionary)\n",
    "- **set**\n",
    "- **bool**"
   ]
  },
  {
   "cell_type": "markdown",
   "id": "23ae84e4",
   "metadata": {},
   "source": [
    "# Important Concepts\n",
    "- Mutable\n",
    "- Immutable\n",
    "- Iterable\n",
    "- Non Iterable\n",
    "- Key Value Pair"
   ]
  },
  {
   "cell_type": "code",
   "execution_count": 1,
   "id": "a250e338",
   "metadata": {},
   "outputs": [
    {
     "data": {
      "text/plain": [
       "[10, 20, 30, 60, 50]"
      ]
     },
     "execution_count": 1,
     "metadata": {},
     "output_type": "execute_result"
    }
   ],
   "source": [
    "list1 = [10,20,30,40,50]                # lists are mutable (item assignment possible)\n",
    "list1[3] = 60\n",
    "list1"
   ]
  },
  {
   "cell_type": "code",
   "execution_count": 2,
   "id": "1383a8de",
   "metadata": {},
   "outputs": [
    {
     "ename": "TypeError",
     "evalue": "'str' object does not support item assignment",
     "output_type": "error",
     "traceback": [
      "\u001b[1;31m---------------------------------------------------------------------------\u001b[0m",
      "\u001b[1;31mTypeError\u001b[0m                                 Traceback (most recent call last)",
      "Cell \u001b[1;32mIn[2], line 2\u001b[0m\n\u001b[0;32m      1\u001b[0m s \u001b[38;5;241m=\u001b[39m \u001b[38;5;124m'\u001b[39m\u001b[38;5;124mHello\u001b[39m\u001b[38;5;124m'\u001b[39m                        \u001b[38;5;66;03m# strings are immutable (item assignment not possible)\u001b[39;00m\n\u001b[1;32m----> 2\u001b[0m \u001b[43ms\u001b[49m\u001b[43m[\u001b[49m\u001b[38;5;241;43m3\u001b[39;49m\u001b[43m]\u001b[49m \u001b[38;5;241m=\u001b[39m \u001b[38;5;124m'\u001b[39m\u001b[38;5;124mz\u001b[39m\u001b[38;5;124m'\u001b[39m\n",
      "\u001b[1;31mTypeError\u001b[0m: 'str' object does not support item assignment"
     ]
    }
   ],
   "source": [
    "s = 'Hello'                        # strings are immutable (item assignment not possible)\n",
    "s[3] = 'z'"
   ]
  },
  {
   "cell_type": "code",
   "execution_count": 3,
   "id": "8e451311",
   "metadata": {},
   "outputs": [
    {
     "name": "stdout",
     "output_type": "stream",
     "text": [
      "10 20 30 60 50 \n",
      "H e l l o "
     ]
    }
   ],
   "source": [
    "for i in list1:                            # list and string both are iterable\n",
    "    print(i, end = ' ')\n",
    "\n",
    "print()\n",
    "for i in s:           \n",
    "    print(i, end = ' ')"
   ]
  },
  {
   "cell_type": "markdown",
   "id": "af7989f4",
   "metadata": {},
   "source": [
    "# List\n",
    "- Lists are collections in python\n",
    "- Lists are defined using `[]`\n",
    "- Lists can store multiple elements of diffrent data types, separated by `,`\n",
    "- Lists are indexed, mutable, iterable"
   ]
  },
  {
   "cell_type": "code",
   "execution_count": 4,
   "id": "e50ffaee",
   "metadata": {},
   "outputs": [
    {
     "name": "stdout",
     "output_type": "stream",
     "text": [
      "[1, 2, 3, 4, 5]\n"
     ]
    },
    {
     "data": {
      "text/plain": [
       "list"
      ]
     },
     "execution_count": 4,
     "metadata": {},
     "output_type": "execute_result"
    }
   ],
   "source": [
    "l1 = [1,2,3,4,5]\n",
    "print(l1)\n",
    "type(l1)"
   ]
  },
  {
   "cell_type": "code",
   "execution_count": 5,
   "id": "e504ff0c",
   "metadata": {},
   "outputs": [
    {
     "data": {
      "text/plain": [
       "list"
      ]
     },
     "execution_count": 5,
     "metadata": {},
     "output_type": "execute_result"
    }
   ],
   "source": [
    "l1 = []\n",
    "type(l1)"
   ]
  },
  {
   "cell_type": "code",
   "execution_count": 6,
   "id": "4b663bd0",
   "metadata": {},
   "outputs": [
    {
     "data": {
      "text/plain": [
       "['abc', 'xyz', 'pqr']"
      ]
     },
     "execution_count": 6,
     "metadata": {},
     "output_type": "execute_result"
    }
   ],
   "source": [
    "l1 = ['abc','xyz', 'pqr']\n",
    "l1"
   ]
  },
  {
   "cell_type": "code",
   "execution_count": 7,
   "id": "1808e83f",
   "metadata": {},
   "outputs": [
    {
     "data": {
      "text/plain": [
       "[1, 2, 3, 4.5, 6.5, 'hello', [4, 5, 6], {1: 2}, (6, 7), True]"
      ]
     },
     "execution_count": 7,
     "metadata": {},
     "output_type": "execute_result"
    }
   ],
   "source": [
    "l1 = [1,2,3, 4.5,6.5, 'hello', [4,5,6], {1:2}, (6,7), True]\n",
    "l1                     # All the data types can be stores in lists"
   ]
  },
  {
   "cell_type": "code",
   "execution_count": 8,
   "id": "564a54d0",
   "metadata": {},
   "outputs": [
    {
     "data": {
      "text/plain": [
       "[10, 20, 100, 40, 50]"
      ]
     },
     "execution_count": 8,
     "metadata": {},
     "output_type": "execute_result"
    }
   ],
   "source": [
    "l1 = [10,20,30,40,50]                          # Lists are mutable\n",
    "l1[2] = 100\n",
    "l1"
   ]
  },
  {
   "cell_type": "markdown",
   "id": "eada04f3",
   "metadata": {},
   "source": [
    "## Concatenation"
   ]
  },
  {
   "cell_type": "code",
   "execution_count": 9,
   "id": "aa979423",
   "metadata": {},
   "outputs": [
    {
     "data": {
      "text/plain": [
       "[1, 2, 3, 4, 5, 6, 7, 8]"
      ]
     },
     "execution_count": 9,
     "metadata": {},
     "output_type": "execute_result"
    }
   ],
   "source": [
    "l1 = [1,2,3,4]\n",
    "l2 = [5,6,7,8]\n",
    "l1 + l2"
   ]
  },
  {
   "cell_type": "code",
   "execution_count": 10,
   "id": "052c891d",
   "metadata": {},
   "outputs": [
    {
     "data": {
      "text/plain": [
       "[1, 2, 3, 4, 6]"
      ]
     },
     "execution_count": 10,
     "metadata": {},
     "output_type": "execute_result"
    }
   ],
   "source": [
    "l1 + [6]"
   ]
  },
  {
   "cell_type": "code",
   "execution_count": 18,
   "id": "681fba57",
   "metadata": {},
   "outputs": [
    {
     "ename": "TypeError",
     "evalue": "can only concatenate list (not \"int\") to list",
     "output_type": "error",
     "traceback": [
      "\u001b[1;31m---------------------------------------------------------------------------\u001b[0m",
      "\u001b[1;31mTypeError\u001b[0m                                 Traceback (most recent call last)",
      "\u001b[1;32m<ipython-input-18-4a67961524f3>\u001b[0m in \u001b[0;36m<module>\u001b[1;34m\u001b[0m\n\u001b[1;32m----> 1\u001b[1;33m \u001b[0ml1\u001b[0m \u001b[1;33m+\u001b[0m \u001b[1;36m6\u001b[0m\u001b[1;33m\u001b[0m\u001b[1;33m\u001b[0m\u001b[0m\n\u001b[0m",
      "\u001b[1;31mTypeError\u001b[0m: can only concatenate list (not \"int\") to list"
     ]
    }
   ],
   "source": [
    "l1 + 6"
   ]
  },
  {
   "cell_type": "markdown",
   "id": "92a450f4",
   "metadata": {},
   "source": [
    "## Repetition"
   ]
  },
  {
   "cell_type": "code",
   "execution_count": 11,
   "id": "b38421f4",
   "metadata": {},
   "outputs": [
    {
     "data": {
      "text/plain": [
       "[1, 2, 3, 4, 1, 2, 3, 4]"
      ]
     },
     "execution_count": 11,
     "metadata": {},
     "output_type": "execute_result"
    }
   ],
   "source": [
    "l1 * 2"
   ]
  },
  {
   "cell_type": "code",
   "execution_count": 12,
   "id": "c496651d",
   "metadata": {},
   "outputs": [
    {
     "data": {
      "text/plain": [
       "[1, 2, 3, 4, 1, 2, 3, 4, 1, 2, 3, 4]"
      ]
     },
     "execution_count": 12,
     "metadata": {},
     "output_type": "execute_result"
    }
   ],
   "source": [
    "3 * l1"
   ]
  },
  {
   "cell_type": "markdown",
   "id": "ba69230a",
   "metadata": {},
   "source": [
    "## List Indexing"
   ]
  },
  {
   "cell_type": "code",
   "execution_count": 14,
   "id": "79b8630f",
   "metadata": {},
   "outputs": [
    {
     "data": {
      "text/plain": [
       "[10, 20, 30, 40, 50, 60, 70, 80, 90]"
      ]
     },
     "execution_count": 14,
     "metadata": {},
     "output_type": "execute_result"
    }
   ],
   "source": [
    "l1 = [10,20,30,40,50,60,70,80,90]\n",
    "l1"
   ]
  },
  {
   "cell_type": "code",
   "execution_count": 15,
   "id": "44bef974",
   "metadata": {},
   "outputs": [
    {
     "data": {
      "text/plain": [
       "10"
      ]
     },
     "execution_count": 15,
     "metadata": {},
     "output_type": "execute_result"
    }
   ],
   "source": [
    "l1[0]"
   ]
  },
  {
   "cell_type": "code",
   "execution_count": 16,
   "id": "b717cd24",
   "metadata": {},
   "outputs": [
    {
     "data": {
      "text/plain": [
       "30"
      ]
     },
     "execution_count": 16,
     "metadata": {},
     "output_type": "execute_result"
    }
   ],
   "source": [
    "l1[2]"
   ]
  },
  {
   "cell_type": "code",
   "execution_count": 17,
   "id": "6863dfac",
   "metadata": {},
   "outputs": [
    {
     "data": {
      "text/plain": [
       "90"
      ]
     },
     "execution_count": 17,
     "metadata": {},
     "output_type": "execute_result"
    }
   ],
   "source": [
    "l1[8]"
   ]
  },
  {
   "cell_type": "code",
   "execution_count": 18,
   "id": "55802bc1",
   "metadata": {},
   "outputs": [
    {
     "data": {
      "text/plain": [
       "90"
      ]
     },
     "execution_count": 18,
     "metadata": {},
     "output_type": "execute_result"
    }
   ],
   "source": [
    "l1[-1]"
   ]
  },
  {
   "cell_type": "code",
   "execution_count": 19,
   "id": "fac20ecd",
   "metadata": {},
   "outputs": [
    {
     "data": {
      "text/plain": [
       "80"
      ]
     },
     "execution_count": 19,
     "metadata": {},
     "output_type": "execute_result"
    }
   ],
   "source": [
    "l1[-2]"
   ]
  },
  {
   "cell_type": "code",
   "execution_count": 20,
   "id": "714279e5",
   "metadata": {},
   "outputs": [
    {
     "data": {
      "text/plain": [
       "70"
      ]
     },
     "execution_count": 20,
     "metadata": {},
     "output_type": "execute_result"
    }
   ],
   "source": [
    "l1[-3]"
   ]
  },
  {
   "cell_type": "markdown",
   "id": "4fd96bbe",
   "metadata": {},
   "source": [
    "## List Slicing"
   ]
  },
  {
   "cell_type": "code",
   "execution_count": 21,
   "id": "3eade665",
   "metadata": {},
   "outputs": [
    {
     "data": {
      "text/plain": [
       "[10, 20, 30, 40, 50, 60, 70, 80, 90]"
      ]
     },
     "execution_count": 21,
     "metadata": {},
     "output_type": "execute_result"
    }
   ],
   "source": [
    "l1"
   ]
  },
  {
   "cell_type": "code",
   "execution_count": 22,
   "id": "bc722b30",
   "metadata": {},
   "outputs": [
    {
     "data": {
      "text/plain": [
       "[10, 20, 30, 40, 50]"
      ]
     },
     "execution_count": 22,
     "metadata": {},
     "output_type": "execute_result"
    }
   ],
   "source": [
    "l1[0:5]"
   ]
  },
  {
   "cell_type": "code",
   "execution_count": 23,
   "id": "1e3c9bc5",
   "metadata": {},
   "outputs": [
    {
     "data": {
      "text/plain": [
       "[20, 30, 40, 50, 60, 70, 80]"
      ]
     },
     "execution_count": 23,
     "metadata": {},
     "output_type": "execute_result"
    }
   ],
   "source": [
    "l1[1:8]"
   ]
  },
  {
   "cell_type": "code",
   "execution_count": 24,
   "id": "a6fa8a99",
   "metadata": {},
   "outputs": [
    {
     "data": {
      "text/plain": [
       "[10, 20, 30, 40, 50, 60]"
      ]
     },
     "execution_count": 24,
     "metadata": {},
     "output_type": "execute_result"
    }
   ],
   "source": [
    "l1[:6]"
   ]
  },
  {
   "cell_type": "code",
   "execution_count": 25,
   "id": "d87ae6f0",
   "metadata": {},
   "outputs": [
    {
     "data": {
      "text/plain": [
       "[50, 60, 70, 80, 90]"
      ]
     },
     "execution_count": 25,
     "metadata": {},
     "output_type": "execute_result"
    }
   ],
   "source": [
    "l1[4:]"
   ]
  },
  {
   "cell_type": "code",
   "execution_count": 26,
   "id": "ea9e6b44",
   "metadata": {},
   "outputs": [
    {
     "data": {
      "text/plain": [
       "[10, 20, 30, 40, 50, 60, 70, 80, 90]"
      ]
     },
     "execution_count": 26,
     "metadata": {},
     "output_type": "execute_result"
    }
   ],
   "source": [
    "l1[:]"
   ]
  },
  {
   "cell_type": "code",
   "execution_count": 27,
   "id": "eeff22e2",
   "metadata": {},
   "outputs": [
    {
     "data": {
      "text/plain": [
       "[10, 30, 50, 70, 90]"
      ]
     },
     "execution_count": 27,
     "metadata": {},
     "output_type": "execute_result"
    }
   ],
   "source": [
    "l1[::2]"
   ]
  },
  {
   "cell_type": "code",
   "execution_count": 28,
   "id": "2e637ce4",
   "metadata": {},
   "outputs": [
    {
     "data": {
      "text/plain": [
       "[20, 40, 60, 80]"
      ]
     },
     "execution_count": 28,
     "metadata": {},
     "output_type": "execute_result"
    }
   ],
   "source": [
    "l1[1::2]"
   ]
  },
  {
   "cell_type": "code",
   "execution_count": 29,
   "id": "c149e5a4",
   "metadata": {},
   "outputs": [
    {
     "data": {
      "text/plain": [
       "[20, 30, 40, 50, 60, 70, 80]"
      ]
     },
     "execution_count": 29,
     "metadata": {},
     "output_type": "execute_result"
    }
   ],
   "source": [
    "l1[-8:-1]"
   ]
  },
  {
   "cell_type": "code",
   "execution_count": 30,
   "id": "0b7147c1",
   "metadata": {},
   "outputs": [
    {
     "data": {
      "text/plain": [
       "[90, 80, 70, 60, 50, 40, 30, 20, 10]"
      ]
     },
     "execution_count": 30,
     "metadata": {},
     "output_type": "execute_result"
    }
   ],
   "source": [
    "l1[-1::-1]"
   ]
  },
  {
   "cell_type": "code",
   "execution_count": 31,
   "id": "dbaa0fa8",
   "metadata": {},
   "outputs": [
    {
     "data": {
      "text/plain": [
       "[90, 80, 70, 60, 50, 40, 30, 20, 10]"
      ]
     },
     "execution_count": 31,
     "metadata": {},
     "output_type": "execute_result"
    }
   ],
   "source": [
    "l1[::-1]"
   ]
  },
  {
   "cell_type": "markdown",
   "id": "65339dc8",
   "metadata": {},
   "source": [
    "## Nested Lists"
   ]
  },
  {
   "cell_type": "code",
   "execution_count": 32,
   "id": "bbe28c29",
   "metadata": {},
   "outputs": [
    {
     "data": {
      "text/plain": [
       "4"
      ]
     },
     "execution_count": 32,
     "metadata": {},
     "output_type": "execute_result"
    }
   ],
   "source": [
    "l1 = [1,2, [4,5,6], [7,8]]\n",
    "len(l1)"
   ]
  },
  {
   "cell_type": "code",
   "execution_count": 39,
   "id": "f63826be",
   "metadata": {},
   "outputs": [
    {
     "data": {
      "text/plain": [
       "5"
      ]
     },
     "execution_count": 39,
     "metadata": {},
     "output_type": "execute_result"
    }
   ],
   "source": [
    "l1[2][1]"
   ]
  },
  {
   "cell_type": "code",
   "execution_count": 41,
   "id": "f3c26996",
   "metadata": {},
   "outputs": [
    {
     "data": {
      "text/plain": [
       "[1, 2, 3, [4, 5], [8, 9], ['ABC', 'XYZ'], [10, 20, [30, 40]]]"
      ]
     },
     "execution_count": 41,
     "metadata": {},
     "output_type": "execute_result"
    }
   ],
   "source": [
    "l1 = [1,2,3, [4,5],[8,9],['ABC','XYZ'], [10,20, [30,40]]]\n",
    "l1"
   ]
  },
  {
   "cell_type": "code",
   "execution_count": 42,
   "id": "5caefa33",
   "metadata": {},
   "outputs": [
    {
     "data": {
      "text/plain": [
       "7"
      ]
     },
     "execution_count": 42,
     "metadata": {},
     "output_type": "execute_result"
    }
   ],
   "source": [
    "len(l1)"
   ]
  },
  {
   "cell_type": "code",
   "execution_count": 43,
   "id": "b5c7fe54",
   "metadata": {},
   "outputs": [
    {
     "data": {
      "text/plain": [
       "1"
      ]
     },
     "execution_count": 43,
     "metadata": {},
     "output_type": "execute_result"
    }
   ],
   "source": [
    "l1[0]"
   ]
  },
  {
   "cell_type": "code",
   "execution_count": 44,
   "id": "dd9ff878",
   "metadata": {},
   "outputs": [
    {
     "data": {
      "text/plain": [
       "[4, 5]"
      ]
     },
     "execution_count": 44,
     "metadata": {},
     "output_type": "execute_result"
    }
   ],
   "source": [
    "l1[3]"
   ]
  },
  {
   "cell_type": "code",
   "execution_count": 61,
   "id": "d4b02822",
   "metadata": {},
   "outputs": [
    {
     "data": {
      "text/plain": [
       "['ABC', 'XYZ']"
      ]
     },
     "execution_count": 61,
     "metadata": {},
     "output_type": "execute_result"
    }
   ],
   "source": [
    "l1[5]"
   ]
  },
  {
   "cell_type": "code",
   "execution_count": 47,
   "id": "b9f0bc69",
   "metadata": {},
   "outputs": [
    {
     "data": {
      "text/plain": [
       "5"
      ]
     },
     "execution_count": 47,
     "metadata": {},
     "output_type": "execute_result"
    }
   ],
   "source": [
    "l1[3][1]"
   ]
  },
  {
   "cell_type": "code",
   "execution_count": 48,
   "id": "8130d598",
   "metadata": {},
   "outputs": [
    {
     "data": {
      "text/plain": [
       "'XYZ'"
      ]
     },
     "execution_count": 48,
     "metadata": {},
     "output_type": "execute_result"
    }
   ],
   "source": [
    "l1[5][1]"
   ]
  },
  {
   "cell_type": "code",
   "execution_count": 51,
   "id": "9670f135",
   "metadata": {},
   "outputs": [
    {
     "data": {
      "text/plain": [
       "30"
      ]
     },
     "execution_count": 51,
     "metadata": {},
     "output_type": "execute_result"
    }
   ],
   "source": [
    "l1[6][2][0]"
   ]
  },
  {
   "cell_type": "code",
   "execution_count": 52,
   "id": "4a613b67",
   "metadata": {},
   "outputs": [
    {
     "data": {
      "text/plain": [
       "[[1, 2, 3], [4, [5, 6], 7], [7, [8, [9, 10, [11]]]], ['Hello', [1, ['Haha']]]]"
      ]
     },
     "execution_count": 52,
     "metadata": {},
     "output_type": "execute_result"
    }
   ],
   "source": [
    "# Practice\n",
    "l1 = [1,2,3]\n",
    "l2 = [4,[5,6],7]\n",
    "l3 = [7,[8,[9,10,[11]]]]\n",
    "l4 = ['Hello',[1,['Haha']]]\n",
    "l5 = [l1,l2,l3,l4]\n",
    "l5"
   ]
  },
  {
   "cell_type": "code",
   "execution_count": 53,
   "id": "65cbbca6",
   "metadata": {},
   "outputs": [
    {
     "data": {
      "text/plain": [
       "4"
      ]
     },
     "execution_count": 53,
     "metadata": {},
     "output_type": "execute_result"
    }
   ],
   "source": [
    "len(l5)"
   ]
  },
  {
   "cell_type": "code",
   "execution_count": 84,
   "id": "10775eff",
   "metadata": {},
   "outputs": [
    {
     "data": {
      "text/plain": [
       "6"
      ]
     },
     "execution_count": 84,
     "metadata": {},
     "output_type": "execute_result"
    }
   ],
   "source": [
    "l5[1][1][1]"
   ]
  },
  {
   "cell_type": "code",
   "execution_count": 60,
   "id": "efa5e461",
   "metadata": {},
   "outputs": [
    {
     "data": {
      "text/plain": [
       "8"
      ]
     },
     "execution_count": 60,
     "metadata": {},
     "output_type": "execute_result"
    }
   ],
   "source": [
    "l5[2][1][0]"
   ]
  },
  {
   "cell_type": "code",
   "execution_count": 64,
   "id": "a85a615b",
   "metadata": {},
   "outputs": [
    {
     "data": {
      "text/plain": [
       "10"
      ]
     },
     "execution_count": 64,
     "metadata": {},
     "output_type": "execute_result"
    }
   ],
   "source": [
    "l5[2][1][1][1]"
   ]
  },
  {
   "cell_type": "code",
   "execution_count": 69,
   "id": "92a1f997",
   "metadata": {},
   "outputs": [
    {
     "data": {
      "text/plain": [
       "'H'"
      ]
     },
     "execution_count": 69,
     "metadata": {},
     "output_type": "execute_result"
    }
   ],
   "source": [
    "l5[3][1][1][0][0]"
   ]
  },
  {
   "cell_type": "code",
   "execution_count": 86,
   "id": "9595267d",
   "metadata": {},
   "outputs": [
    {
     "data": {
      "text/plain": [
       "'ah'"
      ]
     },
     "execution_count": 86,
     "metadata": {},
     "output_type": "execute_result"
    }
   ],
   "source": [
    "l5[3][1][1][0][1:3]"
   ]
  },
  {
   "cell_type": "markdown",
   "id": "80211ebb",
   "metadata": {},
   "source": [
    "## List Functions"
   ]
  },
  {
   "cell_type": "code",
   "execution_count": 1,
   "id": "9441123b",
   "metadata": {},
   "outputs": [
    {
     "data": {
      "text/plain": [
       "[1, 2, 3, 4, 5, 6, 7, 8, 9]"
      ]
     },
     "execution_count": 1,
     "metadata": {},
     "output_type": "execute_result"
    }
   ],
   "source": [
    "l1 = [1,2,3,4,5,6,7,8,9]\n",
    "l1"
   ]
  },
  {
   "cell_type": "code",
   "execution_count": 2,
   "id": "6902a603",
   "metadata": {},
   "outputs": [
    {
     "data": {
      "text/plain": [
       "9"
      ]
     },
     "execution_count": 2,
     "metadata": {},
     "output_type": "execute_result"
    }
   ],
   "source": [
    "len(l1)"
   ]
  },
  {
   "cell_type": "code",
   "execution_count": 3,
   "id": "ba1ed702",
   "metadata": {},
   "outputs": [
    {
     "data": {
      "text/plain": [
       "list"
      ]
     },
     "execution_count": 3,
     "metadata": {},
     "output_type": "execute_result"
    }
   ],
   "source": [
    "type(l1)"
   ]
  },
  {
   "cell_type": "code",
   "execution_count": 4,
   "id": "46845610",
   "metadata": {},
   "outputs": [
    {
     "data": {
      "text/plain": [
       "[1, 2, 3, 4, 5, 6, 7, 8, 9, 10]"
      ]
     },
     "execution_count": 4,
     "metadata": {},
     "output_type": "execute_result"
    }
   ],
   "source": [
    "l1.append(10)    # Add an element at the end of the list\n",
    "l1"
   ]
  },
  {
   "cell_type": "code",
   "execution_count": 5,
   "id": "849fff67",
   "metadata": {},
   "outputs": [
    {
     "data": {
      "text/plain": [
       "[1, 2, 3, 4, 5, 6, 7, 8, 9, 10, 'ABC']"
      ]
     },
     "execution_count": 5,
     "metadata": {},
     "output_type": "execute_result"
    }
   ],
   "source": [
    "l1.append('ABC')\n",
    "l1"
   ]
  },
  {
   "cell_type": "code",
   "execution_count": 6,
   "id": "893b5f59",
   "metadata": {},
   "outputs": [
    {
     "data": {
      "text/plain": [
       "[1, 2, 3, 4, 5, 6, 7, 8, 9, 10, 'ABC', [1, 2, 3]]"
      ]
     },
     "execution_count": 6,
     "metadata": {},
     "output_type": "execute_result"
    }
   ],
   "source": [
    "l1.append([1,2,3])\n",
    "l1"
   ]
  },
  {
   "cell_type": "code",
   "execution_count": 7,
   "id": "fc4a1be3",
   "metadata": {},
   "outputs": [
    {
     "data": {
      "text/plain": [
       "[1, 2, 3]"
      ]
     },
     "execution_count": 7,
     "metadata": {},
     "output_type": "execute_result"
    }
   ],
   "source": [
    "l1.pop()    # By default pop deletes the last element"
   ]
  },
  {
   "cell_type": "code",
   "execution_count": 8,
   "id": "f9dd0495",
   "metadata": {},
   "outputs": [
    {
     "data": {
      "text/plain": [
       "[1, 2, 3, 4, 5, 6, 7, 8, 9, 10, 'ABC']"
      ]
     },
     "execution_count": 8,
     "metadata": {},
     "output_type": "execute_result"
    }
   ],
   "source": [
    "l1"
   ]
  },
  {
   "cell_type": "code",
   "execution_count": 9,
   "id": "8554b4a4",
   "metadata": {},
   "outputs": [
    {
     "data": {
      "text/plain": [
       "6"
      ]
     },
     "execution_count": 9,
     "metadata": {},
     "output_type": "execute_result"
    }
   ],
   "source": [
    "l1.pop(5)                 # Deletes by index"
   ]
  },
  {
   "cell_type": "code",
   "execution_count": 10,
   "id": "106a0fc9",
   "metadata": {},
   "outputs": [
    {
     "data": {
      "text/plain": [
       "[1, 2, 3, 4, 5, 7, 8, 9, 10, 'ABC']"
      ]
     },
     "execution_count": 10,
     "metadata": {},
     "output_type": "execute_result"
    }
   ],
   "source": [
    "l1"
   ]
  },
  {
   "cell_type": "code",
   "execution_count": 11,
   "id": "ced0bd45",
   "metadata": {},
   "outputs": [],
   "source": [
    "l1.remove('ABC')         # Deletes by the value of element"
   ]
  },
  {
   "cell_type": "code",
   "execution_count": 12,
   "id": "940eda60",
   "metadata": {},
   "outputs": [
    {
     "data": {
      "text/plain": [
       "[1, 2, 3, 4, 5, 7, 8, 9, 10]"
      ]
     },
     "execution_count": 12,
     "metadata": {},
     "output_type": "execute_result"
    }
   ],
   "source": [
    "l1"
   ]
  },
  {
   "cell_type": "code",
   "execution_count": 13,
   "id": "d611dde5",
   "metadata": {},
   "outputs": [
    {
     "data": {
      "text/plain": [
       "[1, 2, 3, 4, 5, 7, 9, 10]"
      ]
     },
     "execution_count": 13,
     "metadata": {},
     "output_type": "execute_result"
    }
   ],
   "source": [
    "l1.remove(8)\n",
    "l1"
   ]
  },
  {
   "cell_type": "code",
   "execution_count": 14,
   "id": "c5ccb0bf",
   "metadata": {},
   "outputs": [
    {
     "data": {
      "text/plain": [
       "[1, 2, 3, 4, 6, 5]"
      ]
     },
     "execution_count": 14,
     "metadata": {},
     "output_type": "execute_result"
    }
   ],
   "source": [
    "l1 = [1,2,3,4,5,6,5]\n",
    "l1.remove(5)              # Only deletes the first occurrence\n",
    "l1"
   ]
  },
  {
   "cell_type": "code",
   "execution_count": 16,
   "id": "f74aa825",
   "metadata": {},
   "outputs": [
    {
     "data": {
      "text/plain": [
       "[1, 2, 3, 4, 5]"
      ]
     },
     "execution_count": 16,
     "metadata": {},
     "output_type": "execute_result"
    }
   ],
   "source": [
    "l1 = [1,2,3,4,5]\n",
    "l1"
   ]
  },
  {
   "cell_type": "code",
   "execution_count": 17,
   "id": "76b7c19f",
   "metadata": {},
   "outputs": [
    {
     "data": {
      "text/plain": [
       "[1, 2, 3, 4, 5, 11, 22, 33]"
      ]
     },
     "execution_count": 17,
     "metadata": {},
     "output_type": "execute_result"
    }
   ],
   "source": [
    "l1.extend([11,22,33])    # Takes a collection object and adds elements of it to the list\n",
    "l1"
   ]
  },
  {
   "cell_type": "code",
   "execution_count": 18,
   "id": "6f3c5b9d",
   "metadata": {},
   "outputs": [
    {
     "data": {
      "text/plain": [
       "[1, 2, 3, 4, 5, 11, 22, 33, 'A', 'B', 'C']"
      ]
     },
     "execution_count": 18,
     "metadata": {},
     "output_type": "execute_result"
    }
   ],
   "source": [
    "l1.extend('ABC')\n",
    "l1"
   ]
  },
  {
   "cell_type": "code",
   "execution_count": 20,
   "id": "3e678b18",
   "metadata": {},
   "outputs": [
    {
     "data": {
      "text/plain": [
       "[1, 2, 3, 4, 5, 11, 22, 33, 'A', 'B', 'C', [10, 20, 30]]"
      ]
     },
     "execution_count": 20,
     "metadata": {},
     "output_type": "execute_result"
    }
   ],
   "source": [
    "l1.extend([[10,20,30]])\n",
    "l1"
   ]
  },
  {
   "cell_type": "code",
   "execution_count": 24,
   "id": "49fbb450",
   "metadata": {},
   "outputs": [
    {
     "data": {
      "text/plain": [
       "[1, 2, 3, 4, 5, 6, 7, 8]"
      ]
     },
     "execution_count": 24,
     "metadata": {},
     "output_type": "execute_result"
    }
   ],
   "source": [
    "l1 = [1,2,3,4,5,6,7,8]\n",
    "l1"
   ]
  },
  {
   "cell_type": "code",
   "execution_count": 25,
   "id": "85880988",
   "metadata": {},
   "outputs": [
    {
     "data": {
      "text/plain": [
       "[1, 2, 3, 4, 5, 10, 6, 7, 8]"
      ]
     },
     "execution_count": 25,
     "metadata": {},
     "output_type": "execute_result"
    }
   ],
   "source": [
    "l1.insert(5,10)    # Takes an index (where to insert) and an element (what to insert)\n",
    "l1"
   ]
  },
  {
   "cell_type": "code",
   "execution_count": 26,
   "id": "6564729a",
   "metadata": {},
   "outputs": [
    {
     "data": {
      "text/plain": [
       "[1, 2, 3, 4, 5, 10, 6, 7, 8, 40]"
      ]
     },
     "execution_count": 26,
     "metadata": {},
     "output_type": "execute_result"
    }
   ],
   "source": [
    "l1.insert(9,40)\n",
    "l1"
   ]
  },
  {
   "cell_type": "code",
   "execution_count": 27,
   "id": "5a2849bf",
   "metadata": {},
   "outputs": [
    {
     "data": {
      "text/plain": [
       "[1, 2, 3, 4, 5, 10, 6, 7, 'ABC', 8, 40]"
      ]
     },
     "execution_count": 27,
     "metadata": {},
     "output_type": "execute_result"
    }
   ],
   "source": [
    "l1.insert(8,'ABC')\n",
    "l1"
   ]
  },
  {
   "cell_type": "code",
   "execution_count": 28,
   "id": "80c23dc8",
   "metadata": {},
   "outputs": [
    {
     "data": {
      "text/plain": [
       "[10, 20, 30, 40, 50, 60, 70, 80, 90, 100]"
      ]
     },
     "execution_count": 28,
     "metadata": {},
     "output_type": "execute_result"
    }
   ],
   "source": [
    "l1 = [30,100,20,70,60,10,40,50,90,80]\n",
    "l1.sort()\n",
    "l1"
   ]
  },
  {
   "cell_type": "code",
   "execution_count": 29,
   "id": "e08ff06a",
   "metadata": {},
   "outputs": [
    {
     "data": {
      "text/plain": [
       "[100, 90, 80, 70, 60, 50, 40, 30, 20, 10]"
      ]
     },
     "execution_count": 29,
     "metadata": {},
     "output_type": "execute_result"
    }
   ],
   "source": [
    "l1.sort(reverse = True)\n",
    "l1"
   ]
  },
  {
   "cell_type": "code",
   "execution_count": 31,
   "id": "8a2b86c0",
   "metadata": {},
   "outputs": [
    {
     "data": {
      "text/plain": [
       "[1, 2, 3, 4, 5, 6, 7, 8]"
      ]
     },
     "execution_count": 31,
     "metadata": {},
     "output_type": "execute_result"
    }
   ],
   "source": [
    "l1 = [1,2,3,4,5,6,7,8]\n",
    "l1"
   ]
  },
  {
   "cell_type": "code",
   "execution_count": 32,
   "id": "de16738f",
   "metadata": {},
   "outputs": [
    {
     "data": {
      "text/plain": [
       "36"
      ]
     },
     "execution_count": 32,
     "metadata": {},
     "output_type": "execute_result"
    }
   ],
   "source": [
    "sum(l1)"
   ]
  },
  {
   "cell_type": "code",
   "execution_count": 33,
   "id": "a2228ddc",
   "metadata": {},
   "outputs": [
    {
     "data": {
      "text/plain": [
       "8"
      ]
     },
     "execution_count": 33,
     "metadata": {},
     "output_type": "execute_result"
    }
   ],
   "source": [
    "max(l1)"
   ]
  },
  {
   "cell_type": "code",
   "execution_count": 34,
   "id": "4941017d",
   "metadata": {},
   "outputs": [
    {
     "data": {
      "text/plain": [
       "1"
      ]
     },
     "execution_count": 34,
     "metadata": {},
     "output_type": "execute_result"
    }
   ],
   "source": [
    "min(l1)"
   ]
  },
  {
   "cell_type": "code",
   "execution_count": 35,
   "id": "4e2d01de",
   "metadata": {},
   "outputs": [],
   "source": [
    "l1 = [10,20,30,10,40,50,10]"
   ]
  },
  {
   "cell_type": "code",
   "execution_count": 36,
   "id": "3f62b649",
   "metadata": {},
   "outputs": [
    {
     "data": {
      "text/plain": [
       "3"
      ]
     },
     "execution_count": 36,
     "metadata": {},
     "output_type": "execute_result"
    }
   ],
   "source": [
    "l1.count(10)"
   ]
  },
  {
   "cell_type": "code",
   "execution_count": 37,
   "id": "21822395",
   "metadata": {},
   "outputs": [
    {
     "data": {
      "text/plain": [
       "5"
      ]
     },
     "execution_count": 37,
     "metadata": {},
     "output_type": "execute_result"
    }
   ],
   "source": [
    "l1.index(50)"
   ]
  },
  {
   "cell_type": "code",
   "execution_count": 38,
   "id": "747ab681",
   "metadata": {},
   "outputs": [
    {
     "ename": "ValueError",
     "evalue": "70 is not in list",
     "output_type": "error",
     "traceback": [
      "\u001b[1;31m---------------------------------------------------------------------------\u001b[0m",
      "\u001b[1;31mValueError\u001b[0m                                Traceback (most recent call last)",
      "Cell \u001b[1;32mIn[38], line 1\u001b[0m\n\u001b[1;32m----> 1\u001b[0m \u001b[43ml1\u001b[49m\u001b[38;5;241;43m.\u001b[39;49m\u001b[43mindex\u001b[49m\u001b[43m(\u001b[49m\u001b[38;5;241;43m70\u001b[39;49m\u001b[43m)\u001b[49m\n",
      "\u001b[1;31mValueError\u001b[0m: 70 is not in list"
     ]
    }
   ],
   "source": [
    "l1.index(70)"
   ]
  },
  {
   "cell_type": "code",
   "execution_count": 39,
   "id": "cc6086cd",
   "metadata": {},
   "outputs": [
    {
     "data": {
      "text/plain": [
       "[40, 30, 50, 20, 10]"
      ]
     },
     "execution_count": 39,
     "metadata": {},
     "output_type": "execute_result"
    }
   ],
   "source": [
    "l1 = [10,20,50,30,40]\n",
    "l1.reverse()\n",
    "l1"
   ]
  },
  {
   "cell_type": "markdown",
   "id": "72a26a07",
   "metadata": {},
   "source": [
    "# ================================================"
   ]
  },
  {
   "cell_type": "markdown",
   "id": "6a5bc1c0",
   "metadata": {},
   "source": [
    "# Tuple\n",
    "- Collection which can store elements of different data types\n",
    "- created using `()` and elements are separated by `,`\n",
    "- Tuples are like lists but they are immutable"
   ]
  },
  {
   "cell_type": "code",
   "execution_count": 57,
   "id": "722503a4",
   "metadata": {},
   "outputs": [
    {
     "data": {
      "text/plain": [
       "tuple"
      ]
     },
     "execution_count": 57,
     "metadata": {},
     "output_type": "execute_result"
    }
   ],
   "source": [
    "a = (1,2,3)\n",
    "type(a)"
   ]
  },
  {
   "cell_type": "code",
   "execution_count": 58,
   "id": "bd94010d",
   "metadata": {},
   "outputs": [
    {
     "ename": "TypeError",
     "evalue": "'tuple' object does not support item assignment",
     "output_type": "error",
     "traceback": [
      "\u001b[1;31m---------------------------------------------------------------------------\u001b[0m",
      "\u001b[1;31mTypeError\u001b[0m                                 Traceback (most recent call last)",
      "Cell \u001b[1;32mIn[58], line 1\u001b[0m\n\u001b[1;32m----> 1\u001b[0m \u001b[43ma\u001b[49m\u001b[43m[\u001b[49m\u001b[38;5;241;43m2\u001b[39;49m\u001b[43m]\u001b[49m \u001b[38;5;241m=\u001b[39m \u001b[38;5;241m4\u001b[39m                               \u001b[38;5;66;03m# tuples are immutable\u001b[39;00m\n",
      "\u001b[1;31mTypeError\u001b[0m: 'tuple' object does not support item assignment"
     ]
    }
   ],
   "source": [
    "a[2] = 4                               # tuples are immutable"
   ]
  },
  {
   "cell_type": "code",
   "execution_count": 42,
   "id": "a7c86623",
   "metadata": {},
   "outputs": [
    {
     "data": {
      "text/plain": [
       "(1, 2, 3, 4, 5.5, 6.5, 2, 3, 'ABC', [1, 2, 3], (1, 2, 3), {1: 2}, True)"
      ]
     },
     "execution_count": 42,
     "metadata": {},
     "output_type": "execute_result"
    }
   ],
   "source": [
    "t = (1,2,3,4,5.5,6.5, 2,3, 'ABC', [1,2,3],(1,2,3), {1 : 2}, True)\n",
    "t"
   ]
  },
  {
   "cell_type": "code",
   "execution_count": 43,
   "id": "84faf7bc",
   "metadata": {},
   "outputs": [
    {
     "data": {
      "text/plain": [
       "(1, 2, 3, 4, 5, 6)"
      ]
     },
     "execution_count": 43,
     "metadata": {},
     "output_type": "execute_result"
    }
   ],
   "source": [
    "# Concatenation\n",
    "t1 = (1,2,3)\n",
    "t2 = (4,5,6)\n",
    "t1 + t2"
   ]
  },
  {
   "cell_type": "code",
   "execution_count": 44,
   "id": "ae4cd7cd",
   "metadata": {},
   "outputs": [
    {
     "data": {
      "text/plain": [
       "(1, 2, 3, 1, 2, 3, 1, 2, 3)"
      ]
     },
     "execution_count": 44,
     "metadata": {},
     "output_type": "execute_result"
    }
   ],
   "source": [
    "t1 * 3"
   ]
  },
  {
   "cell_type": "code",
   "execution_count": 45,
   "id": "79e14fa4",
   "metadata": {},
   "outputs": [
    {
     "data": {
      "text/plain": [
       "(1, 2, 3, 4, 5, 6, 7, 8, 9)"
      ]
     },
     "execution_count": 45,
     "metadata": {},
     "output_type": "execute_result"
    }
   ],
   "source": [
    "t1 = (1,2,3,4,5,6,7,8,9)\n",
    "t1"
   ]
  },
  {
   "cell_type": "code",
   "execution_count": 46,
   "id": "d6ee3e26",
   "metadata": {},
   "outputs": [
    {
     "data": {
      "text/plain": [
       "1"
      ]
     },
     "execution_count": 46,
     "metadata": {},
     "output_type": "execute_result"
    }
   ],
   "source": [
    "t1[0]"
   ]
  },
  {
   "cell_type": "code",
   "execution_count": 47,
   "id": "b9fc8384",
   "metadata": {},
   "outputs": [
    {
     "data": {
      "text/plain": [
       "3"
      ]
     },
     "execution_count": 47,
     "metadata": {},
     "output_type": "execute_result"
    }
   ],
   "source": [
    "t1[2]"
   ]
  },
  {
   "cell_type": "code",
   "execution_count": 48,
   "id": "5a27e7eb",
   "metadata": {},
   "outputs": [
    {
     "data": {
      "text/plain": [
       "9"
      ]
     },
     "execution_count": 48,
     "metadata": {},
     "output_type": "execute_result"
    }
   ],
   "source": [
    "t1[8]"
   ]
  },
  {
   "cell_type": "code",
   "execution_count": 49,
   "id": "ec6c31e4",
   "metadata": {},
   "outputs": [
    {
     "data": {
      "text/plain": [
       "9"
      ]
     },
     "execution_count": 49,
     "metadata": {},
     "output_type": "execute_result"
    }
   ],
   "source": [
    "t1[-1]"
   ]
  },
  {
   "cell_type": "code",
   "execution_count": 50,
   "id": "685c7269",
   "metadata": {},
   "outputs": [
    {
     "data": {
      "text/plain": [
       "(1, 2, 3, 4, 5, 6, 7, 8, 9)"
      ]
     },
     "execution_count": 50,
     "metadata": {},
     "output_type": "execute_result"
    }
   ],
   "source": [
    "t1[::]"
   ]
  },
  {
   "cell_type": "code",
   "execution_count": 51,
   "id": "be52f602",
   "metadata": {},
   "outputs": [
    {
     "data": {
      "text/plain": [
       "(9, 8, 7, 6, 5, 4, 3, 2, 1)"
      ]
     },
     "execution_count": 51,
     "metadata": {},
     "output_type": "execute_result"
    }
   ],
   "source": [
    "t1[::-1]"
   ]
  },
  {
   "cell_type": "code",
   "execution_count": 52,
   "id": "55fd7722",
   "metadata": {},
   "outputs": [
    {
     "data": {
      "text/plain": [
       "9"
      ]
     },
     "execution_count": 52,
     "metadata": {},
     "output_type": "execute_result"
    }
   ],
   "source": [
    "len(t1)"
   ]
  },
  {
   "cell_type": "code",
   "execution_count": 53,
   "id": "cbbee234",
   "metadata": {},
   "outputs": [
    {
     "data": {
      "text/plain": [
       "45"
      ]
     },
     "execution_count": 53,
     "metadata": {},
     "output_type": "execute_result"
    }
   ],
   "source": [
    "sum(t1)"
   ]
  },
  {
   "cell_type": "code",
   "execution_count": 54,
   "id": "8696661b",
   "metadata": {},
   "outputs": [
    {
     "data": {
      "text/plain": [
       "9"
      ]
     },
     "execution_count": 54,
     "metadata": {},
     "output_type": "execute_result"
    }
   ],
   "source": [
    "max(t1)"
   ]
  },
  {
   "cell_type": "code",
   "execution_count": 55,
   "id": "368650c1",
   "metadata": {},
   "outputs": [
    {
     "data": {
      "text/plain": [
       "1"
      ]
     },
     "execution_count": 55,
     "metadata": {},
     "output_type": "execute_result"
    }
   ],
   "source": [
    "min(t1)"
   ]
  },
  {
   "cell_type": "code",
   "execution_count": 56,
   "id": "6c0a76a8",
   "metadata": {},
   "outputs": [
    {
     "name": "stdout",
     "output_type": "stream",
     "text": [
      "10 20 30\n"
     ]
    }
   ],
   "source": [
    "# Tuple unpacking\n",
    "(a,b,c) = (10,20,30)\n",
    "print(a,b,c)"
   ]
  },
  {
   "cell_type": "code",
   "execution_count": 160,
   "id": "557e8709",
   "metadata": {},
   "outputs": [
    {
     "name": "stdout",
     "output_type": "stream",
     "text": [
      "10 20 30\n"
     ]
    }
   ],
   "source": [
    "a,b,c = 10,20,30\n",
    "print(a,b,c)"
   ]
  },
  {
   "cell_type": "markdown",
   "id": "76f62f69",
   "metadata": {},
   "source": [
    "# ==============================================="
   ]
  },
  {
   "cell_type": "markdown",
   "id": "49d28b6f",
   "metadata": {},
   "source": [
    "# Dictionaries\n",
    "- Dictionaries are collections in python consisting `key-value` pairs\n",
    "- Each key-Value is known as an `item`\n",
    "- Dictionaries are defined using `{}`\n",
    "- Dictionaries are indexable over their keys\n",
    "- Dictionaries are mutable"
   ]
  },
  {
   "cell_type": "code",
   "execution_count": 100,
   "id": "0bb92dbb",
   "metadata": {},
   "outputs": [
    {
     "data": {
      "text/plain": [
       "dict"
      ]
     },
     "execution_count": 100,
     "metadata": {},
     "output_type": "execute_result"
    }
   ],
   "source": [
    "d1 = {}\n",
    "type(d1)"
   ]
  },
  {
   "cell_type": "code",
   "execution_count": 101,
   "id": "391779c6",
   "metadata": {},
   "outputs": [
    {
     "data": {
      "text/plain": [
       "{'k1': 'v1', 'k2': 'v2', 'k3': 'v3'}"
      ]
     },
     "execution_count": 101,
     "metadata": {},
     "output_type": "execute_result"
    }
   ],
   "source": [
    "d1 = {'k1' : 'v1', 'k2' : 'v2', 'k3' : 'v3'}\n",
    "d1"
   ]
  },
  {
   "cell_type": "code",
   "execution_count": 102,
   "id": "24ac146f",
   "metadata": {},
   "outputs": [
    {
     "data": {
      "text/plain": [
       "3"
      ]
     },
     "execution_count": 102,
     "metadata": {},
     "output_type": "execute_result"
    }
   ],
   "source": [
    "len(d1)"
   ]
  },
  {
   "cell_type": "code",
   "execution_count": 103,
   "id": "758931dd",
   "metadata": {},
   "outputs": [
    {
     "ename": "KeyError",
     "evalue": "0",
     "output_type": "error",
     "traceback": [
      "\u001b[1;31m---------------------------------------------------------------------------\u001b[0m",
      "\u001b[1;31mKeyError\u001b[0m                                  Traceback (most recent call last)",
      "Cell \u001b[1;32mIn[103], line 1\u001b[0m\n\u001b[1;32m----> 1\u001b[0m \u001b[43md1\u001b[49m\u001b[43m[\u001b[49m\u001b[38;5;241;43m0\u001b[39;49m\u001b[43m]\u001b[49m\n",
      "\u001b[1;31mKeyError\u001b[0m: 0"
     ]
    }
   ],
   "source": [
    "d1[0]"
   ]
  },
  {
   "cell_type": "code",
   "execution_count": 104,
   "id": "60412d68",
   "metadata": {},
   "outputs": [
    {
     "data": {
      "text/plain": [
       "'v1'"
      ]
     },
     "execution_count": 104,
     "metadata": {},
     "output_type": "execute_result"
    }
   ],
   "source": [
    "d1['k1']"
   ]
  },
  {
   "cell_type": "code",
   "execution_count": 106,
   "id": "631b8c9a",
   "metadata": {},
   "outputs": [
    {
     "data": {
      "text/plain": [
       "'v2'"
      ]
     },
     "execution_count": 106,
     "metadata": {},
     "output_type": "execute_result"
    }
   ],
   "source": [
    "d1['k2']"
   ]
  },
  {
   "cell_type": "code",
   "execution_count": 107,
   "id": "d53598a5",
   "metadata": {},
   "outputs": [],
   "source": [
    "# using list to store data about employees\n",
    "emp1 = ['Aditya', 'Sharma', 32, 'Goa', 100000]\n",
    "emp2 = ['Bhuwan', 'Mehra', 38, 'Delhi', 89000]\n",
    "emp3 = ['Chinmay', 'Sharma', 'Pune', 47, 95000]"
   ]
  },
  {
   "cell_type": "code",
   "execution_count": 108,
   "id": "4a038dbb",
   "metadata": {},
   "outputs": [
    {
     "data": {
      "text/plain": [
       "'Aditya'"
      ]
     },
     "execution_count": 108,
     "metadata": {},
     "output_type": "execute_result"
    }
   ],
   "source": [
    "emp1[0]"
   ]
  },
  {
   "cell_type": "code",
   "execution_count": 109,
   "id": "c747d8d7",
   "metadata": {},
   "outputs": [
    {
     "data": {
      "text/plain": [
       "'Goa'"
      ]
     },
     "execution_count": 109,
     "metadata": {},
     "output_type": "execute_result"
    }
   ],
   "source": [
    "emp1[3]"
   ]
  },
  {
   "cell_type": "code",
   "execution_count": 110,
   "id": "0811d844",
   "metadata": {},
   "outputs": [
    {
     "data": {
      "text/plain": [
       "47"
      ]
     },
     "execution_count": 110,
     "metadata": {},
     "output_type": "execute_result"
    }
   ],
   "source": [
    "emp3[3]"
   ]
  },
  {
   "cell_type": "code",
   "execution_count": 112,
   "id": "d972073a",
   "metadata": {},
   "outputs": [],
   "source": [
    "# Using dictionary to store data about employees\n",
    "emp1 = {'fname'  : 'Aditya',\n",
    "        'lname'  : 'Sharma',\n",
    "        'age'    : 32,\n",
    "        'city'   : 'Goa',\n",
    "        'salary' : 100000}\n",
    "\n",
    "emp2 = {'fname'  : 'Bhuwan',\n",
    "        'lname'  : 'Mehra',\n",
    "        'age'    : 38,\n",
    "        'city'   : 'Delhi',\n",
    "        'salary' : 89000}\n",
    "\n",
    "emp3 = {'fname'  : 'Chinmay',\n",
    "        'city'   : 'Pune',\n",
    "        'lname'  : 'Sharma',\n",
    "        'age'    : 47,\n",
    "        'salary' : 95000}"
   ]
  },
  {
   "cell_type": "code",
   "execution_count": 113,
   "id": "83e613a4",
   "metadata": {},
   "outputs": [
    {
     "data": {
      "text/plain": [
       "'Aditya'"
      ]
     },
     "execution_count": 113,
     "metadata": {},
     "output_type": "execute_result"
    }
   ],
   "source": [
    "emp1['fname']"
   ]
  },
  {
   "cell_type": "code",
   "execution_count": 114,
   "id": "c156a6f4",
   "metadata": {},
   "outputs": [
    {
     "data": {
      "text/plain": [
       "'Chinmay'"
      ]
     },
     "execution_count": 114,
     "metadata": {},
     "output_type": "execute_result"
    }
   ],
   "source": [
    "emp3['fname']"
   ]
  },
  {
   "cell_type": "code",
   "execution_count": 115,
   "id": "7a7d3890",
   "metadata": {},
   "outputs": [
    {
     "data": {
      "text/plain": [
       "32"
      ]
     },
     "execution_count": 115,
     "metadata": {},
     "output_type": "execute_result"
    }
   ],
   "source": [
    "emp1['age']"
   ]
  },
  {
   "cell_type": "code",
   "execution_count": 116,
   "id": "566895b9",
   "metadata": {},
   "outputs": [
    {
     "data": {
      "text/plain": [
       "47"
      ]
     },
     "execution_count": 116,
     "metadata": {},
     "output_type": "execute_result"
    }
   ],
   "source": [
    "emp3['age']"
   ]
  },
  {
   "cell_type": "code",
   "execution_count": 117,
   "id": "66815f3f",
   "metadata": {},
   "outputs": [
    {
     "data": {
      "text/plain": [
       "89000"
      ]
     },
     "execution_count": 117,
     "metadata": {},
     "output_type": "execute_result"
    }
   ],
   "source": [
    "emp2['salary']"
   ]
  },
  {
   "cell_type": "code",
   "execution_count": 122,
   "id": "a1c91695",
   "metadata": {},
   "outputs": [
    {
     "data": {
      "text/plain": [
       "{1: 11,\n",
       " 2: 'ABC',\n",
       " 3: 5.5,\n",
       " 4: [11, 22, 33],\n",
       " 5: (44, 55, 66),\n",
       " 6: {'ABC': 'XYZ'},\n",
       " 7: True,\n",
       " 8: {1, 2, 3}}"
      ]
     },
     "execution_count": 122,
     "metadata": {},
     "output_type": "execute_result"
    }
   ],
   "source": [
    "# Which datatypes can be stored as values (all the data types can be used as values)\n",
    "d1 = {1 : 11, 2 : 'ABC', 3 : 5.5, 4 : [11,22,33], 5 : (44,55,66), 6 : {'ABC' : 'XYZ'}, 7 : True, 8 : {1,2,3}}\n",
    "d1"
   ]
  },
  {
   "cell_type": "code",
   "execution_count": 124,
   "id": "88065c69",
   "metadata": {},
   "outputs": [
    {
     "data": {
      "text/plain": [
       "11"
      ]
     },
     "execution_count": 124,
     "metadata": {},
     "output_type": "execute_result"
    }
   ],
   "source": [
    "d1[1]"
   ]
  },
  {
   "cell_type": "code",
   "execution_count": 121,
   "id": "d15f6fc5",
   "metadata": {},
   "outputs": [
    {
     "data": {
      "text/plain": [
       "[11, 22, 33]"
      ]
     },
     "execution_count": 121,
     "metadata": {},
     "output_type": "execute_result"
    }
   ],
   "source": [
    "d1[4]"
   ]
  },
  {
   "cell_type": "code",
   "execution_count": 25,
   "id": "8c744e03",
   "metadata": {},
   "outputs": [
    {
     "data": {
      "text/plain": [
       "{'ABC': 'XYZ'}"
      ]
     },
     "execution_count": 25,
     "metadata": {},
     "output_type": "execute_result"
    }
   ],
   "source": [
    "d1[6]"
   ]
  },
  {
   "cell_type": "code",
   "execution_count": 134,
   "id": "417621c1",
   "metadata": {},
   "outputs": [
    {
     "data": {
      "text/plain": [
       "{1: 11, 2.5: 44, 'ABC': 22, (1, 2): 33}"
      ]
     },
     "execution_count": 134,
     "metadata": {},
     "output_type": "execute_result"
    }
   ],
   "source": [
    "# Which data types can be used as keys\n",
    "d1 = {1 : 11, 2.5 : 44, 'ABC' : 22, (1,2) : 33}              \n",
    "d1"
   ]
  },
  {
   "cell_type": "code",
   "execution_count": 129,
   "id": "e51282e2",
   "metadata": {},
   "outputs": [
    {
     "ename": "TypeError",
     "evalue": "unhashable type: 'list'",
     "output_type": "error",
     "traceback": [
      "\u001b[1;31m---------------------------------------------------------------------------\u001b[0m",
      "\u001b[1;31mTypeError\u001b[0m                                 Traceback (most recent call last)",
      "Cell \u001b[1;32mIn[129], line 1\u001b[0m\n\u001b[1;32m----> 1\u001b[0m d1 \u001b[38;5;241m=\u001b[39m {[\u001b[38;5;241m1\u001b[39m,\u001b[38;5;241m2\u001b[39m,\u001b[38;5;241m3\u001b[39m] : \u001b[38;5;241m55\u001b[39m}                 \n\u001b[0;32m      2\u001b[0m d1\n",
      "\u001b[1;31mTypeError\u001b[0m: unhashable type: 'list'"
     ]
    }
   ],
   "source": [
    "d1 = {[1,2,3] : 55}             # Mutable data types can not be used as keys    \n",
    "d1"
   ]
  },
  {
   "cell_type": "code",
   "execution_count": 130,
   "id": "2f1ced21",
   "metadata": {},
   "outputs": [
    {
     "ename": "TypeError",
     "evalue": "unhashable type: 'dict'",
     "output_type": "error",
     "traceback": [
      "\u001b[1;31m---------------------------------------------------------------------------\u001b[0m",
      "\u001b[1;31mTypeError\u001b[0m                                 Traceback (most recent call last)",
      "Cell \u001b[1;32mIn[130], line 1\u001b[0m\n\u001b[1;32m----> 1\u001b[0m d1 \u001b[38;5;241m=\u001b[39m {{\u001b[38;5;124m'\u001b[39m\u001b[38;5;124mA\u001b[39m\u001b[38;5;124m'\u001b[39m: \u001b[38;5;241m55\u001b[39m} : \u001b[38;5;241m66\u001b[39m}\n\u001b[0;32m      2\u001b[0m d1\n",
      "\u001b[1;31mTypeError\u001b[0m: unhashable type: 'dict'"
     ]
    }
   ],
   "source": [
    "d1 = {{'A': 55} : 66}\n",
    "d1"
   ]
  },
  {
   "cell_type": "code",
   "execution_count": 131,
   "id": "85545cd7",
   "metadata": {},
   "outputs": [
    {
     "ename": "TypeError",
     "evalue": "unhashable type: 'set'",
     "output_type": "error",
     "traceback": [
      "\u001b[1;31m---------------------------------------------------------------------------\u001b[0m",
      "\u001b[1;31mTypeError\u001b[0m                                 Traceback (most recent call last)",
      "Cell \u001b[1;32mIn[131], line 1\u001b[0m\n\u001b[1;32m----> 1\u001b[0m d1 \u001b[38;5;241m=\u001b[39m {{\u001b[38;5;241m1\u001b[39m,\u001b[38;5;241m2\u001b[39m,\u001b[38;5;241m3\u001b[39m} : \u001b[38;5;241m55\u001b[39m}                 \n\u001b[0;32m      2\u001b[0m d1\n",
      "\u001b[1;31mTypeError\u001b[0m: unhashable type: 'set'"
     ]
    }
   ],
   "source": [
    "d1 = {{1,2,3} : 55}                 \n",
    "d1"
   ]
  },
  {
   "cell_type": "code",
   "execution_count": 135,
   "id": "1667981a",
   "metadata": {},
   "outputs": [
    {
     "data": {
      "text/plain": [
       "{'Maths': 90, 'Physics': 80, 'Chemistry': 60}"
      ]
     },
     "execution_count": 135,
     "metadata": {},
     "output_type": "execute_result"
    }
   ],
   "source": [
    "marks = {'Maths' : 90, 'Physics' : 80, 'Chemistry' : 60}\n",
    "marks"
   ]
  },
  {
   "cell_type": "code",
   "execution_count": 136,
   "id": "2536c8fb",
   "metadata": {},
   "outputs": [
    {
     "data": {
      "text/plain": [
       "{'Maths': 90, 'Physics': 80, 'Chemistry': 70}"
      ]
     },
     "execution_count": 136,
     "metadata": {},
     "output_type": "execute_result"
    }
   ],
   "source": [
    "# If a value is assigned to an already existing key , the previous value is updated\n",
    "marks['Chemistry'] = 70                       # Dictionaries are mutable\n",
    "marks"
   ]
  },
  {
   "cell_type": "code",
   "execution_count": 137,
   "id": "20b3f4f9",
   "metadata": {},
   "outputs": [
    {
     "data": {
      "text/plain": [
       "{'Maths': 90, 'Physics': 80, 'Chemistry': 70, 'ML': 95}"
      ]
     },
     "execution_count": 137,
     "metadata": {},
     "output_type": "execute_result"
    }
   ],
   "source": [
    "# If a value is assigned to a new key, new key value pair will be added to the dictionary\n",
    "marks['ML'] = 95\n",
    "marks"
   ]
  },
  {
   "cell_type": "markdown",
   "id": "000df74e",
   "metadata": {},
   "source": [
    "## Dictionary Methods"
   ]
  },
  {
   "cell_type": "code",
   "execution_count": 138,
   "id": "a095917b",
   "metadata": {},
   "outputs": [
    {
     "data": {
      "text/plain": [
       "{'Name': 'Spongebob', 'Age': 15, 'Gender': 'Male', 'City': 'Seaworld'}"
      ]
     },
     "execution_count": 138,
     "metadata": {},
     "output_type": "execute_result"
    }
   ],
   "source": [
    "emp_101 = {'Name' : 'Spongebob','Age' : 15, 'Gender' : 'Male', 'City' : 'Seaworld'}\n",
    "emp_101"
   ]
  },
  {
   "cell_type": "code",
   "execution_count": 139,
   "id": "0779a252",
   "metadata": {},
   "outputs": [
    {
     "data": {
      "text/plain": [
       "4"
      ]
     },
     "execution_count": 139,
     "metadata": {},
     "output_type": "execute_result"
    }
   ],
   "source": [
    "len(emp_101)"
   ]
  },
  {
   "cell_type": "code",
   "execution_count": 140,
   "id": "9a67a067",
   "metadata": {},
   "outputs": [
    {
     "data": {
      "text/plain": [
       "dict"
      ]
     },
     "execution_count": 140,
     "metadata": {},
     "output_type": "execute_result"
    }
   ],
   "source": [
    "type(emp_101)"
   ]
  },
  {
   "cell_type": "code",
   "execution_count": 142,
   "id": "8503e533",
   "metadata": {},
   "outputs": [
    {
     "data": {
      "text/plain": [
       "'Spongebob'"
      ]
     },
     "execution_count": 142,
     "metadata": {},
     "output_type": "execute_result"
    }
   ],
   "source": [
    "emp_101.get('Name')"
   ]
  },
  {
   "cell_type": "code",
   "execution_count": 143,
   "id": "a53dbd7c",
   "metadata": {},
   "outputs": [
    {
     "data": {
      "text/plain": [
       "'Seaworld'"
      ]
     },
     "execution_count": 143,
     "metadata": {},
     "output_type": "execute_result"
    }
   ],
   "source": [
    "emp_101.get('City')"
   ]
  },
  {
   "cell_type": "code",
   "execution_count": 144,
   "id": "7a7c8dd7",
   "metadata": {},
   "outputs": [
    {
     "data": {
      "text/plain": [
       "dict_keys(['Name', 'Age', 'Gender', 'City'])"
      ]
     },
     "execution_count": 144,
     "metadata": {},
     "output_type": "execute_result"
    }
   ],
   "source": [
    "emp_101.keys()"
   ]
  },
  {
   "cell_type": "code",
   "execution_count": 145,
   "id": "15b578a6",
   "metadata": {},
   "outputs": [
    {
     "data": {
      "text/plain": [
       "dict_values(['Spongebob', 15, 'Male', 'Seaworld'])"
      ]
     },
     "execution_count": 145,
     "metadata": {},
     "output_type": "execute_result"
    }
   ],
   "source": [
    "emp_101.values()"
   ]
  },
  {
   "cell_type": "code",
   "execution_count": 63,
   "id": "4b897b5c",
   "metadata": {},
   "outputs": [
    {
     "data": {
      "text/plain": [
       "dict_items([('Name', 'Spongebob'), ('Age', 15), ('Gender', 'Male'), ('City', 'Seaworld')])"
      ]
     },
     "execution_count": 63,
     "metadata": {},
     "output_type": "execute_result"
    }
   ],
   "source": [
    "emp_101.items()"
   ]
  },
  {
   "cell_type": "code",
   "execution_count": 146,
   "id": "a96a248a",
   "metadata": {},
   "outputs": [
    {
     "data": {
      "text/plain": [
       "'Male'"
      ]
     },
     "execution_count": 146,
     "metadata": {},
     "output_type": "execute_result"
    }
   ],
   "source": [
    "emp_101.pop('Gender')"
   ]
  },
  {
   "cell_type": "code",
   "execution_count": 147,
   "id": "9370414d",
   "metadata": {},
   "outputs": [
    {
     "data": {
      "text/plain": [
       "{'Name': 'Spongebob', 'Age': 15, 'City': 'Seaworld'}"
      ]
     },
     "execution_count": 147,
     "metadata": {},
     "output_type": "execute_result"
    }
   ],
   "source": [
    "emp_101"
   ]
  },
  {
   "cell_type": "markdown",
   "id": "2eb0e4c1",
   "metadata": {},
   "source": [
    "# ================================================"
   ]
  },
  {
   "cell_type": "markdown",
   "id": "cc6c2e6c",
   "metadata": {},
   "source": [
    "# Sets"
   ]
  },
  {
   "cell_type": "code",
   "execution_count": 60,
   "id": "77a6483d",
   "metadata": {},
   "outputs": [
    {
     "data": {
      "text/plain": [
       "set"
      ]
     },
     "execution_count": 60,
     "metadata": {},
     "output_type": "execute_result"
    }
   ],
   "source": [
    "# A set is an unordered collection of unique elements\n",
    "s = {1,2,3,4,5}\n",
    "type(s)"
   ]
  },
  {
   "cell_type": "code",
   "execution_count": 61,
   "id": "fcfeaa46",
   "metadata": {},
   "outputs": [
    {
     "data": {
      "text/plain": [
       "set"
      ]
     },
     "execution_count": 61,
     "metadata": {},
     "output_type": "execute_result"
    }
   ],
   "source": [
    "s = set()\n",
    "type(s)"
   ]
  },
  {
   "cell_type": "code",
   "execution_count": 67,
   "id": "be528cad",
   "metadata": {},
   "outputs": [
    {
     "data": {
      "text/plain": [
       "{1, 1.5, 2, 3, 4, 5, 'ABC', 'XYZ'}"
      ]
     },
     "execution_count": 67,
     "metadata": {},
     "output_type": "execute_result"
    }
   ],
   "source": [
    "s = {1,2,3,'ABC',4 ,5 ,'XYZ', 1.5, True}\n",
    "s"
   ]
  },
  {
   "cell_type": "code",
   "execution_count": 69,
   "id": "907b9b38",
   "metadata": {},
   "outputs": [
    {
     "ename": "TypeError",
     "evalue": "unhashable type: 'set'",
     "output_type": "error",
     "traceback": [
      "\u001b[1;31m---------------------------------------------------------------------------\u001b[0m",
      "\u001b[1;31mTypeError\u001b[0m                                 Traceback (most recent call last)",
      "Cell \u001b[1;32mIn[69], line 1\u001b[0m\n\u001b[1;32m----> 1\u001b[0m s \u001b[38;5;241m=\u001b[39m {\u001b[38;5;241m1\u001b[39m,\u001b[38;5;241m2\u001b[39m,\u001b[38;5;241m3\u001b[39m,{\u001b[38;5;241m1\u001b[39m,\u001b[38;5;241m2\u001b[39m,\u001b[38;5;241m3\u001b[39m},[\u001b[38;5;241m5\u001b[39m,\u001b[38;5;241m6\u001b[39m,\u001b[38;5;241m7\u001b[39m], {\u001b[38;5;241m1\u001b[39m:\u001b[38;5;241m2\u001b[39m}}\n\u001b[0;32m      2\u001b[0m s\n",
      "\u001b[1;31mTypeError\u001b[0m: unhashable type: 'set'"
     ]
    }
   ],
   "source": [
    "s = {1,2,3,{1,2,3},[5,6,7], {1:2}}\n",
    "s"
   ]
  },
  {
   "cell_type": "code",
   "execution_count": 70,
   "id": "1a2c7c7a",
   "metadata": {},
   "outputs": [
    {
     "data": {
      "text/plain": [
       "{1, 2, 3, 4, 5, 6}"
      ]
     },
     "execution_count": 70,
     "metadata": {},
     "output_type": "execute_result"
    }
   ],
   "source": [
    "s = {1,2,3,4,2,3,4,5,6,5}                         # Will take only unique elements\n",
    "s"
   ]
  },
  {
   "cell_type": "code",
   "execution_count": 71,
   "id": "866ee2ae",
   "metadata": {},
   "outputs": [
    {
     "ename": "TypeError",
     "evalue": "'set' object is not subscriptable",
     "output_type": "error",
     "traceback": [
      "\u001b[1;31m---------------------------------------------------------------------------\u001b[0m",
      "\u001b[1;31mTypeError\u001b[0m                                 Traceback (most recent call last)",
      "Cell \u001b[1;32mIn[71], line 1\u001b[0m\n\u001b[1;32m----> 1\u001b[0m \u001b[43ms\u001b[49m\u001b[43m[\u001b[49m\u001b[38;5;241;43m0\u001b[39;49m\u001b[43m]\u001b[49m                                             \u001b[38;5;66;03m# Sets can not be indexed\u001b[39;00m\n",
      "\u001b[1;31mTypeError\u001b[0m: 'set' object is not subscriptable"
     ]
    }
   ],
   "source": [
    "s[0]                                             # Sets can not be indexed"
   ]
  },
  {
   "cell_type": "code",
   "execution_count": 72,
   "id": "12a5fe0b",
   "metadata": {},
   "outputs": [
    {
     "data": {
      "text/plain": [
       "{1, 2, 3, 4, 5}"
      ]
     },
     "execution_count": 72,
     "metadata": {},
     "output_type": "execute_result"
    }
   ],
   "source": [
    "s1 = {1,2,3,4,5}\n",
    "s1"
   ]
  },
  {
   "cell_type": "code",
   "execution_count": 73,
   "id": "5f855719",
   "metadata": {},
   "outputs": [
    {
     "data": {
      "text/plain": [
       "{1, 2, 3, 4, 5, 6}"
      ]
     },
     "execution_count": 73,
     "metadata": {},
     "output_type": "execute_result"
    }
   ],
   "source": [
    "s1.add(6)\n",
    "s1"
   ]
  },
  {
   "cell_type": "code",
   "execution_count": 74,
   "id": "09a0d9af",
   "metadata": {},
   "outputs": [
    {
     "data": {
      "text/plain": [
       "{1, 2, 3, 4, 5, 6}"
      ]
     },
     "execution_count": 74,
     "metadata": {},
     "output_type": "execute_result"
    }
   ],
   "source": [
    "s1.add(4)\n",
    "s1"
   ]
  },
  {
   "cell_type": "code",
   "execution_count": 75,
   "id": "ccd42716",
   "metadata": {},
   "outputs": [
    {
     "data": {
      "text/plain": [
       "{1, 2, 3, 4, 5, 6, 'ABC'}"
      ]
     },
     "execution_count": 75,
     "metadata": {},
     "output_type": "execute_result"
    }
   ],
   "source": [
    "s1.add('ABC')\n",
    "s1"
   ]
  },
  {
   "cell_type": "code",
   "execution_count": 76,
   "id": "c40e98d6",
   "metadata": {},
   "outputs": [
    {
     "data": {
      "text/plain": [
       "{1, 2, 3, 4, 5, 6, 7, 'ABC'}"
      ]
     },
     "execution_count": 76,
     "metadata": {},
     "output_type": "execute_result"
    }
   ],
   "source": [
    "s1.add(7)\n",
    "s1"
   ]
  },
  {
   "cell_type": "code",
   "execution_count": 77,
   "id": "266d421b",
   "metadata": {},
   "outputs": [
    {
     "data": {
      "text/plain": [
       "{1, 2, 3, 5, 6, 7, 'ABC'}"
      ]
     },
     "execution_count": 77,
     "metadata": {},
     "output_type": "execute_result"
    }
   ],
   "source": [
    "s1.remove(4)\n",
    "s1"
   ]
  },
  {
   "cell_type": "code",
   "execution_count": 80,
   "id": "1925f1b7",
   "metadata": {},
   "outputs": [
    {
     "data": {
      "text/plain": [
       "{'Babulal', 'Bob', 'John', 'Rahul', 'Tom'}"
      ]
     },
     "execution_count": 80,
     "metadata": {},
     "output_type": "execute_result"
    }
   ],
   "source": [
    "names = ['John','Bob','Tom','Bob', 'John','Babulal','Rahul', 'Babulal']\n",
    "unique_names = set(names)\n",
    "unique_names"
   ]
  },
  {
   "cell_type": "markdown",
   "id": "53a6ca5d",
   "metadata": {},
   "source": [
    "## Set Operations"
   ]
  },
  {
   "cell_type": "code",
   "execution_count": 82,
   "id": "7fc323e5",
   "metadata": {},
   "outputs": [],
   "source": [
    "a = {1,2,3,4,5,6,7}\n",
    "b = {5,6,7,8,9,10}"
   ]
  },
  {
   "cell_type": "code",
   "execution_count": 83,
   "id": "d3753b8c",
   "metadata": {},
   "outputs": [
    {
     "data": {
      "text/plain": [
       "{1, 2, 3, 4, 5, 6, 7, 8, 9, 10}"
      ]
     },
     "execution_count": 83,
     "metadata": {},
     "output_type": "execute_result"
    }
   ],
   "source": [
    "a.union(b)"
   ]
  },
  {
   "cell_type": "code",
   "execution_count": 84,
   "id": "f96fe35a",
   "metadata": {},
   "outputs": [
    {
     "data": {
      "text/plain": [
       "{5, 6, 7}"
      ]
     },
     "execution_count": 84,
     "metadata": {},
     "output_type": "execute_result"
    }
   ],
   "source": [
    "a.intersection(b)"
   ]
  },
  {
   "cell_type": "code",
   "execution_count": 85,
   "id": "719961c3",
   "metadata": {},
   "outputs": [
    {
     "data": {
      "text/plain": [
       "{1, 2, 3, 4}"
      ]
     },
     "execution_count": 85,
     "metadata": {},
     "output_type": "execute_result"
    }
   ],
   "source": [
    "a.difference(b)"
   ]
  },
  {
   "cell_type": "code",
   "execution_count": 86,
   "id": "8d8e6761",
   "metadata": {},
   "outputs": [
    {
     "data": {
      "text/plain": [
       "{8, 9, 10}"
      ]
     },
     "execution_count": 86,
     "metadata": {},
     "output_type": "execute_result"
    }
   ],
   "source": [
    "b.difference(a)"
   ]
  },
  {
   "cell_type": "code",
   "execution_count": 181,
   "id": "8493ff03",
   "metadata": {},
   "outputs": [
    {
     "data": {
      "text/plain": [
       "{1, 2, 3, 4, 5, 6, 7, 8, 9, 10}"
      ]
     },
     "execution_count": 181,
     "metadata": {},
     "output_type": "execute_result"
    }
   ],
   "source": [
    "a | b       # union"
   ]
  },
  {
   "cell_type": "code",
   "execution_count": 182,
   "id": "1c2fe5b3",
   "metadata": {},
   "outputs": [
    {
     "data": {
      "text/plain": [
       "{5, 6, 7}"
      ]
     },
     "execution_count": 182,
     "metadata": {},
     "output_type": "execute_result"
    }
   ],
   "source": [
    "a & b      # intersection"
   ]
  },
  {
   "cell_type": "code",
   "execution_count": 87,
   "id": "a8ea4fc8",
   "metadata": {},
   "outputs": [
    {
     "data": {
      "text/plain": [
       "{1, 2, 3, 4}"
      ]
     },
     "execution_count": 87,
     "metadata": {},
     "output_type": "execute_result"
    }
   ],
   "source": [
    "a - b      # differecnce"
   ]
  },
  {
   "cell_type": "code",
   "execution_count": 184,
   "id": "53eb8b8a",
   "metadata": {},
   "outputs": [
    {
     "data": {
      "text/plain": [
       "{8, 9, 10}"
      ]
     },
     "execution_count": 184,
     "metadata": {},
     "output_type": "execute_result"
    }
   ],
   "source": [
    "b - a"
   ]
  },
  {
   "cell_type": "markdown",
   "id": "1f045808",
   "metadata": {},
   "source": [
    "# ================================================"
   ]
  },
  {
   "cell_type": "markdown",
   "id": "fcb3b523",
   "metadata": {},
   "source": [
    "# Boolean"
   ]
  },
  {
   "cell_type": "code",
   "execution_count": 88,
   "id": "d44dbbd7",
   "metadata": {},
   "outputs": [
    {
     "data": {
      "text/plain": [
       "bool"
      ]
     },
     "execution_count": 88,
     "metadata": {},
     "output_type": "execute_result"
    }
   ],
   "source": [
    "type(True)"
   ]
  },
  {
   "cell_type": "code",
   "execution_count": 89,
   "id": "217b0c06",
   "metadata": {},
   "outputs": [
    {
     "data": {
      "text/plain": [
       "bool"
      ]
     },
     "execution_count": 89,
     "metadata": {},
     "output_type": "execute_result"
    }
   ],
   "source": [
    "type(False)"
   ]
  },
  {
   "cell_type": "code",
   "execution_count": 90,
   "id": "ba01f1c4",
   "metadata": {},
   "outputs": [
    {
     "ename": "NameError",
     "evalue": "name 'true' is not defined",
     "output_type": "error",
     "traceback": [
      "\u001b[1;31m---------------------------------------------------------------------------\u001b[0m",
      "\u001b[1;31mNameError\u001b[0m                                 Traceback (most recent call last)",
      "Cell \u001b[1;32mIn[90], line 1\u001b[0m\n\u001b[1;32m----> 1\u001b[0m \u001b[38;5;28mtype\u001b[39m(\u001b[43mtrue\u001b[49m)\n",
      "\u001b[1;31mNameError\u001b[0m: name 'true' is not defined"
     ]
    }
   ],
   "source": [
    "type(true)"
   ]
  },
  {
   "cell_type": "code",
   "execution_count": 91,
   "id": "e78e8b40",
   "metadata": {},
   "outputs": [
    {
     "data": {
      "text/plain": [
       "bool"
      ]
     },
     "execution_count": 91,
     "metadata": {},
     "output_type": "execute_result"
    }
   ],
   "source": [
    "a = True\n",
    "type(a)"
   ]
  },
  {
   "cell_type": "code",
   "execution_count": 92,
   "id": "debbdfb3",
   "metadata": {},
   "outputs": [
    {
     "data": {
      "text/plain": [
       "True"
      ]
     },
     "execution_count": 92,
     "metadata": {},
     "output_type": "execute_result"
    }
   ],
   "source": [
    "3 < 5"
   ]
  },
  {
   "cell_type": "code",
   "execution_count": 93,
   "id": "923c157a",
   "metadata": {},
   "outputs": [
    {
     "data": {
      "text/plain": [
       "False"
      ]
     },
     "execution_count": 93,
     "metadata": {},
     "output_type": "execute_result"
    }
   ],
   "source": [
    "6 > 7"
   ]
  },
  {
   "cell_type": "code",
   "execution_count": 94,
   "id": "f66fef3f",
   "metadata": {},
   "outputs": [
    {
     "name": "stdout",
     "output_type": "stream",
     "text": [
      "Code is executing\n"
     ]
    }
   ],
   "source": [
    "if True:\n",
    "    print('Code is executing')"
   ]
  },
  {
   "cell_type": "code",
   "execution_count": 95,
   "id": "95341bf2",
   "metadata": {},
   "outputs": [],
   "source": [
    "if False:\n",
    "    print('Code is executing')"
   ]
  },
  {
   "cell_type": "code",
   "execution_count": 97,
   "id": "c17107d4",
   "metadata": {},
   "outputs": [
    {
     "name": "stdout",
     "output_type": "stream",
     "text": [
      "a is larger\n"
     ]
    }
   ],
   "source": [
    "a = 10\n",
    "b = 9\n",
    "if a > b:\n",
    "    print('a is larger')\n",
    "else:\n",
    "    print('b is larger')"
   ]
  },
  {
   "cell_type": "code",
   "execution_count": 99,
   "id": "c5e6f29a",
   "metadata": {},
   "outputs": [
    {
     "name": "stdout",
     "output_type": "stream",
     "text": [
      "Enter the marks of student1 : 85\n",
      "Enter the marks of student2 : 90\n",
      "Student 2 has scored higher\n"
     ]
    }
   ],
   "source": [
    "stud1 = int(input('Enter the marks of student1 : '))\n",
    "stud2 = int(input('Enter the marks of student2 : '))\n",
    "\n",
    "if stud1 > stud2:\n",
    "    print('Student 1 has scored higher')\n",
    "else:\n",
    "    print('Student 2 has scored higher')"
   ]
  },
  {
   "cell_type": "markdown",
   "id": "3e647e8c",
   "metadata": {},
   "source": [
    "# ================================================"
   ]
  },
  {
   "cell_type": "markdown",
   "id": "86c0d48e",
   "metadata": {},
   "source": [
    "# Type Conversion\n",
    "- Changing one data type to another\n",
    "- The data must be compatible"
   ]
  },
  {
   "cell_type": "code",
   "execution_count": 151,
   "id": "372ece88",
   "metadata": {},
   "outputs": [],
   "source": [
    "i = 5\n",
    "f = 4.5\n",
    "s1 = '123'\n",
    "s2 = 'abc'\n",
    "l = [1,2,3,4,5]\n",
    "t = (6,7,8,9,5)\n",
    "s = {3,4,5,6}"
   ]
  },
  {
   "cell_type": "code",
   "execution_count": 152,
   "id": "2b6e81d7",
   "metadata": {},
   "outputs": [
    {
     "data": {
      "text/plain": [
       "5.0"
      ]
     },
     "execution_count": 152,
     "metadata": {},
     "output_type": "execute_result"
    }
   ],
   "source": [
    "float(i)"
   ]
  },
  {
   "cell_type": "code",
   "execution_count": 153,
   "id": "bbfde16a",
   "metadata": {},
   "outputs": [
    {
     "data": {
      "text/plain": [
       "4"
      ]
     },
     "execution_count": 153,
     "metadata": {},
     "output_type": "execute_result"
    }
   ],
   "source": [
    "int(f)"
   ]
  },
  {
   "cell_type": "code",
   "execution_count": 154,
   "id": "dc5bd5ea",
   "metadata": {},
   "outputs": [
    {
     "data": {
      "text/plain": [
       "123"
      ]
     },
     "execution_count": 154,
     "metadata": {},
     "output_type": "execute_result"
    }
   ],
   "source": [
    "int(s1)"
   ]
  },
  {
   "cell_type": "code",
   "execution_count": 155,
   "id": "57c8964f",
   "metadata": {},
   "outputs": [
    {
     "data": {
      "text/plain": [
       "1.0"
      ]
     },
     "execution_count": 155,
     "metadata": {},
     "output_type": "execute_result"
    }
   ],
   "source": [
    "float(1)"
   ]
  },
  {
   "cell_type": "code",
   "execution_count": 156,
   "id": "42774eb6",
   "metadata": {},
   "outputs": [
    {
     "ename": "ValueError",
     "evalue": "invalid literal for int() with base 10: 'abc'",
     "output_type": "error",
     "traceback": [
      "\u001b[1;31m---------------------------------------------------------------------------\u001b[0m",
      "\u001b[1;31mValueError\u001b[0m                                Traceback (most recent call last)",
      "Cell \u001b[1;32mIn[156], line 1\u001b[0m\n\u001b[1;32m----> 1\u001b[0m \u001b[38;5;28;43mint\u001b[39;49m\u001b[43m(\u001b[49m\u001b[43ms2\u001b[49m\u001b[43m)\u001b[49m\n",
      "\u001b[1;31mValueError\u001b[0m: invalid literal for int() with base 10: 'abc'"
     ]
    }
   ],
   "source": [
    "int(s2)"
   ]
  },
  {
   "cell_type": "code",
   "execution_count": 157,
   "id": "1645c0f3",
   "metadata": {},
   "outputs": [
    {
     "data": {
      "text/plain": [
       "'5'"
      ]
     },
     "execution_count": 157,
     "metadata": {},
     "output_type": "execute_result"
    }
   ],
   "source": [
    "str(i)"
   ]
  },
  {
   "cell_type": "code",
   "execution_count": 158,
   "id": "fc50ef03",
   "metadata": {},
   "outputs": [
    {
     "data": {
      "text/plain": [
       "'4.5'"
      ]
     },
     "execution_count": 158,
     "metadata": {},
     "output_type": "execute_result"
    }
   ],
   "source": [
    "str(f)"
   ]
  },
  {
   "cell_type": "code",
   "execution_count": 159,
   "id": "955c2c24",
   "metadata": {},
   "outputs": [
    {
     "data": {
      "text/plain": [
       "['1', '2', '3']"
      ]
     },
     "execution_count": 159,
     "metadata": {},
     "output_type": "execute_result"
    }
   ],
   "source": [
    "list(s1)"
   ]
  },
  {
   "cell_type": "code",
   "execution_count": 160,
   "id": "31902930",
   "metadata": {},
   "outputs": [
    {
     "data": {
      "text/plain": [
       "['a', 'b', 'c']"
      ]
     },
     "execution_count": 160,
     "metadata": {},
     "output_type": "execute_result"
    }
   ],
   "source": [
    "list(s2)"
   ]
  },
  {
   "cell_type": "code",
   "execution_count": 161,
   "id": "af1c87b3",
   "metadata": {},
   "outputs": [
    {
     "data": {
      "text/plain": [
       "'[1, 2, 3, 4, 5]'"
      ]
     },
     "execution_count": 161,
     "metadata": {},
     "output_type": "execute_result"
    }
   ],
   "source": [
    "str(l)"
   ]
  },
  {
   "cell_type": "code",
   "execution_count": 162,
   "id": "1485752b",
   "metadata": {},
   "outputs": [
    {
     "data": {
      "text/plain": [
       "(1, 2, 3, 4, 5)"
      ]
     },
     "execution_count": 162,
     "metadata": {},
     "output_type": "execute_result"
    }
   ],
   "source": [
    "tuple(l)"
   ]
  },
  {
   "cell_type": "code",
   "execution_count": 163,
   "id": "37979a37",
   "metadata": {},
   "outputs": [
    {
     "data": {
      "text/plain": [
       "[6, 7, 8, 9, 5]"
      ]
     },
     "execution_count": 163,
     "metadata": {},
     "output_type": "execute_result"
    }
   ],
   "source": [
    "list(t)"
   ]
  },
  {
   "cell_type": "code",
   "execution_count": 164,
   "id": "757deb72",
   "metadata": {},
   "outputs": [
    {
     "data": {
      "text/plain": [
       "'(6, 7, 8, 9, 5)'"
      ]
     },
     "execution_count": 164,
     "metadata": {},
     "output_type": "execute_result"
    }
   ],
   "source": [
    "str(t)"
   ]
  },
  {
   "cell_type": "code",
   "execution_count": 165,
   "id": "a6ca30a9",
   "metadata": {},
   "outputs": [
    {
     "data": {
      "text/plain": [
       "('1', '2', '3')"
      ]
     },
     "execution_count": 165,
     "metadata": {},
     "output_type": "execute_result"
    }
   ],
   "source": [
    "tuple(s1)"
   ]
  },
  {
   "cell_type": "code",
   "execution_count": 166,
   "id": "a3673678",
   "metadata": {},
   "outputs": [
    {
     "data": {
      "text/plain": [
       "{'1', '2', '3'}"
      ]
     },
     "execution_count": 166,
     "metadata": {},
     "output_type": "execute_result"
    }
   ],
   "source": [
    "set(s1)"
   ]
  },
  {
   "cell_type": "code",
   "execution_count": 167,
   "id": "3e952ed4",
   "metadata": {},
   "outputs": [
    {
     "data": {
      "text/plain": [
       "{1, 2, 3, 4, 5}"
      ]
     },
     "execution_count": 167,
     "metadata": {},
     "output_type": "execute_result"
    }
   ],
   "source": [
    "set(l)"
   ]
  },
  {
   "cell_type": "code",
   "execution_count": 168,
   "id": "3bcdbbc3",
   "metadata": {},
   "outputs": [
    {
     "data": {
      "text/plain": [
       "{5, 6, 7, 8, 9}"
      ]
     },
     "execution_count": 168,
     "metadata": {},
     "output_type": "execute_result"
    }
   ],
   "source": [
    "set(t)"
   ]
  },
  {
   "cell_type": "code",
   "execution_count": 66,
   "id": "e81b54f9",
   "metadata": {},
   "outputs": [
    {
     "data": {
      "text/plain": [
       "{5, 6, 7, 8, 9}"
      ]
     },
     "execution_count": 66,
     "metadata": {},
     "output_type": "execute_result"
    }
   ],
   "source": [
    "set(f)"
   ]
  },
  {
   "cell_type": "code",
   "execution_count": 169,
   "id": "66e5faa8",
   "metadata": {},
   "outputs": [
    {
     "data": {
      "text/plain": [
       "[3, 4, 5, 6]"
      ]
     },
     "execution_count": 169,
     "metadata": {},
     "output_type": "execute_result"
    }
   ],
   "source": [
    "list(s)"
   ]
  },
  {
   "cell_type": "code",
   "execution_count": 170,
   "id": "3b440932",
   "metadata": {},
   "outputs": [
    {
     "data": {
      "text/plain": [
       "(3, 4, 5, 6)"
      ]
     },
     "execution_count": 170,
     "metadata": {},
     "output_type": "execute_result"
    }
   ],
   "source": [
    "tuple(s)"
   ]
  },
  {
   "cell_type": "code",
   "execution_count": 171,
   "id": "2363f45f",
   "metadata": {},
   "outputs": [
    {
     "data": {
      "text/plain": [
       "['name', 'age']"
      ]
     },
     "execution_count": 171,
     "metadata": {},
     "output_type": "execute_result"
    }
   ],
   "source": [
    "d1 = {'name': 'Tom', 'age' : 25}\n",
    "list(d1)"
   ]
  },
  {
   "cell_type": "code",
   "execution_count": 172,
   "id": "fcd06b03",
   "metadata": {},
   "outputs": [
    {
     "ename": "TypeError",
     "evalue": "cannot convert dictionary update sequence element #0 to a sequence",
     "output_type": "error",
     "traceback": [
      "\u001b[1;31m---------------------------------------------------------------------------\u001b[0m",
      "\u001b[1;31mTypeError\u001b[0m                                 Traceback (most recent call last)",
      "Cell \u001b[1;32mIn[172], line 2\u001b[0m\n\u001b[0;32m      1\u001b[0m l1 \u001b[38;5;241m=\u001b[39m [\u001b[38;5;241m1\u001b[39m,\u001b[38;5;241m2\u001b[39m,\u001b[38;5;241m3\u001b[39m,\u001b[38;5;241m4\u001b[39m,\u001b[38;5;241m5\u001b[39m]\n\u001b[1;32m----> 2\u001b[0m \u001b[38;5;28;43mdict\u001b[39;49m\u001b[43m(\u001b[49m\u001b[43ml1\u001b[49m\u001b[43m)\u001b[49m\n",
      "\u001b[1;31mTypeError\u001b[0m: cannot convert dictionary update sequence element #0 to a sequence"
     ]
    }
   ],
   "source": [
    "l1 = [1,2,3,4,5]\n",
    "dict(l1)"
   ]
  },
  {
   "cell_type": "markdown",
   "id": "c25f5952",
   "metadata": {},
   "source": [
    "---\n",
    "# Whats Next ?\n",
    "- Chaining of comparison operations (Logical connectors)\n",
    "- Conditional Statements\n",
    "- Iterative Statements (Loops)\n",
    "- Functions\n",
    "- OOP in Python\n",
    "- List comprehension, Exception Handling, File handling\n",
    "---\n",
    "---\n",
    "---"
   ]
  },
  {
   "cell_type": "code",
   "execution_count": 174,
   "id": "df26ac8f",
   "metadata": {},
   "outputs": [
    {
     "name": "stdout",
     "output_type": "stream",
     "text": [
      "Enter the first number  : 10\n",
      "Enter the second number : 20\n",
      "Variables before swapping : \n",
      "num1 :  10\n",
      "num2 :  20\n",
      "Variables after swapping : \n",
      "num1 :  20\n",
      "num2 :  10\n"
     ]
    }
   ],
   "source": [
    "# Swapping two numbers without using extra variable or multiple assignment\n",
    "num1 = int(input('Enter the first number  : '))\n",
    "num2 = int(input('Enter the second number : '))\n",
    "\n",
    "print('Variables before swapping : ')\n",
    "print('num1 : ', num1)\n",
    "print('num2 : ', num2)\n",
    "\n",
    "num1 = num1 + num2\n",
    "num2 = num1 - num2\n",
    "num1 = num1 - num2\n",
    "\n",
    "print('Variables after swapping : ')\n",
    "print('num1 : ', num1)\n",
    "print('num2 : ', num2)"
   ]
  },
  {
   "cell_type": "code",
   "execution_count": 176,
   "id": "cdb688e9",
   "metadata": {},
   "outputs": [
    {
     "name": "stdout",
     "output_type": "stream",
     "text": [
      "Enter marks for subject 1 : 90\n",
      "Enter marks for subject 2 : 95\n",
      "Enter marks for subject 3 : 85\n",
      "Enter marks for subject 4 : 80\n",
      "Enter marks for subject 5 : 75\n",
      "Maximum marks :  95\n",
      "Minimum marks :  75\n",
      "Average marks :  85.0\n"
     ]
    }
   ],
   "source": [
    "# Take marks in five subjects as input and print max, min, avg\n",
    "marks1 = int(input('Enter marks for subject 1 : '))\n",
    "marks2 = int(input('Enter marks for subject 2 : '))\n",
    "marks3 = int(input('Enter marks for subject 3 : '))\n",
    "marks4 = int(input('Enter marks for subject 4 : '))\n",
    "marks5 = int(input('Enter marks for subject 5 : '))\n",
    "\n",
    "marks = [marks1, marks2, marks3, marks4, marks5]\n",
    "\n",
    "print('Maximum marks : ', max(marks))\n",
    "print('Minimum marks : ', min(marks))\n",
    "print('Average marks : ', sum(marks) / len(marks))"
   ]
  },
  {
   "cell_type": "code",
   "execution_count": 178,
   "id": "6b95cadd",
   "metadata": {},
   "outputs": [
    {
     "name": "stdout",
     "output_type": "stream",
     "text": [
      "Enter marks in five subjects separated by space : 90 95 96 91 92\n",
      "Maximum marks :  96\n",
      "Minimum marks :  90\n",
      "Average marks :  92.8\n"
     ]
    }
   ],
   "source": [
    "# Take marks in five subjects as input in a single line and print max, min, avg\n",
    "marks = input('Enter marks in five subjects separated by space : ').split()\n",
    "marks[0] = int(marks[0])\n",
    "marks[1] = int(marks[1])\n",
    "marks[2] = int(marks[2])\n",
    "marks[3] = int(marks[3])\n",
    "marks[4] = int(marks[4])\n",
    "\n",
    "print('Maximum marks : ', max(marks))\n",
    "print('Minimum marks : ', min(marks))\n",
    "print('Average marks : ', sum(marks) / len(marks))"
   ]
  },
  {
   "cell_type": "code",
   "execution_count": 179,
   "id": "16983dce",
   "metadata": {},
   "outputs": [
    {
     "data": {
      "text/plain": [
       "[98, 95, 98]"
      ]
     },
     "execution_count": 179,
     "metadata": {},
     "output_type": "execute_result"
    }
   ],
   "source": [
    "marks = ['98', '95', '98']\n",
    "marks = list(map(int, marks))\n",
    "marks"
   ]
  },
  {
   "cell_type": "code",
   "execution_count": 180,
   "id": "fc315ded",
   "metadata": {},
   "outputs": [
    {
     "name": "stdout",
     "output_type": "stream",
     "text": [
      "Enter marks in five subjects separated by space : 90 98 95 96 99\n",
      "Maximum marks :  99\n",
      "Minimum marks :  90\n",
      "Average marks :  95.6\n"
     ]
    }
   ],
   "source": [
    "# Take marks in five subjects as input in a single line and print max, min, avg\n",
    "marks = input('Enter marks in five subjects separated by space : ').split()\n",
    "marks = list(map(int, marks))         # map will apply int function to all elements of marks\n",
    "\n",
    "print('Maximum marks : ', max(marks))\n",
    "print('Minimum marks : ', min(marks))\n",
    "print('Average marks : ', sum(marks) / len(marks))"
   ]
  },
  {
   "cell_type": "code",
   "execution_count": 183,
   "id": "737a4d62",
   "metadata": {},
   "outputs": [
    {
     "name": "stdout",
     "output_type": "stream",
     "text": [
      "Enter the details (fname lanme city gender state) : Utkarsh Sharma Jaipur Male Rajasthan\n"
     ]
    },
    {
     "data": {
      "text/plain": [
       "['Utkarsh', 'Sharma', 'Jaipur', 'Male', 'Rajasthan']"
      ]
     },
     "execution_count": 183,
     "metadata": {},
     "output_type": "execute_result"
    }
   ],
   "source": [
    "# Taking a list of strings as input in a single line\n",
    "details = input('Enter the details (fname lanme city gender state) : ').split()\n",
    "details"
   ]
  },
  {
   "cell_type": "code",
   "execution_count": 185,
   "id": "ffc34a87",
   "metadata": {},
   "outputs": [
    {
     "name": "stdout",
     "output_type": "stream",
     "text": [
      "Enter three numbers : 10 20 30\n"
     ]
    },
    {
     "data": {
      "text/plain": [
       "[10, 20, 30]"
      ]
     },
     "execution_count": 185,
     "metadata": {},
     "output_type": "execute_result"
    }
   ],
   "source": [
    "# Taking a list of numbers as input in a single line\n",
    "numbers = input('Enter three numbers : ').split()\n",
    "numbers = list(map(int, numbers))\n",
    "numbers"
   ]
  },
  {
   "cell_type": "code",
   "execution_count": 187,
   "id": "f2804024",
   "metadata": {},
   "outputs": [
    {
     "name": "stdout",
     "output_type": "stream",
     "text": [
      "Enter three numbers : 10 20 30\n"
     ]
    },
    {
     "data": {
      "text/plain": [
       "[10, 20, 30]"
      ]
     },
     "execution_count": 187,
     "metadata": {},
     "output_type": "execute_result"
    }
   ],
   "source": [
    "# Taking a list of numbers as input in a single line\n",
    "numbers = list(map(int, input('Enter three numbers : ').split()))\n",
    "numbers"
   ]
  },
  {
   "cell_type": "code",
   "execution_count": 188,
   "id": "4d105c35",
   "metadata": {},
   "outputs": [
    {
     "name": "stdout",
     "output_type": "stream",
     "text": [
      "Enter salaries of seven employees : 100000 80000 90000 95000 85000 60000 120000\n",
      "Maximum Salary :  120000\n",
      "Minimum Salary :  60000\n",
      "Average Salary :  90000.0\n"
     ]
    }
   ],
   "source": [
    "# Take salaries of 7 employees as input in a single line, print the max, min, avg salaries\n",
    "salaries = list(map(int, input('Enter salaries of seven employees : ').split()))\n",
    "print('Maximum Salary : ', max(salaries))\n",
    "print('Minimum Salary : ', min(salaries))\n",
    "print('Average Salary : ', sum(salaries) / len(salaries))"
   ]
  },
  {
   "cell_type": "code",
   "execution_count": null,
   "id": "55137cc8",
   "metadata": {},
   "outputs": [],
   "source": []
  }
 ],
 "metadata": {
  "kernelspec": {
   "display_name": "Python 3",
   "language": "python",
   "name": "python3"
  },
  "language_info": {
   "codemirror_mode": {
    "name": "ipython",
    "version": 3
   },
   "file_extension": ".py",
   "mimetype": "text/x-python",
   "name": "python",
   "nbconvert_exporter": "python",
   "pygments_lexer": "ipython3",
   "version": "3.8.5"
  }
 },
 "nbformat": 4,
 "nbformat_minor": 5
}
