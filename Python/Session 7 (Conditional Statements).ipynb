{
 "cells": [
  {
   "cell_type": "markdown",
   "id": "66f3a9f0",
   "metadata": {},
   "source": [
    "<h2> Table of Comparison Operators </h2><p>  In the table below, a=3 and b=4.</p>\n",
    "\n",
    "<table class=\"table table-bordered\">\n",
    "<tr>\n",
    "<th style=\"width:10%\">Operator</th><th style=\"width:45%\">Description</th><th>Example</th>\n",
    "</tr>\n",
    "<tr>\n",
    "<td>==</td>\n",
    "<td>If the values of two operands are equal, then the condition becomes true.</td>\n",
    "<td> (a == b) is not true.</td>\n",
    "</tr>\n",
    "<tr>\n",
    "<td>!=</td>\n",
    "<td>If values of two operands are not equal, then condition becomes true.</td>\n",
    "<td>(a != b) is true</td>\n",
    "</tr>\n",
    "<tr>\n",
    "<td>&gt;</td>\n",
    "<td>If the value of left operand is greater than the value of right operand, then condition becomes true.</td>\n",
    "<td> (a &gt; b) is not true.</td>\n",
    "</tr>\n",
    "<tr>\n",
    "<td>&lt;</td>\n",
    "<td>If the value of left operand is less than the value of right operand, then condition becomes true.</td>\n",
    "<td> (a &lt; b) is true.</td>\n",
    "</tr>\n",
    "<tr>\n",
    "<td>&gt;=</td>\n",
    "<td>If the value of left operand is greater than or equal to the value of right operand, then condition becomes true.</td>\n",
    "<td> (a &gt;= b) is not true. </td>\n",
    "</tr>\n",
    "<tr>\n",
    "<td>&lt;=</td>\n",
    "<td>If the value of left operand is less than or equal to the value of right operand, then condition becomes true.</td>\n",
    "<td> (a &lt;= b) is true. </td>\n",
    "</tr>\n",
    "</table>"
   ]
  },
  {
   "cell_type": "markdown",
   "id": "3124651c",
   "metadata": {},
   "source": [
    "## Chaining of Comparison Operators"
   ]
  },
  {
   "cell_type": "code",
   "execution_count": 1,
   "id": "4d1efcac",
   "metadata": {},
   "outputs": [],
   "source": [
    "a = 5\n",
    "b = 6\n",
    "c = 7"
   ]
  },
  {
   "cell_type": "code",
   "execution_count": 2,
   "id": "1aed3ffb",
   "metadata": {},
   "outputs": [
    {
     "data": {
      "text/plain": [
       "True"
      ]
     },
     "execution_count": 2,
     "metadata": {},
     "output_type": "execute_result"
    }
   ],
   "source": [
    "a < b"
   ]
  },
  {
   "cell_type": "code",
   "execution_count": 3,
   "id": "89cbfea1",
   "metadata": {},
   "outputs": [
    {
     "data": {
      "text/plain": [
       "True"
      ]
     },
     "execution_count": 3,
     "metadata": {},
     "output_type": "execute_result"
    }
   ],
   "source": [
    "a < c"
   ]
  },
  {
   "cell_type": "markdown",
   "id": "3f7fa4dc",
   "metadata": {},
   "source": [
    "### Logical Operators\n",
    "- **and** : True if all are True\n",
    "- **or**  : True if at least one is True\n",
    "- **not** : Opposite"
   ]
  },
  {
   "cell_type": "code",
   "execution_count": 4,
   "id": "c44b8891",
   "metadata": {},
   "outputs": [
    {
     "data": {
      "text/plain": [
       "True"
      ]
     },
     "execution_count": 4,
     "metadata": {},
     "output_type": "execute_result"
    }
   ],
   "source": [
    "a < b and a < c          # True and True          "
   ]
  },
  {
   "cell_type": "code",
   "execution_count": 5,
   "id": "8db1f247",
   "metadata": {},
   "outputs": [
    {
     "data": {
      "text/plain": [
       "False"
      ]
     },
     "execution_count": 5,
     "metadata": {},
     "output_type": "execute_result"
    }
   ],
   "source": [
    "a < b and a > c          # True and False"
   ]
  },
  {
   "cell_type": "code",
   "execution_count": 6,
   "id": "a5f38a9d",
   "metadata": {},
   "outputs": [
    {
     "data": {
      "text/plain": [
       "True"
      ]
     },
     "execution_count": 6,
     "metadata": {},
     "output_type": "execute_result"
    }
   ],
   "source": [
    "1 < 2 and 3 < 4 and 5 < 6        # True and True and True"
   ]
  },
  {
   "cell_type": "code",
   "execution_count": 7,
   "id": "aa61b994",
   "metadata": {},
   "outputs": [
    {
     "data": {
      "text/plain": [
       "False"
      ]
     },
     "execution_count": 7,
     "metadata": {},
     "output_type": "execute_result"
    }
   ],
   "source": [
    "1 < 2 and 3 < 4 and 5 > 6        # True and True and False"
   ]
  },
  {
   "cell_type": "code",
   "execution_count": 8,
   "id": "0a449c50",
   "metadata": {},
   "outputs": [
    {
     "data": {
      "text/plain": [
       "True"
      ]
     },
     "execution_count": 8,
     "metadata": {},
     "output_type": "execute_result"
    }
   ],
   "source": [
    "1 < 2 or 3 < 4 or 5 < 6         # True or True or True"
   ]
  },
  {
   "cell_type": "code",
   "execution_count": 9,
   "id": "3853930f",
   "metadata": {},
   "outputs": [
    {
     "data": {
      "text/plain": [
       "True"
      ]
     },
     "execution_count": 9,
     "metadata": {},
     "output_type": "execute_result"
    }
   ],
   "source": [
    "1 < 2 or 3 < 4 or 5 > 6         # True or True or False"
   ]
  },
  {
   "cell_type": "code",
   "execution_count": 10,
   "id": "b83a09d1",
   "metadata": {},
   "outputs": [
    {
     "data": {
      "text/plain": [
       "True"
      ]
     },
     "execution_count": 10,
     "metadata": {},
     "output_type": "execute_result"
    }
   ],
   "source": [
    "1 < 2 or 3 > 4 or 5 > 6         # True or False or False"
   ]
  },
  {
   "cell_type": "code",
   "execution_count": 11,
   "id": "40082033",
   "metadata": {},
   "outputs": [
    {
     "data": {
      "text/plain": [
       "False"
      ]
     },
     "execution_count": 11,
     "metadata": {},
     "output_type": "execute_result"
    }
   ],
   "source": [
    "1 > 2 or 3 > 4 or 5 > 6         # False or False or False"
   ]
  },
  {
   "cell_type": "code",
   "execution_count": 12,
   "id": "74445942",
   "metadata": {},
   "outputs": [
    {
     "data": {
      "text/plain": [
       "False"
      ]
     },
     "execution_count": 12,
     "metadata": {},
     "output_type": "execute_result"
    }
   ],
   "source": [
    "not 1 < 2                       # not True"
   ]
  },
  {
   "cell_type": "code",
   "execution_count": 13,
   "id": "bdb0a198",
   "metadata": {},
   "outputs": [
    {
     "data": {
      "text/plain": [
       "True"
      ]
     },
     "execution_count": 13,
     "metadata": {},
     "output_type": "execute_result"
    }
   ],
   "source": [
    "1 > 2 and 3 > 4 or 5 < 6\n",
    "# False and False or True                     (and has higher precedence)\n",
    "# False or True"
   ]
  },
  {
   "cell_type": "code",
   "execution_count": 14,
   "id": "7bafba56",
   "metadata": {},
   "outputs": [
    {
     "data": {
      "text/plain": [
       "False"
      ]
     },
     "execution_count": 14,
     "metadata": {},
     "output_type": "execute_result"
    }
   ],
   "source": [
    "1 > 2 or 3 < 5 and 6 > 8 and 9 > 7 or 6 < 5 and 6 > 4"
   ]
  },
  {
   "cell_type": "code",
   "execution_count": 20,
   "id": "5048c3b4",
   "metadata": {},
   "outputs": [
    {
     "data": {
      "text/plain": [
       "True"
      ]
     },
     "execution_count": 20,
     "metadata": {},
     "output_type": "execute_result"
    }
   ],
   "source": [
    "1 > 2 and 3 < 5 or 9 > 8 and 9 > 7 or 6 < 5 and 6 > 8 or 9 < 7 and 8 > 6"
   ]
  },
  {
   "cell_type": "code",
   "execution_count": 19,
   "id": "ad14c6d2",
   "metadata": {},
   "outputs": [
    {
     "name": "stdout",
     "output_type": "stream",
     "text": [
      "Enter the username : Utkarsh\n",
      "Enter the password : 1234\n"
     ]
    },
    {
     "data": {
      "text/plain": [
       "True"
      ]
     },
     "execution_count": 19,
     "metadata": {},
     "output_type": "execute_result"
    }
   ],
   "source": [
    "# Correct username and password (Utkarsh 1234)\n",
    "username = input('Enter the username : ')\n",
    "password = int(input('Enter the password : '))\n",
    "\n",
    "username == 'Utkarsh' and password == 1234"
   ]
  },
  {
   "cell_type": "markdown",
   "id": "d85bbb1b",
   "metadata": {},
   "source": [
    "---\n",
    "---\n",
    "# Conditional Statements\n",
    "- if\n",
    "- if else\n",
    "- if elif else\n",
    "- nested if else"
   ]
  },
  {
   "cell_type": "code",
   "execution_count": 21,
   "id": "1aa94d13",
   "metadata": {},
   "outputs": [
    {
     "name": "stdout",
     "output_type": "stream",
     "text": [
      "Enter the marks : 90\n",
      "The student has passed the exam\n"
     ]
    }
   ],
   "source": [
    "# Take marks of a student out of 100 as input and print pass if marks are above 50\n",
    "marks = int(input('Enter the marks : '))\n",
    "\n",
    "if marks > 50:\n",
    "    print('The student has passed the exam')"
   ]
  },
  {
   "cell_type": "code",
   "execution_count": 22,
   "id": "5e394b3e",
   "metadata": {},
   "outputs": [
    {
     "name": "stdout",
     "output_type": "stream",
     "text": [
      "Enter the marks : 45\n"
     ]
    }
   ],
   "source": [
    "# Take marks of a student out of 100 as input and print pass if marks are above 50\n",
    "marks = int(input('Enter the marks : '))\n",
    "\n",
    "if marks > 50:\n",
    "    print('The student has passed the exam')"
   ]
  },
  {
   "cell_type": "code",
   "execution_count": 23,
   "id": "5a9cfa97",
   "metadata": {},
   "outputs": [
    {
     "name": "stdout",
     "output_type": "stream",
     "text": [
      "Enter the marks : 80\n",
      "The student has passed the exam\n"
     ]
    }
   ],
   "source": [
    "# Take marks of a student out of 100 as input and print pass if marks are above 50 otherwise print fail\n",
    "marks = int(input('Enter the marks : '))\n",
    "\n",
    "if marks > 50:\n",
    "    print('The student has passed the exam')\n",
    "else:\n",
    "    print('The student has failed the exam')"
   ]
  },
  {
   "cell_type": "code",
   "execution_count": 24,
   "id": "956d872d",
   "metadata": {},
   "outputs": [
    {
     "name": "stdout",
     "output_type": "stream",
     "text": [
      "Enter the marks : 45\n",
      "The student has failed the exam\n"
     ]
    }
   ],
   "source": [
    "# Take marks of a student out of 100 as input and print pass if marks are above 50 otherwise print fail\n",
    "marks = int(input('Enter the marks : '))\n",
    "\n",
    "if marks > 50:\n",
    "    print('The student has passed the exam')\n",
    "else:\n",
    "    print('The student has failed the exam')"
   ]
  },
  {
   "cell_type": "code",
   "execution_count": 27,
   "id": "6647c7ce",
   "metadata": {},
   "outputs": [
    {
     "name": "stdout",
     "output_type": "stream",
     "text": [
      "Before if statement\n",
      "\n",
      "Inside if block\n",
      "Hello Everyone\n",
      "This is an indented block\n",
      "All these indented statements belong to if block\n",
      "These will be executed only if the condition is true\n",
      "\n",
      "Outside if block\n"
     ]
    }
   ],
   "source": [
    "# Indentation\n",
    "print('Before if statement\\n')\n",
    "if True:\n",
    "    print('Inside if block')\n",
    "    print('Hello Everyone')\n",
    "    print('This is an indented block')\n",
    "    print('All these indented statements belong to if block')\n",
    "    print('These will be executed only if the condition is true\\n')\n",
    "print('Outside if block')"
   ]
  },
  {
   "cell_type": "code",
   "execution_count": 28,
   "id": "f1459a42",
   "metadata": {},
   "outputs": [
    {
     "name": "stdout",
     "output_type": "stream",
     "text": [
      "Before if statement\n",
      "\n",
      "Outside if block\n"
     ]
    }
   ],
   "source": [
    "print('Before if statement\\n')\n",
    "if False:\n",
    "    print('Inside if block')\n",
    "    print('Hello Everyone')\n",
    "    print('This is an indented block')\n",
    "    print('All these indented statements belong to if block')\n",
    "    print('These will be executed only if the condition is true\\n')\n",
    "print('Outside if block')"
   ]
  },
  {
   "cell_type": "code",
   "execution_count": 31,
   "id": "c5f77166",
   "metadata": {},
   "outputs": [
    {
     "name": "stdout",
     "output_type": "stream",
     "text": [
      "Enter the username : Utkarsh\n",
      "Enter the password : 12345\n",
      "Access Denied\n"
     ]
    }
   ],
   "source": [
    "# Assume correct username and password to be Utkarsh and 1234\n",
    "# Take username and password as input from user, print access granted if they are correct otherwise print access denied\n",
    "username = input('Enter the username : ')\n",
    "password = int(input('Enter the password : '))\n",
    "\n",
    "if username == 'Utkarsh' and password == 1234:\n",
    "    print('Access Granted')\n",
    "else:\n",
    "    print('Access Denied')"
   ]
  },
  {
   "cell_type": "code",
   "execution_count": 34,
   "id": "3bde633b",
   "metadata": {},
   "outputs": [
    {
     "name": "stdout",
     "output_type": "stream",
     "text": [
      "Enter the marks for Tom : 96\n",
      "Enter the marks for Jon : 92\n",
      "Tom has scored higher than Jon\n"
     ]
    }
   ],
   "source": [
    "# Take marks of two students as input and print the highest scorer\n",
    "tom = int(input('Enter the marks for Tom : '))\n",
    "jon = int(input('Enter the marks for Jon : '))\n",
    "\n",
    "if tom > jon:\n",
    "    print('Tom has scored higher than Jon')\n",
    "else:\n",
    "    print('Jon has scored higher than Tom')"
   ]
  },
  {
   "cell_type": "code",
   "execution_count": 37,
   "id": "7d3b665c",
   "metadata": {},
   "outputs": [
    {
     "name": "stdout",
     "output_type": "stream",
     "text": [
      "Enter the marks for Tom : 80\n",
      "Enter the marks for Jon : 80\n",
      "Both have scored the same\n"
     ]
    }
   ],
   "source": [
    "# if elif else (Used for writing multiple conditions)\n",
    "tom = int(input('Enter the marks for Tom : '))\n",
    "jon = int(input('Enter the marks for Jon : '))\n",
    "\n",
    "if tom > jon:\n",
    "    print('Tom has scored higher than Jon')\n",
    "elif jon > tom :\n",
    "    print('Jon has scored higher than Tom')\n",
    "else:\n",
    "    print('Both have scored the same')"
   ]
  },
  {
   "cell_type": "code",
   "execution_count": 46,
   "id": "c9db3815",
   "metadata": {},
   "outputs": [
    {
     "name": "stdout",
     "output_type": "stream",
     "text": [
      "Enter the name : Swathi\n",
      "Hello Swathi\n"
     ]
    }
   ],
   "source": [
    "name = input('Enter the name : ')\n",
    "\n",
    "if name == 'Akash':\n",
    "    print('Hello Akash')\n",
    "elif name == 'Vaibhav':\n",
    "    print('Hello Vaibhav')\n",
    "elif name == 'Sunny':\n",
    "    print('Hello Sunny')\n",
    "elif name == 'Swathi':\n",
    "    print('Hello Swathi')\n",
    "else:\n",
    "    print('Hello unknown person')"
   ]
  },
  {
   "cell_type": "code",
   "execution_count": 52,
   "id": "e0e99bc4",
   "metadata": {},
   "outputs": [
    {
     "name": "stdout",
     "output_type": "stream",
     "text": [
      "Enter the username : Aryan\n",
      "Enter the password : utk@123\n",
      "Incorrect Username\n"
     ]
    }
   ],
   "source": [
    "# Assume correct username and password to be Utkarsh and utk@123\n",
    "# Take username and password as input from user, print access granted if they are correct\n",
    "# Otherwise print whether the username is incorrect or the password is incorrect or both are incorrect\n",
    "\n",
    "username = input('Enter the username : ')\n",
    "password = input('Enter the password : ')\n",
    "\n",
    "if username == 'Utkarsh' and password == 'utk@123':\n",
    "    print('Access Granted')\n",
    "else:\n",
    "    if username != 'Utkarsh' and password != 'utk@123':\n",
    "        print('Incorrect Username and password')\n",
    "    elif username != 'Utkarsh':\n",
    "        print('Incorrect Username')\n",
    "    else:\n",
    "        print('Incorrect Password')"
   ]
  },
  {
   "cell_type": "code",
   "execution_count": 55,
   "id": "ab0acd89",
   "metadata": {},
   "outputs": [
    {
     "name": "stdout",
     "output_type": "stream",
     "text": [
      "Enter the number : 6\n",
      "The number is even\n"
     ]
    }
   ],
   "source": [
    "# Take a number as input and check if it is even or odd\n",
    "num = int(input('Enter the number : '))\n",
    "\n",
    "if num % 2 == 0:\n",
    "    print('The number is even')\n",
    "else:\n",
    "    print('The number is odd')"
   ]
  },
  {
   "cell_type": "code",
   "execution_count": 59,
   "id": "378187c7",
   "metadata": {},
   "outputs": [
    {
     "name": "stdout",
     "output_type": "stream",
     "text": [
      "Enter the number : 7\n",
      "7 is not divisible by 2 and 3\n"
     ]
    }
   ],
   "source": [
    "# Take a number as input and check whether it is divisible by both 2 and 3 or only 2 or only 3 or not with both\n",
    "num = int(input('Enter the number : '))\n",
    "\n",
    "if num % 2 == 0 and num % 3 == 0:\n",
    "    print('{} is divisible by both 2 and 3'.format(num))\n",
    "elif num % 2 == 0:\n",
    "    print('{} is divisible by 2 only'.format(num))\n",
    "elif num % 3 == 0:\n",
    "    print('{} is divisible by 3 only'.format(num))\n",
    "else:\n",
    "    print('{} is not divisible by 2 and 3'.format(num))"
   ]
  },
  {
   "cell_type": "code",
   "execution_count": 60,
   "id": "6150ba0e",
   "metadata": {},
   "outputs": [
    {
     "name": "stdout",
     "output_type": "stream",
     "text": [
      "Enter the marks of Tom in 5 subjects : 80 86 98 96 92\n",
      "Enter the marks of Jon in 5 subjects : 90 82 86 88 84\n",
      "Average marks of Tom :  90.4\n",
      "Average marks of Jon :  86.0\n",
      "Tom has scored higher than Jon\n"
     ]
    }
   ],
   "source": [
    "# Take marks of two students Tom and Jon in 5 subjects as input in lists, print the high scorer or if they scored the same\n",
    "tom_marks = list(map(int, input('Enter the marks of Tom in 5 subjects : ').split()))\n",
    "jon_marks = list(map(int, input('Enter the marks of Jon in 5 subjects : ').split()))\n",
    "\n",
    "tom_avg = sum(tom_marks) / len(tom_marks)\n",
    "jon_avg = sum(jon_marks) / len(jon_marks)\n",
    "print('Average marks of Tom : ', tom_avg)\n",
    "print('Average marks of Jon : ', jon_avg)\n",
    "\n",
    "if tom_avg > jon_avg:\n",
    "    print('Tom has scored higher than Jon')\n",
    "elif jon_avg > tom_avg:\n",
    "    print('Jon has scored higher than Tom')\n",
    "else:\n",
    "    print('Both have scored the same')"
   ]
  },
  {
   "cell_type": "code",
   "execution_count": 66,
   "id": "a1904de8",
   "metadata": {},
   "outputs": [
    {
     "name": "stdout",
     "output_type": "stream",
     "text": [
      "Enter the first number  : 10\n",
      "Enter the second number : 8\n",
      "Enter the third number  : 8\n",
      "10 is the largest number\n"
     ]
    }
   ],
   "source": [
    "# Take three numbers as input and print the largest number\n",
    "num1 = int(input('Enter the first number  : '))\n",
    "num2 = int(input('Enter the second number : '))\n",
    "num3 = int(input('Enter the third number  : '))\n",
    "\n",
    "if num1 > num2 and num1 > num3:\n",
    "    print(num1, 'is the largest number')\n",
    "elif num2 > num3:\n",
    "    print(num2, 'is the largest number')\n",
    "else:\n",
    "    print(num3, 'is the largest number')"
   ]
  },
  {
   "cell_type": "code",
   "execution_count": 5,
   "id": "f1df1e25",
   "metadata": {},
   "outputs": [
    {
     "name": "stdout",
     "output_type": "stream",
     "text": [
      "Enter the first number  : 20\n",
      "Enter the second number : 10\n",
      "Enter the third number  : 30\n",
      "20 is second largest\n"
     ]
    }
   ],
   "source": [
    "# Take three numbers as input and print the second largest number\n",
    "num1 = int(input('Enter the first number  : '))\n",
    "num2 = int(input('Enter the second number : '))\n",
    "num3 = int(input('Enter the third number  : '))\n",
    "\n",
    "if num1 > num2 and num1 > num3:\n",
    "    if num2 > num3:\n",
    "        print(num2, 'is second largest')\n",
    "    else:\n",
    "        print(num3, 'is second largest')\n",
    "elif num2 > num3:\n",
    "    if num1 > num3:\n",
    "        print(num1, 'is second largest')\n",
    "    else:\n",
    "        print(num3, 'is second largest')\n",
    "else:\n",
    "    if num1 > num2:\n",
    "        print(num1,'is second largest')\n",
    "    else:\n",
    "        print(num2,'is second largest')"
   ]
  },
  {
   "cell_type": "code",
   "execution_count": 10,
   "id": "63335a94",
   "metadata": {},
   "outputs": [
    {
     "name": "stdout",
     "output_type": "stream",
     "text": [
      "Enter the four numbers (separated by space) : 20 40 30 10\n",
      "40 is largest\n"
     ]
    }
   ],
   "source": [
    "# Take four numbers as input and print the largest\n",
    "a,b,c,d = list(map(int, input('Enter the four numbers (separated by space) : ').split()))\n",
    "\n",
    "if a > b and a > c and a > d:\n",
    "    print(a, 'is largest')\n",
    "elif b > c and b > d:\n",
    "    print(b, 'is largest')\n",
    "elif c > d:\n",
    "    print(c, 'is largest')\n",
    "else:\n",
    "    print(d, 'is largest')"
   ]
  },
  {
   "cell_type": "code",
   "execution_count": 16,
   "id": "25bdfb13",
   "metadata": {},
   "outputs": [
    {
     "name": "stdout",
     "output_type": "stream",
     "text": [
      "Enter the first number  : 20\n",
      "Enter the second number : 10\n",
      "Enter the operator(+,-,*,/) : ^\n",
      "Invalid operator\n"
     ]
    }
   ],
   "source": [
    "# Take two numbers and an operator(+,-,*,/) as input and perform the corresponding operation\n",
    "# If user enters any other operator then print invalid operator\n",
    "\n",
    "num1 = int(input('Enter the first number  : '))\n",
    "num2 = int(input('Enter the second number : '))\n",
    "op = input('Enter the operator(+,-,*,/) : ')\n",
    "\n",
    "if op == '+':\n",
    "    print('The sum is : ', num1 + num2)\n",
    "elif op == '-':\n",
    "    print('The difference is : ', num1 - num2)\n",
    "elif op == '*':\n",
    "    print('The product is : ', num1 * num2)\n",
    "elif op == '/':\n",
    "    print('The quotient is : ', num1 / num2)\n",
    "else:\n",
    "    print('Invalid operator')"
   ]
  },
  {
   "cell_type": "code",
   "execution_count": 21,
   "id": "0b259cf8",
   "metadata": {},
   "outputs": [
    {
     "name": "stdout",
     "output_type": "stream",
     "text": [
      "Enter the username : Tommy\n",
      "Incorrect Username\n"
     ]
    }
   ],
   "source": [
    "# Given a dictionary of usernames and passwords\n",
    "data = {'Tom' : 123, 'Bob' : 345, 'Jon' : 456, 'Tim' : 678, 'Jim' : 789}\n",
    "# Take username and password as input and print access granted if they match the data\n",
    "# If not print whether the username, password are incorrect\n",
    "\n",
    "username = input('Enter the username : ')\n",
    "\n",
    "if username in data.keys():\n",
    "    password = int(input('Enter the password : '))\n",
    "    if password == data[username]:\n",
    "        print('Access Granted')\n",
    "    else:\n",
    "        print('Incorrect Password')\n",
    "else:\n",
    "    print('Incorrect Username')"
   ]
  },
  {
   "cell_type": "code",
   "execution_count": 22,
   "id": "631919ff",
   "metadata": {},
   "outputs": [
    {
     "data": {
      "text/plain": [
       "{'Tom': 123, 'Bob': 345, 'Jon': 456, 'Tim': 678, 'Jim': 789, 'Avinash': 542}"
      ]
     },
     "execution_count": 22,
     "metadata": {},
     "output_type": "execute_result"
    }
   ],
   "source": [
    "data['Avinash'] = 542\n",
    "data"
   ]
  },
  {
   "cell_type": "code",
   "execution_count": 23,
   "id": "fc0effe5",
   "metadata": {},
   "outputs": [
    {
     "data": {
      "text/plain": [
       "{'Tom': 123, 'Bob': 345, 'Jon': 456, 'Tim': 678, 'Jim': 789, 'Avinash': 425}"
      ]
     },
     "execution_count": 23,
     "metadata": {},
     "output_type": "execute_result"
    }
   ],
   "source": [
    "data['Avinash'] = 425\n",
    "data"
   ]
  },
  {
   "cell_type": "code",
   "execution_count": null,
   "id": "d78636e2",
   "metadata": {},
   "outputs": [],
   "source": []
  }
 ],
 "metadata": {
  "kernelspec": {
   "display_name": "Python 3",
   "language": "python",
   "name": "python3"
  },
  "language_info": {
   "codemirror_mode": {
    "name": "ipython",
    "version": 3
   },
   "file_extension": ".py",
   "mimetype": "text/x-python",
   "name": "python",
   "nbconvert_exporter": "python",
   "pygments_lexer": "ipython3",
   "version": "3.8.5"
  }
 },
 "nbformat": 4,
 "nbformat_minor": 5
}
