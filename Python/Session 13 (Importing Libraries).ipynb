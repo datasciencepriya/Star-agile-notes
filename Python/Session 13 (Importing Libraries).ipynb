{
 "cells": [
  {
   "cell_type": "code",
   "execution_count": 1,
   "id": "7d1ee324",
   "metadata": {},
   "outputs": [],
   "source": [
    "import numpy"
   ]
  },
  {
   "cell_type": "code",
   "execution_count": 2,
   "id": "cfa6a5df",
   "metadata": {},
   "outputs": [],
   "source": [
    "l1 = [20,40,50,25,35]"
   ]
  },
  {
   "cell_type": "code",
   "execution_count": 3,
   "id": "53538900",
   "metadata": {},
   "outputs": [
    {
     "data": {
      "text/plain": [
       "34.0"
      ]
     },
     "execution_count": 3,
     "metadata": {},
     "output_type": "execute_result"
    }
   ],
   "source": [
    "numpy.mean(l1)"
   ]
  },
  {
   "cell_type": "code",
   "execution_count": 4,
   "id": "2620b696",
   "metadata": {},
   "outputs": [
    {
     "data": {
      "text/plain": [
       "50"
      ]
     },
     "execution_count": 4,
     "metadata": {},
     "output_type": "execute_result"
    }
   ],
   "source": [
    "max(l1)"
   ]
  },
  {
   "cell_type": "code",
   "execution_count": 5,
   "id": "46135a03",
   "metadata": {},
   "outputs": [
    {
     "data": {
      "text/plain": [
       "10.677078252031311"
      ]
     },
     "execution_count": 5,
     "metadata": {},
     "output_type": "execute_result"
    }
   ],
   "source": [
    "numpy.std(l1)"
   ]
  },
  {
   "cell_type": "code",
   "execution_count": 6,
   "id": "f9bb54a1",
   "metadata": {},
   "outputs": [
    {
     "data": {
      "text/plain": [
       "114.0"
      ]
     },
     "execution_count": 6,
     "metadata": {},
     "output_type": "execute_result"
    }
   ],
   "source": [
    "numpy.var(l1)"
   ]
  },
  {
   "cell_type": "code",
   "execution_count": 7,
   "id": "be4f4b6e",
   "metadata": {},
   "outputs": [],
   "source": [
    "import numpy as np"
   ]
  },
  {
   "cell_type": "code",
   "execution_count": 8,
   "id": "5c84b76f",
   "metadata": {},
   "outputs": [
    {
     "data": {
      "text/plain": [
       "34.0"
      ]
     },
     "execution_count": 8,
     "metadata": {},
     "output_type": "execute_result"
    }
   ],
   "source": [
    "np.mean(l1)"
   ]
  },
  {
   "cell_type": "code",
   "execution_count": 9,
   "id": "c6ba10e6",
   "metadata": {},
   "outputs": [
    {
     "data": {
      "text/plain": [
       "10.677078252031311"
      ]
     },
     "execution_count": 9,
     "metadata": {},
     "output_type": "execute_result"
    }
   ],
   "source": [
    "np.std(l1)"
   ]
  },
  {
   "cell_type": "code",
   "execution_count": 10,
   "id": "1b8dc350",
   "metadata": {},
   "outputs": [
    {
     "data": {
      "text/plain": [
       "114.0"
      ]
     },
     "execution_count": 10,
     "metadata": {},
     "output_type": "execute_result"
    }
   ],
   "source": [
    "np.var(l1)"
   ]
  },
  {
   "cell_type": "code",
   "execution_count": 11,
   "id": "82b7e4e0",
   "metadata": {},
   "outputs": [],
   "source": [
    "from numpy import mean"
   ]
  },
  {
   "cell_type": "code",
   "execution_count": 12,
   "id": "442bedbf",
   "metadata": {},
   "outputs": [
    {
     "data": {
      "text/plain": [
       "34.0"
      ]
     },
     "execution_count": 12,
     "metadata": {},
     "output_type": "execute_result"
    }
   ],
   "source": [
    "mean(l1)"
   ]
  },
  {
   "cell_type": "code",
   "execution_count": 13,
   "id": "e5113bda",
   "metadata": {},
   "outputs": [],
   "source": [
    "from numpy import mean, std, var"
   ]
  },
  {
   "cell_type": "code",
   "execution_count": 14,
   "id": "1c1f34ae",
   "metadata": {},
   "outputs": [
    {
     "name": "stdout",
     "output_type": "stream",
     "text": [
      "34.0\n",
      "10.677078252031311\n",
      "114.0\n"
     ]
    }
   ],
   "source": [
    "print(mean(l1), std(l1), var(l1), sep = '\\n')"
   ]
  },
  {
   "cell_type": "markdown",
   "id": "60c4f1c2",
   "metadata": {},
   "source": [
    "----------\n",
    "----------"
   ]
  },
  {
   "cell_type": "code",
   "execution_count": 16,
   "id": "a308e5c6",
   "metadata": {},
   "outputs": [],
   "source": [
    "import numpy                           # Importing a library\n",
    "import numpy as np                     # Importing a library with an alias\n",
    "from numpy import mean                 # Importing something specific (more than one are also allowed)"
   ]
  },
  {
   "cell_type": "code",
   "execution_count": null,
   "id": "472141c8",
   "metadata": {},
   "outputs": [],
   "source": []
  }
 ],
 "metadata": {
  "kernelspec": {
   "display_name": "Python 3 (ipykernel)",
   "language": "python",
   "name": "python3"
  },
  "language_info": {
   "codemirror_mode": {
    "name": "ipython",
    "version": 3
   },
   "file_extension": ".py",
   "mimetype": "text/x-python",
   "name": "python",
   "nbconvert_exporter": "python",
   "pygments_lexer": "ipython3",
   "version": "3.9.7"
  }
 },
 "nbformat": 4,
 "nbformat_minor": 5
}
