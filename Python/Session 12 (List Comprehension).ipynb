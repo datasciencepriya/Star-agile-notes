{
 "cells": [
  {
   "cell_type": "markdown",
   "id": "e8309d51",
   "metadata": {},
   "source": [
    "# List Comprehensions\n",
    "In addition to sequence operations and list methods, Python includes a more advanced operation called a list comprehension.\n",
    "\n",
    "List comprehensions allow us to build out lists using a different notation. You can think of it as essentially a one line <code>for</code> loop built inside of brackets."
   ]
  },
  {
   "cell_type": "code",
   "execution_count": 1,
   "id": "b890bce4",
   "metadata": {},
   "outputs": [
    {
     "data": {
      "text/plain": [
       "[20, 40, 60, 80, 100]"
      ]
     },
     "execution_count": 1,
     "metadata": {},
     "output_type": "execute_result"
    }
   ],
   "source": [
    "nums = [10,20,30,40,50]\n",
    "for i in range(len(nums)):\n",
    "    nums[i] = nums[i] * 2\n",
    "nums"
   ]
  },
  {
   "cell_type": "code",
   "execution_count": 3,
   "id": "20d4e4f4",
   "metadata": {},
   "outputs": [
    {
     "data": {
      "text/plain": [
       "[20, 40, 60, 80, 100]"
      ]
     },
     "execution_count": 3,
     "metadata": {},
     "output_type": "execute_result"
    }
   ],
   "source": [
    "nums = [10,20,30,40,50]\n",
    "temp = []\n",
    "for i in nums:\n",
    "    temp.append(i*2)\n",
    "temp"
   ]
  },
  {
   "cell_type": "code",
   "execution_count": 4,
   "id": "925ab75f",
   "metadata": {},
   "outputs": [
    {
     "data": {
      "text/plain": [
       "[20, 40, 60, 80, 100]"
      ]
     },
     "execution_count": 4,
     "metadata": {},
     "output_type": "execute_result"
    }
   ],
   "source": [
    "nums = [10,20,30,40,50]\n",
    "nums = [i*2 for i in nums]            # List comprehension\n",
    "nums"
   ]
  },
  {
   "cell_type": "code",
   "execution_count": 5,
   "id": "710677ce",
   "metadata": {},
   "outputs": [
    {
     "data": {
      "text/plain": [
       "[0, 1, 2, 3, 4]"
      ]
     },
     "execution_count": 5,
     "metadata": {},
     "output_type": "execute_result"
    }
   ],
   "source": [
    "[i for i in range(5)]"
   ]
  },
  {
   "cell_type": "code",
   "execution_count": 6,
   "id": "6d891900",
   "metadata": {},
   "outputs": [
    {
     "data": {
      "text/plain": [
       "[0, 2, 4, 6, 8]"
      ]
     },
     "execution_count": 6,
     "metadata": {},
     "output_type": "execute_result"
    }
   ],
   "source": [
    "[i*2 for i in range(5)]"
   ]
  },
  {
   "cell_type": "code",
   "execution_count": 7,
   "id": "b060a2eb",
   "metadata": {},
   "outputs": [
    {
     "data": {
      "text/plain": [
       "[0, 3, 8, 15, 24]"
      ]
     },
     "execution_count": 7,
     "metadata": {},
     "output_type": "execute_result"
    }
   ],
   "source": [
    "[i*2 + i**2 for i in range(5)]"
   ]
  },
  {
   "cell_type": "code",
   "execution_count": 9,
   "id": "11b635b1",
   "metadata": {},
   "outputs": [
    {
     "data": {
      "text/plain": [
       "[5, 5, 5, 5, 5, 5, 5, 5, 5, 5]"
      ]
     },
     "execution_count": 9,
     "metadata": {},
     "output_type": "execute_result"
    }
   ],
   "source": [
    "[5 for i in range(10)]"
   ]
  },
  {
   "cell_type": "code",
   "execution_count": 8,
   "id": "40ba5c4b",
   "metadata": {},
   "outputs": [
    {
     "data": {
      "text/plain": [
       "['Hello', 'Hello', 'Hello', 'Hello', 'Hello']"
      ]
     },
     "execution_count": 8,
     "metadata": {},
     "output_type": "execute_result"
    }
   ],
   "source": [
    "['Hello' for i in range(5)]"
   ]
  },
  {
   "cell_type": "code",
   "execution_count": 10,
   "id": "f6aa950c",
   "metadata": {},
   "outputs": [
    {
     "data": {
      "text/plain": [
       "['G', 'o', 'o', 'd', ' ', 'm', 'o', 'r', 'n', 'i', 'n', 'g']"
      ]
     },
     "execution_count": 10,
     "metadata": {},
     "output_type": "execute_result"
    }
   ],
   "source": [
    "s = 'Good morning'\n",
    "[char for char in s]"
   ]
  },
  {
   "cell_type": "code",
   "execution_count": 12,
   "id": "8d077724",
   "metadata": {},
   "outputs": [
    {
     "data": {
      "text/plain": [
       "['Good', 'morning', 'and', 'welcome', 'to', 'the', 'session']"
      ]
     },
     "execution_count": 12,
     "metadata": {},
     "output_type": "execute_result"
    }
   ],
   "source": [
    "s = 'Good morning and welcome to the session'\n",
    "[word for word in s.split()]"
   ]
  },
  {
   "cell_type": "code",
   "execution_count": 13,
   "id": "40b38249",
   "metadata": {},
   "outputs": [
    {
     "data": {
      "text/plain": [
       "[4, 7, 3, 7, 2, 3, 7]"
      ]
     },
     "execution_count": 13,
     "metadata": {},
     "output_type": "execute_result"
    }
   ],
   "source": [
    "s = 'Good morning and welcome to the session'\n",
    "[len(word) for word in s.split()]             "
   ]
  },
  {
   "cell_type": "code",
   "execution_count": 14,
   "id": "5f4780a4",
   "metadata": {},
   "outputs": [],
   "source": [
    "def check_even(num):\n",
    "    return num % 2 == 0"
   ]
  },
  {
   "cell_type": "code",
   "execution_count": 15,
   "id": "79e3a24a",
   "metadata": {},
   "outputs": [
    {
     "data": {
      "text/plain": [
       "[False, True, True, True, False, False, False]"
      ]
     },
     "execution_count": 15,
     "metadata": {},
     "output_type": "execute_result"
    }
   ],
   "source": [
    "nums = [1,4,6,8,3,5,7]\n",
    "[check_even(i) for i in nums]"
   ]
  },
  {
   "cell_type": "code",
   "execution_count": 16,
   "id": "0feca599",
   "metadata": {},
   "outputs": [
    {
     "data": {
      "text/plain": [
       "[87.6, 83.0, 79.6]"
      ]
     },
     "execution_count": 16,
     "metadata": {},
     "output_type": "execute_result"
    }
   ],
   "source": [
    "# Given a list of marks gaving marks of three students in five subjects each\n",
    "# Create a list having their average scores\n",
    "\n",
    "marks = [[90,80,87,85,96], [90,85,82,86,72], [88,84,76,72,78]]\n",
    "avg_marks = [sum(i)/len(i) for i in marks]\n",
    "avg_marks"
   ]
  },
  {
   "cell_type": "code",
   "execution_count": 17,
   "id": "3097509b",
   "metadata": {},
   "outputs": [
    {
     "data": {
      "text/plain": [
       "[10, 20, 40, 60]"
      ]
     },
     "execution_count": 17,
     "metadata": {},
     "output_type": "execute_result"
    }
   ],
   "source": [
    "# Given a list of numbers\n",
    "# Extract all even numbers in a list\n",
    "nums = [10,20,11,33,55,40,60]\n",
    "[i for i in nums if i % 2 == 0]"
   ]
  },
  {
   "cell_type": "code",
   "execution_count": 19,
   "id": "8c7df062",
   "metadata": {},
   "outputs": [
    {
     "data": {
      "text/plain": [
       "[110000, 132000, 55000, 88000, 220000]"
      ]
     },
     "execution_count": 19,
     "metadata": {},
     "output_type": "execute_result"
    }
   ],
   "source": [
    "# Given a list of salaries, increse each salary by 10 %\n",
    "salaries = [100000,120000,50000,80000,200000]\n",
    "[int(salary * 1.1) for salary in salaries]"
   ]
  },
  {
   "cell_type": "code",
   "execution_count": 20,
   "id": "b21912c9",
   "metadata": {},
   "outputs": [
    {
     "data": {
      "text/plain": [
       "[32.0, 96.8, 105.8, 122.0, 89.6]"
      ]
     },
     "execution_count": 20,
     "metadata": {},
     "output_type": "execute_result"
    }
   ],
   "source": [
    "# temp * 9/5 + 32\n",
    "celcius = [0, 36, 41, 50, 32]\n",
    "fahrenhiet = [(temp * 9/5 + 32) for temp in celcius]\n",
    "fahrenhiet"
   ]
  },
  {
   "cell_type": "code",
   "execution_count": 22,
   "id": "7de327ef",
   "metadata": {},
   "outputs": [
    {
     "data": {
      "text/plain": [
       "[4, 4, 4, 3, 4, 4, 4, 3, 3]"
      ]
     },
     "execution_count": 22,
     "metadata": {},
     "output_type": "execute_result"
    }
   ],
   "source": [
    "statements = ['Baba baba black sheep',\n",
    "              'have you any wool',\n",
    "              'yes sir yes sir',\n",
    "              'three bags full',\n",
    "              'Johnny johnny yes papa',\n",
    "              'Eating sugar no papa',\n",
    "              'telling lies no papa',\n",
    "              'open your mouth',\n",
    "              'Ha ha ha']\n",
    "\n",
    "[len(s.split()) for s in statements]   # Number of words in each string"
   ]
  },
  {
   "cell_type": "code",
   "execution_count": 23,
   "id": "c51f94ab",
   "metadata": {},
   "outputs": [
    {
     "data": {
      "text/plain": [
       "['Baba baba black sheep',\n",
       " 'have you any wool',\n",
       " 'yes sir yes sir',\n",
       " 'Johnny johnny yes papa',\n",
       " 'Eating sugar no papa',\n",
       " 'telling lies no papa']"
      ]
     },
     "execution_count": 23,
     "metadata": {},
     "output_type": "execute_result"
    }
   ],
   "source": [
    "# Strings having even number of words\n",
    "[s for s in statements if len(s.split()) % 2 == 0]"
   ]
  },
  {
   "cell_type": "code",
   "execution_count": null,
   "id": "04cfce6b",
   "metadata": {},
   "outputs": [],
   "source": []
  }
 ],
 "metadata": {
  "kernelspec": {
   "display_name": "Python 3",
   "language": "python",
   "name": "python3"
  },
  "language_info": {
   "codemirror_mode": {
    "name": "ipython",
    "version": 3
   },
   "file_extension": ".py",
   "mimetype": "text/x-python",
   "name": "python",
   "nbconvert_exporter": "python",
   "pygments_lexer": "ipython3",
   "version": "3.8.5"
  }
 },
 "nbformat": 4,
 "nbformat_minor": 5
}
