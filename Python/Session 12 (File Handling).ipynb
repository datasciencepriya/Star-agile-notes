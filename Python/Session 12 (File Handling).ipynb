{
 "cells": [
  {
   "cell_type": "markdown",
   "id": "b502d104",
   "metadata": {},
   "source": [
    "# File Handling\n",
    "**Data used in a program is temporary; unless the data is specifically saved, it is lost when the program terminates. To permanently store the data created in a program, you need to save it in a file on a disk or some other permanent storage device. The file can be transported and can be read later by other programs.**\n",
    "\n",
    "**Files can be classified into text or binary files. A file that can be processed (that is, read, created, or modified) using a text editor such as Notepad on Windows or vi on UNIX is called a text file. All the other files are called binary files. For example, Python source programs are stored in text files and can be processed by a text editor, but Microsoft Word files are stored in binary files and are processed by the Microsoft Word program.**\n",
    "\n",
    "**Computers do not differentiate between binary files and text files. All files are stored in binary format, and thus all files are essentially binary files. Text IO (input and output) is built upon binary IO to provide a level of abstraction for character encoding and decoding.**"
   ]
  },
  {
   "cell_type": "markdown",
   "id": "5575f575",
   "metadata": {},
   "source": [
    "# Modes:\n",
    "- **w** : Write mode\n",
    "    - Creates a file if it does not exist\n",
    "    - Used to write to files\n",
    "    - If a file already exists then the already present content is deleted\n",
    "    \n",
    "- **r** : Read mode\n",
    "    - Used to read from an already existing file\n",
    "\n",
    "- **a** : Append mode\n",
    "    - Used to write to a file keeping the already existing content"
   ]
  },
  {
   "cell_type": "code",
   "execution_count": 1,
   "id": "6e4b2a52",
   "metadata": {},
   "outputs": [],
   "source": [
    "# Creating a file\n",
    "# To create a file mention the name of the file and 'w' mode\n",
    "outfile = open('demo.txt', 'w')"
   ]
  },
  {
   "cell_type": "code",
   "execution_count": 2,
   "id": "ffa35e31",
   "metadata": {},
   "outputs": [],
   "source": [
    "outfile.write('Good morning everyone')\n",
    "outfile.close()"
   ]
  },
  {
   "cell_type": "code",
   "execution_count": 3,
   "id": "30dd263d",
   "metadata": {},
   "outputs": [],
   "source": [
    "outfile = open('Files/demo2.txt', 'w')\n",
    "outfile.write('Hello everyone')\n",
    "outfile.close()"
   ]
  },
  {
   "cell_type": "code",
   "execution_count": 4,
   "id": "c14bb1e3",
   "metadata": {},
   "outputs": [],
   "source": [
    "# When an already existing file is opened in write mode then previous content is deleted\n",
    "outfile = open('Files/demo2.txt', 'w')\n",
    "outfile.write('We are learning file handling\\n')\n",
    "outfile.write('w mode can create a new file\\n')\n",
    "outfile.write('w mode deleted the previoud content when an already existing file is opened\\n')\n",
    "outfile.write('hamba hamba ramba ramba kamba kamba\\n')\n",
    "outfile.close()"
   ]
  },
  {
   "cell_type": "code",
   "execution_count": 5,
   "id": "7d15f2ed",
   "metadata": {},
   "outputs": [],
   "source": [
    "# Adding new content keeping the already existing content\n",
    "outfile = open('Files/demo2.txt', 'a')\n",
    "outfile.write('\\n\\nWe have opened the file in append mode\\n')\n",
    "outfile.write('Append mode allows to write to a file keeping the already existing content\\n')\n",
    "outfile.close()"
   ]
  },
  {
   "cell_type": "code",
   "execution_count": 7,
   "id": "f23d165e",
   "metadata": {},
   "outputs": [
    {
     "name": "stdout",
     "output_type": "stream",
     "text": [
      "We are learning file handling\n",
      "w mode can create a new file\n",
      "w mode deleted the previoud content when an already existing file is opened\n",
      "hamba hamba ramba ramba kamba kamba\n",
      "\n",
      "\n",
      "We have opened the file in append mode\n",
      "Append mode allows to write to a file keeping the already existing content\n",
      "\n"
     ]
    }
   ],
   "source": [
    "# Reading from a file\n",
    "infile = open('Files/demo2.txt', 'r')\n",
    "text = infile.read()\n",
    "print(text)\n",
    "infile.close()"
   ]
  },
  {
   "cell_type": "code",
   "execution_count": 9,
   "id": "9e4ad643",
   "metadata": {},
   "outputs": [
    {
     "name": "stdout",
     "output_type": "stream",
     "text": [
      "We are learning file handling\n",
      "\n"
     ]
    }
   ],
   "source": [
    "# Reading one line at a time\n",
    "infile = open('Files/demo2.txt')\n",
    "print(infile.readline())"
   ]
  },
  {
   "cell_type": "code",
   "execution_count": 16,
   "id": "766be104",
   "metadata": {},
   "outputs": [
    {
     "name": "stdout",
     "output_type": "stream",
     "text": [
      "Append mode allows to write to a file keeping the already existing content\n",
      "\n"
     ]
    }
   ],
   "source": [
    "print(infile.readline())"
   ]
  },
  {
   "cell_type": "code",
   "execution_count": 20,
   "id": "81204603",
   "metadata": {},
   "outputs": [
    {
     "name": "stdout",
     "output_type": "stream",
     "text": [
      "\n"
     ]
    }
   ],
   "source": [
    "print(infile.readline())\n",
    "infile.close()"
   ]
  },
  {
   "cell_type": "code",
   "execution_count": 22,
   "id": "1f471b41",
   "metadata": {},
   "outputs": [
    {
     "name": "stdout",
     "output_type": "stream",
     "text": [
      "We are learning file handling\n",
      "w mode can create a new file\n",
      "w mode deleted the previoud content when an already existing file is opened\n",
      "hamba hamba ramba ramba kamba kamba\n",
      "\n",
      "\n",
      "We have opened the file in append mode\n",
      "Append mode allows to write to a file keeping the already existing content\n"
     ]
    }
   ],
   "source": [
    "infile = open('Files/demo2.txt')\n",
    "for line in infile:\n",
    "    print(line, end = '')\n",
    "infile.close()"
   ]
  },
  {
   "cell_type": "markdown",
   "id": "49aa879e",
   "metadata": {},
   "source": [
    "# ====================="
   ]
  },
  {
   "cell_type": "code",
   "execution_count": 27,
   "id": "fb15cba0",
   "metadata": {},
   "outputs": [
    {
     "name": "stdout",
     "output_type": "stream",
     "text": [
      "9\n",
      "7\n",
      "4\n",
      "0\n"
     ]
    }
   ],
   "source": [
    "i = 10\n",
    "temp = 0\n",
    "while i > 1:\n",
    "    temp = temp + 1\n",
    "    i = i - temp\n",
    "    print(i)"
   ]
  },
  {
   "cell_type": "code",
   "execution_count": 29,
   "id": "aa311978",
   "metadata": {},
   "outputs": [
    {
     "name": "stdout",
     "output_type": "stream",
     "text": [
      "1  \n",
      "1  2  \n",
      "1  2  3  \n"
     ]
    }
   ],
   "source": [
    "for i in range(1,4):\n",
    "    for j in range(1,i+1):\n",
    "        print(j, end = '  ')\n",
    "    print()"
   ]
  },
  {
   "cell_type": "code",
   "execution_count": 30,
   "id": "7f4636c3",
   "metadata": {},
   "outputs": [
    {
     "name": "stdout",
     "output_type": "stream",
     "text": [
      "1 2 3 4 \n",
      "1 2 3 \n",
      "1 2 \n",
      "1 \n",
      "\n"
     ]
    }
   ],
   "source": [
    "for i in range(5):\n",
    "    for j in range(1,5-i):\n",
    "        print(j, end = ' ')\n",
    "    print()"
   ]
  },
  {
   "cell_type": "code",
   "execution_count": 31,
   "id": "d06a89d7",
   "metadata": {},
   "outputs": [
    {
     "name": "stdout",
     "output_type": "stream",
     "text": [
      "5 4 3 2 1 \n",
      "5 4 3 2 \n",
      "5 4 3 \n",
      "5 4 \n",
      "5 \n"
     ]
    }
   ],
   "source": [
    "for i in range(5):\n",
    "    for j in range(5,i,-1):\n",
    "        print(j, end = ' ')\n",
    "    print()"
   ]
  },
  {
   "cell_type": "code",
   "execution_count": 32,
   "id": "5f464afa",
   "metadata": {},
   "outputs": [
    {
     "name": "stdout",
     "output_type": "stream",
     "text": [
      "5 4 3 2 1 \n",
      "4 3 2 1 \n",
      "3 2 1 \n",
      "2 1 \n",
      "1 \n"
     ]
    }
   ],
   "source": [
    "'''\n",
    "5 4 3 2 1\n",
    "4 3 2 1\n",
    "3 2 1\n",
    "2 1\n",
    "1\n",
    "'''\n",
    "for i in range(5):\n",
    "    for j in range(5-i,0,-1):\n",
    "        print(j, end = ' ')\n",
    "    print()"
   ]
  },
  {
   "cell_type": "code",
   "execution_count": null,
   "id": "133af399",
   "metadata": {},
   "outputs": [],
   "source": []
  }
 ],
 "metadata": {
  "kernelspec": {
   "display_name": "Python 3",
   "language": "python",
   "name": "python3"
  },
  "language_info": {
   "codemirror_mode": {
    "name": "ipython",
    "version": 3
   },
   "file_extension": ".py",
   "mimetype": "text/x-python",
   "name": "python",
   "nbconvert_exporter": "python",
   "pygments_lexer": "ipython3",
   "version": "3.8.5"
  }
 },
 "nbformat": 4,
 "nbformat_minor": 5
}
