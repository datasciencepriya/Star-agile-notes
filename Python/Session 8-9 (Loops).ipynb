{
 "cells": [
  {
   "cell_type": "markdown",
   "id": "aaef13aa",
   "metadata": {},
   "source": [
    "# Loops\n",
    "- **Initialisation** : Where to start\n",
    "- **Condition** : Where to stop\n",
    "- **Step size** : Steps to take (Increment/ Decrement)"
   ]
  },
  {
   "cell_type": "markdown",
   "id": "7537f43b",
   "metadata": {},
   "source": [
    "---\n",
    "# For Loop"
   ]
  },
  {
   "cell_type": "code",
   "execution_count": 1,
   "id": "b630a4bb",
   "metadata": {},
   "outputs": [
    {
     "name": "stdout",
     "output_type": "stream",
     "text": [
      "Hello\n"
     ]
    }
   ],
   "source": [
    "print('Hello')"
   ]
  },
  {
   "cell_type": "code",
   "execution_count": 3,
   "id": "4fed6aaa",
   "metadata": {},
   "outputs": [
    {
     "name": "stdout",
     "output_type": "stream",
     "text": [
      "Hello\n",
      "Hello\n",
      "Hello\n",
      "Hello\n",
      "Hello\n"
     ]
    }
   ],
   "source": [
    "for i in range(0,5,1):\n",
    "    print('Hello')"
   ]
  },
  {
   "cell_type": "code",
   "execution_count": 6,
   "id": "c3fb6afe",
   "metadata": {},
   "outputs": [
    {
     "name": "stdout",
     "output_type": "stream",
     "text": [
      "Hello\n",
      "Good morning\n",
      "We are learning for loop\n",
      "A loop is used for repeating a task\n",
      "Hello\n",
      "Good morning\n",
      "We are learning for loop\n",
      "A loop is used for repeating a task\n",
      "Hello\n",
      "Good morning\n",
      "We are learning for loop\n",
      "A loop is used for repeating a task\n",
      "\n",
      "Outside for loop\n"
     ]
    }
   ],
   "source": [
    "for i in range(0,3,1):\n",
    "    print('Hello')\n",
    "    print('Good morning')\n",
    "    print('We are learning for loop')\n",
    "    print('A loop is used for repeating a task')\n",
    "print('\\nOutside for loop')"
   ]
  },
  {
   "cell_type": "code",
   "execution_count": 9,
   "id": "d0dc58db",
   "metadata": {},
   "outputs": [
    {
     "name": "stdout",
     "output_type": "stream",
     "text": [
      "1   2   3   4   5   6   7   8   9   10   "
     ]
    }
   ],
   "source": [
    "# Step size\n",
    "for i in range(1,11,1):\n",
    "    print(i, end = '   ')"
   ]
  },
  {
   "cell_type": "code",
   "execution_count": 10,
   "id": "b3b29d89",
   "metadata": {},
   "outputs": [
    {
     "name": "stdout",
     "output_type": "stream",
     "text": [
      "1   3   5   7   9   "
     ]
    }
   ],
   "source": [
    "for i in range(1,11,2):\n",
    "    print(i, end = '   ')"
   ]
  },
  {
   "cell_type": "code",
   "execution_count": 11,
   "id": "54fc455f",
   "metadata": {},
   "outputs": [
    {
     "name": "stdout",
     "output_type": "stream",
     "text": [
      "0   2   4   6   8   10   "
     ]
    }
   ],
   "source": [
    "for i in range(0,11,2):\n",
    "    print(i, end = '   ')"
   ]
  },
  {
   "cell_type": "code",
   "execution_count": 13,
   "id": "dbd5d14e",
   "metadata": {},
   "outputs": [
    {
     "name": "stdout",
     "output_type": "stream",
     "text": [
      "Hello\n",
      "Hello\n",
      "Hello\n",
      "Hello\n",
      "Hello\n"
     ]
    }
   ],
   "source": [
    "for i in range(0,5):             # By default step size is 1\n",
    "    print('Hello')"
   ]
  },
  {
   "cell_type": "code",
   "execution_count": 14,
   "id": "976661ca",
   "metadata": {},
   "outputs": [
    {
     "name": "stdout",
     "output_type": "stream",
     "text": [
      "Hello\n",
      "Hello\n",
      "Hello\n",
      "Hello\n",
      "Hello\n"
     ]
    }
   ],
   "source": [
    "for i in range(5):              # By default initialization is 0\n",
    "    print('Hello')"
   ]
  },
  {
   "cell_type": "code",
   "execution_count": 15,
   "id": "99ab9a08",
   "metadata": {},
   "outputs": [
    {
     "name": "stdout",
     "output_type": "stream",
     "text": [
      "0   2   4   6   8   10   12   14   16   18   20   "
     ]
    }
   ],
   "source": [
    "# Print even numbers between 0 to 20 (in a single line)\n",
    "for i in range(0,21,2):\n",
    "    print(i, end = '   ')"
   ]
  },
  {
   "cell_type": "code",
   "execution_count": 17,
   "id": "5d409437",
   "metadata": {},
   "outputs": [
    {
     "name": "stdout",
     "output_type": "stream",
     "text": [
      "1  3  5  7  9  11  13  15  17  19  "
     ]
    }
   ],
   "source": [
    "# Print odd numbers between 0 to 20 (in a single line)\n",
    "for i in range(1,21,2):\n",
    "    print(i, end = '  ')"
   ]
  },
  {
   "cell_type": "code",
   "execution_count": 18,
   "id": "79c60252",
   "metadata": {},
   "outputs": [
    {
     "name": "stdout",
     "output_type": "stream",
     "text": [
      "1 is odd\n",
      "2 is even\n",
      "3 is odd\n",
      "4 is even\n",
      "5 is odd\n",
      "6 is even\n",
      "7 is odd\n",
      "8 is even\n",
      "9 is odd\n",
      "10 is even\n"
     ]
    }
   ],
   "source": [
    "# Check even or odd numbers in range 1 to 10\n",
    "for num in range(1,11):\n",
    "    if num % 2 == 0:\n",
    "        print(num, 'is even')\n",
    "    else:\n",
    "        print(num, 'is odd')    "
   ]
  },
  {
   "cell_type": "code",
   "execution_count": 19,
   "id": "b632b1ea",
   "metadata": {},
   "outputs": [
    {
     "name": "stdout",
     "output_type": "stream",
     "text": [
      "10\n",
      "20\n",
      "30\n",
      "40\n",
      "50\n"
     ]
    }
   ],
   "source": [
    "# Given a list of numbers print the numbers one by one\n",
    "nums = [10,20,30,40,50]\n",
    "for i in range(5):\n",
    "    print(nums[i])"
   ]
  },
  {
   "cell_type": "code",
   "execution_count": 20,
   "id": "2f39a705",
   "metadata": {},
   "outputs": [
    {
     "name": "stdout",
     "output_type": "stream",
     "text": [
      "11 is odd\n",
      "20 is even\n",
      "22 is even\n",
      "33 is odd\n",
      "41 is odd\n",
      "45 is odd\n",
      "66 is even\n"
     ]
    }
   ],
   "source": [
    "# Given a list of numbers print even for even numbers, odd for odd numbers\n",
    "nums = [11,20,22,33,41,45,66]\n",
    "for i in range(len(nums)):\n",
    "    if nums[i] % 2 == 0:\n",
    "        print(nums[i], 'is even')\n",
    "    else:\n",
    "        print(nums[i], 'is odd')"
   ]
  },
  {
   "cell_type": "code",
   "execution_count": 21,
   "id": "31caa343",
   "metadata": {},
   "outputs": [
    {
     "name": "stdout",
     "output_type": "stream",
     "text": [
      "11\n",
      "20\n",
      "22\n",
      "33\n",
      "41\n",
      "45\n",
      "66\n"
     ]
    }
   ],
   "source": [
    "# Iterating over elements\n",
    "nums = [11,20,22,33,41,45,66]                           # Lists are iterable\n",
    "for i in nums:\n",
    "    print(i)"
   ]
  },
  {
   "cell_type": "code",
   "execution_count": 28,
   "id": "e7e19a63",
   "metadata": {},
   "outputs": [
    {
     "name": "stdout",
     "output_type": "stream",
     "text": [
      "10  20  30  40  50  \n",
      "\n",
      "H   e   l   l   o       E   v   e   r   y   o   n   e   \n",
      "\n",
      "fname   lname   age   "
     ]
    }
   ],
   "source": [
    "# Tuples are iterable\n",
    "tup = (10,20,30,40,50)\n",
    "for i in tup:\n",
    "    print(i, end = '  ')\n",
    "    \n",
    "print('\\n')\n",
    "# Strings are iterable\n",
    "s = 'Hello Everyone'\n",
    "for i in s:\n",
    "    print(i, end = '   ')\n",
    "\n",
    "print('\\n')\n",
    "# Dictinaries are iterable over keys\n",
    "d = {'fname' : 'Utkarsh', 'lname' : 'Sharma', 'age' : 80}\n",
    "for i in d:\n",
    "    print(i, end = '   ')"
   ]
  },
  {
   "cell_type": "code",
   "execution_count": 29,
   "id": "b37a5bf7",
   "metadata": {},
   "outputs": [
    {
     "name": "stdout",
     "output_type": "stream",
     "text": [
      "11 is odd\n",
      "20 is even\n",
      "22 is even\n",
      "33 is odd\n",
      "41 is odd\n",
      "45 is odd\n",
      "66 is even\n"
     ]
    }
   ],
   "source": [
    "# Given a list of numbers print even for even numbers, odd for odd numbers\n",
    "numbers = [11,20,22,33,41,45,66]\n",
    "for num in numbers:\n",
    "    if num % 2 == 0:\n",
    "        print(num, 'is even')\n",
    "    else:\n",
    "        print(num, 'is odd')"
   ]
  },
  {
   "cell_type": "code",
   "execution_count": 31,
   "id": "db29100e",
   "metadata": {},
   "outputs": [
    {
     "name": "stdout",
     "output_type": "stream",
     "text": [
      "The largest number is :  100\n"
     ]
    }
   ],
   "source": [
    "# Given a list of numbers find out the largest number\n",
    "nums = [10,20,22,90,33,41,45,66]\n",
    "largest = nums[0]\n",
    "for i in nums:\n",
    "    if i > largest:\n",
    "        largest = i\n",
    "print('The largest number is : ', largest)"
   ]
  },
  {
   "cell_type": "code",
   "execution_count": 38,
   "id": "67028adb",
   "metadata": {},
   "outputs": [
    {
     "name": "stdout",
     "output_type": "stream",
     "text": [
      "Enter the number : 90\n",
      "The number is present in the list\n"
     ]
    }
   ],
   "source": [
    "# Given a list take number as input from the user and print present if that number is present in the list otherwise not present\n",
    "nums = [10,20,22,90,33,41,45,66]\n",
    "x = int(input('Enter the number : '))\n",
    "found = 0\n",
    "for i in nums:\n",
    "    if i == x:\n",
    "        found = 1\n",
    "    \n",
    "if found == 1:\n",
    "    print('The number is present in the list')\n",
    "else:\n",
    "    print('The number is not present in the list')"
   ]
  },
  {
   "cell_type": "markdown",
   "id": "b67823b5",
   "metadata": {},
   "source": [
    "## break\n",
    "    - Used to terminate the loop"
   ]
  },
  {
   "cell_type": "code",
   "execution_count": 10,
   "id": "0161fd44",
   "metadata": {},
   "outputs": [
    {
     "name": "stdout",
     "output_type": "stream",
     "text": [
      "Enter the number : 90\n",
      "The number is present in the list\n"
     ]
    }
   ],
   "source": [
    "# Given a list take number as input from the user and print present if that number is present in the list otherwise not present\n",
    "nums = [10,20,22,90,33,41,45,66,61,62, 21, 23 ,34, 48, 49,40, 51, 52, 53, 54,65,78,90,56,78,54,32,12,67,89, 101, 102, 103, 104, 105]\n",
    "x = int(input('Enter the number : '))\n",
    "found = 0\n",
    "for i in nums:\n",
    "    if i == x:\n",
    "        found = 1\n",
    "        break                 # terminate the loop\n",
    "    \n",
    "if found == 1:\n",
    "    print('The number is present in the list')\n",
    "else:\n",
    "    print('The number is not present in the list')"
   ]
  },
  {
   "cell_type": "markdown",
   "id": "3562af95",
   "metadata": {},
   "source": [
    "## for else loop\n",
    "- The else part of a for else loop only executes if the loop executes completely and terminates in the end\n",
    "- The else part is not executed if break is executed"
   ]
  },
  {
   "cell_type": "code",
   "execution_count": 13,
   "id": "399da993",
   "metadata": {},
   "outputs": [
    {
     "name": "stdout",
     "output_type": "stream",
     "text": [
      "0  1  2  3  4  5  6  7  8  9  \n",
      "Else part is executing\n"
     ]
    }
   ],
   "source": [
    "for i in range(10):\n",
    "    print(i, end = '  ')\n",
    "else:\n",
    "    print('\\nElse part is executing')"
   ]
  },
  {
   "cell_type": "code",
   "execution_count": 14,
   "id": "b0d163c1",
   "metadata": {},
   "outputs": [
    {
     "name": "stdout",
     "output_type": "stream",
     "text": [
      "0  1  2  3  4  "
     ]
    }
   ],
   "source": [
    "for i in range(10):\n",
    "    if i == 5:\n",
    "        break\n",
    "    print(i, end = '  ')\n",
    "else:\n",
    "    print('\\nElse part is executing')"
   ]
  },
  {
   "cell_type": "code",
   "execution_count": 16,
   "id": "f697c824",
   "metadata": {},
   "outputs": [
    {
     "name": "stdout",
     "output_type": "stream",
     "text": [
      "Enter the number : 40\n",
      "The number is not present\n"
     ]
    }
   ],
   "source": [
    "# Given a list take number as input from the user and print present if that number is present in the list otherwise not present\n",
    "nums = [10,20,22,90,33,41,45,66]\n",
    "x = int(input('Enter the number : '))\n",
    "\n",
    "for i in nums:\n",
    "    if i == x:\n",
    "        print('The number is present')\n",
    "        break\n",
    "else:\n",
    "    print('The number is not present')"
   ]
  },
  {
   "cell_type": "code",
   "execution_count": 21,
   "id": "87a1d4ea",
   "metadata": {},
   "outputs": [
    {
     "name": "stdout",
     "output_type": "stream",
     "text": [
      "Enter the number : 22\n"
     ]
    },
    {
     "data": {
      "text/plain": [
       "True"
      ]
     },
     "execution_count": 21,
     "metadata": {},
     "output_type": "execute_result"
    }
   ],
   "source": [
    "# Given a list take number as input from the user and print present if that number is present in the list otherwise not present\n",
    "nums = [10,20,22,90,33,41,45,66]\n",
    "x = int(input('Enter the number : '))\n",
    "\n",
    "if x in nums:\n",
    "    print('The number is present')\n",
    "else:\n",
    "    print('The number is not present')"
   ]
  },
  {
   "cell_type": "code",
   "execution_count": 20,
   "id": "152922cb",
   "metadata": {},
   "outputs": [
    {
     "name": "stdout",
     "output_type": "stream",
     "text": [
      "Enter the word to search : evening\n",
      "The word is not present in the list\n"
     ]
    }
   ],
   "source": [
    "# Given a string take a word as input and check whether the word is present in the string or not\n",
    "s = 'Good morning everyone welcome to the session'\n",
    "word = input('Enter the word to search : ')\n",
    "\n",
    "for i in s.split():\n",
    "    if i == word:\n",
    "        print('The word is present in the string')\n",
    "        break\n",
    "else:\n",
    "    print('The word is not present in the list')"
   ]
  },
  {
   "cell_type": "code",
   "execution_count": 30,
   "id": "0eaa1c63",
   "metadata": {},
   "outputs": [
    {
     "name": "stdout",
     "output_type": "stream",
     "text": [
      "Enter the input : 12\n",
      "The pair is :  4 8\n"
     ]
    }
   ],
   "source": [
    "# Given a list of numbers take a number as input,\n",
    "# if the sum of any consecutive pair is equal to the number print the pair otherwise print not found\n",
    "\n",
    "nums = [2,3,1,5,6,5,4,7,4,8,2]\n",
    "x = int(input('Enter the input : '))\n",
    "for i in range(len(nums)-1):\n",
    "    if nums[i] + nums[i+1] == x:\n",
    "        print('The pair is : ', nums[i], nums[i+1])\n",
    "        break\n",
    "else:\n",
    "    print('No pair of consecutive numbers having sum equal to {} available'.format(x))"
   ]
  },
  {
   "cell_type": "code",
   "execution_count": 43,
   "id": "feaae0d3",
   "metadata": {},
   "outputs": [
    {
     "name": "stdout",
     "output_type": "stream",
     "text": [
      "Enter the number : -11\n",
      "The number is not prime\n"
     ]
    }
   ],
   "source": [
    "# Take a number as input and check whether it is prime or not  (solution 1)\n",
    "num = int(input('Enter the number : '))\n",
    "if num < 2:\n",
    "    print('The number is not prime')\n",
    "else:\n",
    "    for i in range(2,num):\n",
    "        if num % i == 0:\n",
    "            print('The number is not prime')\n",
    "            break\n",
    "    else:\n",
    "        print('The number is prime')"
   ]
  },
  {
   "cell_type": "code",
   "execution_count": 49,
   "id": "8c5a5307",
   "metadata": {},
   "outputs": [
    {
     "name": "stdout",
     "output_type": "stream",
     "text": [
      "Enter the number : 17\n",
      "The number is prime\n"
     ]
    }
   ],
   "source": [
    "# Take a number as input and check whether it is prime or not  (solution 2)\n",
    "num = int(input('Enter the number : '))\n",
    "if num < 2:\n",
    "    print('The number is not prime')\n",
    "else:\n",
    "    for i in range(2,num//2 + 1):\n",
    "        if num % i == 0:\n",
    "            print('The number is not prime')\n",
    "            break\n",
    "    else:\n",
    "        print('The number is prime')"
   ]
  },
  {
   "cell_type": "code",
   "execution_count": 53,
   "id": "c8ed88f7",
   "metadata": {},
   "outputs": [
    {
     "name": "stdout",
     "output_type": "stream",
     "text": [
      "Enter the number : 5\n",
      "The number is prime\n"
     ]
    }
   ],
   "source": [
    "# Take a number as input and check whether it is prime or not  (solution 3)\n",
    "num = int(input('Enter the number : '))\n",
    "if num < 2:\n",
    "    print('The number is not prime')\n",
    "else:\n",
    "    for i in range(2,int(num**0.5)+1):\n",
    "        if num % i == 0:\n",
    "            print('The number is not prime')\n",
    "            break\n",
    "    else:\n",
    "        print('The number is prime')"
   ]
  },
  {
   "cell_type": "markdown",
   "id": "d35138b0",
   "metadata": {},
   "source": [
    "## continue\n",
    "- Used to take control to next iteration"
   ]
  },
  {
   "cell_type": "code",
   "execution_count": 59,
   "id": "1c86c299",
   "metadata": {},
   "outputs": [
    {
     "name": "stdout",
     "output_type": "stream",
     "text": [
      "0 1 2 4 "
     ]
    }
   ],
   "source": [
    "for i in range(5):\n",
    "    if i == 3:\n",
    "        continue\n",
    "    print(i, end = ' ')"
   ]
  },
  {
   "cell_type": "code",
   "execution_count": 61,
   "id": "502321bb",
   "metadata": {},
   "outputs": [
    {
     "name": "stdout",
     "output_type": "stream",
     "text": [
      "11  33  55  77  99  "
     ]
    }
   ],
   "source": [
    "nums = [11,22,33,44,66,55,77,88,99]\n",
    "for i in nums:                      \n",
    "    if i % 2 == 0:\n",
    "        continue                     # Will skip even numbers\n",
    "    print(i, end = '  ')"
   ]
  },
  {
   "cell_type": "markdown",
   "id": "6014e0e8",
   "metadata": {},
   "source": [
    "## pass"
   ]
  },
  {
   "cell_type": "code",
   "execution_count": 63,
   "id": "f0a62373",
   "metadata": {},
   "outputs": [
    {
     "name": "stdout",
     "output_type": "stream",
     "text": [
      "hello\n"
     ]
    }
   ],
   "source": [
    "for i in range(10):\n",
    "    pass\n",
    "print('hello')"
   ]
  },
  {
   "cell_type": "markdown",
   "id": "d06d585e",
   "metadata": {},
   "source": [
    "---\n",
    "---\n",
    "# ==========================================================\n",
    "# while loop"
   ]
  },
  {
   "cell_type": "code",
   "execution_count": 64,
   "id": "e264e1cc",
   "metadata": {},
   "outputs": [
    {
     "name": "stdout",
     "output_type": "stream",
     "text": [
      "0   1   2   3   4   "
     ]
    }
   ],
   "source": [
    "i = 0\n",
    "while i < 5:                              # for i in range(0,5,1)\n",
    "    print(i, end = '   ')\n",
    "    i += 1"
   ]
  },
  {
   "cell_type": "code",
   "execution_count": 65,
   "id": "1af438e7",
   "metadata": {},
   "outputs": [
    {
     "name": "stdout",
     "output_type": "stream",
     "text": [
      "1 is odd\n",
      "2 is even\n",
      "3 is odd\n",
      "4 is even\n",
      "5 is odd\n",
      "6 is even\n",
      "7 is odd\n",
      "8 is even\n",
      "9 is odd\n",
      "10 is even\n"
     ]
    }
   ],
   "source": [
    "i = 1\n",
    "while i < 11:\n",
    "    if i % 2 == 0:\n",
    "        print(i, 'is even')\n",
    "    else:\n",
    "        print(i, 'is odd')\n",
    "    i += 1"
   ]
  },
  {
   "cell_type": "code",
   "execution_count": 66,
   "id": "7516dd18",
   "metadata": {},
   "outputs": [
    {
     "name": "stdout",
     "output_type": "stream",
     "text": [
      "11 is odd\n",
      "20 is even\n",
      "22 is even\n",
      "33 is odd\n",
      "41 is odd\n",
      "45 is odd\n",
      "66 is even\n"
     ]
    }
   ],
   "source": [
    "# Given a list of numbers print even for even numbers, odd for odd numbers\n",
    "nums = [11,20,22,33,41,45,66]\n",
    "i = 0\n",
    "while i < len(nums):\n",
    "    if nums[i] % 2 == 0:\n",
    "        print(nums[i], 'is even')\n",
    "    else:\n",
    "        print(nums[i],'is odd')\n",
    "    i += 1"
   ]
  },
  {
   "cell_type": "code",
   "execution_count": 71,
   "id": "66cba47e",
   "metadata": {},
   "outputs": [
    {
     "name": "stdout",
     "output_type": "stream",
     "text": [
      "Enter the number : 45\n",
      "The number is present\n"
     ]
    }
   ],
   "source": [
    "# Given a list take number as input from the user and print present if that number is present in the list otherwise not present\n",
    "nums = [10,20,22,90,33,41,45,66]\n",
    "x = int(input('Enter the number : '))\n",
    "\n",
    "i = 0\n",
    "while i < len(nums):\n",
    "    if nums[i] == x:\n",
    "        print('The number is present')\n",
    "        break\n",
    "    i += 1\n",
    "else:\n",
    "    print('The number is not present')"
   ]
  },
  {
   "cell_type": "markdown",
   "id": "cb159a8f",
   "metadata": {},
   "source": [
    "# ========================================================="
   ]
  },
  {
   "cell_type": "code",
   "execution_count": 74,
   "id": "0e5f5f24",
   "metadata": {},
   "outputs": [
    {
     "name": "stdout",
     "output_type": "stream",
     "text": [
      "Enter the number : 4\n",
      "The number of times 4 appears in the list is 2\n"
     ]
    }
   ],
   "source": [
    "# Given a list of numbers take a number as input and count how many times it appears in the list\n",
    "nums = [1,2,3,4,5,6,7,8,9,4,5,6,7,8,7,5,5,3,2,2,3,5,6,7,8,9]\n",
    "x = int(input('Enter the number : '))\n",
    "\n",
    "count = 0\n",
    "for i in nums:\n",
    "    if i == x:\n",
    "        count += 1\n",
    "\n",
    "print('The number of times {} appears in the list is {}'.format(x,count))"
   ]
  },
  {
   "cell_type": "code",
   "execution_count": null,
   "id": "4211d5bf",
   "metadata": {},
   "outputs": [],
   "source": []
  }
 ],
 "metadata": {
  "kernelspec": {
   "display_name": "Python 3",
   "language": "python",
   "name": "python3"
  },
  "language_info": {
   "codemirror_mode": {
    "name": "ipython",
    "version": 3
   },
   "file_extension": ".py",
   "mimetype": "text/x-python",
   "name": "python",
   "nbconvert_exporter": "python",
   "pygments_lexer": "ipython3",
   "version": "3.8.5"
  }
 },
 "nbformat": 4,
 "nbformat_minor": 5
}
