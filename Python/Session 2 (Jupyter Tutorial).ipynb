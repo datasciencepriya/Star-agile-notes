{
 "cells": [
  {
   "cell_type": "markdown",
   "id": "60013b93",
   "metadata": {},
   "source": [
    "# Jupyter Tutorial\n",
    "- Jupyter cell\n",
    "- How to execute a cell : **shift+enter**\n",
    "- How to add a new cell\n",
    "- How to delete a cell : **dd**\n",
    "- How to undo a delete operation : **z**\n",
    "- How to insert a cell above : **a**\n",
    "- How to insert a cell below : **b**\n",
    "- How to shift a cell up and down\n",
    "- How to create and edit a markdown cell\n",
    "- How to merge cells"
   ]
  },
  {
   "cell_type": "code",
   "execution_count": 1,
   "id": "215eda8c",
   "metadata": {},
   "outputs": [
    {
     "name": "stdout",
     "output_type": "stream",
     "text": [
      "hello\n"
     ]
    }
   ],
   "source": [
    "print('hello')"
   ]
  },
  {
   "cell_type": "code",
   "execution_count": 1,
   "id": "a677fc8d",
   "metadata": {
    "scrolled": true
   },
   "outputs": [
    {
     "name": "stdout",
     "output_type": "stream",
     "text": [
      "Good Afternoon\n"
     ]
    }
   ],
   "source": [
    "print('Good Afternoon')"
   ]
  },
  {
   "cell_type": "code",
   "execution_count": 7,
   "id": "a75cbe1f",
   "metadata": {},
   "outputs": [
    {
     "name": "stdout",
     "output_type": "stream",
     "text": [
      "Welcome to the Session\n"
     ]
    }
   ],
   "source": [
    "print('Welcome to the Session')      # shift + enter to execute"
   ]
  },
  {
   "cell_type": "code",
   "execution_count": 8,
   "id": "a277a2ce",
   "metadata": {},
   "outputs": [
    {
     "name": "stdout",
     "output_type": "stream",
     "text": [
      "Hello\n",
      "Good afternoon\n",
      "Welcome to the session\n"
     ]
    }
   ],
   "source": [
    "print('Hello')\n",
    "print('Good afternoon')\n",
    "print('Welcome to the session')"
   ]
  },
  {
   "cell_type": "markdown",
   "id": "e90bce7a",
   "metadata": {},
   "source": [
    "---\n",
    "# Markdown cells\n",
    "- This is a markdown cell, we are learning how to create a markdown cell\n",
    "- To create a heading use #\n",
    "    - Single # creates biggest heading\n",
    "    - The numebr of # can be increased upto six to create more and more smaller headings\n",
    "- Markdown cells are used to write notes not code\n",
    "- **To make a statement bold use ** at the start and end**\n",
    "- To craete a list use -\n",
    "- _To italicize some text use __"
   ]
  },
  {
   "cell_type": "markdown",
   "id": "8331caa0",
   "metadata": {},
   "source": [
    "_text_"
   ]
  }
 ],
 "metadata": {
  "kernelspec": {
   "display_name": "Python 3",
   "language": "python",
   "name": "python3"
  },
  "language_info": {
   "codemirror_mode": {
    "name": "ipython",
    "version": 3
   },
   "file_extension": ".py",
   "mimetype": "text/x-python",
   "name": "python",
   "nbconvert_exporter": "python",
   "pygments_lexer": "ipython3",
   "version": "3.8.5"
  }
 },
 "nbformat": 4,
 "nbformat_minor": 5
}
