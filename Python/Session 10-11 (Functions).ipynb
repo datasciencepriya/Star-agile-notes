{
 "cells": [
  {
   "cell_type": "markdown",
   "id": "7f9b2ba6",
   "metadata": {},
   "source": [
    "## What is a function?\n",
    "- Function is a group of statements that performs a specific task.\n",
    "- A function is a collection of statements grouped together that performs an operation. When you call the *random.randint(a, b)* function, for example, the system actually executes the statements in the function and returns the result.\n",
    "\n",
    "## Advantages of Functions:\n",
    "\n",
    "- Makes your code more organized and manageable.\n",
    "- Ensures resuability, avoids code redundency."
   ]
  },
  {
   "cell_type": "code",
   "execution_count": 3,
   "id": "5895b0ce",
   "metadata": {},
   "outputs": [
    {
     "name": "stdout",
     "output_type": "stream",
     "text": [
      "Enter the marks of three students : 80 90 95\n",
      "The largest for first group is :  95\n",
      "Enter the marks of three students : 90 85 92\n",
      "The largest for second group is :  92\n",
      "Enter the marks of three students : 85 80 75\n",
      "The largest for third group is :  85\n"
     ]
    }
   ],
   "source": [
    "# Example to understand how functions ensure reusability\n",
    "# Take three numbers as input and print the largest number(repeat the task for three different groups)\n",
    "num1,num2,num3 = list(map(int,input('Enter the marks of three students : ').split()))\n",
    "\n",
    "if num1 > num2 and num1 > num3:\n",
    "    largest = num1\n",
    "elif num2 > num3:\n",
    "    largest = num2\n",
    "else:\n",
    "    largest = num3\n",
    "    \n",
    "print('The largest for first group is : ', largest)\n",
    "\n",
    "# Second group\n",
    "num1,num2,num3 = list(map(int,input('Enter the marks of three students : ').split()))\n",
    "\n",
    "if num1 > num2 and num1 > num3:\n",
    "    largest = num1\n",
    "elif num2 > num3:\n",
    "    largest = num2\n",
    "else:\n",
    "    largest = num3\n",
    "    \n",
    "print('The largest for second group is : ', largest)\n",
    "\n",
    "#Third Group\n",
    "num1,num2,num3 = list(map(int,input('Enter the marks of three students : ').split()))\n",
    "\n",
    "if num1 > num2 and num1 > num3:\n",
    "    largest = num1\n",
    "elif num2 > num3:\n",
    "    largest = num2\n",
    "else:\n",
    "    largest = num3\n",
    "    \n",
    "print('The largest for third group is : ', largest)"
   ]
  },
  {
   "cell_type": "code",
   "execution_count": 4,
   "id": "4632a219",
   "metadata": {},
   "outputs": [],
   "source": [
    "# Creating a function\n",
    "def largest3(num1, num2, num3):\n",
    "    if num1 > num2 and num1 > num3:\n",
    "        largest = num1\n",
    "    elif num2 > num3:\n",
    "        largest = num2\n",
    "    else:\n",
    "        largest = num3\n",
    "    return largest"
   ]
  },
  {
   "cell_type": "code",
   "execution_count": 5,
   "id": "80749eca",
   "metadata": {},
   "outputs": [
    {
     "name": "stdout",
     "output_type": "stream",
     "text": [
      "Enter the marks of three students : 90 90 95\n",
      "The largest for first group is :  95\n",
      "Enter the marks of three students : 80 85 90\n",
      "The largest for second group is :  90\n",
      "Enter the marks of three students : 85 81 80\n",
      "The largest for third group is :  85\n"
     ]
    }
   ],
   "source": [
    "num1,num2,num3 = list(map(int,input('Enter the marks of three students : ').split()))\n",
    "largest = largest3(num1, num2, num3)\n",
    "print('The largest for first group is : ', largest)\n",
    "\n",
    "num1,num2,num3 = list(map(int,input('Enter the marks of three students : ').split()))\n",
    "largest = largest3(num1, num2, num3)\n",
    "print('The largest for second group is : ', largest)\n",
    "\n",
    "num1,num2,num3 = list(map(int,input('Enter the marks of three students : ').split()))\n",
    "largest = largest3(num1, num2, num3)\n",
    "print('The largest for third group is : ', largest)"
   ]
  },
  {
   "cell_type": "markdown",
   "id": "70126d1c",
   "metadata": {},
   "source": [
    "# Functions\n",
    "- Inbuilt Functions and User Defined Functions\n",
    "- How to create a function\n",
    "- Return\n",
    "- Parameters and Arguments\n",
    "- Default Parameters\n",
    "- Positional and Keyword arguments\n",
    "- Args and Kwargs\n",
    "\n",
    "-----\n",
    "- map\n",
    "- filter\n",
    "- zip\n",
    "- lambda expressions"
   ]
  },
  {
   "cell_type": "code",
   "execution_count": 6,
   "id": "4df72a5b",
   "metadata": {},
   "outputs": [],
   "source": [
    "'''\n",
    "def function_name(param1, param2.....):\n",
    "    statement1\n",
    "    statement2\n",
    "    ..........\n",
    "    return result\n",
    "'''\n",
    "# Function to add two numbers\n",
    "def add2(num1, num2):\n",
    "    result = num1 + num2\n",
    "    return result                   # Returns the result back"
   ]
  },
  {
   "cell_type": "code",
   "execution_count": 8,
   "id": "9a3c9e7e",
   "metadata": {},
   "outputs": [
    {
     "name": "stdout",
     "output_type": "stream",
     "text": [
      "11\n"
     ]
    }
   ],
   "source": [
    "# Calling a function\n",
    "result = add2(5,6)\n",
    "print(result)"
   ]
  },
  {
   "cell_type": "code",
   "execution_count": 9,
   "id": "8c7b9cc9",
   "metadata": {},
   "outputs": [
    {
     "data": {
      "text/plain": [
       "30"
      ]
     },
     "execution_count": 9,
     "metadata": {},
     "output_type": "execute_result"
    }
   ],
   "source": [
    "add2(10,20)"
   ]
  },
  {
   "cell_type": "code",
   "execution_count": 10,
   "id": "a1fef98e",
   "metadata": {},
   "outputs": [],
   "source": [
    "def add2(num1, num2):\n",
    "    return num1 + num2"
   ]
  },
  {
   "cell_type": "code",
   "execution_count": 11,
   "id": "7f7dd41f",
   "metadata": {},
   "outputs": [
    {
     "data": {
      "text/plain": [
       "25"
      ]
     },
     "execution_count": 11,
     "metadata": {},
     "output_type": "execute_result"
    }
   ],
   "source": [
    "add2(10,15)"
   ]
  },
  {
   "cell_type": "code",
   "execution_count": 12,
   "id": "87d0f214",
   "metadata": {},
   "outputs": [],
   "source": [
    "def add2(num1, num2):\n",
    "    print('The sum is : ', num1 + num2)          # Print the sum"
   ]
  },
  {
   "cell_type": "code",
   "execution_count": 13,
   "id": "f17210d4",
   "metadata": {},
   "outputs": [
    {
     "name": "stdout",
     "output_type": "stream",
     "text": [
      "The sum is :  40\n"
     ]
    }
   ],
   "source": [
    "add2(10,30)"
   ]
  },
  {
   "cell_type": "code",
   "execution_count": 15,
   "id": "72730968",
   "metadata": {},
   "outputs": [
    {
     "name": "stdout",
     "output_type": "stream",
     "text": [
      "The sum is :  50\n"
     ]
    }
   ],
   "source": [
    "result = add2(20,30)      # The function is returning nothing (None)"
   ]
  },
  {
   "cell_type": "code",
   "execution_count": 18,
   "id": "d385e90a",
   "metadata": {},
   "outputs": [],
   "source": [
    "result"
   ]
  },
  {
   "cell_type": "code",
   "execution_count": 17,
   "id": "1073ceda",
   "metadata": {},
   "outputs": [
    {
     "data": {
      "text/plain": [
       "NoneType"
      ]
     },
     "execution_count": 17,
     "metadata": {},
     "output_type": "execute_result"
    }
   ],
   "source": [
    "type(result)                   # result has nothing (None)"
   ]
  },
  {
   "cell_type": "code",
   "execution_count": 19,
   "id": "6d08b1d5",
   "metadata": {},
   "outputs": [],
   "source": [
    "# A function that has no parameters and no return statement\n",
    "def hello():\n",
    "    print('Hello everyone')\n",
    "    print('This is a function that does not have any parameters')\n",
    "    print('This function returns nothing(None)')"
   ]
  },
  {
   "cell_type": "code",
   "execution_count": 20,
   "id": "cf38edf9",
   "metadata": {},
   "outputs": [
    {
     "name": "stdout",
     "output_type": "stream",
     "text": [
      "Hello everyone\n",
      "This is a function that does not have any parameters\n",
      "This function returns nothing(None)\n"
     ]
    }
   ],
   "source": [
    "hello()"
   ]
  },
  {
   "cell_type": "code",
   "execution_count": 21,
   "id": "6d914670",
   "metadata": {},
   "outputs": [],
   "source": [
    "# Create a function that checks whether a number is even or odd (print even if the number is even else print odd)\n",
    "def even_odd(num):     # The scope of parameters and variables created inside a function is limited to that function only\n",
    "    if num % 2 == 0:\n",
    "        print(num, 'is an even number')\n",
    "    else:\n",
    "        print(num, 'is an odd number')"
   ]
  },
  {
   "cell_type": "code",
   "execution_count": 22,
   "id": "412aecc8",
   "metadata": {},
   "outputs": [
    {
     "name": "stdout",
     "output_type": "stream",
     "text": [
      "5 is an odd number\n"
     ]
    }
   ],
   "source": [
    "even_odd(5)              # Here 5 is an argument , num is the function definition is a parameter"
   ]
  },
  {
   "cell_type": "code",
   "execution_count": 23,
   "id": "b85cd1b5",
   "metadata": {},
   "outputs": [
    {
     "name": "stdout",
     "output_type": "stream",
     "text": [
      "Enter the number : 14\n",
      "14 is an even number\n"
     ]
    }
   ],
   "source": [
    "a = int(input('Enter the number : '))\n",
    "even_odd(a)              # Here a is an argument , num is the function definition is a parameter"
   ]
  },
  {
   "cell_type": "code",
   "execution_count": 25,
   "id": "ef9443ad",
   "metadata": {},
   "outputs": [],
   "source": [
    "# Create a function which takes a number and prints whether the number is divisible is by 2 or 3 or both\n",
    "def check_div2and3(num):\n",
    "    if num % 2 == 0 and num % 3 == 0:\n",
    "        print('{} is divisible by both 2 and 3'.format(num))\n",
    "    elif num % 2 == 0:\n",
    "        print('{} is divisible by 2 only'.format(num))\n",
    "    elif num % 3 == 0:\n",
    "        print('{} is divisible by 3 only'.format(num))\n",
    "    else:\n",
    "        print('{} is not divisible by 2 and 3'.format(num))"
   ]
  },
  {
   "cell_type": "code",
   "execution_count": 30,
   "id": "3d0097b5",
   "metadata": {},
   "outputs": [
    {
     "name": "stdout",
     "output_type": "stream",
     "text": [
      "6 is divisible by both 2 and 3\n"
     ]
    }
   ],
   "source": [
    "check_div2and3(6)"
   ]
  },
  {
   "cell_type": "code",
   "execution_count": 31,
   "id": "35d2ee9a",
   "metadata": {},
   "outputs": [],
   "source": [
    "# Create a function which takes three numbers and return the largest\n",
    "def largest3(num1, num2, num3):\n",
    "    if num1 > num2 and num1 > num3:\n",
    "        largest = num1\n",
    "    elif num2 > num3:\n",
    "        largest = num2\n",
    "    else:\n",
    "        largest = num3\n",
    "    return largest"
   ]
  },
  {
   "cell_type": "code",
   "execution_count": 32,
   "id": "25e596f4",
   "metadata": {},
   "outputs": [
    {
     "data": {
      "text/plain": [
       "90"
      ]
     },
     "execution_count": 32,
     "metadata": {},
     "output_type": "execute_result"
    }
   ],
   "source": [
    "largest3(90,80,85)"
   ]
  },
  {
   "cell_type": "code",
   "execution_count": 39,
   "id": "c851f3ad",
   "metadata": {},
   "outputs": [],
   "source": [
    "# Create a function that takes marks of two students in 5 subjects each as a list\n",
    "# Return a list containing the absolute difference in marks of each subject\n",
    "def compare_marks(marks1, marks2):\n",
    "    if len(marks1) != 5 or len(marks2) != 5:\n",
    "        print('The lists should have marks in five subjects')\n",
    "        return\n",
    "    diff = []\n",
    "    for i in range(len(marks1)):\n",
    "        diff.append(abs(marks1[i] - marks2[i]))\n",
    "    return diff"
   ]
  },
  {
   "cell_type": "code",
   "execution_count": 42,
   "id": "fb6b8a17",
   "metadata": {},
   "outputs": [
    {
     "name": "stdout",
     "output_type": "stream",
     "text": [
      "The lists should have marks in five subjects\n"
     ]
    }
   ],
   "source": [
    "compare_marks([90,80,75,85,95], [70,95,80,82,85])"
   ]
  },
  {
   "cell_type": "code",
   "execution_count": 49,
   "id": "9994ba8e",
   "metadata": {},
   "outputs": [],
   "source": [
    "# Create a function that takes two strings having same number of words\n",
    "# Return a list having absolute difference in lengths of correspondng words\n",
    "def compare_strings(s1, s2):\n",
    "    words1 = s1.split()\n",
    "    words2 = s2.split()\n",
    "    if len(words1) != len(words2):\n",
    "        print('The strings should have same number of words')\n",
    "        return\n",
    "    \n",
    "    diff = []\n",
    "    for i in range(len(words1)):\n",
    "        diff.append(abs(len(words1[i]) - len(words2[i])))\n",
    "    return diff"
   ]
  },
  {
   "cell_type": "code",
   "execution_count": 52,
   "id": "db3f4abe",
   "metadata": {},
   "outputs": [
    {
     "data": {
      "text/plain": [
       "[1, 1]"
      ]
     },
     "execution_count": 52,
     "metadata": {},
     "output_type": "execute_result"
    }
   ],
   "source": [
    "compare_strings('Hello everyone', 'Good morning')"
   ]
  },
  {
   "cell_type": "markdown",
   "id": "11a9f030",
   "metadata": {},
   "source": [
    "## Default Parameters"
   ]
  },
  {
   "cell_type": "code",
   "execution_count": 56,
   "id": "ff00eb9f",
   "metadata": {},
   "outputs": [
    {
     "data": {
      "text/plain": [
       "['Hello', 'Everyone']"
      ]
     },
     "execution_count": 56,
     "metadata": {},
     "output_type": "execute_result"
    }
   ],
   "source": [
    "'Hello Everyone'.split()              # Whitespace is sdefault parameter"
   ]
  },
  {
   "cell_type": "code",
   "execution_count": 57,
   "id": "be2a12aa",
   "metadata": {},
   "outputs": [
    {
     "data": {
      "text/plain": [
       "['Hell', ' Every', 'ne']"
      ]
     },
     "execution_count": 57,
     "metadata": {},
     "output_type": "execute_result"
    }
   ],
   "source": [
    "'Hello Everyone'.split('o')"
   ]
  },
  {
   "cell_type": "code",
   "execution_count": 58,
   "id": "0c993280",
   "metadata": {},
   "outputs": [],
   "source": [
    "def divide(num1, num2):\n",
    "    return num1/num2"
   ]
  },
  {
   "cell_type": "code",
   "execution_count": 59,
   "id": "d80c59d5",
   "metadata": {},
   "outputs": [
    {
     "data": {
      "text/plain": [
       "2.0"
      ]
     },
     "execution_count": 59,
     "metadata": {},
     "output_type": "execute_result"
    }
   ],
   "source": [
    "divide(10,5)"
   ]
  },
  {
   "cell_type": "code",
   "execution_count": 60,
   "id": "dc877247",
   "metadata": {},
   "outputs": [
    {
     "ename": "TypeError",
     "evalue": "divide() missing 1 required positional argument: 'num2'",
     "output_type": "error",
     "traceback": [
      "\u001b[1;31m---------------------------------------------------------------------------\u001b[0m",
      "\u001b[1;31mTypeError\u001b[0m                                 Traceback (most recent call last)",
      "Cell \u001b[1;32mIn[60], line 1\u001b[0m\n\u001b[1;32m----> 1\u001b[0m \u001b[43mdivide\u001b[49m\u001b[43m(\u001b[49m\u001b[38;5;241;43m10\u001b[39;49m\u001b[43m)\u001b[49m\n",
      "\u001b[1;31mTypeError\u001b[0m: divide() missing 1 required positional argument: 'num2'"
     ]
    }
   ],
   "source": [
    "divide(10)"
   ]
  },
  {
   "cell_type": "code",
   "execution_count": 61,
   "id": "69168a62",
   "metadata": {},
   "outputs": [],
   "source": [
    "def divide(num1, num2 = 1):     # By default num2 will be 1 , if user provides a value that value will be taken\n",
    "    return num1 / num2"
   ]
  },
  {
   "cell_type": "code",
   "execution_count": 62,
   "id": "f8eb4cf3",
   "metadata": {},
   "outputs": [
    {
     "data": {
      "text/plain": [
       "2.0"
      ]
     },
     "execution_count": 62,
     "metadata": {},
     "output_type": "execute_result"
    }
   ],
   "source": [
    "divide(10,5)"
   ]
  },
  {
   "cell_type": "code",
   "execution_count": 63,
   "id": "98c047f7",
   "metadata": {},
   "outputs": [
    {
     "data": {
      "text/plain": [
       "10.0"
      ]
     },
     "execution_count": 63,
     "metadata": {},
     "output_type": "execute_result"
    }
   ],
   "source": [
    "divide(10)"
   ]
  },
  {
   "cell_type": "code",
   "execution_count": 64,
   "id": "bf4217fa",
   "metadata": {},
   "outputs": [
    {
     "ename": "SyntaxError",
     "evalue": "non-default argument follows default argument (<ipython-input-64-036de0d1c7b0>, line 1)",
     "output_type": "error",
     "traceback": [
      "\u001b[1;36m  Cell \u001b[1;32mIn[64], line 1\u001b[1;36m\u001b[0m\n\u001b[1;33m    def divide(num1 = 1, num2):     # Parameters with default value are not allowed before parameters without default value\u001b[0m\n\u001b[1;37m               ^\u001b[0m\n\u001b[1;31mSyntaxError\u001b[0m\u001b[1;31m:\u001b[0m non-default argument follows default argument\n"
     ]
    }
   ],
   "source": [
    "def divide(num1 = 1, num2):     # Parameters with default value are not allowed before parameters without default value\n",
    "    return num1/num2"
   ]
  },
  {
   "cell_type": "code",
   "execution_count": 65,
   "id": "08fa551e",
   "metadata": {},
   "outputs": [],
   "source": [
    "def divide(num1 = 1, num2 = 1):\n",
    "    return num1/num2"
   ]
  },
  {
   "cell_type": "code",
   "execution_count": 66,
   "id": "e1e9fb6f",
   "metadata": {},
   "outputs": [
    {
     "data": {
      "text/plain": [
       "1.0"
      ]
     },
     "execution_count": 66,
     "metadata": {},
     "output_type": "execute_result"
    }
   ],
   "source": [
    "divide()"
   ]
  },
  {
   "cell_type": "code",
   "execution_count": 67,
   "id": "74c4954f",
   "metadata": {},
   "outputs": [
    {
     "data": {
      "text/plain": [
       "10.0"
      ]
     },
     "execution_count": 67,
     "metadata": {},
     "output_type": "execute_result"
    }
   ],
   "source": [
    "divide(10)"
   ]
  },
  {
   "cell_type": "code",
   "execution_count": 68,
   "id": "3da327ff",
   "metadata": {},
   "outputs": [
    {
     "data": {
      "text/plain": [
       "2.0"
      ]
     },
     "execution_count": 68,
     "metadata": {},
     "output_type": "execute_result"
    }
   ],
   "source": [
    "divide(10,5)"
   ]
  },
  {
   "cell_type": "code",
   "execution_count": 101,
   "id": "1eea4263",
   "metadata": {},
   "outputs": [],
   "source": [
    "# Create a function that takes a string and a charcater\n",
    "# The function should return a list after splitting the string based on the character\n",
    "# The default value for the splitting character should be whitespace\n",
    "def split_string(s, c = ' '):\n",
    "    words = []\n",
    "    start = 0\n",
    "    for i in range(len(s)):\n",
    "        if s[i] == c:\n",
    "            words.append(s[start:i])\n",
    "            start = i + 1\n",
    "    words.append(s[start:i+1])\n",
    "    return words"
   ]
  },
  {
   "cell_type": "code",
   "execution_count": 104,
   "id": "bf42aad4",
   "metadata": {},
   "outputs": [
    {
     "data": {
      "text/plain": [
       "['Hello', 'Good', 'day']"
      ]
     },
     "execution_count": 104,
     "metadata": {},
     "output_type": "execute_result"
    }
   ],
   "source": [
    "split_string('Hello Good day')"
   ]
  },
  {
   "cell_type": "code",
   "execution_count": 103,
   "id": "58cc3b96",
   "metadata": {},
   "outputs": [
    {
     "data": {
      "text/plain": [
       "['Hello ', 'ood day']"
      ]
     },
     "execution_count": 103,
     "metadata": {},
     "output_type": "execute_result"
    }
   ],
   "source": [
    "split_string('Hello Good day', 'G')"
   ]
  },
  {
   "cell_type": "markdown",
   "id": "31bcfdcf",
   "metadata": {},
   "source": [
    "## Positional and Keyword arguments"
   ]
  },
  {
   "cell_type": "code",
   "execution_count": 69,
   "id": "e90064ec",
   "metadata": {},
   "outputs": [],
   "source": [
    "def details(name, age, city, salary):\n",
    "    print('The details are : ')\n",
    "    print('Name   :', name)\n",
    "    print('Age    :', age)\n",
    "    print('City   :', city)\n",
    "    print('Salary :', salary)"
   ]
  },
  {
   "cell_type": "code",
   "execution_count": 70,
   "id": "69861b16",
   "metadata": {},
   "outputs": [
    {
     "name": "stdout",
     "output_type": "stream",
     "text": [
      "The details are : \n",
      "Name   : Abhishek\n",
      "Age    : 35\n",
      "City   : Delhi\n",
      "Salary : 60000\n"
     ]
    }
   ],
   "source": [
    "details('Abhishek', 35, 'Delhi', 60000)   # Positional arguments"
   ]
  },
  {
   "cell_type": "code",
   "execution_count": 71,
   "id": "bfe9f079",
   "metadata": {},
   "outputs": [
    {
     "name": "stdout",
     "output_type": "stream",
     "text": [
      "The details are : \n",
      "Name   : Anitha\n",
      "Age    : 36\n",
      "City   : Kolkata\n",
      "Salary : 80000\n"
     ]
    }
   ],
   "source": [
    "details(name = 'Anitha', age = 36, city = 'Kolkata', salary = 80000)    # Keyword arguments"
   ]
  },
  {
   "cell_type": "code",
   "execution_count": 72,
   "id": "b464bde6",
   "metadata": {},
   "outputs": [
    {
     "name": "stdout",
     "output_type": "stream",
     "text": [
      "The details are : \n",
      "Name   : Anitha\n",
      "Age    : 36\n",
      "City   : Kolkata\n",
      "Salary : 80000\n"
     ]
    }
   ],
   "source": [
    "details(age = 36, salary = 80000, name = 'Anitha', city = 'Kolkata')"
   ]
  },
  {
   "cell_type": "code",
   "execution_count": 73,
   "id": "1810b889",
   "metadata": {},
   "outputs": [
    {
     "name": "stdout",
     "output_type": "stream",
     "text": [
      "The details are : \n",
      "Name   : 36\n",
      "Age    : 80000\n",
      "City   : Anitha\n",
      "Salary : Kolkata\n"
     ]
    }
   ],
   "source": [
    "details(36, 80000, 'Anitha', 'Kolkata')"
   ]
  },
  {
   "cell_type": "markdown",
   "id": "54601145",
   "metadata": {},
   "source": [
    "## Variable arguments and Variable keyword arguments (args and kwargs)"
   ]
  },
  {
   "cell_type": "code",
   "execution_count": 74,
   "id": "1ef23e4a",
   "metadata": {},
   "outputs": [],
   "source": [
    "def add(num1, num2):\n",
    "    return num1 + num2"
   ]
  },
  {
   "cell_type": "code",
   "execution_count": 75,
   "id": "dfff2293",
   "metadata": {},
   "outputs": [
    {
     "data": {
      "text/plain": [
       "5"
      ]
     },
     "execution_count": 75,
     "metadata": {},
     "output_type": "execute_result"
    }
   ],
   "source": [
    "add(2,3)"
   ]
  },
  {
   "cell_type": "code",
   "execution_count": 76,
   "id": "8a41fc91",
   "metadata": {},
   "outputs": [
    {
     "ename": "TypeError",
     "evalue": "add() takes 2 positional arguments but 3 were given",
     "output_type": "error",
     "traceback": [
      "\u001b[1;31m---------------------------------------------------------------------------\u001b[0m",
      "\u001b[1;31mTypeError\u001b[0m                                 Traceback (most recent call last)",
      "Cell \u001b[1;32mIn[76], line 1\u001b[0m\n\u001b[1;32m----> 1\u001b[0m \u001b[43madd\u001b[49m\u001b[43m(\u001b[49m\u001b[38;5;241;43m2\u001b[39;49m\u001b[43m,\u001b[49m\u001b[38;5;241;43m3\u001b[39;49m\u001b[43m,\u001b[49m\u001b[38;5;241;43m4\u001b[39;49m\u001b[43m)\u001b[49m\n",
      "\u001b[1;31mTypeError\u001b[0m: add() takes 2 positional arguments but 3 were given"
     ]
    }
   ],
   "source": [
    "add(2,3,4)"
   ]
  },
  {
   "cell_type": "code",
   "execution_count": 79,
   "id": "85407aa6",
   "metadata": {},
   "outputs": [
    {
     "name": "stdout",
     "output_type": "stream",
     "text": [
      "(1, 2, 3, 4)\n",
      "<class 'tuple'>\n"
     ]
    }
   ],
   "source": [
    "# args (Variable arguments)\n",
    "def example(*args):\n",
    "    print(args)\n",
    "    print(type(args))\n",
    "    \n",
    "example(1,2,3,4)"
   ]
  },
  {
   "cell_type": "code",
   "execution_count": 82,
   "id": "feac313f",
   "metadata": {},
   "outputs": [],
   "source": [
    "def add(*nums):\n",
    "    result = 0\n",
    "    for i in nums:\n",
    "        result = result + i\n",
    "    return result"
   ]
  },
  {
   "cell_type": "code",
   "execution_count": 83,
   "id": "e1d23762",
   "metadata": {},
   "outputs": [
    {
     "data": {
      "text/plain": [
       "6"
      ]
     },
     "execution_count": 83,
     "metadata": {},
     "output_type": "execute_result"
    }
   ],
   "source": [
    "add(1,2,3)"
   ]
  },
  {
   "cell_type": "code",
   "execution_count": 84,
   "id": "d9d3ec5a",
   "metadata": {},
   "outputs": [
    {
     "data": {
      "text/plain": [
       "6"
      ]
     },
     "execution_count": 84,
     "metadata": {},
     "output_type": "execute_result"
    }
   ],
   "source": [
    "add(3,3)"
   ]
  },
  {
   "cell_type": "code",
   "execution_count": 85,
   "id": "828a15be",
   "metadata": {},
   "outputs": [
    {
     "data": {
      "text/plain": [
       "79"
      ]
     },
     "execution_count": 85,
     "metadata": {},
     "output_type": "execute_result"
    }
   ],
   "source": [
    "add(5,7,8,9,5,4,3,2,1,5,6,7,8,9)"
   ]
  },
  {
   "cell_type": "code",
   "execution_count": 86,
   "id": "36ee984c",
   "metadata": {},
   "outputs": [
    {
     "name": "stdout",
     "output_type": "stream",
     "text": [
      "{'num1': 55, 'num2': 66}\n",
      "<class 'dict'>\n"
     ]
    }
   ],
   "source": [
    "# kwargs (variable keyword arguments)\n",
    "def example(**kwargs):\n",
    "    print(kwargs)\n",
    "    print(type(kwargs))\n",
    "    \n",
    "example(num1 = 55, num2 = 66)"
   ]
  },
  {
   "cell_type": "code",
   "execution_count": 87,
   "id": "f855eeb7",
   "metadata": {},
   "outputs": [],
   "source": [
    "def person(**details):\n",
    "    print('The deatils are : ')\n",
    "    for key,value in details.items():\n",
    "        print(key, ':', value)"
   ]
  },
  {
   "cell_type": "code",
   "execution_count": 88,
   "id": "adb7e9e7",
   "metadata": {},
   "outputs": [
    {
     "name": "stdout",
     "output_type": "stream",
     "text": [
      "The deatils are : \n",
      "fname : Babulal\n",
      "age : 68\n"
     ]
    }
   ],
   "source": [
    "person(fname = 'Babulal', age = 68)"
   ]
  },
  {
   "cell_type": "code",
   "execution_count": 89,
   "id": "3c593cd4",
   "metadata": {},
   "outputs": [
    {
     "name": "stdout",
     "output_type": "stream",
     "text": [
      "The deatils are : \n",
      "fname : Babulal\n",
      "lname : Gurjar\n",
      "age : 68\n",
      "gender : male\n"
     ]
    }
   ],
   "source": [
    "person(fname = 'Babulal', lname = 'Gurjar', age = 68, gender = 'male')"
   ]
  },
  {
   "cell_type": "markdown",
   "id": "85bc6963",
   "metadata": {},
   "source": [
    "# ========================================================"
   ]
  },
  {
   "cell_type": "markdown",
   "id": "d05ba53a",
   "metadata": {},
   "source": [
    "## map, filter, zip"
   ]
  },
  {
   "cell_type": "markdown",
   "id": "758e27ee",
   "metadata": {},
   "source": [
    "# map\n",
    "- The map function takes two arguments\n",
    "    - First argument : a function\n",
    "    - Second argument : an iterable object (eg. list, tuple, string)\n",
    "- The map applies the given function to all elements of the iterable object\n",
    "\n",
    "- **map(func, list1)** : func will be applied to all elements of list1"
   ]
  },
  {
   "cell_type": "code",
   "execution_count": 1,
   "id": "a4e18b75",
   "metadata": {},
   "outputs": [],
   "source": [
    "def square(num):\n",
    "    return num ** 2"
   ]
  },
  {
   "cell_type": "code",
   "execution_count": 2,
   "id": "9dfabe97",
   "metadata": {},
   "outputs": [
    {
     "data": {
      "text/plain": [
       "[1, 4, 9, 16, 25, 36]"
      ]
     },
     "execution_count": 2,
     "metadata": {},
     "output_type": "execute_result"
    }
   ],
   "source": [
    "nums = [1,2,3,4,5,6]\n",
    "for i in range(len(nums)):\n",
    "    nums[i] = square(nums[i])\n",
    "nums"
   ]
  },
  {
   "cell_type": "code",
   "execution_count": 4,
   "id": "97d32261",
   "metadata": {},
   "outputs": [
    {
     "data": {
      "text/plain": [
       "[1, 4, 9, 16, 25, 36]"
      ]
     },
     "execution_count": 4,
     "metadata": {},
     "output_type": "execute_result"
    }
   ],
   "source": [
    "nums = [1,2,3,4,5,6]\n",
    "list(map(square, nums))"
   ]
  },
  {
   "cell_type": "code",
   "execution_count": 5,
   "id": "fbd6ddc3",
   "metadata": {},
   "outputs": [],
   "source": [
    "# given a list of numbers calculate cubes for odd numbers and squares for even numbers\n",
    "nums = [1,3,4,7,9,3,4,8,6,5]\n",
    "def sqrs_cubes(num):\n",
    "    if num % 2 == 0:\n",
    "        return num ** 2\n",
    "    else:\n",
    "        return num ** 3"
   ]
  },
  {
   "cell_type": "code",
   "execution_count": 6,
   "id": "2411d2cd",
   "metadata": {},
   "outputs": [
    {
     "data": {
      "text/plain": [
       "[1, 27, 16, 343, 729, 27, 16, 64, 36, 125]"
      ]
     },
     "execution_count": 6,
     "metadata": {},
     "output_type": "execute_result"
    }
   ],
   "source": [
    "list(map(sqrs_cubes, nums))"
   ]
  },
  {
   "cell_type": "code",
   "execution_count": 7,
   "id": "cee70989",
   "metadata": {},
   "outputs": [
    {
     "data": {
      "text/plain": [
       "[78, 85, 90]"
      ]
     },
     "execution_count": 7,
     "metadata": {},
     "output_type": "execute_result"
    }
   ],
   "source": [
    "nums = ['78', '85', '90']\n",
    "list(map(int, nums))"
   ]
  },
  {
   "cell_type": "code",
   "execution_count": 8,
   "id": "d3a36f57",
   "metadata": {},
   "outputs": [
    {
     "name": "stdout",
     "output_type": "stream",
     "text": [
      "Enter three numbers : 78 85 90\n",
      "78 85 90\n"
     ]
    }
   ],
   "source": [
    "# Taking multiple numbers as input\n",
    "a,b,c = list(map(int, input('Enter three numbers : ').split()))\n",
    "print(a,b,c)"
   ]
  },
  {
   "cell_type": "code",
   "execution_count": 9,
   "id": "8e3cd058",
   "metadata": {},
   "outputs": [
    {
     "name": "stdout",
     "output_type": "stream",
     "text": [
      "Enter three numbers : 78 85 90\n",
      "[78, 85, 90]\n"
     ]
    }
   ],
   "source": [
    "# Taking a list of numbers as input\n",
    "l = list(map(int, input('Enter three numbers : ').split()))\n",
    "print(l)"
   ]
  },
  {
   "cell_type": "code",
   "execution_count": 10,
   "id": "2c9beef8",
   "metadata": {},
   "outputs": [
    {
     "data": {
      "text/plain": [
       "[5, 8, 7, 2, 3, 7]"
      ]
     },
     "execution_count": 10,
     "metadata": {},
     "output_type": "execute_result"
    }
   ],
   "source": [
    "# Given a string return a list which contains the length of each word\n",
    "s = 'Hello everyone welcome to the session'\n",
    "list(map(len, s.split()))"
   ]
  },
  {
   "cell_type": "code",
   "execution_count": 18,
   "id": "cc8e930f",
   "metadata": {},
   "outputs": [],
   "source": [
    "# Given a list containing marks of 5 students in 3 subjects each\n",
    "# Return a list having average score of each student\n",
    "marks = [[90,80,85], [95,90,92], [80,85,82], [75,72,76], [82,85,81]]\n",
    "def calc_avg(nums):\n",
    "    average = sum(nums)/len(nums)\n",
    "    average = round(average, 2)\n",
    "    return average"
   ]
  },
  {
   "cell_type": "code",
   "execution_count": 19,
   "id": "9885225e",
   "metadata": {},
   "outputs": [
    {
     "data": {
      "text/plain": [
       "[85.0, 92.33, 82.33, 74.33, 82.67]"
      ]
     },
     "execution_count": 19,
     "metadata": {},
     "output_type": "execute_result"
    }
   ],
   "source": [
    "list(map(calc_avg, marks))"
   ]
  },
  {
   "cell_type": "code",
   "execution_count": 15,
   "id": "4356093d",
   "metadata": {},
   "outputs": [
    {
     "data": {
      "text/plain": [
       "89.756"
      ]
     },
     "execution_count": 15,
     "metadata": {},
     "output_type": "execute_result"
    }
   ],
   "source": [
    "# round function rounds of a given float to given number of digits after decimal\n",
    "a = 89.75648953\n",
    "round(a, 3)"
   ]
  },
  {
   "cell_type": "markdown",
   "id": "5d08a852",
   "metadata": {},
   "source": [
    "# Filter\n",
    "- The filter function returns an iterator yielding those items of iterable for which function(item) is true. Meaning you need to filter by a function that returns either True or False. Then passing that into filter (along with your iterable) and you will get back only the results that would return True when passed to the function."
   ]
  },
  {
   "cell_type": "code",
   "execution_count": 23,
   "id": "9b58df8d",
   "metadata": {},
   "outputs": [],
   "source": [
    "def check_even(num):\n",
    "    return num % 2 == 0"
   ]
  },
  {
   "cell_type": "code",
   "execution_count": 25,
   "id": "78d78613",
   "metadata": {},
   "outputs": [
    {
     "data": {
      "text/plain": [
       "[2, 6, 8]"
      ]
     },
     "execution_count": 25,
     "metadata": {},
     "output_type": "execute_result"
    }
   ],
   "source": [
    "nums = [1,2,6,8,3,5]\n",
    "list(filter(check_even, nums))"
   ]
  },
  {
   "cell_type": "code",
   "execution_count": 26,
   "id": "a282a07b",
   "metadata": {},
   "outputs": [],
   "source": [
    "# Given a list of numbers, keep only those elements which are divisible by 5 or 4\n",
    "nums = [10,12,13,7,15,14]\n",
    "def div_5or4(num):\n",
    "    return (num % 5 == 0) or (num % 4 == 0)"
   ]
  },
  {
   "cell_type": "code",
   "execution_count": 27,
   "id": "e994af70",
   "metadata": {},
   "outputs": [
    {
     "data": {
      "text/plain": [
       "[10, 12, 15]"
      ]
     },
     "execution_count": 27,
     "metadata": {},
     "output_type": "execute_result"
    }
   ],
   "source": [
    "list(filter(div_5or4, nums))"
   ]
  },
  {
   "cell_type": "code",
   "execution_count": 28,
   "id": "c4d4a038",
   "metadata": {},
   "outputs": [],
   "source": [
    "# Given a list containing marks of 5 students in 3 subjects each\n",
    "# Return a list having only those lists wgere average scorew is more than 80\n",
    "marks = [[90,80,85], [95,90,92], [70,85,72], [75,72,76], [82,85,81]]\n",
    "def check_avg(nums):\n",
    "    average = sum(nums)/len(nums)\n",
    "    return average > 80"
   ]
  },
  {
   "cell_type": "code",
   "execution_count": 29,
   "id": "9eefdfcf",
   "metadata": {},
   "outputs": [
    {
     "data": {
      "text/plain": [
       "[[90, 80, 85], [95, 90, 92], [82, 85, 81]]"
      ]
     },
     "execution_count": 29,
     "metadata": {},
     "output_type": "execute_result"
    }
   ],
   "source": [
    "list(filter(check_avg, marks))"
   ]
  },
  {
   "cell_type": "code",
   "execution_count": 32,
   "id": "6b4c21a1",
   "metadata": {},
   "outputs": [],
   "source": [
    "# Given a string return a list having words with odd length\n",
    "s = 'Hello everyone good morning welcome to the session'\n",
    "def check_odd_length(s):\n",
    "    return len(s) % 2 != 0"
   ]
  },
  {
   "cell_type": "code",
   "execution_count": 33,
   "id": "318705a0",
   "metadata": {},
   "outputs": [
    {
     "data": {
      "text/plain": [
       "['Hello', 'morning', 'welcome', 'the', 'session']"
      ]
     },
     "execution_count": 33,
     "metadata": {},
     "output_type": "execute_result"
    }
   ],
   "source": [
    "list(filter(check_odd_length, s.split()))"
   ]
  },
  {
   "cell_type": "markdown",
   "id": "06d345a8",
   "metadata": {},
   "source": [
    "# zip"
   ]
  },
  {
   "cell_type": "code",
   "execution_count": 34,
   "id": "57965c35",
   "metadata": {},
   "outputs": [
    {
     "data": {
      "text/plain": [
       "[(10, 1), (20, 2), (30, 3), (40, 4), (50, 5)]"
      ]
     },
     "execution_count": 34,
     "metadata": {},
     "output_type": "execute_result"
    }
   ],
   "source": [
    "nums1 = [10,20,30,40,50]\n",
    "nums2 = [1,2,3,4,5]\n",
    "\n",
    "list(zip(nums1, nums2))"
   ]
  },
  {
   "cell_type": "code",
   "execution_count": 37,
   "id": "a6ba95c9",
   "metadata": {},
   "outputs": [
    {
     "data": {
      "text/plain": [
       "[('Butterscotch', 5, 100), ('Chocolate', 4, 70), ('Vanilla', 6, 60)]"
      ]
     },
     "execution_count": 37,
     "metadata": {},
     "output_type": "execute_result"
    }
   ],
   "source": [
    "icecreams = ['Butterscotch', 'Chocolate', 'Vanilla']\n",
    "nums = [5, 4, 6]\n",
    "prices = [100, 70, 60]\n",
    "\n",
    "list(zip(icecreams, nums, prices))"
   ]
  },
  {
   "cell_type": "code",
   "execution_count": 38,
   "id": "3d69a229",
   "metadata": {},
   "outputs": [
    {
     "data": {
      "text/plain": [
       "[(10, 1), (20, 2), (30, 3), (40, 4), (50, 5)]"
      ]
     },
     "execution_count": 38,
     "metadata": {},
     "output_type": "execute_result"
    }
   ],
   "source": [
    "nums1 = [10,20,30,40,50,60,70]\n",
    "nums2 = [1,2,3,4,5]\n",
    "\n",
    "list(zip(nums1, nums2))"
   ]
  },
  {
   "cell_type": "code",
   "execution_count": 39,
   "id": "5af2669c",
   "metadata": {},
   "outputs": [
    {
     "ename": "NameError",
     "evalue": "name 'num' is not defined",
     "output_type": "error",
     "traceback": [
      "\u001b[1;31m---------------------------------------------------------------------------\u001b[0m",
      "\u001b[1;31mNameError\u001b[0m                                 Traceback (most recent call last)",
      "Cell \u001b[1;32mIn[39], line 1\u001b[0m\n\u001b[1;32m----> 1\u001b[0m \u001b[43mnum\u001b[49m\n",
      "\u001b[1;31mNameError\u001b[0m: name 'num' is not defined"
     ]
    }
   ],
   "source": [
    "num % 4 == 0 or num % 5 == 0 "
   ]
  },
  {
   "cell_type": "markdown",
   "id": "164298c8",
   "metadata": {},
   "source": [
    "# Counter"
   ]
  },
  {
   "cell_type": "code",
   "execution_count": 1,
   "id": "91c39779",
   "metadata": {},
   "outputs": [],
   "source": [
    "from collections import Counter"
   ]
  },
  {
   "cell_type": "code",
   "execution_count": 3,
   "id": "3d624c98",
   "metadata": {},
   "outputs": [
    {
     "data": {
      "text/plain": [
       "Counter({1: 1, 2: 2, 4: 7, 3: 3, 5: 5, 6: 4, 7: 4, 8: 3, 9: 2})"
      ]
     },
     "execution_count": 3,
     "metadata": {},
     "output_type": "execute_result"
    }
   ],
   "source": [
    "nums = [1,2,4,3,2,4,3,4,5,5,6,7,8,9,9,8,6,4,5,3,4,4,4,5,5,6,6,7,7,7,8]\n",
    "freq = Counter(nums)\n",
    "freq"
   ]
  },
  {
   "cell_type": "code",
   "execution_count": 4,
   "id": "3c53e534",
   "metadata": {},
   "outputs": [
    {
     "data": {
      "text/plain": [
       "Counter({'H': 1,\n",
       "         'e': 4,\n",
       "         'l': 2,\n",
       "         'o': 5,\n",
       "         ' ': 3,\n",
       "         'v': 1,\n",
       "         'r': 2,\n",
       "         'y': 1,\n",
       "         'n': 3,\n",
       "         'g': 2,\n",
       "         'd': 1,\n",
       "         'm': 1,\n",
       "         'i': 1})"
      ]
     },
     "execution_count": 4,
     "metadata": {},
     "output_type": "execute_result"
    }
   ],
   "source": [
    "s = 'Hello everyone good morning'\n",
    "freq = Counter(s)\n",
    "freq"
   ]
  },
  {
   "cell_type": "code",
   "execution_count": 5,
   "id": "984a95b3",
   "metadata": {},
   "outputs": [
    {
     "data": {
      "text/plain": [
       "Counter({'billo': 1, 'bagge': 3, 'billeya': 2, 'da': 2, 'ki': 2, 'karegi': 2})"
      ]
     },
     "execution_count": 5,
     "metadata": {},
     "output_type": "execute_result"
    }
   ],
   "source": [
    "s = 'billo bagge billeya da ki karegi bagge bagge billeya da ki karegi'\n",
    "freq = Counter(s.split())\n",
    "freq"
   ]
  },
  {
   "cell_type": "markdown",
   "id": "73cceab9",
   "metadata": {},
   "source": [
    "---\n",
    "# Lambda Expressions"
   ]
  },
  {
   "cell_type": "code",
   "execution_count": 41,
   "id": "d3ab6011",
   "metadata": {},
   "outputs": [
    {
     "data": {
      "text/plain": [
       "'\\ndef square(num):\\n    return num ** 2\\n'"
      ]
     },
     "execution_count": 41,
     "metadata": {},
     "output_type": "execute_result"
    }
   ],
   "source": [
    "'''\n",
    "def square(num):\n",
    "    return num ** 2\n",
    "'''\n",
    "lambda num : num ** 2"
   ]
  },
  {
   "cell_type": "code",
   "execution_count": 42,
   "id": "4e9a251f",
   "metadata": {},
   "outputs": [
    {
     "data": {
      "text/plain": [
       "4"
      ]
     },
     "execution_count": 42,
     "metadata": {},
     "output_type": "execute_result"
    }
   ],
   "source": [
    "sq = lambda num : num ** 2\n",
    "sq(2)"
   ]
  },
  {
   "cell_type": "code",
   "execution_count": 43,
   "id": "3c2a28b1",
   "metadata": {},
   "outputs": [
    {
     "data": {
      "text/plain": [
       "16"
      ]
     },
     "execution_count": 43,
     "metadata": {},
     "output_type": "execute_result"
    }
   ],
   "source": [
    "sq(4)"
   ]
  },
  {
   "cell_type": "code",
   "execution_count": 44,
   "id": "5047c0ac",
   "metadata": {},
   "outputs": [
    {
     "data": {
      "text/plain": [
       "11"
      ]
     },
     "execution_count": 44,
     "metadata": {},
     "output_type": "execute_result"
    }
   ],
   "source": [
    "add = lambda num1, num2 : num1 + num2\n",
    "add(5,6)"
   ]
  },
  {
   "cell_type": "code",
   "execution_count": 45,
   "id": "1bf5564e",
   "metadata": {},
   "outputs": [
    {
     "data": {
      "text/plain": [
       "16"
      ]
     },
     "execution_count": 45,
     "metadata": {},
     "output_type": "execute_result"
    }
   ],
   "source": [
    "'''\n",
    "def sqrs_cubes(num):\n",
    "    if num % 2 == 0:\n",
    "        return num ** 2\n",
    "    else:\n",
    "        return num ** 3\n",
    "'''\n",
    "even_odd = lambda num : num ** 2 if num % 2 == 0 else num ** 3\n",
    "even_odd(4)"
   ]
  },
  {
   "cell_type": "code",
   "execution_count": 46,
   "id": "5153ce88",
   "metadata": {},
   "outputs": [
    {
     "data": {
      "text/plain": [
       "[1, 4, 9, 16, 25, 36, 49, 64, 81]"
      ]
     },
     "execution_count": 46,
     "metadata": {},
     "output_type": "execute_result"
    }
   ],
   "source": [
    "nums = [1,2,3,4,5,6,7,8,9]\n",
    "list(map(lambda num : num ** 2, nums))"
   ]
  },
  {
   "cell_type": "code",
   "execution_count": 47,
   "id": "2734c9bd",
   "metadata": {},
   "outputs": [
    {
     "data": {
      "text/plain": [
       "[1, 4, 27, 16, 125, 36]"
      ]
     },
     "execution_count": 47,
     "metadata": {},
     "output_type": "execute_result"
    }
   ],
   "source": [
    "nums = [1,2,3,4,5,6]\n",
    "list(map(lambda num : num ** 2 if num % 2 == 0 else num ** 3, nums))"
   ]
  },
  {
   "cell_type": "code",
   "execution_count": 53,
   "id": "314851d0",
   "metadata": {},
   "outputs": [
    {
     "data": {
      "text/plain": [
       "[2, 4, 6, 8]"
      ]
     },
     "execution_count": 53,
     "metadata": {},
     "output_type": "execute_result"
    }
   ],
   "source": [
    "nums = [1,2,3,4,5,6,7,8,9]\n",
    "list(filter(lambda num : num % 2 == 0, nums))"
   ]
  },
  {
   "cell_type": "code",
   "execution_count": 54,
   "id": "81be9a31",
   "metadata": {},
   "outputs": [
    {
     "data": {
      "text/plain": [
       "[1, 3, 5, 7, 9]"
      ]
     },
     "execution_count": 54,
     "metadata": {},
     "output_type": "execute_result"
    }
   ],
   "source": [
    "nums = [1,2,3,4,5,6,7,8,9]\n",
    "list(filter(lambda num : num % 2 != 0, nums))"
   ]
  },
  {
   "cell_type": "code",
   "execution_count": 56,
   "id": "0044eb89",
   "metadata": {},
   "outputs": [
    {
     "data": {
      "text/plain": [
       "['Hello', 'morning', 'welcome', 'the', 'session']"
      ]
     },
     "execution_count": 56,
     "metadata": {},
     "output_type": "execute_result"
    }
   ],
   "source": [
    "# Given a string return a list having words with odd length\n",
    "s = 'Hello everyone good morning welcome to the session'\n",
    "list(filter(lambda word : len(word) % 2 != 0, s.split()))"
   ]
  }
 ],
 "metadata": {
  "kernelspec": {
   "display_name": "Python 3 (ipykernel)",
   "language": "python",
   "name": "python3"
  },
  "language_info": {
   "codemirror_mode": {
    "name": "ipython",
    "version": 3
   },
   "file_extension": ".py",
   "mimetype": "text/x-python",
   "name": "python",
   "nbconvert_exporter": "python",
   "pygments_lexer": "ipython3",
   "version": "3.9.7"
  }
 },
 "nbformat": 4,
 "nbformat_minor": 5
}
