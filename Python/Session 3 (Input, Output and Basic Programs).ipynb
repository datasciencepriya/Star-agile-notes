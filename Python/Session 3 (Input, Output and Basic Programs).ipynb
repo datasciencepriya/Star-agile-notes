{
 "cells": [
  {
   "cell_type": "markdown",
   "id": "debe39e0",
   "metadata": {},
   "source": [
    "- Output using print function\n",
    "- Input using input function\n",
    "- Variables and literals\n",
    "- Basic arithmatic programs"
   ]
  },
  {
   "cell_type": "markdown",
   "id": "62b1b1d9",
   "metadata": {},
   "source": [
    "# print()\n",
    "- Used to print output"
   ]
  },
  {
   "cell_type": "code",
   "execution_count": 1,
   "id": "02c72691",
   "metadata": {},
   "outputs": [
    {
     "name": "stdout",
     "output_type": "stream",
     "text": [
      "Hello Everyone\n"
     ]
    }
   ],
   "source": [
    "print('Hello Everyone')"
   ]
  },
  {
   "cell_type": "code",
   "execution_count": 2,
   "id": "cdf23479",
   "metadata": {},
   "outputs": [
    {
     "name": "stdout",
     "output_type": "stream",
     "text": [
      "Good morning\n",
      "Welcome to this session\n"
     ]
    }
   ],
   "source": [
    "print('Good morning')\n",
    "print('Welcome to this session')"
   ]
  },
  {
   "cell_type": "code",
   "execution_count": 5,
   "id": "d528ddfd",
   "metadata": {},
   "outputs": [
    {
     "ename": "NameError",
     "evalue": "name 'good' is not defined",
     "output_type": "error",
     "traceback": [
      "\u001b[1;31m---------------------------------------------------------------------------\u001b[0m",
      "\u001b[1;31mNameError\u001b[0m                                 Traceback (most recent call last)",
      "\u001b[1;32m<ipython-input-5-4e315e00992d>\u001b[0m in \u001b[0;36m<module>\u001b[1;34m\u001b[0m\n\u001b[1;32m----> 1\u001b[1;33m \u001b[0mprint\u001b[0m\u001b[1;33m(\u001b[0m\u001b[0mgood\u001b[0m\u001b[1;33m)\u001b[0m                \u001b[1;31m# good will be considered as a variable\u001b[0m\u001b[1;33m\u001b[0m\u001b[1;33m\u001b[0m\u001b[0m\n\u001b[0m",
      "\u001b[1;31mNameError\u001b[0m: name 'good' is not defined"
     ]
    }
   ],
   "source": [
    "print(good)                # good will be considered as a variable"
   ]
  },
  {
   "cell_type": "code",
   "execution_count": 6,
   "id": "69566772",
   "metadata": {},
   "outputs": [
    {
     "name": "stdout",
     "output_type": "stream",
     "text": [
      "5\n"
     ]
    }
   ],
   "source": [
    "print(5)"
   ]
  },
  {
   "cell_type": "code",
   "execution_count": 7,
   "id": "5c88bec9",
   "metadata": {},
   "outputs": [
    {
     "name": "stdout",
     "output_type": "stream",
     "text": [
      "11\n"
     ]
    }
   ],
   "source": [
    "print(5 + 6)"
   ]
  },
  {
   "cell_type": "code",
   "execution_count": 8,
   "id": "ba048322",
   "metadata": {},
   "outputs": [
    {
     "name": "stdout",
     "output_type": "stream",
     "text": [
      "5\n"
     ]
    }
   ],
   "source": [
    "print(10 - 5)"
   ]
  },
  {
   "cell_type": "code",
   "execution_count": 9,
   "id": "bc246635",
   "metadata": {},
   "outputs": [
    {
     "name": "stdout",
     "output_type": "stream",
     "text": [
      "20\n"
     ]
    }
   ],
   "source": [
    "print(5 * 4)"
   ]
  },
  {
   "cell_type": "code",
   "execution_count": 10,
   "id": "7920918d",
   "metadata": {},
   "outputs": [
    {
     "name": "stdout",
     "output_type": "stream",
     "text": [
      "5.0\n"
     ]
    }
   ],
   "source": [
    "print(10 / 2)"
   ]
  },
  {
   "cell_type": "code",
   "execution_count": 11,
   "id": "007979b0",
   "metadata": {},
   "outputs": [
    {
     "name": "stdout",
     "output_type": "stream",
     "text": [
      "10000\n"
     ]
    }
   ],
   "source": [
    "# variables\n",
    "amount = 10000\n",
    "print(amount)              # Quotes are used to print string/text only, variables do not require quotes"
   ]
  },
  {
   "cell_type": "code",
   "execution_count": 12,
   "id": "e00a18c0",
   "metadata": {},
   "outputs": [
    {
     "name": "stdout",
     "output_type": "stream",
     "text": [
      "Utkarsh\n"
     ]
    }
   ],
   "source": [
    "name = 'Utkarsh'\n",
    "print(name)"
   ]
  },
  {
   "cell_type": "code",
   "execution_count": 17,
   "id": "f7439ae1",
   "metadata": {},
   "outputs": [
    {
     "name": "stdout",
     "output_type": "stream",
     "text": [
      "5\n"
     ]
    }
   ],
   "source": [
    "a = 5\n",
    "print(a)"
   ]
  },
  {
   "cell_type": "code",
   "execution_count": 14,
   "id": "91ea654b",
   "metadata": {},
   "outputs": [
    {
     "name": "stdout",
     "output_type": "stream",
     "text": [
      "Hello Everyone Good Morning Welcome to the session\n"
     ]
    }
   ],
   "source": [
    "print('Hello Everyone', 'Good Morning', 'Welcome to the session')"
   ]
  },
  {
   "cell_type": "code",
   "execution_count": 15,
   "id": "069302b2",
   "metadata": {},
   "outputs": [
    {
     "name": "stdout",
     "output_type": "stream",
     "text": [
      "Hello Utkarsh\n"
     ]
    }
   ],
   "source": [
    "name = 'Utkarsh'\n",
    "print('Hello', name)"
   ]
  },
  {
   "cell_type": "code",
   "execution_count": 19,
   "id": "71abab9c",
   "metadata": {},
   "outputs": [
    {
     "name": "stdout",
     "output_type": "stream",
     "text": [
      "Hello Utkarsh You better explain the concepts well\n"
     ]
    }
   ],
   "source": [
    "print('Hello', name, 'You better explain the concepts well')"
   ]
  },
  {
   "cell_type": "code",
   "execution_count": 20,
   "id": "b4bc5d16",
   "metadata": {},
   "outputs": [
    {
     "name": "stdout",
     "output_type": "stream",
     "text": [
      "The values of a, b and c respectively are :  100 200 300\n"
     ]
    }
   ],
   "source": [
    "a = 100\n",
    "b = 200\n",
    "c = 300\n",
    "print('The values of a, b and c respectively are : ',a,b,c)"
   ]
  },
  {
   "cell_type": "code",
   "execution_count": 21,
   "id": "342c65f3",
   "metadata": {},
   "outputs": [
    {
     "name": "stdout",
     "output_type": "stream",
     "text": [
      "The sum of a, b and c is :  600\n"
     ]
    }
   ],
   "source": [
    "print('The sum of a, b and c is : ', a+b+c)"
   ]
  },
  {
   "cell_type": "code",
   "execution_count": 22,
   "id": "533dcaaf",
   "metadata": {},
   "outputs": [
    {
     "name": "stdout",
     "output_type": "stream",
     "text": [
      "Billo bagge billeya da ki karegi\n",
      "Bagge bagge billeya da ki karegi\n"
     ]
    }
   ],
   "source": [
    "print('Billo bagge billeya da ki karegi')\n",
    "print('Bagge bagge billeya da ki karegi')"
   ]
  },
  {
   "cell_type": "code",
   "execution_count": 1,
   "id": "98bafe54",
   "metadata": {},
   "outputs": [
    {
     "name": "stdout",
     "output_type": "stream",
     "text": [
      "40\n"
     ]
    },
    {
     "data": {
      "text/plain": [
       "160"
      ]
     },
     "execution_count": 1,
     "metadata": {},
     "output_type": "execute_result"
    }
   ],
   "source": [
    "a = 100\n",
    "b = 60\n",
    "print(a-b)\n",
    "a+b              # A jupyter cell shows the output of last statement"
   ]
  },
  {
   "cell_type": "markdown",
   "id": "45935533",
   "metadata": {},
   "source": [
    "---\n",
    "## end\n",
    "- end is used to specify what appears after each print statement"
   ]
  },
  {
   "cell_type": "code",
   "execution_count": 13,
   "id": "c37c7024",
   "metadata": {},
   "outputs": [
    {
     "name": "stdout",
     "output_type": "stream",
     "text": [
      "Hello\n",
      "Good morning everyone\n",
      "Welcome to the session\n"
     ]
    }
   ],
   "source": [
    "# Outputs of diffrent print statements appear in different lines by default\n",
    "print('Hello')\n",
    "print('Good morning everyone')\n",
    "print('Welcome to the session')"
   ]
  },
  {
   "cell_type": "code",
   "execution_count": 14,
   "id": "381f30d5",
   "metadata": {},
   "outputs": [
    {
     "name": "stdout",
     "output_type": "stream",
     "text": [
      "Hello\n",
      "Good morning everyone\n",
      "Welcome to the session\n"
     ]
    }
   ],
   "source": [
    "# By default end is equal to '\\n' (new line)\n",
    "print('Hello', end = '\\n')\n",
    "print('Good morning everyone', end = '\\n')\n",
    "print('Welcome to the session', end = '\\n')"
   ]
  },
  {
   "cell_type": "code",
   "execution_count": 16,
   "id": "afaf6bf7",
   "metadata": {},
   "outputs": [
    {
     "name": "stdout",
     "output_type": "stream",
     "text": [
      "Hello\n",
      "\n",
      "Good morning everyone\n",
      "\n",
      "Welcome to the session\n",
      "\n"
     ]
    }
   ],
   "source": [
    "print('Hello', end = '\\n\\n')\n",
    "print('Good morning everyone', end = '\\n\\n')\n",
    "print('Welcome to the session', end = '\\n\\n')"
   ]
  },
  {
   "cell_type": "code",
   "execution_count": 23,
   "id": "551b1d76",
   "metadata": {},
   "outputs": [
    {
     "name": "stdout",
     "output_type": "stream",
     "text": [
      "Hello   Good morning everyone   Welcome to the session   "
     ]
    }
   ],
   "source": [
    "print('Hello', end = '   ')\n",
    "print('Good morning everyone', end = '   ')\n",
    "print('Welcome to the session', end = '   ')"
   ]
  },
  {
   "cell_type": "markdown",
   "id": "e0d58f3a",
   "metadata": {},
   "source": [
    "---\n",
    "## sep\n",
    "- Used to specify what appears between multiple outputs of the same print statement"
   ]
  },
  {
   "cell_type": "code",
   "execution_count": 25,
   "id": "87a6ffca",
   "metadata": {},
   "outputs": [
    {
     "name": "stdout",
     "output_type": "stream",
     "text": [
      "Hello Everyone Good morning Welcome to the session\n"
     ]
    }
   ],
   "source": [
    "# By default a space appears betwen outputs\n",
    "print('Hello Everyone','Good morning','Welcome to the session')"
   ]
  },
  {
   "cell_type": "code",
   "execution_count": 26,
   "id": "5995d686",
   "metadata": {},
   "outputs": [
    {
     "name": "stdout",
     "output_type": "stream",
     "text": [
      "Hello Everyone Good morning Welcome to the session\n"
     ]
    }
   ],
   "source": [
    "# By deafult the sep parameter is set to a whitespace\n",
    "print('Hello Everyone','Good morning','Welcome to the session', sep = ' ')"
   ]
  },
  {
   "cell_type": "code",
   "execution_count": 27,
   "id": "100f9cb4",
   "metadata": {},
   "outputs": [
    {
     "name": "stdout",
     "output_type": "stream",
     "text": [
      "Hello Everyone      Good morning      Welcome to the session\n"
     ]
    }
   ],
   "source": [
    "print('Hello Everyone','Good morning','Welcome to the session', sep = '      ')"
   ]
  },
  {
   "cell_type": "code",
   "execution_count": 30,
   "id": "a9323b87",
   "metadata": {},
   "outputs": [
    {
     "name": "stdout",
     "output_type": "stream",
     "text": [
      "Hello Everyone\n",
      "Good morning\n",
      "Welcome to the session\n"
     ]
    }
   ],
   "source": [
    "print('Hello Everyone','Good morning','Welcome to the session', sep = '\\n')"
   ]
  },
  {
   "cell_type": "markdown",
   "id": "103cf4aa",
   "metadata": {},
   "source": [
    "---\n",
    "# input()\n",
    "- Used to take input from user"
   ]
  },
  {
   "cell_type": "code",
   "execution_count": 24,
   "id": "4d638a59",
   "metadata": {},
   "outputs": [
    {
     "name": "stdout",
     "output_type": "stream",
     "text": [
      "Utkarsh\n"
     ]
    },
    {
     "data": {
      "text/plain": [
       "'Utkarsh'"
      ]
     },
     "execution_count": 24,
     "metadata": {},
     "output_type": "execute_result"
    }
   ],
   "source": [
    "input()"
   ]
  },
  {
   "cell_type": "code",
   "execution_count": 25,
   "id": "8970828c",
   "metadata": {},
   "outputs": [
    {
     "name": "stdout",
     "output_type": "stream",
     "text": [
      "Utkarsh\n"
     ]
    }
   ],
   "source": [
    "name = input()"
   ]
  },
  {
   "cell_type": "code",
   "execution_count": 26,
   "id": "2408084e",
   "metadata": {},
   "outputs": [
    {
     "name": "stdout",
     "output_type": "stream",
     "text": [
      "Hello Utkarsh\n"
     ]
    }
   ],
   "source": [
    "print('Hello', name)"
   ]
  },
  {
   "cell_type": "code",
   "execution_count": 30,
   "id": "56c6116d",
   "metadata": {},
   "outputs": [
    {
     "name": "stdout",
     "output_type": "stream",
     "text": [
      "Utkarsh\n",
      "Sharma\n",
      "Jaipur\n",
      "\n",
      "\n",
      "The details are : \n",
      "First Name :  Utkarsh\n",
      "Last Name :  Sharma\n",
      "City :  Jaipur\n"
     ]
    }
   ],
   "source": [
    "first_name = input()\n",
    "last_name = input()\n",
    "city = input()\n",
    "\n",
    "print('\\n')                                      # \\n is newline character\n",
    "print('The details are : ')\n",
    "print('First Name : ', first_name)\n",
    "print('Last Name : ', last_name)\n",
    "print('City : ', city)"
   ]
  },
  {
   "cell_type": "code",
   "execution_count": 31,
   "id": "48068abe",
   "metadata": {},
   "outputs": [
    {
     "name": "stdout",
     "output_type": "stream",
     "text": [
      "Enter the first name : Utkarsh\n",
      "Enter the last name : Sharma\n",
      "Enter the city : Jaipur\n",
      "\n",
      "\n",
      "The details are : \n",
      "First Name :  Utkarsh\n",
      "Last Name :  Sharma\n",
      "City :  Jaipur\n"
     ]
    }
   ],
   "source": [
    "first_name = input('Enter the first name : ')\n",
    "last_name = input('Enter the last name : ')\n",
    "city = input('Enter the city : ')\n",
    "\n",
    "print('\\n')\n",
    "print('The details are : ')\n",
    "print('First Name : ', first_name)\n",
    "print('Last Name : ', last_name)\n",
    "print('City : ', city)"
   ]
  },
  {
   "cell_type": "code",
   "execution_count": 32,
   "id": "b730a6bd",
   "metadata": {},
   "outputs": [
    {
     "name": "stdout",
     "output_type": "stream",
     "text": [
      "Enter number 1 : 2\n",
      "Enter number 2 : 5\n",
      "25\n"
     ]
    }
   ],
   "source": [
    "# Everything is provided as a string in input\n",
    "num1 = input('Enter number 1 : ')               # Treated as a string\n",
    "num2 = input('Enter number 2 : ')\n",
    "result = num1 + num2                            # Concatenation : Two strings will be combined\n",
    "print(result)"
   ]
  },
  {
   "cell_type": "code",
   "execution_count": 34,
   "id": "1311b580",
   "metadata": {},
   "outputs": [
    {
     "data": {
      "text/plain": [
       "'HelloEveryone'"
      ]
     },
     "execution_count": 34,
     "metadata": {},
     "output_type": "execute_result"
    }
   ],
   "source": [
    "'Hello' + 'Everyone'             # Concatenation"
   ]
  },
  {
   "cell_type": "code",
   "execution_count": 40,
   "id": "31a36b6f",
   "metadata": {},
   "outputs": [
    {
     "name": "stdout",
     "output_type": "stream",
     "text": [
      "Enter number 1 : 2\n",
      "Enter number 2 : 5\n",
      "7\n"
     ]
    }
   ],
   "source": [
    "num1 = int(input('Enter number 1 : '))          # int will covert input to an integer/number\n",
    "num2 = int(input('Enter number 2 : '))\n",
    "result = num1 + num2\n",
    "print(result)"
   ]
  },
  {
   "cell_type": "code",
   "execution_count": 41,
   "id": "641e5320",
   "metadata": {},
   "outputs": [
    {
     "name": "stdout",
     "output_type": "stream",
     "text": [
      "Enter the first name : Utkarsh\n",
      "Enter the last name : Sharma\n",
      "Enter the age : 85\n",
      "Enter the city : Jaipur\n",
      "Enter the state : Rajasthan\n",
      "Enter the country : India\n",
      "\n",
      "\n",
      "The details are : \n",
      "First Name :  Utkarsh\n",
      "Last Name  :  Sharma\n",
      "Age        :  85\n",
      "City       :  Jaipur\n",
      "State      :  Rajasthan\n",
      "Country    :  India\n"
     ]
    }
   ],
   "source": [
    "# Write a program to take first_name, last_name, age, city, state, country as input and print the details\n",
    "first_name = input('Enter the first name : ')\n",
    "last_name = input('Enter the last name : ')\n",
    "age = int(input('Enter the age : '))\n",
    "city = input('Enter the city : ')\n",
    "state = input('Enter the state : ')\n",
    "country = input('Enter the country : ')\n",
    "\n",
    "print('\\n')\n",
    "print('The details are : ')\n",
    "print('First Name : ', first_name)\n",
    "print('Last Name  : ', last_name)\n",
    "print('Age        : ', age)\n",
    "print('City       : ', city)\n",
    "print('State      : ', state)\n",
    "print('Country    : ', country)"
   ]
  },
  {
   "cell_type": "code",
   "execution_count": 2,
   "id": "e545eff3",
   "metadata": {},
   "outputs": [
    {
     "name": "stdout",
     "output_type": "stream",
     "text": [
      "Enter the principal amount : 200000\n",
      "Enter the rate of interest : 8\n",
      "Enter the duration in years : 5\n",
      "The simple interest is :  80000.0\n"
     ]
    }
   ],
   "source": [
    "# Take principal amount, rate and duration in years as input from user and calcalate simple interest\n",
    "principal_amount = int(input('Enter the principal amount : '))\n",
    "rate = int(input('Enter the rate of interest : '))\n",
    "years = int(input('Enter the duration in years : '))\n",
    "\n",
    "simple_interest = principal_amount * rate * years / 100\n",
    "print('The simple interest is : ', simple_interest)"
   ]
  },
  {
   "cell_type": "markdown",
   "id": "acdcc950",
   "metadata": {},
   "source": [
    "## format()"
   ]
  },
  {
   "cell_type": "code",
   "execution_count": 6,
   "id": "3bda4bfd",
   "metadata": {},
   "outputs": [
    {
     "name": "stdout",
     "output_type": "stream",
     "text": [
      "Enter the name : Varsha\n",
      "Enter the age : 40\n",
      "My name is Varsha and i am 40 years old\n"
     ]
    }
   ],
   "source": [
    "name = input('Enter the name : ')\n",
    "age = int(input('Enter the age : '))\n",
    "print('My name is {} and i am {} years old'.format(name, age))"
   ]
  },
  {
   "cell_type": "code",
   "execution_count": 11,
   "id": "0c4fde8e",
   "metadata": {},
   "outputs": [
    {
     "data": {
      "text/plain": [
       "'My name is Varsha and i am 40 years old'"
      ]
     },
     "execution_count": 11,
     "metadata": {},
     "output_type": "execute_result"
    }
   ],
   "source": [
    "'My name is {} and i am {} years old'.format(name, age)"
   ]
  },
  {
   "cell_type": "code",
   "execution_count": 12,
   "id": "9d85c57d",
   "metadata": {},
   "outputs": [
    {
     "name": "stdout",
     "output_type": "stream",
     "text": [
      "Enter the principal amount : 100000\n",
      "Enter the rate of interest : 10\n",
      "Enter the duration in years : 5\n",
      "The simple interest for amount 100000 on a 10% rate for 5 years is : 50000.0\n"
     ]
    }
   ],
   "source": [
    "# Take principal amount, rate and duration in years as input from user and calcalate simple interest\n",
    "principal_amount = int(input('Enter the principal amount : '))\n",
    "rate = int(input('Enter the rate of interest : '))\n",
    "years = int(input('Enter the duration in years : '))\n",
    "\n",
    "simple_interest = principal_amount * rate * years / 100\n",
    "print('The simple interest for amount {} on a {}% rate for {} years is : {}'.format(principal_amount, rate, years, simple_interest))"
   ]
  },
  {
   "cell_type": "code",
   "execution_count": 2,
   "id": "14a0b7c4",
   "metadata": {},
   "outputs": [
    {
     "name": "stdout",
     "output_type": "stream",
     "text": [
      "Enter the first number  : 5\n",
      "Enter the second number : 10\n",
      "Values before swapping : \n",
      "Number 1 :  5\n",
      "Number 2 :  10\n",
      "Values after swapping : \n",
      "Number 1 :  10\n",
      "Number 2 :  5\n"
     ]
    }
   ],
   "source": [
    "# Take two numbers as input into two variables and swap their values\n",
    "num1 = int(input(\"Enter the first number  : \"))\n",
    "num2 = int(input(\"Enter the second number : \"))\n",
    "\n",
    "print('Values before swapping : ')\n",
    "print('Number 1 : ', num1)\n",
    "print('Number 2 : ', num2)\n",
    "\n",
    "temp = num1\n",
    "num1 = num2\n",
    "num2 = temp\n",
    "\n",
    "print('Values after swapping : ')\n",
    "print('Number 1 : ', num1)\n",
    "print('Number 2 : ', num2)"
   ]
  },
  {
   "cell_type": "code",
   "execution_count": 3,
   "id": "ccea365e",
   "metadata": {},
   "outputs": [
    {
     "name": "stdout",
     "output_type": "stream",
     "text": [
      "Enter the first number  : 5\n",
      "Enter the second number : 10\n",
      "Values before swapping : \n",
      "Number 1 :  5\n",
      "Number 2 :  10\n",
      "Values after swapping : \n",
      "Number 1 :  10\n",
      "Number 2 :  5\n"
     ]
    }
   ],
   "source": [
    "# Take two numbers as input into two variables and swap their values\n",
    "num1 = int(input(\"Enter the first number  : \"))\n",
    "num2 = int(input(\"Enter the second number : \"))\n",
    "\n",
    "print('Values before swapping : ')\n",
    "print('Number 1 : ', num1)\n",
    "print('Number 2 : ', num2)\n",
    "\n",
    "num1, num2 = num2, num1\n",
    "\n",
    "print('Values after swapping : ')\n",
    "print('Number 1 : ', num1)\n",
    "print('Number 2 : ', num2)"
   ]
  },
  {
   "cell_type": "code",
   "execution_count": null,
   "id": "e8f5fd95",
   "metadata": {},
   "outputs": [],
   "source": [
    "# Take two numbers as input into two variables and swap their values without using multiple asignment and temp variable"
   ]
  }
 ],
 "metadata": {
  "kernelspec": {
   "display_name": "Python 3",
   "language": "python",
   "name": "python3"
  },
  "language_info": {
   "codemirror_mode": {
    "name": "ipython",
    "version": 3
   },
   "file_extension": ".py",
   "mimetype": "text/x-python",
   "name": "python",
   "nbconvert_exporter": "python",
   "pygments_lexer": "ipython3",
   "version": "3.8.5"
  }
 },
 "nbformat": 4,
 "nbformat_minor": 5
}
