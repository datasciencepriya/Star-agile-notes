{
 "cells": [
  {
   "cell_type": "markdown",
   "id": "c892dc97",
   "metadata": {},
   "source": [
    "# Object Oriented Programming\n",
    "- Inheritance\n",
    "- Polymorphism\n",
    "- Encapsulation\n",
    "- Abstraction"
   ]
  },
  {
   "cell_type": "code",
   "execution_count": 1,
   "id": "0559351c",
   "metadata": {},
   "outputs": [
    {
     "name": "stdout",
     "output_type": "stream",
     "text": [
      "9\n",
      "Hello Good morning\n"
     ]
    }
   ],
   "source": [
    "print(4 + 5)\n",
    "print('Hello' + ' Good morning')"
   ]
  },
  {
   "cell_type": "code",
   "execution_count": 3,
   "id": "d991335f",
   "metadata": {},
   "outputs": [
    {
     "name": "stdout",
     "output_type": "stream",
     "text": [
      "<class 'str'>\n"
     ]
    }
   ],
   "source": [
    "s = 'Hello'\n",
    "print(type(s))"
   ]
  },
  {
   "cell_type": "code",
   "execution_count": 4,
   "id": "1d386f40",
   "metadata": {},
   "outputs": [
    {
     "name": "stdout",
     "output_type": "stream",
     "text": [
      "<class 'int'>\n"
     ]
    }
   ],
   "source": [
    "a = 5\n",
    "print(type(a))"
   ]
  },
  {
   "cell_type": "code",
   "execution_count": 5,
   "id": "05728193",
   "metadata": {},
   "outputs": [
    {
     "name": "stdout",
     "output_type": "stream",
     "text": [
      "<class 'list'>\n"
     ]
    }
   ],
   "source": [
    "l = [1,2,3]\n",
    "print(type(l))"
   ]
  },
  {
   "cell_type": "code",
   "execution_count": 7,
   "id": "870fdc7f",
   "metadata": {},
   "outputs": [
    {
     "name": "stdout",
     "output_type": "stream",
     "text": [
      "<class 'function'>\n"
     ]
    }
   ],
   "source": [
    "def abc():\n",
    "    pass\n",
    "\n",
    "print(type(abc))"
   ]
  },
  {
   "cell_type": "markdown",
   "id": "5b48fd40",
   "metadata": {},
   "source": [
    "# Classes and Objects"
   ]
  },
  {
   "cell_type": "code",
   "execution_count": 8,
   "id": "ddf3e911",
   "metadata": {},
   "outputs": [],
   "source": [
    "class Person:\n",
    "    def __init__(self, fname, lname, age):\n",
    "        self.first_name = fname\n",
    "        self.last_name = lname\n",
    "        self.age = age\n",
    "        \n",
    "    def show(self):\n",
    "        print('The deatils are : ')\n",
    "        print('First name : ', self.first_name)\n",
    "        print('Last name  : ', self.last_name)\n",
    "        print('Age        : ', self.age)"
   ]
  },
  {
   "cell_type": "code",
   "execution_count": 9,
   "id": "a438544b",
   "metadata": {},
   "outputs": [],
   "source": [
    "person1 = Person('Archana', 'Sonone', 65)"
   ]
  },
  {
   "cell_type": "code",
   "execution_count": 10,
   "id": "377041ea",
   "metadata": {},
   "outputs": [],
   "source": [
    "person2 = Person('Akash', 'Wasnik', 35)"
   ]
  },
  {
   "cell_type": "code",
   "execution_count": 11,
   "id": "f37b4a3d",
   "metadata": {},
   "outputs": [
    {
     "data": {
      "text/plain": [
       "'Archana'"
      ]
     },
     "execution_count": 11,
     "metadata": {},
     "output_type": "execute_result"
    }
   ],
   "source": [
    "person1.first_name"
   ]
  },
  {
   "cell_type": "code",
   "execution_count": 12,
   "id": "de43a77d",
   "metadata": {},
   "outputs": [
    {
     "data": {
      "text/plain": [
       "65"
      ]
     },
     "execution_count": 12,
     "metadata": {},
     "output_type": "execute_result"
    }
   ],
   "source": [
    "person1.age"
   ]
  },
  {
   "cell_type": "code",
   "execution_count": 13,
   "id": "2c7ad198",
   "metadata": {},
   "outputs": [
    {
     "data": {
      "text/plain": [
       "'Akash'"
      ]
     },
     "execution_count": 13,
     "metadata": {},
     "output_type": "execute_result"
    }
   ],
   "source": [
    "person2.first_name"
   ]
  },
  {
   "cell_type": "code",
   "execution_count": 14,
   "id": "a5b6ca43",
   "metadata": {},
   "outputs": [
    {
     "data": {
      "text/plain": [
       "'Wasnik'"
      ]
     },
     "execution_count": 14,
     "metadata": {},
     "output_type": "execute_result"
    }
   ],
   "source": [
    "person2.last_name"
   ]
  },
  {
   "cell_type": "code",
   "execution_count": 15,
   "id": "215d1f7d",
   "metadata": {},
   "outputs": [
    {
     "name": "stdout",
     "output_type": "stream",
     "text": [
      "The deatils are : \n",
      "First name :  Archana\n",
      "Last name  :  Sonone\n",
      "Age        :  65\n"
     ]
    }
   ],
   "source": [
    "person1.show()"
   ]
  },
  {
   "cell_type": "code",
   "execution_count": 16,
   "id": "9d98df76",
   "metadata": {},
   "outputs": [
    {
     "name": "stdout",
     "output_type": "stream",
     "text": [
      "The deatils are : \n",
      "First name :  Akash\n",
      "Last name  :  Wasnik\n",
      "Age        :  35\n"
     ]
    }
   ],
   "source": [
    "person2.show()"
   ]
  },
  {
   "cell_type": "code",
   "execution_count": 28,
   "id": "49b263be",
   "metadata": {},
   "outputs": [],
   "source": [
    "# The values for attributes can be set using a different function also\n",
    "# It is not mandatory to pass values while creating the object\n",
    "class Insaan:\n",
    "    def __init__(self):\n",
    "        self.first_name = None\n",
    "        self.last_name = None\n",
    "        self.age = None\n",
    "        \n",
    "    def set_details(self, fname, lname, age):\n",
    "        self.first_name = fname\n",
    "        self.last_name = lname\n",
    "        self.age = age\n",
    "        \n",
    "    def show_details(self):\n",
    "        print('The deatils are : ')\n",
    "        print('First name : ', self.first_name)\n",
    "        print('Last name  : ', self.last_name)\n",
    "        print('Age        : ', self.age)"
   ]
  },
  {
   "cell_type": "code",
   "execution_count": 29,
   "id": "6b850bc4",
   "metadata": {},
   "outputs": [],
   "source": [
    "person1 = Insaan()"
   ]
  },
  {
   "cell_type": "code",
   "execution_count": 30,
   "id": "fdf19ec1",
   "metadata": {},
   "outputs": [
    {
     "name": "stdout",
     "output_type": "stream",
     "text": [
      "The deatils are : \n",
      "First name :  None\n",
      "Last name  :  None\n",
      "Age        :  None\n"
     ]
    }
   ],
   "source": [
    "person1.show_details()"
   ]
  },
  {
   "cell_type": "code",
   "execution_count": 31,
   "id": "64395c8c",
   "metadata": {},
   "outputs": [],
   "source": [
    "person1.set_details('Archan', 'Sonone', 75)"
   ]
  },
  {
   "cell_type": "code",
   "execution_count": 32,
   "id": "13fac48e",
   "metadata": {},
   "outputs": [
    {
     "name": "stdout",
     "output_type": "stream",
     "text": [
      "The deatils are : \n",
      "First name :  Archan\n",
      "Last name  :  Sonone\n",
      "Age        :  75\n"
     ]
    }
   ],
   "source": [
    "person1.show_details()"
   ]
  },
  {
   "cell_type": "code",
   "execution_count": 35,
   "id": "b658304a",
   "metadata": {},
   "outputs": [],
   "source": [
    "class Employee:\n",
    "    def __init__(self, empid, fname, lname, gender, age, city, desg, dept, org, salary):\n",
    "        self.employee_id = empid\n",
    "        self.first_name = fname\n",
    "        self.last_name = lname\n",
    "        self.gender = gender\n",
    "        self.age = age\n",
    "        self.city = city\n",
    "        self.designation = desg\n",
    "        self.department = dept\n",
    "        self.organisation = org\n",
    "        self.salary = salary\n",
    "        \n",
    "    def show_details(self):\n",
    "        print('The details are : ')\n",
    "        print('Employee ID  : ', self.employee_id)\n",
    "        print('First name   : ', self.first_name)\n",
    "        print('Last name    : ', self.last_name)\n",
    "        print('Gender       : ', self.gender)\n",
    "        print('Age          : ', self.age)\n",
    "        print('City         : ', self.city)\n",
    "        print('Designation  : ', self.designation)\n",
    "        print('Department   : ', self.department)\n",
    "        print('Organisation : ', self.organisation)\n",
    "        print('Salary       : ', self.salary)\n",
    "        \n",
    "    def update_city(self, new_city):\n",
    "        self.city = new_city\n",
    "        print('The city for {} {} has been updated to {}'.format(self.first_name, self.last_name, self.city))\n",
    "        \n",
    "    def update_desg(self, new_desg):\n",
    "        self.designation = new_desg\n",
    "        print('The designation for {} {} has been updated to {}'.format(self.first_name, self.last_name, self.designation))\n",
    "        \n",
    "    def update_dept(self, new_dept):\n",
    "        self.department = new_dept\n",
    "        print('The department for {} {} has been updated to {}'.format(self.first_name, self.last_name, self.department))\n",
    "        \n",
    "    def update_org(self, new_org):\n",
    "        self.organisation = new_org\n",
    "        print('The organisation for {} {} has been updated to {}'.format(self.first_name, self.last_name, self.organisation))\n",
    "        \n",
    "    def update_salary(self, new_salary):\n",
    "        self.salary = new_salary\n",
    "        print('The salary for {} {} has been updated to {}'.format(self.first_name, self.last_name, self.salary))\n",
    "        \n",
    "    def increase_salary(self, inc):\n",
    "        self.salary *= (1 + inc/100)    # self.salary = self.salary * (1 + inc/100)\n",
    "        print('The salary for {} {} has been increased by {}%'.format(self.first_name, self.last_name, inc))\n",
    "        print('The new salary after the raise is : ', self.salary)\n",
    "              \n",
    "    def decrease_salary(self, dec):\n",
    "        self.salary *= (1 - dec/100)    # self.salary = self.salary * (1 - dec/100)\n",
    "        print('The salary for {} {} has been decreased by {}%'.format(self.first_name, self.last_name, dec))\n",
    "        print('The new salary after the decrement is : ', self.salary)"
   ]
  },
  {
   "cell_type": "code",
   "execution_count": 36,
   "id": "ae0e63ea",
   "metadata": {},
   "outputs": [],
   "source": [
    "emp1 = Employee(101, 'Sachin', 'Sethy', 'Male', 39, 'Chennai', 'IT Guy', 'IT',  'WellsFargo', 55000)\n",
    "emp2 = Employee(102, 'Madhu', 'Vidhya', 'Female' ,25, 'Chennai', 'HR', 'Talent Acquisition', 'Gen Digital', 30000)\n"
   ]
  },
  {
   "cell_type": "code",
   "execution_count": 37,
   "id": "5a92f23b",
   "metadata": {},
   "outputs": [
    {
     "name": "stdout",
     "output_type": "stream",
     "text": [
      "The details are : \n",
      "Employee ID  :  101\n",
      "First name   :  Sachin\n",
      "Last name    :  Sethy\n",
      "Gender       :  Male\n",
      "Age          :  39\n",
      "City         :  Chennai\n",
      "Designation  :  IT Guy\n",
      "Department   :  IT\n",
      "Organisation :  WellsFargo\n",
      "Salary       :  55000\n"
     ]
    }
   ],
   "source": [
    "emp1.show_details()"
   ]
  },
  {
   "cell_type": "code",
   "execution_count": 38,
   "id": "c40cdc18",
   "metadata": {},
   "outputs": [
    {
     "name": "stdout",
     "output_type": "stream",
     "text": [
      "The details are : \n",
      "Employee ID  :  102\n",
      "First name   :  Madhu\n",
      "Last name    :  Vidhya\n",
      "Gender       :  Female\n",
      "Age          :  25\n",
      "City         :  Chennai\n",
      "Designation  :  HR\n",
      "Department   :  Talent Acquisition\n",
      "Organisation :  Gen Digital\n",
      "Salary       :  30000\n"
     ]
    }
   ],
   "source": [
    "emp2.show_details()"
   ]
  },
  {
   "cell_type": "code",
   "execution_count": 39,
   "id": "f7dd872c",
   "metadata": {},
   "outputs": [
    {
     "name": "stdout",
     "output_type": "stream",
     "text": [
      "The city for Madhu Vidhya has been updated to Karachi\n"
     ]
    }
   ],
   "source": [
    "emp2.update_city('Karachi')"
   ]
  },
  {
   "cell_type": "code",
   "execution_count": 40,
   "id": "29344b0a",
   "metadata": {},
   "outputs": [
    {
     "data": {
      "text/plain": [
       "'Karachi'"
      ]
     },
     "execution_count": 40,
     "metadata": {},
     "output_type": "execute_result"
    }
   ],
   "source": [
    "emp2.city"
   ]
  },
  {
   "cell_type": "code",
   "execution_count": 41,
   "id": "c3a361e2",
   "metadata": {},
   "outputs": [
    {
     "name": "stdout",
     "output_type": "stream",
     "text": [
      "The designation for Madhu Vidhya has been updated to Data Scientist\n"
     ]
    }
   ],
   "source": [
    "emp2.update_desg('Data Scientist')"
   ]
  },
  {
   "cell_type": "code",
   "execution_count": 42,
   "id": "1706230c",
   "metadata": {},
   "outputs": [
    {
     "name": "stdout",
     "output_type": "stream",
     "text": [
      "The organisation for Sachin Sethy has been updated to ISIS\n"
     ]
    }
   ],
   "source": [
    "emp1.update_org('ISIS')"
   ]
  },
  {
   "cell_type": "code",
   "execution_count": 43,
   "id": "594eab85",
   "metadata": {},
   "outputs": [
    {
     "data": {
      "text/plain": [
       "'ISIS'"
      ]
     },
     "execution_count": 43,
     "metadata": {},
     "output_type": "execute_result"
    }
   ],
   "source": [
    "emp1.organisation"
   ]
  },
  {
   "cell_type": "code",
   "execution_count": 45,
   "id": "37bdc00b",
   "metadata": {},
   "outputs": [
    {
     "name": "stdout",
     "output_type": "stream",
     "text": [
      "The salary for Madhu Vidhya has been updated to 20000\n"
     ]
    }
   ],
   "source": [
    "emp2.update_salary(20000)"
   ]
  },
  {
   "cell_type": "code",
   "execution_count": 46,
   "id": "0be24e1a",
   "metadata": {},
   "outputs": [
    {
     "name": "stdout",
     "output_type": "stream",
     "text": [
      "The salary for Madhu Vidhya has been increased by 5%\n",
      "The new salary after the raise is :  21000.0\n"
     ]
    }
   ],
   "source": [
    "emp2.increase_salary(5)"
   ]
  },
  {
   "cell_type": "code",
   "execution_count": 47,
   "id": "708bb5a4",
   "metadata": {},
   "outputs": [
    {
     "name": "stdout",
     "output_type": "stream",
     "text": [
      "The salary for Sachin Sethy has been decreased by 20%\n",
      "The new salary after the decrement is :  44000.0\n"
     ]
    }
   ],
   "source": [
    "emp1.decrease_salary(20)"
   ]
  },
  {
   "cell_type": "code",
   "execution_count": 48,
   "id": "e8ff6019",
   "metadata": {},
   "outputs": [
    {
     "name": "stdout",
     "output_type": "stream",
     "text": [
      "The details are : \n",
      "Employee ID  :  101\n",
      "First name   :  Sachin\n",
      "Last name    :  Sethy\n",
      "Gender       :  Male\n",
      "Age          :  39\n",
      "City         :  Chennai\n",
      "Designation  :  IT Guy\n",
      "Department   :  IT\n",
      "Organisation :  ISIS\n",
      "Salary       :  44000.0\n"
     ]
    }
   ],
   "source": [
    "emp1.show_details()"
   ]
  },
  {
   "cell_type": "code",
   "execution_count": 49,
   "id": "35a74cfb",
   "metadata": {},
   "outputs": [
    {
     "name": "stdout",
     "output_type": "stream",
     "text": [
      "The details are : \n",
      "Employee ID  :  102\n",
      "First name   :  Madhu\n",
      "Last name    :  Vidhya\n",
      "Gender       :  Female\n",
      "Age          :  25\n",
      "City         :  Karachi\n",
      "Designation  :  Data Scientist\n",
      "Department   :  Talent Acquisition\n",
      "Organisation :  Gen Digital\n",
      "Salary       :  21000.0\n"
     ]
    }
   ],
   "source": [
    "emp2.show_details()"
   ]
  },
  {
   "cell_type": "markdown",
   "id": "25c0e5e8",
   "metadata": {},
   "source": [
    "---------------------------------------------------------------------------------\n",
    "----------"
   ]
  },
  {
   "cell_type": "code",
   "execution_count": 50,
   "id": "b7b403f5",
   "metadata": {},
   "outputs": [],
   "source": [
    "# Inheritance\n",
    "class Employee2(Employee):\n",
    "    pass"
   ]
  },
  {
   "cell_type": "code",
   "execution_count": 52,
   "id": "8d99a89a",
   "metadata": {},
   "outputs": [],
   "source": [
    "employee1 = Employee2(103, 'Archana', 'Sonone', 'Female', 65, 'Nagpur', 'NOC engineer', 'Networking', 'LnT', 30000)"
   ]
  },
  {
   "cell_type": "code",
   "execution_count": 53,
   "id": "15c2148f",
   "metadata": {},
   "outputs": [
    {
     "name": "stdout",
     "output_type": "stream",
     "text": [
      "The details are : \n",
      "Employee ID  :  103\n",
      "First name   :  Archana\n",
      "Last name    :  Sonone\n",
      "Gender       :  Female\n",
      "Age          :  65\n",
      "City         :  Nagpur\n",
      "Designation  :  NOC engineer\n",
      "Department   :  Networking\n",
      "Organisation :  LnT\n",
      "Salary       :  30000\n"
     ]
    }
   ],
   "source": [
    "employee1.show_details()"
   ]
  },
  {
   "cell_type": "code",
   "execution_count": null,
   "id": "c77bbf8c",
   "metadata": {},
   "outputs": [],
   "source": []
  }
 ],
 "metadata": {
  "kernelspec": {
   "display_name": "Python 3 (ipykernel)",
   "language": "python",
   "name": "python3"
  },
  "language_info": {
   "codemirror_mode": {
    "name": "ipython",
    "version": 3
   },
   "file_extension": ".py",
   "mimetype": "text/x-python",
   "name": "python",
   "nbconvert_exporter": "python",
   "pygments_lexer": "ipython3",
   "version": "3.9.7"
  }
 },
 "nbformat": 4,
 "nbformat_minor": 5
}
