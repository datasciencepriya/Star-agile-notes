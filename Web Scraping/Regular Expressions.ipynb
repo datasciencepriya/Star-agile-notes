{
 "cells": [
  {
   "cell_type": "markdown",
   "id": "736ed0b4",
   "metadata": {},
   "source": [
    "# Regular Expressions\n",
    "RegEx (Regular Expression) is a sequence of characters which describes the textual patterns.\n",
    "In Python, re module provides a set of methods to perform RegEx operations."
   ]
  },
  {
   "cell_type": "code",
   "execution_count": 2,
   "id": "7bb0a720",
   "metadata": {},
   "outputs": [],
   "source": [
    "text = 'My primary phone number is 9999988888'"
   ]
  },
  {
   "cell_type": "code",
   "execution_count": 3,
   "id": "ca8dc84c",
   "metadata": {},
   "outputs": [],
   "source": [
    "import re"
   ]
  },
  {
   "cell_type": "code",
   "execution_count": 4,
   "id": "cd11cb96",
   "metadata": {},
   "outputs": [],
   "source": [
    "mobile_no_regex = re.compile(r'\\d\\d\\d\\d\\d\\d\\d\\d\\d\\d')"
   ]
  },
  {
   "cell_type": "code",
   "execution_count": 5,
   "id": "0d7a370f",
   "metadata": {},
   "outputs": [
    {
     "data": {
      "text/plain": [
       "re.Pattern"
      ]
     },
     "execution_count": 5,
     "metadata": {},
     "output_type": "execute_result"
    }
   ],
   "source": [
    "type(mobile_no_regex)"
   ]
  },
  {
   "cell_type": "markdown",
   "id": "f78909cf",
   "metadata": {},
   "source": [
    "### Search\n",
    "- search() will return None if the regex pattern is not found.\n",
    "- if pattern is found then it returns Match object."
   ]
  },
  {
   "cell_type": "code",
   "execution_count": 6,
   "id": "b11cb34c",
   "metadata": {},
   "outputs": [],
   "source": [
    "mobile_number = mobile_no_regex.search(text)"
   ]
  },
  {
   "cell_type": "code",
   "execution_count": 7,
   "id": "2e50a418",
   "metadata": {},
   "outputs": [
    {
     "data": {
      "text/plain": [
       "re.Match"
      ]
     },
     "execution_count": 7,
     "metadata": {},
     "output_type": "execute_result"
    }
   ],
   "source": [
    "type(mobile_number)"
   ]
  },
  {
   "cell_type": "code",
   "execution_count": 8,
   "id": "454f8a47",
   "metadata": {},
   "outputs": [
    {
     "data": {
      "text/plain": [
       "'9999988888'"
      ]
     },
     "execution_count": 8,
     "metadata": {},
     "output_type": "execute_result"
    }
   ],
   "source": [
    "mobile_number.group()"
   ]
  },
  {
   "cell_type": "code",
   "execution_count": 9,
   "id": "fb0f4ed6",
   "metadata": {},
   "outputs": [
    {
     "data": {
      "text/plain": [
       "(27, 37)"
      ]
     },
     "execution_count": 9,
     "metadata": {},
     "output_type": "execute_result"
    }
   ],
   "source": [
    "mobile_number.span()"
   ]
  },
  {
   "cell_type": "code",
   "execution_count": 10,
   "id": "3b1af96e",
   "metadata": {},
   "outputs": [
    {
     "data": {
      "text/plain": [
       "27"
      ]
     },
     "execution_count": 10,
     "metadata": {},
     "output_type": "execute_result"
    }
   ],
   "source": [
    "mobile_number.start()"
   ]
  },
  {
   "cell_type": "code",
   "execution_count": 11,
   "id": "cf729e7e",
   "metadata": {},
   "outputs": [
    {
     "data": {
      "text/plain": [
       "37"
      ]
     },
     "execution_count": 11,
     "metadata": {},
     "output_type": "execute_result"
    }
   ],
   "source": [
    "mobile_number.end()"
   ]
  },
  {
   "cell_type": "code",
   "execution_count": 12,
   "id": "80f9506f",
   "metadata": {},
   "outputs": [
    {
     "data": {
      "text/plain": [
       "'9999988888'"
      ]
     },
     "execution_count": 12,
     "metadata": {},
     "output_type": "execute_result"
    }
   ],
   "source": [
    "text = 'My primary phone number is 9999988888'\n",
    "\n",
    "mobile_no_regex = re.compile(r'\\d\\d\\d\\d\\d\\d\\d\\d\\d\\d')         # Create a regular expression\n",
    "mobile_number = mobile_no_regex.search(text)                  # Apply the search method on text\n",
    "mobile_number.group()"
   ]
  },
  {
   "cell_type": "code",
   "execution_count": 12,
   "id": "87065640",
   "metadata": {},
   "outputs": [
    {
     "data": {
      "text/plain": [
       "'1001'"
      ]
     },
     "execution_count": 12,
     "metadata": {},
     "output_type": "execute_result"
    }
   ],
   "source": [
    "# Practice\n",
    "text = 'My roll number is 1001'\n",
    "roll_no_regex = re.compile(r'\\d\\d\\d\\d')\n",
    "roll_no = roll_no_regex.search(text)\n",
    "roll_no.group()"
   ]
  },
  {
   "cell_type": "code",
   "execution_count": 15,
   "id": "4daed9ed",
   "metadata": {},
   "outputs": [
    {
     "data": {
      "text/plain": [
       "'1001'"
      ]
     },
     "execution_count": 15,
     "metadata": {},
     "output_type": "execute_result"
    }
   ],
   "source": [
    "text = 'My roll number is 1001, his roll number is 1002, her roll number is 1003'\n",
    "roll_no_regex = re.compile(r'\\d\\d\\d\\d')\n",
    "roll_no = roll_no_regex.search(text)                   # The search function only extracts the first match\n",
    "roll_no.group()            "
   ]
  },
  {
   "cell_type": "markdown",
   "id": "646e36e8",
   "metadata": {},
   "source": [
    "### Grouping"
   ]
  },
  {
   "cell_type": "code",
   "execution_count": 18,
   "id": "6ff2438f",
   "metadata": {},
   "outputs": [
    {
     "data": {
      "text/plain": [
       "'18-05-2023'"
      ]
     },
     "execution_count": 18,
     "metadata": {},
     "output_type": "execute_result"
    }
   ],
   "source": [
    "text2 = 'The date is 18-05-2023'                 \n",
    "date_regex = re.compile(r'\\d\\d-\\d\\d-\\d\\d\\d\\d')          # without grouping\n",
    "date = date_regex.search(text2)\n",
    "date.group()"
   ]
  },
  {
   "cell_type": "code",
   "execution_count": 19,
   "id": "8e7f1146",
   "metadata": {},
   "outputs": [
    {
     "data": {
      "text/plain": [
       "'18-05-2023'"
      ]
     },
     "execution_count": 19,
     "metadata": {},
     "output_type": "execute_result"
    }
   ],
   "source": [
    "text2 = 'The date is 18-05-2023'                 \n",
    "date_regex = re.compile(r'(\\d\\d)-(\\d\\d)-(\\d\\d\\d\\d)')    # with grouping\n",
    "date = date_regex.search(text2)\n",
    "date.group()"
   ]
  },
  {
   "cell_type": "code",
   "execution_count": 20,
   "id": "78554ed5",
   "metadata": {},
   "outputs": [
    {
     "data": {
      "text/plain": [
       "'18-05-2023'"
      ]
     },
     "execution_count": 20,
     "metadata": {},
     "output_type": "execute_result"
    }
   ],
   "source": [
    "date.group(0)"
   ]
  },
  {
   "cell_type": "code",
   "execution_count": 21,
   "id": "6015aeb3",
   "metadata": {},
   "outputs": [
    {
     "data": {
      "text/plain": [
       "'18'"
      ]
     },
     "execution_count": 21,
     "metadata": {},
     "output_type": "execute_result"
    }
   ],
   "source": [
    "date.group(1)"
   ]
  },
  {
   "cell_type": "code",
   "execution_count": 22,
   "id": "0032adbf",
   "metadata": {},
   "outputs": [
    {
     "data": {
      "text/plain": [
       "'05'"
      ]
     },
     "execution_count": 22,
     "metadata": {},
     "output_type": "execute_result"
    }
   ],
   "source": [
    "date.group(2)"
   ]
  },
  {
   "cell_type": "code",
   "execution_count": 23,
   "id": "310dbe1b",
   "metadata": {},
   "outputs": [
    {
     "data": {
      "text/plain": [
       "'2023'"
      ]
     },
     "execution_count": 23,
     "metadata": {},
     "output_type": "execute_result"
    }
   ],
   "source": [
    "date.group(3)"
   ]
  },
  {
   "cell_type": "code",
   "execution_count": 24,
   "id": "a6dcdb03",
   "metadata": {},
   "outputs": [
    {
     "data": {
      "text/plain": [
       "'18-05-2023'"
      ]
     },
     "execution_count": 24,
     "metadata": {},
     "output_type": "execute_result"
    }
   ],
   "source": [
    "# Extracting only year\n",
    "text2 = 'The date is 18-05-2023'                 \n",
    "date_regex = re.compile(r'\\d\\d-\\d\\d-(\\d\\d\\d\\d)')    # with grouping\n",
    "date = date_regex.search(text2)\n",
    "date.group()"
   ]
  },
  {
   "cell_type": "code",
   "execution_count": 21,
   "id": "05401e23",
   "metadata": {},
   "outputs": [
    {
     "data": {
      "text/plain": [
       "'2023'"
      ]
     },
     "execution_count": 21,
     "metadata": {},
     "output_type": "execute_result"
    }
   ],
   "source": [
    "date.group(1)"
   ]
  },
  {
   "cell_type": "code",
   "execution_count": 25,
   "id": "4729235c",
   "metadata": {},
   "outputs": [
    {
     "name": "stdout",
     "output_type": "stream",
     "text": [
      "STD Code :  0141\n",
      "Number   :  0141-245678\n"
     ]
    }
   ],
   "source": [
    "# practice\n",
    "text3 = 'My telephone number is 0141-245678'\n",
    "phone_regex = re.compile(r'(\\d\\d\\d\\d)-\\d\\d\\d\\d\\d\\d')\n",
    "phone_no = phone_regex.search(text3)\n",
    "print('STD Code : ', phone_no.group(1))\n",
    "print('Number   : ', phone_no.group())"
   ]
  },
  {
   "cell_type": "code",
   "execution_count": 27,
   "id": "9685d62e",
   "metadata": {},
   "outputs": [
    {
     "name": "stdout",
     "output_type": "stream",
     "text": [
      "123\n",
      "regular\n"
     ]
    }
   ],
   "source": [
    "#Search can be used like this also\n",
    "text4 = 'Good morning, we are going to learn regular expressions today, 123'\n",
    "match1 = re.search(r'\\d\\d\\d', text4)\n",
    "print(match1.group())\n",
    "match2 = re.search('regular', text4)\n",
    "print(match2.group())"
   ]
  },
  {
   "cell_type": "code",
   "execution_count": 28,
   "id": "350be75f",
   "metadata": {},
   "outputs": [
    {
     "data": {
      "text/plain": [
       "'9999988888'"
      ]
     },
     "execution_count": 28,
     "metadata": {},
     "output_type": "execute_result"
    }
   ],
   "source": [
    "text = 'My primary phone number is 9999988888'\n",
    "phone_no = re.search(r'\\d\\d\\d\\d\\d\\d\\d\\d\\d\\d', text)\n",
    "phone_no.group()"
   ]
  },
  {
   "cell_type": "markdown",
   "id": "3e9664a6",
   "metadata": {},
   "source": [
    "## findall"
   ]
  },
  {
   "cell_type": "code",
   "execution_count": 29,
   "id": "033c653d",
   "metadata": {},
   "outputs": [
    {
     "data": {
      "text/plain": [
       "['9999999999', '8888888888']"
      ]
     },
     "execution_count": 29,
     "metadata": {},
     "output_type": "execute_result"
    }
   ],
   "source": [
    "text5 = 'My primary phone number is 9999999999. My alternative number is 8888888888'\n",
    "mobile_number_regex = re.compile(r'\\d\\d\\d\\d\\d\\d\\d\\d\\d\\d')\n",
    "mobile_numbers = mobile_number_regex.findall(text5)\n",
    "mobile_numbers"
   ]
  },
  {
   "cell_type": "code",
   "execution_count": 30,
   "id": "ee1937a6",
   "metadata": {},
   "outputs": [
    {
     "data": {
      "text/plain": [
       "['9999999999']"
      ]
     },
     "execution_count": 30,
     "metadata": {},
     "output_type": "execute_result"
    }
   ],
   "source": [
    "text5 = 'My primary phone number is 9999999999.'\n",
    "mobile_number_regex = re.compile(r'\\d\\d\\d\\d\\d\\d\\d\\d\\d\\d')\n",
    "mobile_numbers = mobile_number_regex.findall(text5)\n",
    "mobile_numbers"
   ]
  },
  {
   "cell_type": "code",
   "execution_count": 31,
   "id": "78460cb0",
   "metadata": {},
   "outputs": [
    {
     "data": {
      "text/plain": [
       "[]"
      ]
     },
     "execution_count": 31,
     "metadata": {},
     "output_type": "execute_result"
    }
   ],
   "source": [
    "text5 = 'My primary phone number is 99999......'\n",
    "mobile_number_regex = re.compile(r'\\d\\d\\d\\d\\d\\d\\d\\d\\d\\d')\n",
    "mobile_numbers = mobile_number_regex.findall(text5)\n",
    "mobile_numbers"
   ]
  },
  {
   "cell_type": "code",
   "execution_count": 33,
   "id": "07fc09e1",
   "metadata": {},
   "outputs": [],
   "source": [
    "text6 = \"\"\"Interested in Jio? Talk to us on\t1860-893-3333\n",
    "For recharge plans, data balance, validity, recharge confirmation & offers\t1991\n",
    "For Queries\t199\n",
    "For Complaints\t198\n",
    "For Other numbers\t1800-889-9999\n",
    "Tele-verification to activate both HD voice & data services\t1977\n",
    "Tele-verification to activate data services only\t1800-890-1977\n",
    "For support on International Roaming\n",
    "(accessible only when roaming abroad)\t+917018899999 (charges applicable)\n",
    "Device Care Helpline (JioPhone, LYF Mobile & JioFi)\n",
    "\n",
    "Our experts are available for your assistance on all Days, from 9am to 9pm\n",
    "\n",
    "Helpline\t1800-890-9999\n",
    "Jio Enterprise Mobility & Business Solutions\n",
    "\n",
    "Our experts are available for your assistance 24x7 (Monday - Sunday)\n",
    "\n",
    "Enterprise Mobility Services\t1800-889-9333\n",
    "Enterprise Connectivity Services & Business Solutions\t1800-889-9444\n",
    "New Business Connection\t1800-889-9555\n",
    "Care Helpline for JioFiber Customers\n",
    "\n",
    "Our experts are available for your assistance 24X7 (Monday – Sunday)\n",
    "\n",
    "Helpline\t1800-896-9999\n",
    "Online shopping\n",
    "\n",
    "For any online shopping related assistance, reach out to our experts between 9 am to 9 pm (Monday – Sunday)\n",
    "\n",
    "Helpline\t1800-893-3399\"\"\""
   ]
  },
  {
   "cell_type": "code",
   "execution_count": 38,
   "id": "1d08ab56",
   "metadata": {},
   "outputs": [
    {
     "data": {
      "text/plain": [
       "['1860-893-3333',\n",
       " '1800-889-9999',\n",
       " '1800-890-1977',\n",
       " '1800-890-9999',\n",
       " '1800-889-9333',\n",
       " '1800-889-9444',\n",
       " '1800-889-9555',\n",
       " '1800-896-9999',\n",
       " '1800-893-3399']"
      ]
     },
     "execution_count": 38,
     "metadata": {},
     "output_type": "execute_result"
    }
   ],
   "source": [
    "phone_no_regex = re.compile(r'\\d\\d\\d\\d-\\d\\d\\d-\\d\\d\\d\\d')\n",
    "phone_no = phone_no_regex.findall(text6)\n",
    "phone_no"
   ]
  },
  {
   "cell_type": "code",
   "execution_count": 35,
   "id": "ab541f8f",
   "metadata": {},
   "outputs": [
    {
     "data": {
      "text/plain": [
       "[('1860', '893', '3333'),\n",
       " ('1800', '889', '9999'),\n",
       " ('1800', '890', '1977'),\n",
       " ('1800', '890', '9999'),\n",
       " ('1800', '889', '9333'),\n",
       " ('1800', '889', '9444'),\n",
       " ('1800', '889', '9555'),\n",
       " ('1800', '896', '9999'),\n",
       " ('1800', '893', '3399')]"
      ]
     },
     "execution_count": 35,
     "metadata": {},
     "output_type": "execute_result"
    }
   ],
   "source": [
    "number_regex = re.compile(r'(\\d\\d\\d\\d)-(\\d\\d\\d)-(\\d\\d\\d\\d)') # with grouping\n",
    "numbers = number_regex.findall(text6)\n",
    "numbers"
   ]
  },
  {
   "cell_type": "code",
   "execution_count": 36,
   "id": "9350625e",
   "metadata": {},
   "outputs": [
    {
     "data": {
      "text/plain": [
       "['3333', '9999', '1977', '9999', '9333', '9444', '9555', '9999', '3399']"
      ]
     },
     "execution_count": 36,
     "metadata": {},
     "output_type": "execute_result"
    }
   ],
   "source": [
    "number_regex = re.compile(r'\\d\\d\\d\\d-\\d\\d\\d-(\\d\\d\\d\\d)') # with grouping\n",
    "numbers = number_regex.findall(text6)\n",
    "numbers"
   ]
  },
  {
   "cell_type": "code",
   "execution_count": 39,
   "id": "3de8c15b",
   "metadata": {},
   "outputs": [
    {
     "data": {
      "text/plain": [
       "['woman', 'man', 'woman', 'man']"
      ]
     },
     "execution_count": 39,
     "metadata": {},
     "output_type": "execute_result"
    }
   ],
   "source": [
    "pattern = re.compile(r'man|woman')\n",
    "result = pattern.findall('this is a woman, this a man, this is a woman, this a man')\n",
    "result"
   ]
  },
  {
   "cell_type": "code",
   "execution_count": 40,
   "id": "8a9fe7f0",
   "metadata": {},
   "outputs": [],
   "source": [
    "text8 = \"\"\"Jio Mobility users can click Here to open the support channel on WhatsApp. Alternatively, you can send \"Hi\" to (+91)7000770007 to get started.\n",
    " \n",
    "JioFiber users can click Here to open the support channel on WhatsApp. Alternatively, you can send \"Hi\" to (+91)7000570005 to get started,7000770008,7000570008 \"\"\""
   ]
  },
  {
   "cell_type": "code",
   "execution_count": 43,
   "id": "d42af1d8",
   "metadata": {},
   "outputs": [
    {
     "data": {
      "text/plain": [
       "['(+91)7000770007', '(+91)7000570005', '7000770008', '7000570008']"
      ]
     },
     "execution_count": 43,
     "metadata": {},
     "output_type": "execute_result"
    }
   ],
   "source": [
    "num_pattern = re.compile(r'\\(\\+\\d\\d\\)\\d\\d\\d\\d\\d\\d\\d\\d\\d\\d|\\d\\d\\d\\d\\d\\d\\d\\d\\d\\d')\n",
    "num_pattern.findall(text8)"
   ]
  },
  {
   "cell_type": "markdown",
   "id": "68a6c285",
   "metadata": {},
   "source": [
    "# Identifiers\n",
    "<table ><tr><th>Character</th><th>Description</th><th>Example Pattern Code</th><th >Exammple Match</th></tr>\n",
    "\n",
    "<tr ><td><span >\\d</span></td><td>A digit</td><td>file_\\d\\d</td><td>file_25</td></tr>\n",
    "\n",
    "<tr ><td><span >\\w</span></td><td>Alphanumeric</td><td>\\w-\\w\\w\\w</td><td>A-b_1</td></tr>\n",
    "\n",
    "\n",
    "\n",
    "<tr ><td><span >\\s</span></td><td>White space</td><td>a\\sb\\sc</td><td>a b c</td></tr>\n",
    "\n",
    "\n",
    "\n",
    "<tr ><td><span >\\D</span></td><td>A non digit</td><td>\\D\\D\\D</td><td>ABC</td></tr>\n",
    "\n",
    "<tr ><td><span >\\W</span></td><td>Non-alphanumeric</td><td>\\W\\W\\W\\W\\W</td><td>*-+=)</td></tr>\n",
    "\n",
    "<tr ><td><span >\\S</span></td><td>Non-whitespace</td><td>\\S\\S\\S\\S</td><td>Yoyo</td></tr></table>\n",
    "\n",
    "# Quantifiers\n",
    "<table ><tr><th>Character</th><th>Description</th><th>Example Pattern Code</th><th >Exammple Match</th></tr>\n",
    "\n",
    "<tr ><td><span >+</span></td><td>Occurs one or more times</td><td>\tVersion \\w-\\w+</td><td>Version A-b1_1</td></tr>\n",
    "\n",
    "<tr ><td><span >{3}</span></td><td>Occurs exactly 3 times</td><td>\\D{3}</td><td>abc</td></tr>\n",
    "\n",
    "\n",
    "\n",
    "<tr ><td><span >{2,4}</span></td><td>Occurs 2 to 4 times</td><td>\\d{2,4}</td><td>123</td></tr>\n",
    "\n",
    "\n",
    "\n",
    "<tr ><td><span >{3,}</span></td><td>Occurs 3 or more</td><td>\\w{3,}</td><td>anycharacters</td></tr>\n",
    "\n",
    "<tr ><td><span >*</span></td><td>Occurs zero or more times</td><td>A*B*C*</td><td>AAACC</td></tr>\n",
    "\n",
    "<tr ><td><span >?</span></td><td>Once or none</td><td>plurals?</td><td>plural</td></tr></table>"
   ]
  },
  {
   "cell_type": "code",
   "execution_count": 44,
   "id": "a9dd5090",
   "metadata": {},
   "outputs": [
    {
     "data": {
      "text/plain": [
       "['9999999999']"
      ]
     },
     "execution_count": 44,
     "metadata": {},
     "output_type": "execute_result"
    }
   ],
   "source": [
    "text = 'my mobile number is 9999999999'\n",
    "mobile_no_regex = re.compile(r'\\d{10}')\n",
    "mobile_no = mobile_no_regex.findall(text)\n",
    "mobile_no"
   ]
  },
  {
   "cell_type": "code",
   "execution_count": 46,
   "id": "18d9bde4",
   "metadata": {},
   "outputs": [
    {
     "data": {
      "text/plain": [
       "['(+91)7000770007', '(+91)7000570005', '7000770008', '7000570008']"
      ]
     },
     "execution_count": 46,
     "metadata": {},
     "output_type": "execute_result"
    }
   ],
   "source": [
    "num_pattern = re.compile(r'\\(\\+\\d{2}\\)\\d{10}|\\d{10}')\n",
    "num_pattern.findall(text8)"
   ]
  },
  {
   "cell_type": "code",
   "execution_count": 48,
   "id": "bfa2a54d",
   "metadata": {},
   "outputs": [
    {
     "data": {
      "text/plain": [
       "['aabb', 'abbabba', 'baaba', 'caa']"
      ]
     },
     "execution_count": 48,
     "metadata": {},
     "output_type": "execute_result"
    }
   ],
   "source": [
    "re.findall(r'[abc]+','aabb ggdhdh abbabba baaba caa xyz')"
   ]
  },
  {
   "cell_type": "code",
   "execution_count": 52,
   "id": "115919ca",
   "metadata": {},
   "outputs": [
    {
     "data": {
      "text/plain": [
       "['aaaa_4567bb@gmail.com']"
      ]
     },
     "execution_count": 52,
     "metadata": {},
     "output_type": "execute_result"
    }
   ],
   "source": [
    "text9 = 'my email is aaaa_4567bb@gmail.com'\n",
    "email_regex = re.compile(r'[\\w_]+@gmail.com')\n",
    "email_regex.findall(text9)"
   ]
  },
  {
   "cell_type": "code",
   "execution_count": 55,
   "id": "83579c86",
   "metadata": {},
   "outputs": [
    {
     "data": {
      "text/plain": [
       "['abcd_4567bb@gmail.com']"
      ]
     },
     "execution_count": 55,
     "metadata": {},
     "output_type": "execute_result"
    }
   ],
   "source": [
    "text9 = 'my email is abcd_4567bb@gmail.com'\n",
    "email_regex = re.compile(r'[A-Za-z0-9\\S]+gmail.com')\n",
    "email_regex.findall(text9)"
   ]
  },
  {
   "cell_type": "code",
   "execution_count": 63,
   "id": "59295f77",
   "metadata": {},
   "outputs": [
    {
     "data": {
      "text/plain": [
       "['8GB RAM']"
      ]
     },
     "execution_count": 63,
     "metadata": {},
     "output_type": "execute_result"
    }
   ],
   "source": [
    "text10 = '8GB RAM, 128GB ROM, SD805 Processor'\n",
    "ram_regex = re.compile(r'[A-Za-z0-9\\s]+RAM')\n",
    "ram_regex.findall(text10)"
   ]
  },
  {
   "cell_type": "code",
   "execution_count": 62,
   "id": "7759239d",
   "metadata": {},
   "outputs": [
    {
     "data": {
      "text/plain": [
       "'8GB'"
      ]
     },
     "execution_count": 62,
     "metadata": {},
     "output_type": "execute_result"
    }
   ],
   "source": [
    "text10 = '8GB RAM, 128GB ROM, SD805 Processor'\n",
    "ram_regex = re.compile(r'([A-Za-z0-9\\s]+)RAM')\n",
    "ram = ram_regex.findall(text10)[0].strip()\n",
    "ram"
   ]
  },
  {
   "cell_type": "code",
   "execution_count": 78,
   "id": "a46fdd09",
   "metadata": {},
   "outputs": [
    {
     "data": {
      "text/plain": [
       "8.0"
      ]
     },
     "execution_count": 78,
     "metadata": {},
     "output_type": "execute_result"
    }
   ],
   "source": [
    "text10 = '8GB RAM, 128GB ROM, SD805 Processor'\n",
    "ram_regex = re.compile(r'[A-Za-z0-9\\s]+RAM')\n",
    "ram = ram_regex.findall(text10)[0]\n",
    "ram_size_regex = re.compile(r'(\\d+)GB')\n",
    "ram_size = float(ram_size_regex.findall(ram)[0])\n",
    "ram_size"
   ]
  },
  {
   "cell_type": "code",
   "execution_count": 73,
   "id": "27a5c3bb",
   "metadata": {},
   "outputs": [
    {
     "name": "stdout",
     "output_type": "stream",
     "text": [
      " 128GB SSD\n"
     ]
    },
    {
     "data": {
      "text/plain": [
       "128.0"
      ]
     },
     "execution_count": 73,
     "metadata": {},
     "output_type": "execute_result"
    }
   ],
   "source": [
    "text10 = '16GB RAM, 128GB SSD, 500GB HDD, ryzen 7000 Processor'\n",
    "ssd_regex = re.compile(r'[A-Za-z0-9\\s]+SSD')\n",
    "ssd = ssd_regex.findall(text10)[0]\n",
    "print(ssd)\n",
    "ssd_size_regex = re.compile(r'(\\d+)GB')\n",
    "ssd_size = float(ssd_size_regex.findall(ssd)[0])\n",
    "ssd_size"
   ]
  },
  {
   "cell_type": "code",
   "execution_count": null,
   "id": "a6a775e4",
   "metadata": {},
   "outputs": [],
   "source": []
  }
 ],
 "metadata": {
  "kernelspec": {
   "display_name": "Python 3 (ipykernel)",
   "language": "python",
   "name": "python3"
  },
  "language_info": {
   "codemirror_mode": {
    "name": "ipython",
    "version": 3
   },
   "file_extension": ".py",
   "mimetype": "text/x-python",
   "name": "python",
   "nbconvert_exporter": "python",
   "pygments_lexer": "ipython3",
   "version": "3.9.7"
  }
 },
 "nbformat": 4,
 "nbformat_minor": 5
}
